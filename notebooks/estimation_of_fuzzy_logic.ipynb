{
 "cells": [
  {
   "cell_type": "code",
   "execution_count": 1,
   "metadata": {},
   "outputs": [],
   "source": [
    "import os\n",
    "os.chdir('..')"
   ]
  },
  {
   "cell_type": "code",
   "execution_count": 2,
   "metadata": {},
   "outputs": [],
   "source": [
    "import numpy as np\n",
    "from scipy.spatial import distance_matrix\n",
    "import scipy.stats as st\n",
    "import faiss\n",
    "from tqdm import tqdm\n",
    "\n",
    "\n",
    "from src.common.scales import scales\n",
    "from src.common.utils import generate_population, mutation, crossover\n",
    "from src.common.fitness import (griewank, schwefel, ackley, rastrigin)\n",
    "from src.elegant_fuzzy_genetic_algorithms.helpers.all_params_wrapper import AllEFGAParamsParallelWrapper\n",
    "from src.elegant_fuzzy_genetic_algorithms.priority_diff_simulation import simulation_priorities\n",
    "from src.common.approximation_helpers import (generate_search_space, init_param_index, estimate_by_index)\n",
    "from src.gendered_selection.faster_fuzzy_logic.generalized_partition_inferrer import GeneralizedInferrer\n",
    "from src.gendered_selection.age_diff_estimator import Simulation as AgeDiffSimulation\n",
    "from src.gendered_selection.conf.gendered_selection_config import Config as GenderedSelectionConfig\n",
    "\n",
    "\n",
    "np.random.seed(1)"
   ]
  },
  {
   "attachments": {},
   "cell_type": "markdown",
   "metadata": {},
   "source": [
    "Given that 90+% of time spent running fuzzy genetic algorithms is spent on using fuzzy logic, the idea is to make an approximation using nearest neighbors. "
   ]
  },
  {
   "attachments": {},
   "cell_type": "markdown",
   "metadata": {},
   "source": [
    "## Priority estimation (EFGA)"
   ]
  },
  {
   "attachments": {},
   "cell_type": "markdown",
   "metadata": {},
   "source": [
    "### Getting the error confidence interval"
   ]
  },
  {
   "cell_type": "code",
   "execution_count": 29,
   "metadata": {},
   "outputs": [],
   "source": [
    "priority_inferencer = AllEFGAParamsParallelWrapper(n_terms_params=3, n_terms_priority=7)"
   ]
  },
  {
   "cell_type": "code",
   "execution_count": 30,
   "metadata": {},
   "outputs": [],
   "source": [
    "c1_range = np.linspace(start=0, stop=1, num=60)\n",
    "c2_range = np.linspace(start=0, stop=1, num=60)"
   ]
  },
  {
   "cell_type": "code",
   "execution_count": 31,
   "metadata": {},
   "outputs": [],
   "source": [
    "params_combinations = np.array(np.meshgrid(c1_range, c2_range)).T.reshape(-1, 2)\n",
    "priorities = priority_inferencer.infer_priority(c1=params_combinations[:, 0], c2=params_combinations[:, 1])"
   ]
  },
  {
   "cell_type": "code",
   "execution_count": 32,
   "metadata": {},
   "outputs": [],
   "source": [
    "entries = np.random.uniform(0, 1, size=(200, 2))"
   ]
  },
  {
   "cell_type": "code",
   "execution_count": 33,
   "metadata": {},
   "outputs": [],
   "source": [
    "priorities_est = priorities[np.argmin(distance_matrix(entries, params_combinations), axis=1)]\n",
    "priorities_actual =  priority_inferencer.infer_priority(c1=entries[:, 0], c2=entries[:, 1])"
   ]
  },
  {
   "cell_type": "code",
   "execution_count": 34,
   "metadata": {},
   "outputs": [],
   "source": [
    "diff = np.abs(priorities_est - priorities_actual)"
   ]
  },
  {
   "cell_type": "code",
   "execution_count": 35,
   "metadata": {},
   "outputs": [],
   "source": [
    "conf_int = st.t.interval(alpha=0.95, df=len(diff)-1, loc=np.mean(diff), scale=st.sem(diff)) "
   ]
  },
  {
   "attachments": {},
   "cell_type": "markdown",
   "metadata": {},
   "source": [
    "We know the 95% confidence interval of the priority estimation error. If we prove that it's smaller than 95% of differences between the current priority and next best, then usage of this estimation is appropriate. "
   ]
  },
  {
   "attachments": {},
   "cell_type": "markdown",
   "metadata": {},
   "source": [
    "### Estimating priority difference"
   ]
  },
  {
   "cell_type": "code",
   "execution_count": 49,
   "metadata": {},
   "outputs": [
    {
     "name": "stderr",
     "output_type": "stream",
     "text": [
      "100%|██████████| 200/200 [00:19<00:00, 10.38it/s]\n",
      "100%|██████████| 200/200 [00:19<00:00, 10.13it/s]\n",
      "100%|██████████| 200/200 [00:19<00:00, 10.04it/s]\n",
      "100%|██████████| 200/200 [00:20<00:00,  9.64it/s]\n"
     ]
    }
   ],
   "source": [
    "priorities = []\n",
    "\n",
    "for fn in [griewank, schwefel, rastrigin, ackley]:\n",
    "    fn_name = fn.__name__\n",
    "    priorities_ = simulation_priorities(N=100, epochs=200, fitness_fn=fn, population_scale=scales[fn_name][0], \n",
    "                      mutation_scale=scales[fn_name][1], seed=1)\n",
    "    priorities.append(priorities_)"
   ]
  },
  {
   "cell_type": "code",
   "execution_count": 50,
   "metadata": {},
   "outputs": [],
   "source": [
    "priorities_mtr = np.array(priorities)\n",
    "priorities_mtr = np.sort(priorities_mtr, axis=1)\n",
    "priority_difference_mtr = np.diff(priorities_mtr, axis=1)\n",
    "priority_difference =  priority_difference_mtr.ravel()"
   ]
  },
  {
   "cell_type": "code",
   "execution_count": 51,
   "metadata": {},
   "outputs": [],
   "source": [
    "conf_int_actual_diff = st.t.interval(alpha=0.95, df=len(priority_difference)-1, loc=np.mean(priority_difference), scale=st.sem(priority_difference)) "
   ]
  },
  {
   "cell_type": "code",
   "execution_count": 52,
   "metadata": {},
   "outputs": [
    {
     "data": {
      "text/plain": [
       "((0.026625617917013247, 0.027913588650583764),\n",
       " (0.005057507916810315, 0.00619624680288484))"
      ]
     },
     "execution_count": 52,
     "metadata": {},
     "output_type": "execute_result"
    }
   ],
   "source": [
    "conf_int_actual_diff, conf_int"
   ]
  },
  {
   "cell_type": "code",
   "execution_count": 53,
   "metadata": {},
   "outputs": [],
   "source": [
    "first_second_diff = np.abs(np.diff(priority_difference_mtr[:, :2], axis=1).ravel())\n",
    "conf_int_first_second = st.t.interval(alpha=0.95, df=len(first_second_diff)-1, loc=np.mean(first_second_diff), scale=st.sem(first_second_diff)) "
   ]
  },
  {
   "cell_type": "code",
   "execution_count": 54,
   "metadata": {},
   "outputs": [
    {
     "data": {
      "text/plain": [
       "(0.05903070832699521, 0.09724286275938558)"
      ]
     },
     "execution_count": 54,
     "metadata": {},
     "output_type": "execute_result"
    }
   ],
   "source": [
    "conf_int_first_second"
   ]
  },
  {
   "attachments": {},
   "cell_type": "markdown",
   "metadata": {},
   "source": [
    "### Conclusion"
   ]
  },
  {
   "attachments": {},
   "cell_type": "markdown",
   "metadata": {},
   "source": [
    "Provided that the actual difference between first and second entry, as well as difference is much bigger than actual errror of approximation (even in the worst case the error is 10 times smaller), we can successfully use approximation techniques. "
   ]
  },
  {
   "attachments": {},
   "cell_type": "markdown",
   "metadata": {},
   "source": [
    "## Partner age estimation (Gendered selection)"
   ]
  },
  {
   "attachments": {},
   "cell_type": "markdown",
   "metadata": {},
   "source": [
    "### Getting actual error for age estimation"
   ]
  },
  {
   "cell_type": "code",
   "execution_count": 23,
   "metadata": {},
   "outputs": [],
   "source": [
    "params_combinations = generate_search_space(n_splits=200, ranges=[(0, 1), (0, 10)])\n",
    "gi = GeneralizedInferrer(7)"
   ]
  },
  {
   "cell_type": "code",
   "execution_count": 24,
   "metadata": {},
   "outputs": [
    {
     "name": "stderr",
     "output_type": "stream",
     "text": [
      "100%|██████████| 40000/40000 [03:27<00:00, 192.65it/s]\n"
     ]
    }
   ],
   "source": [
    "y = [gi.infer_partner_age(*params_combinations[i, :]) for i in tqdm(range(params_combinations.shape[0]))]"
   ]
  },
  {
   "cell_type": "code",
   "execution_count": 25,
   "metadata": {},
   "outputs": [],
   "source": [
    "y = np.array(y)"
   ]
  },
  {
   "cell_type": "code",
   "execution_count": 26,
   "metadata": {},
   "outputs": [
    {
     "name": "stderr",
     "output_type": "stream",
     "text": [
      "100%|██████████| 200/200 [00:01<00:00, 114.50it/s]\n"
     ]
    }
   ],
   "source": [
    "entries_test = np.hstack([np.random.uniform(0, 1, size=(200, 1)), np.random.uniform(0, 10, size=(200, 1))])\n",
    "age_est = y[np.argmin(distance_matrix(entries_test, params_combinations), axis=1)]\n",
    "age_actual = np.array([gi.infer_partner_age(*entries_test[i, :]) for i in tqdm(range(entries_test.shape[0]))])"
   ]
  },
  {
   "cell_type": "code",
   "execution_count": 27,
   "metadata": {},
   "outputs": [
    {
     "data": {
      "text/plain": [
       "(0.0009237931731446055, 0.00124733269662373)"
      ]
     },
     "execution_count": 27,
     "metadata": {},
     "output_type": "execute_result"
    }
   ],
   "source": [
    "diff = np.abs(age_est - age_actual)\n",
    "conf_int_age_error = st.t.interval(alpha=0.95, df=len(diff)-1, loc=np.mean(diff), scale=st.sem(diff)) \n",
    "conf_int_age_error"
   ]
  },
  {
   "attachments": {},
   "cell_type": "markdown",
   "metadata": {},
   "source": [
    "### Estimating confidence intervals for age difference for females"
   ]
  },
  {
   "cell_type": "code",
   "execution_count": 28,
   "metadata": {},
   "outputs": [
    {
     "name": "stderr",
     "output_type": "stream",
     "text": [
      "  0%|          | 1/200 [00:00<00:23,  8.34it/s]"
     ]
    },
    {
     "name": "stdout",
     "output_type": "stream",
     "text": [
      "[-249.35633071 -246.12872579 -245.56878051 -219.57428921 -219.41105259\n",
      " -218.75044051 -213.22218905 -210.92547902 -209.88358201 -201.62965166]\n"
     ]
    },
    {
     "name": "stderr",
     "output_type": "stream",
     "text": [
      " 67%|██████▋   | 134/200 [00:13<00:06, 10.10it/s]\n"
     ]
    },
    {
     "name": "stdout",
     "output_type": "stream",
     "text": [
      "Early stopping at epoch: 134, population died\n"
     ]
    },
    {
     "name": "stderr",
     "output_type": "stream",
     "text": [
      "  0%|          | 1/200 [00:00<00:20,  9.64it/s]"
     ]
    },
    {
     "name": "stdout",
     "output_type": "stream",
     "text": [
      "[-2587.49367996 -2495.30734206 -2439.01083313 -2421.61577749\n",
      " -2378.82107373 -2378.82107373 -2328.32286449 -2230.96814427\n",
      " -2222.00363909 -2194.21488081]\n"
     ]
    },
    {
     "name": "stderr",
     "output_type": "stream",
     "text": [
      "100%|██████████| 200/200 [00:18<00:00, 10.69it/s]\n",
      "  0%|          | 0/200 [00:00<?, ?it/s]"
     ]
    },
    {
     "name": "stdout",
     "output_type": "stream",
     "text": [
      "[-164.04324218 -142.81374051 -124.27624217 -110.47992893 -109.60358413\n",
      " -108.34798061 -108.12620076 -107.1076225  -105.39232329 -101.18524974]\n"
     ]
    },
    {
     "name": "stderr",
     "output_type": "stream",
     "text": [
      "100%|██████████| 200/200 [00:28<00:00,  7.03it/s]\n",
      "  0%|          | 1/200 [00:00<00:21,  9.34it/s]"
     ]
    },
    {
     "name": "stdout",
     "output_type": "stream",
     "text": [
      "[-22.237698   -22.2148927  -22.00886026 -21.99755589 -21.98829155\n",
      " -21.97395631 -21.96101749 -21.95221456 -21.94448626 -21.91396373]\n"
     ]
    },
    {
     "name": "stderr",
     "output_type": "stream",
     "text": [
      " 51%|█████     | 102/200 [00:09<00:09, 10.68it/s]"
     ]
    },
    {
     "name": "stdout",
     "output_type": "stream",
     "text": [
      "Early stopping at epoch: 102, population died\n"
     ]
    },
    {
     "name": "stderr",
     "output_type": "stream",
     "text": [
      "\n"
     ]
    }
   ],
   "source": [
    "\n",
    "ages = []\n",
    "\n",
    "for fn in [griewank, schwefel, rastrigin, ackley]:\n",
    "    fn_name = fn.__name__\n",
    "    sim = AgeDiffSimulation(conf=GenderedSelectionConfig(100), fitness_fn=fn, mutation=mutation, crossover=crossover)\n",
    "    ages_ = sim.run(n_epochs=200, n_partitions=7, population_scale=scales[fn_name][0], mutation_scale=scales[fn_name][1], seed=1)\n",
    "    ages.append(ages_)"
   ]
  },
  {
   "cell_type": "code",
   "execution_count": 29,
   "metadata": {},
   "outputs": [
    {
     "data": {
      "text/plain": [
       "(0.002322242730583462, 0.0025186984783038373)"
      ]
     },
     "execution_count": 29,
     "metadata": {},
     "output_type": "execute_result"
    }
   ],
   "source": [
    "diffs_age = np.concatenate([np.concatenate([np.diff(np.sort(i)) for i in ages[j]]) for j in range(len(ages))])\n",
    "conf_int_age_diff = st.t.interval(alpha=0.95, df=len(diffs_age)-1, loc=np.mean(diffs_age), scale=st.sem(diffs_age)) \n",
    "conf_int_age_diff"
   ]
  },
  {
   "cell_type": "code",
   "execution_count": 30,
   "metadata": {},
   "outputs": [
    {
     "data": {
      "text/plain": [
       "(0.01107746234098387, 0.023435579298824324)"
      ]
     },
     "execution_count": 30,
     "metadata": {},
     "output_type": "execute_result"
    }
   ],
   "source": [
    "diffs_age = np.concatenate([np.concatenate([np.diff(np.sort(i)[:2]) for i in ages[j]]) for j in range(len(ages))])\n",
    "conf_int_age_diff = st.t.interval(alpha=0.95, df=len(diffs_age)-1, loc=np.mean(diffs_age), scale=st.sem(diffs_age)) \n",
    "conf_int_age_diff"
   ]
  },
  {
   "attachments": {},
   "cell_type": "markdown",
   "metadata": {},
   "source": [
    "### Conclusions"
   ]
  },
  {
   "attachments": {},
   "cell_type": "markdown",
   "metadata": {},
   "source": [
    "Given that upper range of 95% confidence interval for error is smaller than lower range of 95% range of age difference between adjacent female ages, we can conclude that error is small enought to not be noticeable in partner selection. "
   ]
  }
 ],
 "metadata": {
  "kernelspec": {
   "display_name": "thesis",
   "language": "python",
   "name": "python3"
  },
  "language_info": {
   "codemirror_mode": {
    "name": "ipython",
    "version": 3
   },
   "file_extension": ".py",
   "mimetype": "text/x-python",
   "name": "python",
   "nbconvert_exporter": "python",
   "pygments_lexer": "ipython3",
   "version": "3.10.10"
  },
  "orig_nbformat": 4
 },
 "nbformat": 4,
 "nbformat_minor": 2
}
