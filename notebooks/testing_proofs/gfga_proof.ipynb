{
 "cells": [
  {
   "cell_type": "code",
   "execution_count": 1,
   "metadata": {},
   "outputs": [],
   "source": [
    "import os \n",
    "os.chdir('/home/oleksandr/UT/Thesis/Implementations/')"
   ]
  },
  {
   "cell_type": "code",
   "execution_count": 2,
   "metadata": {},
   "outputs": [],
   "source": [
    "from sklearn.model_selection import train_test_split\n",
    "import faiss\n",
    "import numpy as np\n",
    "from scipy.special import softmax\n",
    "from scipy import stats as st\n",
    "from tqdm import tqdm\n",
    "import pandas as pd"
   ]
  },
  {
   "cell_type": "code",
   "execution_count": 9,
   "metadata": {},
   "outputs": [],
   "source": [
    "from src.gendered_selection.age_diff_estimator import Simulation\n",
    "from src.gendered_selection.faster_fuzzy_logic.generalized_partition_inferrer import GeneralizedInferrer\n",
    "from src.gendered_selection.conf.gendered_selection_config import Config\n",
    "from src.common.utils import (mutate_single_point, crossover, mutation)\n",
    "from src.common.fitness import griewank\n",
    "from src.common.scales import scales\n",
    "from src.common.approximation_helpers import generate_search_space\n"
   ]
  },
  {
   "cell_type": "code",
   "execution_count": 6,
   "metadata": {},
   "outputs": [
    {
     "name": "stderr",
     "output_type": "stream",
     "text": [
      "  5%|▌         | 1/20 [00:00<00:02,  6.45it/s]"
     ]
    },
    {
     "name": "stdout",
     "output_type": "stream",
     "text": [
      "[-0.0653952  -0.16006199 -0.16041788 -0.17327834 -0.17606861 -0.18080592\n",
      " -0.18246453 -0.21136536 -0.22002375 -0.24133642]\n"
     ]
    },
    {
     "name": "stderr",
     "output_type": "stream",
     "text": [
      "100%|██████████| 20/20 [00:03<00:00,  5.01it/s]\n",
      "  5%|▌         | 1/20 [00:00<00:03,  6.31it/s]"
     ]
    },
    {
     "name": "stdout",
     "output_type": "stream",
     "text": [
      "[-0.1600197  -0.2100762  -0.22492183 -0.27886807 -0.28678765 -0.29921657\n",
      " -0.30629065 -0.30843108 -0.31442553 -0.319319  ]\n"
     ]
    },
    {
     "name": "stderr",
     "output_type": "stream",
     "text": [
      "100%|██████████| 20/20 [00:03<00:00,  5.05it/s]\n",
      "  5%|▌         | 1/20 [00:00<00:03,  5.28it/s]"
     ]
    },
    {
     "name": "stdout",
     "output_type": "stream",
     "text": [
      "[-0.13968207 -0.20768556 -0.22476372 -0.23327528 -0.2367383  -0.25329415\n",
      " -0.2542283  -0.25863205 -0.27369513 -0.27822504]\n"
     ]
    },
    {
     "name": "stderr",
     "output_type": "stream",
     "text": [
      "100%|██████████| 20/20 [00:04<00:00,  4.19it/s]\n"
     ]
    },
    {
     "data": {
      "text/plain": [
       "{3: (0.006257315780936058, 0.007359649944097279),\n",
       " 5: (0.006972866431465529, 0.007862308281009919),\n",
       " 7: (0.0064121030740478995, 0.007362704658306925)}"
      ]
     },
     "execution_count": 6,
     "metadata": {},
     "output_type": "execute_result"
    }
   ],
   "source": [
    "resulting_intervals = {}\n",
    "\n",
    "for n_terms in [3, 5, 7]:\n",
    "    sim = Simulation(conf=Config(), fitness_fn=griewank, mutation=mutation, crossover=crossover)\n",
    "    history = sim.run(n_partitions=n_terms)\n",
    "\n",
    "    # Getting differences between closest-age females\n",
    "    diffs = np.hstack([np.diff(np.sort(np.array(i))) for i in history]).ravel()\n",
    "    conf_interval = st.t.interval(alpha=0.95, df=len(diffs)-1, loc=np.mean(diffs), scale=st.sem(diffs))\n",
    "\n",
    "    resulting_intervals[n_terms] = conf_interval\n",
    "resulting_intervals\n"
   ]
  },
  {
   "cell_type": "code",
   "execution_count": 10,
   "metadata": {},
   "outputs": [
    {
     "name": "stderr",
     "output_type": "stream",
     "text": [
      "100%|██████████| 10000/10000 [00:43<00:00, 228.62it/s]\n",
      "100%|██████████| 10000/10000 [00:48<00:00, 208.12it/s]\n",
      "100%|██████████| 10000/10000 [00:50<00:00, 197.22it/s]\n"
     ]
    }
   ],
   "source": [
    "resulting_intervals_estimation_error = {}\n",
    "for n_terms in [3, 5, 7]:\n",
    "    inferrer = GeneralizedInferrer(n_partitions=n_terms)\n",
    "    X = generate_search_space(n_splits=100, ranges=[(0, 1), (0, 10)])\n",
    "    y =   np.array([inferrer.infer_partner_age(*X[i, :]) for i in tqdm(range(X.shape[0]))])\n",
    "\n",
    "    X_train, X_test, y_train, y_test = train_test_split(X, y, test_size=.1, random_state=42)\n",
    "    param_index = faiss.IndexFlatL2(X_train.shape[1])\n",
    "    param_index.add(X_train)\n",
    "\n",
    "    D, I = param_index.search(X_test, k=10)\n",
    "    y_pred = (y_train[I] * softmax(D, axis=1)).sum(axis=1)\n",
    "    errors = np.abs(y_pred.ravel() - y_test.ravel())\n",
    "    error_confint = st.t.interval(alpha=0.95, df=len(errors)-1, loc=np.mean(errors), scale=st.sem(errors)) \n",
    "    resulting_intervals_estimation_error[n_terms] = error_confint"
   ]
  },
  {
   "cell_type": "code",
   "execution_count": 11,
   "metadata": {},
   "outputs": [
    {
     "data": {
      "text/html": [
       "<div>\n",
       "<style scoped>\n",
       "    .dataframe tbody tr th:only-of-type {\n",
       "        vertical-align: middle;\n",
       "    }\n",
       "\n",
       "    .dataframe tbody tr th {\n",
       "        vertical-align: top;\n",
       "    }\n",
       "\n",
       "    .dataframe thead th {\n",
       "        text-align: right;\n",
       "    }\n",
       "</style>\n",
       "<table border=\"1\" class=\"dataframe\">\n",
       "  <thead>\n",
       "    <tr style=\"text-align: right;\">\n",
       "      <th></th>\n",
       "      <th>n_terms</th>\n",
       "      <th>age_difference_95%_confint</th>\n",
       "      <th>age_estimation_error_95%_confint</th>\n",
       "    </tr>\n",
       "  </thead>\n",
       "  <tbody>\n",
       "    <tr>\n",
       "      <th>0</th>\n",
       "      <td>3</td>\n",
       "      <td>(0.006257315780936058, 0.007359649944097279)</td>\n",
       "      <td>(0.0024410575272460072, 0.002988461517415478)</td>\n",
       "    </tr>\n",
       "    <tr>\n",
       "      <th>1</th>\n",
       "      <td>5</td>\n",
       "      <td>(0.006972866431465529, 0.007862308281009919)</td>\n",
       "      <td>(0.0029407168015879344, 0.0035231845494672308)</td>\n",
       "    </tr>\n",
       "    <tr>\n",
       "      <th>2</th>\n",
       "      <td>7</td>\n",
       "      <td>(0.0064121030740478995, 0.007362704658306925)</td>\n",
       "      <td>(0.0031198455079784236, 0.0037750803351908457)</td>\n",
       "    </tr>\n",
       "  </tbody>\n",
       "</table>\n",
       "</div>"
      ],
      "text/plain": [
       "   n_terms                     age_difference_95%_confint  \\\n",
       "0        3   (0.006257315780936058, 0.007359649944097279)   \n",
       "1        5   (0.006972866431465529, 0.007862308281009919)   \n",
       "2        7  (0.0064121030740478995, 0.007362704658306925)   \n",
       "\n",
       "                 age_estimation_error_95%_confint  \n",
       "0   (0.0024410575272460072, 0.002988461517415478)  \n",
       "1  (0.0029407168015879344, 0.0035231845494672308)  \n",
       "2  (0.0031198455079784236, 0.0037750803351908457)  "
      ]
     },
     "execution_count": 11,
     "metadata": {},
     "output_type": "execute_result"
    }
   ],
   "source": [
    "df = []\n",
    "\n",
    "for n_terms in [3, 5, 7]:\n",
    "    record = {\n",
    "        'n_terms': n_terms, \n",
    "        'age_difference_95%_confint': resulting_intervals[n_terms], \n",
    "        'age_estimation_error_95%_confint': resulting_intervals_estimation_error[n_terms]\n",
    "    }\n",
    "    df.append(record)\n",
    "\n",
    "df = pd.DataFrame(df)\n",
    "df"
   ]
  },
  {
   "cell_type": "code",
   "execution_count": 12,
   "metadata": {},
   "outputs": [],
   "source": [
    "df.to_csv('results/gfga_proof_confints.csv')"
   ]
  }
 ],
 "metadata": {
  "kernelspec": {
   "display_name": "thesis",
   "language": "python",
   "name": "python3"
  },
  "language_info": {
   "codemirror_mode": {
    "name": "ipython",
    "version": 3
   },
   "file_extension": ".py",
   "mimetype": "text/x-python",
   "name": "python",
   "nbconvert_exporter": "python",
   "pygments_lexer": "ipython3",
   "version": "3.10.10"
  },
  "orig_nbformat": 4
 },
 "nbformat": 4,
 "nbformat_minor": 2
}
