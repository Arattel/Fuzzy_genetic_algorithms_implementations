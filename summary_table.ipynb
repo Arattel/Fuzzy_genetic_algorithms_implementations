{
 "cells": [
  {
   "cell_type": "code",
   "execution_count": 1,
   "metadata": {},
   "outputs": [],
   "source": [
    "import json\n",
    "import pandas as pd"
   ]
  },
  {
   "cell_type": "code",
   "execution_count": 2,
   "metadata": {},
   "outputs": [],
   "source": [
    "methods = ['gendered', 'efga']\n",
    "functions = ['rastrigin', 'ackley', 'griewank', 'schwefel']"
   ]
  },
  {
   "cell_type": "code",
   "execution_count": 3,
   "metadata": {},
   "outputs": [],
   "source": [
    "import os"
   ]
  },
  {
   "cell_type": "code",
   "execution_count": 4,
   "metadata": {},
   "outputs": [],
   "source": [
    "plot_dir = 'img/Iteration 3/'\n",
    "log_dir = 'log/'\n",
    "files = [os.path.join(plot_dir, x) for x in os.listdir(plot_dir)]\n",
    "extract_ts = lambda x: '.'.join(x.split('_')[-1].split('.')[:-1])\n",
    "timestamps = list(map(extract_ts, files))"
   ]
  },
  {
   "cell_type": "code",
   "execution_count": 5,
   "metadata": {},
   "outputs": [],
   "source": [
    "log_files = [os.path.join(log_dir, x) for x in os.listdir(log_dir)]\n",
    "log_files = list(filter(lambda x: extract_ts(x) in timestamps, log_files))"
   ]
  },
  {
   "cell_type": "code",
   "execution_count": 6,
   "metadata": {},
   "outputs": [
    {
     "data": {
      "text/plain": [
       "(40, 80)"
      ]
     },
     "execution_count": 6,
     "metadata": {},
     "output_type": "execute_result"
    }
   ],
   "source": [
    "len(timestamps), len(log_files)"
   ]
  },
  {
   "cell_type": "code",
   "execution_count": 7,
   "metadata": {},
   "outputs": [],
   "source": [
    "csv_files = sorted(list(filter(lambda x: x.endswith('.csv') and extract_ts(x) in timestamps, log_files)), key=extract_ts)\n",
    "json_files = sorted(list(filter(lambda x: x.endswith('.json') and extract_ts(x) in timestamps, log_files)), key=extract_ts)"
   ]
  },
  {
   "cell_type": "code",
   "execution_count": 8,
   "metadata": {},
   "outputs": [
    {
     "data": {
      "text/plain": [
       "40"
      ]
     },
     "execution_count": 8,
     "metadata": {},
     "output_type": "execute_result"
    }
   ],
   "source": [
    "len(csv_files)"
   ]
  },
  {
   "cell_type": "code",
   "execution_count": 9,
   "metadata": {},
   "outputs": [],
   "source": [
    "def json_file(method, fn):\n",
    "    return f'log/{fn}_{method}_params.json'\n",
    "\n",
    "def log_file(method, fn):\n",
    "    return f'log/{fn}_experiment_{method}_logs.csv'"
   ]
  },
  {
   "cell_type": "code",
   "execution_count": 10,
   "metadata": {},
   "outputs": [
    {
     "data": {
      "text/plain": [
       "['img/Iteration 3/griewank_efga_summary_plot_1680551765.849279.png',\n",
       " 'img/Iteration 3/schwefel_efga_summary_plot_1680291367.400345.png',\n",
       " 'img/Iteration 3/griewank_gendered_summary_plot_1680433819.946909.png',\n",
       " 'img/Iteration 3/ackley_gendered_summary_plot_1680434399.947702.png',\n",
       " 'img/Iteration 3/ackley_efga_summary_plot_1680289862.152797.png',\n",
       " 'img/Iteration 3/schwefel_gendered_summary_plot_1680437762.400973.png',\n",
       " 'img/Iteration 3/ackley_efga_summary_plot_1680290173.003756.png',\n",
       " 'img/Iteration 3/schwefel_gendered_summary_plot_1680435733.540228.png',\n",
       " 'img/Iteration 3/rastrigin_gendered_summary_plot_1680437382.830686.png',\n",
       " 'img/Iteration 3/griewank_gendered_summary_plot_1680436868.664802.png',\n",
       " 'img/Iteration 3/griewank_gendered_summary_plot_1680436982.691161.png',\n",
       " 'img/Iteration 3/rastrigin_gendered_summary_plot_1680433943.827462.png',\n",
       " 'img/Iteration 3/rastrigin_gendered_summary_plot_1680437253.141597.png',\n",
       " 'img/Iteration 3/rastrigin_gendered_summary_plot_1680437037.723814.png',\n",
       " 'img/Iteration 3/griewank_gendered_summary_plot_1680436819.059756.png',\n",
       " 'img/Iteration 3/griewank_efga_summary_plot_1680287144.88811.png',\n",
       " 'img/Iteration 3/griewank_efga_summary_plot_1680551352.353326.png',\n",
       " 'img/Iteration 3/ackley_efga_summary_plot_1680289252.570858.png',\n",
       " 'img/Iteration 3/schwefel_efga_summary_plot_1680290487.860076.png',\n",
       " 'img/Iteration 3/ackley_gendered_summary_plot_1680437660.413195.png',\n",
       " 'img/Iteration 3/griewank_efga_summary_plot_1680287377.760863.png',\n",
       " 'img/Iteration 3/schwefel_gendered_summary_plot_1680437879.924368.png',\n",
       " 'img/Iteration 3/rastrigin_gendered_summary_plot_1680437132.202625.png',\n",
       " 'img/Iteration 3/griewank_gendered_summary_plot_1680436923.845715.png',\n",
       " 'img/Iteration 3/griewank_efga_summary_plot_1680280659.186642.png',\n",
       " 'img/Iteration 3/schwefel_gendered_summary_plot_1680437821.924507.png',\n",
       " 'img/Iteration 3/ackley_efga_summary_plot_1680289556.955287.png',\n",
       " 'img/Iteration 3/ackley_gendered_summary_plot_1680437569.646122.png',\n",
       " 'img/Iteration 3/rastrigin_efga_summary_plot_1680288402.361233.png',\n",
       " 'img/Iteration 3/ackley_gendered_summary_plot_1680437530.572571.png',\n",
       " 'img/Iteration 3/rastrigin_efga_summary_plot_1680288680.647751.png',\n",
       " 'img/Iteration 3/schwefel_gendered_summary_plot_1680437709.539123.png',\n",
       " 'img/Iteration 3/rastrigin_efga_summary_plot_1680288964.556035.png',\n",
       " 'img/Iteration 3/schwefel_efga_summary_plot_1680290775.637626.png',\n",
       " 'img/Iteration 3/rastrigin_gendered_summary_plot_1680293140.80116.png',\n",
       " 'img/Iteration 3/schwefel_gendered_summary_plot_1680434472.260607.png',\n",
       " 'img/Iteration 3/griewank_efga_summary_plot_1680285059.765059.png',\n",
       " 'img/Iteration 3/rastrigin_efga_summary_plot_1680288125.38379.png',\n",
       " 'img/Iteration 3/ackley_gendered_summary_plot_1680437618.791377.png',\n",
       " 'img/Iteration 3/schwefel_efga_summary_plot_1680291068.200057.png']"
      ]
     },
     "execution_count": 10,
     "metadata": {},
     "output_type": "execute_result"
    }
   ],
   "source": [
    "files"
   ]
  },
  {
   "cell_type": "code",
   "execution_count": 11,
   "metadata": {},
   "outputs": [],
   "source": [
    "records = []\n",
    "\n",
    "for i in range(len(csv_files)):\n",
    "    params = None\n",
    "    with open(json_files[i], 'r') as f:\n",
    "        params = json.load(f)\n",
    "\n",
    "    log = pd.read_csv(csv_files[i])\n",
    "    params['mean_fitness_fn_calls'] =  log.groupby('seed').first().mean()['ncalls']\n",
    "    params['median_best_fitness'] =  log.groupby('seed').min().median()['best_fitness']\n",
    "    params['median_final_best_fitness'] =  log.groupby('seed').last().median()['best_fitness']\n",
    "    params['best_fitness'] = log.groupby('seed').min().min()['best_fitness']\n",
    "    # params['method'] =  'efga' if 'efga' in files[i] else 'gendered'\n",
    "    params['std'] = log.groupby('seed').min('best_fitness').std()['best_fitness']\n",
    "    records.append(params)\n",
    "records = pd.DataFrame.from_records(records).sort_values('fitness_fn')"
   ]
  },
  {
   "cell_type": "code",
   "execution_count": 12,
   "metadata": {},
   "outputs": [
    {
     "name": "stderr",
     "output_type": "stream",
     "text": [
      "/tmp/ipykernel_566/2527682468.py:2: SettingWithCopyWarning: \n",
      "A value is trying to be set on a copy of a slice from a DataFrame\n",
      "\n",
      "See the caveats in the documentation: https://pandas.pydata.org/pandas-docs/stable/user_guide/indexing.html#returning-a-view-versus-a-copy\n",
      "  records['method'][records.n_partitions.isna()] = 'efga'\n",
      "/tmp/ipykernel_566/2527682468.py:3: SettingWithCopyWarning: \n",
      "A value is trying to be set on a copy of a slice from a DataFrame\n",
      "\n",
      "See the caveats in the documentation: https://pandas.pydata.org/pandas-docs/stable/user_guide/indexing.html#returning-a-view-versus-a-copy\n",
      "  records['method'][~records.n_partitions.isna()] = 'gendered'\n"
     ]
    }
   ],
   "source": [
    "records['method'] = pd.NA\n",
    "records['method'][records.n_partitions.isna()] = 'efga'\n",
    "records['method'][~records.n_partitions.isna()] = 'gendered'"
   ]
  },
  {
   "cell_type": "code",
   "execution_count": 13,
   "metadata": {},
   "outputs": [],
   "source": [
    "records['method_comb'] = pd.NA\n",
    "records.loc[records.method == 'gendered', 'method_comb'] = 'gendered('+ records.n_partitions[records.method == 'gendered'].astype(int).astype(str) + ')'\n",
    "records.loc[records.method == 'efga', 'method_comb'] = 'efga('+ records.n_terms_params[records.method == 'efga'].astype(int).astype(str) \\\n",
    "    + ',' + records.n_terms_priority[records.method == 'efga'].astype(int).astype(str)+ ')'"
   ]
  },
  {
   "cell_type": "code",
   "execution_count": 14,
   "metadata": {},
   "outputs": [],
   "source": [
    "# records.to_csv('summary_iteration_3.csv')"
   ]
  },
  {
   "cell_type": "code",
   "execution_count": 15,
   "metadata": {},
   "outputs": [],
   "source": [
    "(pd.pivot(records[['std', 'fitness_fn', 'median_best_fitness', 'best_fitness','method_comb']]\n",
    " .groupby(['method_comb', 'fitness_fn']).agg({'best_fitness': 'min', 'median_best_fitness': 'mean', 'std': 'mean'}).reset_index(), index='fitness_fn', columns='method_comb')).T.to_csv('summary_iteration_3.csv')"
   ]
  },
  {
   "cell_type": "code",
   "execution_count": 17,
   "metadata": {},
   "outputs": [],
   "source": [
    "(pd.pivot(records[['std', 'fitness_fn', 'median_best_fitness', 'best_fitness','method_comb']]\n",
    " .groupby(['method_comb', 'fitness_fn']).agg({'best_fitness': 'min', 'median_best_fitness': 'mean', 'std': 'mean'}).reset_index(), index='fitness_fn', columns='method_comb')).T.to_csv('summary_iteration_3.csv')"
   ]
  },
  {
   "cell_type": "code",
   "execution_count": null,
   "metadata": {},
   "outputs": [],
   "source": []
  }
 ],
 "metadata": {
  "kernelspec": {
   "display_name": "thesis",
   "language": "python",
   "name": "python3"
  },
  "language_info": {
   "codemirror_mode": {
    "name": "ipython",
    "version": 3
   },
   "file_extension": ".py",
   "mimetype": "text/x-python",
   "name": "python",
   "nbconvert_exporter": "python",
   "pygments_lexer": "ipython3",
   "version": "3.10.10"
  },
  "orig_nbformat": 4,
  "vscode": {
   "interpreter": {
    "hash": "1a78cde6364742d5eb3c1afb06f5d9ac27359d158d2fd799008b8978ac1916b2"
   }
  }
 },
 "nbformat": 4,
 "nbformat_minor": 2
}
