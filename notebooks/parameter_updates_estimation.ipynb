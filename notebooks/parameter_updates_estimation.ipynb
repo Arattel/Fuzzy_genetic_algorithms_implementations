{
 "cells": [
  {
   "cell_type": "code",
   "execution_count": 2,
   "metadata": {},
   "outputs": [],
   "source": [
    "import os \n",
    "os.chdir('..')"
   ]
  },
  {
   "cell_type": "code",
   "execution_count": 1,
   "metadata": {},
   "outputs": [],
   "source": [
    "import pandas as pd\n",
    "import numpy as np\n",
    "import scipy.stats as st\n",
    "from tqdm import tqdm\n",
    "import itertools \n",
    "from matplotlib import pyplot as plt\n",
    "import pickle as pkl\n",
    "\n",
    "\n",
    "from sklearn.model_selection import train_test_split\n",
    "from xgboost import XGBRegressor\n",
    "from sklearn.metrics import median_absolute_error\n"
   ]
  },
  {
   "cell_type": "code",
   "execution_count": 3,
   "metadata": {},
   "outputs": [],
   "source": [
    "from src.elegant_fuzzy_genetic_algorithms.helpers.generalized_param_inferrer import GeneralizedParamInferencer\n",
    "from src.elegant_fuzzy_genetic_algorithms.helpers.all_params_wrapper import AllEFGAParamsParallelWrapper\n",
    "from src.elegant_fuzzy_genetic_algorithms.param_diff_simulation import simulation_param_diff\n",
    "from src.common.fitness import (griewank, schwefel, ackley, rastrigin)\n",
    "from src.common.approximation_helpers import generate_search_space, init_param_index\n",
    "from src.common.scales import scales"
   ]
  },
  {
   "cell_type": "code",
   "execution_count": 4,
   "metadata": {},
   "outputs": [],
   "source": [
    "gpi = AllEFGAParamsParallelWrapper(3, 3)"
   ]
  },
  {
   "cell_type": "code",
   "execution_count": 5,
   "metadata": {},
   "outputs": [
    {
     "name": "stderr",
     "output_type": "stream",
     "text": [
      "100%|██████████| 200/200 [00:02<00:00, 69.61it/s] \n",
      "100%|██████████| 200/200 [00:01<00:00, 174.69it/s]\n",
      "100%|██████████| 200/200 [00:00<00:00, 332.30it/s]\n",
      "100%|██████████| 200/200 [00:00<00:00, 316.74it/s]\n"
     ]
    }
   ],
   "source": [
    "priorities = []\n",
    "\n",
    "for fn in [griewank, schwefel, rastrigin, ackley]:\n",
    "    fn_name = fn.__name__\n",
    "    priorities_ = simulation_param_diff(N=100, epochs=200, fitness_fn=fn, population_scale=scales[fn_name][0], \n",
    "                      mutation_scale=scales[fn_name][1], seed=1)\n",
    "    priorities.append(priorities_)\n",
    "\n",
    "priorities_df = list(itertools.chain(*priorities))\n",
    "priorities_df = pd.DataFrame(priorities_df)"
   ]
  },
  {
   "cell_type": "code",
   "execution_count": 6,
   "metadata": {},
   "outputs": [
    {
     "data": {
      "text/html": [
       "<div>\n",
       "<style scoped>\n",
       "    .dataframe tbody tr th:only-of-type {\n",
       "        vertical-align: middle;\n",
       "    }\n",
       "\n",
       "    .dataframe tbody tr th {\n",
       "        vertical-align: top;\n",
       "    }\n",
       "\n",
       "    .dataframe thead th {\n",
       "        text-align: right;\n",
       "    }\n",
       "</style>\n",
       "<table border=\"1\" class=\"dataframe\">\n",
       "  <thead>\n",
       "    <tr style=\"text-align: right;\">\n",
       "      <th></th>\n",
       "      <th>xRate</th>\n",
       "      <th>mRate</th>\n",
       "      <th>subPopSize</th>\n",
       "      <th>best_fitness</th>\n",
       "      <th>avg_fitness</th>\n",
       "      <th>avg_fit_change</th>\n",
       "    </tr>\n",
       "  </thead>\n",
       "  <tbody>\n",
       "    <tr>\n",
       "      <th>0</th>\n",
       "      <td>[0.669579]</td>\n",
       "      <td>[0.02357091]</td>\n",
       "      <td>[0.185216]</td>\n",
       "      <td>0.100325</td>\n",
       "      <td>0.265879</td>\n",
       "      <td>0.037544</td>\n",
       "    </tr>\n",
       "    <tr>\n",
       "      <th>1</th>\n",
       "      <td>[0.66371304]</td>\n",
       "      <td>[0.021830916]</td>\n",
       "      <td>[0.1854116]</td>\n",
       "      <td>0.100325</td>\n",
       "      <td>0.249000</td>\n",
       "      <td>0.015726</td>\n",
       "    </tr>\n",
       "    <tr>\n",
       "      <th>2</th>\n",
       "      <td>[0.6641028]</td>\n",
       "      <td>[0.021830916]</td>\n",
       "      <td>[0.185216]</td>\n",
       "      <td>0.100325</td>\n",
       "      <td>0.254578</td>\n",
       "      <td>0.006794</td>\n",
       "    </tr>\n",
       "    <tr>\n",
       "      <th>3</th>\n",
       "      <td>[0.6647559]</td>\n",
       "      <td>[0.021830916]</td>\n",
       "      <td>[0.1854116]</td>\n",
       "      <td>0.100325</td>\n",
       "      <td>0.252894</td>\n",
       "      <td>0.003249</td>\n",
       "    </tr>\n",
       "    <tr>\n",
       "      <th>4</th>\n",
       "      <td>[0.6650075]</td>\n",
       "      <td>[0.021830916]</td>\n",
       "      <td>[0.185216]</td>\n",
       "      <td>0.100325</td>\n",
       "      <td>0.254069</td>\n",
       "      <td>0.002857</td>\n",
       "    </tr>\n",
       "    <tr>\n",
       "      <th>...</th>\n",
       "      <td>...</td>\n",
       "      <td>...</td>\n",
       "      <td>...</td>\n",
       "      <td>...</td>\n",
       "      <td>...</td>\n",
       "      <td>...</td>\n",
       "    </tr>\n",
       "    <tr>\n",
       "      <th>795</th>\n",
       "      <td>[0.85499007]</td>\n",
       "      <td>[0.03799035]</td>\n",
       "      <td>[0.2169291]</td>\n",
       "      <td>0.929401</td>\n",
       "      <td>0.962536</td>\n",
       "      <td>0.000937</td>\n",
       "    </tr>\n",
       "    <tr>\n",
       "      <th>796</th>\n",
       "      <td>[0.8580492]</td>\n",
       "      <td>[0.038121507]</td>\n",
       "      <td>[0.2169291]</td>\n",
       "      <td>0.929401</td>\n",
       "      <td>0.964902</td>\n",
       "      <td>0.000505</td>\n",
       "    </tr>\n",
       "    <tr>\n",
       "      <th>797</th>\n",
       "      <td>[0.8543547]</td>\n",
       "      <td>[0.03775251]</td>\n",
       "      <td>[0.21667424]</td>\n",
       "      <td>0.929401</td>\n",
       "      <td>0.961737</td>\n",
       "      <td>0.001031</td>\n",
       "    </tr>\n",
       "    <tr>\n",
       "      <th>798</th>\n",
       "      <td>[0.85517293]</td>\n",
       "      <td>[0.03799035]</td>\n",
       "      <td>[0.2169291]</td>\n",
       "      <td>0.929401</td>\n",
       "      <td>0.963227</td>\n",
       "      <td>0.000200</td>\n",
       "    </tr>\n",
       "    <tr>\n",
       "      <th>799</th>\n",
       "      <td>[0.85884416]</td>\n",
       "      <td>[0.03825657]</td>\n",
       "      <td>[0.2169291]</td>\n",
       "      <td>0.929401</td>\n",
       "      <td>0.966327</td>\n",
       "      <td>0.000083</td>\n",
       "    </tr>\n",
       "  </tbody>\n",
       "</table>\n",
       "<p>800 rows × 6 columns</p>\n",
       "</div>"
      ],
      "text/plain": [
       "            xRate          mRate    subPopSize  best_fitness  avg_fitness  \\\n",
       "0      [0.669579]   [0.02357091]    [0.185216]      0.100325     0.265879   \n",
       "1    [0.66371304]  [0.021830916]   [0.1854116]      0.100325     0.249000   \n",
       "2     [0.6641028]  [0.021830916]    [0.185216]      0.100325     0.254578   \n",
       "3     [0.6647559]  [0.021830916]   [0.1854116]      0.100325     0.252894   \n",
       "4     [0.6650075]  [0.021830916]    [0.185216]      0.100325     0.254069   \n",
       "..            ...            ...           ...           ...          ...   \n",
       "795  [0.85499007]   [0.03799035]   [0.2169291]      0.929401     0.962536   \n",
       "796   [0.8580492]  [0.038121507]   [0.2169291]      0.929401     0.964902   \n",
       "797   [0.8543547]   [0.03775251]  [0.21667424]      0.929401     0.961737   \n",
       "798  [0.85517293]   [0.03799035]   [0.2169291]      0.929401     0.963227   \n",
       "799  [0.85884416]   [0.03825657]   [0.2169291]      0.929401     0.966327   \n",
       "\n",
       "     avg_fit_change  \n",
       "0          0.037544  \n",
       "1          0.015726  \n",
       "2          0.006794  \n",
       "3          0.003249  \n",
       "4          0.002857  \n",
       "..              ...  \n",
       "795        0.000937  \n",
       "796        0.000505  \n",
       "797        0.001031  \n",
       "798        0.000200  \n",
       "799        0.000083  \n",
       "\n",
       "[800 rows x 6 columns]"
      ]
     },
     "execution_count": 6,
     "metadata": {},
     "output_type": "execute_result"
    }
   ],
   "source": [
    "priorities_df"
   ]
  },
  {
   "cell_type": "code",
   "execution_count": 7,
   "metadata": {},
   "outputs": [],
   "source": [
    "param_chg = np.vstack([np.diff(pd.DataFrame(priorities[i])[['xRate', 'mRate', 'subPopSize']].to_numpy(), axis=0) for i in range(len(priorities))])"
   ]
  },
  {
   "cell_type": "code",
   "execution_count": 8,
   "metadata": {},
   "outputs": [
    {
     "name": "stdout",
     "output_type": "stream",
     "text": [
      "keys[i]='xRate', conf_int=(array([0.00104294]), array([0.00136852]))\n",
      "keys[i]='mRate', conf_int=(array([5.99071666e-05]), array([9.05979811e-05]))\n",
      "keys[i]='subPopSize', conf_int=(array([0.00011543]), array([0.00016387]))\n"
     ]
    }
   ],
   "source": [
    "keys = list(priorities[0][0].keys())[:3]\n",
    "\n",
    "for i in range(len(keys)):\n",
    "    param_stats = np.abs(param_chg[:, i])\n",
    "    conf_int = st.t.interval(alpha=0.95, df=len(param_stats)-1, loc=np.mean(param_stats), scale=st.sem(param_stats)) \n",
    "    print(f'{keys[i]=}, {conf_int=}')"
   ]
  },
  {
   "attachments": {},
   "cell_type": "markdown",
   "metadata": {},
   "source": [
    "The goal in this case is to obtain max error confidence interval higher range lower than lower interval of error"
   ]
  },
  {
   "cell_type": "code",
   "execution_count": 9,
   "metadata": {},
   "outputs": [
    {
     "data": {
      "text/plain": [
       "(0.10032480226915341, 0.9294013403865408)"
      ]
     },
     "execution_count": 9,
     "metadata": {},
     "output_type": "execute_result"
    }
   ],
   "source": [
    "priorities_df.best_fitness.min(), priorities_df.best_fitness.max()"
   ]
  },
  {
   "cell_type": "code",
   "execution_count": 10,
   "metadata": {},
   "outputs": [
    {
     "data": {
      "text/plain": [
       "(0.016547844920411454, 0.972623828244773)"
      ]
     },
     "execution_count": 10,
     "metadata": {},
     "output_type": "execute_result"
    }
   ],
   "source": [
    "priorities_df.avg_fitness.min(), priorities_df.avg_fitness.max()"
   ]
  },
  {
   "cell_type": "code",
   "execution_count": 11,
   "metadata": {},
   "outputs": [
    {
     "data": {
      "text/plain": [
       "(0.0, 0.03754400608188846)"
      ]
     },
     "execution_count": 11,
     "metadata": {},
     "output_type": "execute_result"
    }
   ],
   "source": [
    "priorities_df.avg_fit_change.min(), priorities_df.avg_fit_change.max()"
   ]
  },
  {
   "cell_type": "code",
   "execution_count": 12,
   "metadata": {},
   "outputs": [],
   "source": [
    "search_space = generate_search_space((20, 20, 20), [(priorities_df.best_fitness.min(), priorities_df.best_fitness.max(),), \n",
    "                                           (priorities_df.avg_fitness.min(), priorities_df.avg_fitness.max()), \n",
    "                                           (priorities_df.avg_fit_change.min(), priorities_df.avg_fit_change.max())])\n"
   ]
  },
  {
   "cell_type": "code",
   "execution_count": 13,
   "metadata": {},
   "outputs": [
    {
     "name": "stderr",
     "output_type": "stream",
     "text": [
      "100%|██████████| 8000/8000 [00:28<00:00, 282.10it/s]\n"
     ]
    }
   ],
   "source": [
    "y = [gpi.infer(*search_space[i]) for i in tqdm(range(search_space.shape[0]))]"
   ]
  },
  {
   "cell_type": "code",
   "execution_count": 14,
   "metadata": {},
   "outputs": [],
   "source": [
    "y_ml = pd.DataFrame(y)['xRate']"
   ]
  },
  {
   "cell_type": "code",
   "execution_count": 134,
   "metadata": {},
   "outputs": [
    {
     "name": "stdout",
     "output_type": "stream",
     "text": [
      "Collecting xgboost\n",
      "  Downloading xgboost-1.7.5-py3-none-manylinux2014_x86_64.whl (200.3 MB)\n",
      "\u001b[2K     \u001b[90m━━━━━━━━━━━━━━━━━━━━━━━━━━━━━━━━━━━━━━━\u001b[0m \u001b[32m200.3/200.3 MB\u001b[0m \u001b[31m5.4 MB/s\u001b[0m eta \u001b[36m0:00:00\u001b[0m00:01\u001b[0m00:01\u001b[0m\n",
      "\u001b[?25hRequirement already satisfied: scipy in /home/oleksandr/.local/lib/python3.10/site-packages (from xgboost) (1.8.0)\n",
      "Requirement already satisfied: numpy in /home/oleksandr/.local/lib/python3.10/site-packages (from xgboost) (1.22.3)\n",
      "Installing collected packages: xgboost\n",
      "Successfully installed xgboost-1.7.5\n"
     ]
    }
   ],
   "source": [
    "! pip install xgboost"
   ]
  },
  {
   "cell_type": "code",
   "execution_count": 15,
   "metadata": {},
   "outputs": [],
   "source": [
    "from sklearn.neural_network import MLPRegressor"
   ]
  },
  {
   "cell_type": "code",
   "execution_count": 16,
   "metadata": {},
   "outputs": [],
   "source": [
    "from xgboost import XGBRegressor"
   ]
  },
  {
   "cell_type": "code",
   "execution_count": 17,
   "metadata": {},
   "outputs": [],
   "source": [
    "mlpr = XGBRegressor(n_estimators=10000).fit(search_space, y_ml)"
   ]
  },
  {
   "cell_type": "code",
   "execution_count": 18,
   "metadata": {},
   "outputs": [
    {
     "data": {
      "text/plain": [
       "array([[0.44606796, 0.56818251, 0.01347252],\n",
       "       [0.69752894, 0.85348599, 0.02454445],\n",
       "       [0.10041963, 0.59838264, 0.02127211],\n",
       "       ...,\n",
       "       [0.78740777, 0.08676222, 0.00098332],\n",
       "       [0.12602448, 0.57082051, 0.03569789],\n",
       "       [0.885235  , 0.71784585, 0.02139699]])"
      ]
     },
     "execution_count": 18,
     "metadata": {},
     "output_type": "execute_result"
    }
   ],
   "source": [
    "N = 2000\n",
    "np.random.seed(1)\n",
    "test_set = np.vstack([np.random.uniform(priorities_df.best_fitness.min(), priorities_df.best_fitness.max(), N), \n",
    "                      np.random.uniform(priorities_df.avg_fitness.min(), priorities_df.avg_fitness.max(), N), \n",
    "                    np.random.uniform(priorities_df.avg_fit_change.min(), priorities_df.avg_fit_change.max(), N), \n",
    "\n",
    "                      ]).T\n",
    "test_set"
   ]
  },
  {
   "cell_type": "code",
   "execution_count": 19,
   "metadata": {},
   "outputs": [
    {
     "name": "stderr",
     "output_type": "stream",
     "text": [
      "100%|██████████| 2000/2000 [00:11<00:00, 177.70it/s]\n"
     ]
    }
   ],
   "source": [
    "y_actual = [gpi.infer(*test_set[i]) for i in tqdm(range(test_set.shape[0]))]"
   ]
  },
  {
   "cell_type": "code",
   "execution_count": 21,
   "metadata": {},
   "outputs": [
    {
     "data": {
      "text/plain": [
       "array([0.7100048, 0.7100048, 0.691    , ..., 0.565378 , 0.691    ,\n",
       "       0.7100048], dtype=float32)"
      ]
     },
     "execution_count": 21,
     "metadata": {},
     "output_type": "execute_result"
    }
   ],
   "source": [
    "mlpr.predict(test_set)[:]"
   ]
  },
  {
   "cell_type": "code",
   "execution_count": 22,
   "metadata": {},
   "outputs": [],
   "source": [
    "param_index = init_param_index(search_space)"
   ]
  },
  {
   "cell_type": "code",
   "execution_count": 23,
   "metadata": {},
   "outputs": [
    {
     "data": {
      "text/plain": [
       "array([{'xRate': array([0.5214198], dtype=float32), 'mRate': array([0.01017134], dtype=float32), 'subPopSize': array([0.19896418], dtype=float32)},\n",
       "       {'xRate': array([0.5226926], dtype=float32), 'mRate': array([0.01017134], dtype=float32), 'subPopSize': array([0.19613487], dtype=float32)},\n",
       "       {'xRate': array([0.5213062], dtype=float32), 'mRate': array([0.01017134], dtype=float32), 'subPopSize': array([0.19720678], dtype=float32)},\n",
       "       ...,\n",
       "       {'xRate': array([0.86451346], dtype=float32), 'mRate': array([0.0383985], dtype=float32), 'subPopSize': array([0.21667424], dtype=float32)},\n",
       "       {'xRate': array([0.86451346], dtype=float32), 'mRate': array([0.0383985], dtype=float32), 'subPopSize': array([0.21667424], dtype=float32)},\n",
       "       {'xRate': array([0.86451346], dtype=float32), 'mRate': array([0.0383985], dtype=float32), 'subPopSize': array([0.21667424], dtype=float32)}],\n",
       "      dtype=object)"
      ]
     },
     "execution_count": 23,
     "metadata": {},
     "output_type": "execute_result"
    }
   ],
   "source": [
    "np.array(y)"
   ]
  },
  {
   "cell_type": "code",
   "execution_count": 24,
   "metadata": {},
   "outputs": [],
   "source": [
    "D, I = param_index.search(test_set, k=1)\n"
   ]
  },
  {
   "cell_type": "code",
   "execution_count": 25,
   "metadata": {},
   "outputs": [],
   "source": [
    "y_pred = pd.DataFrame(list(itertools.chain(*np.array(y)[I].tolist())))"
   ]
  },
  {
   "cell_type": "code",
   "execution_count": 26,
   "metadata": {},
   "outputs": [],
   "source": [
    "diff_df = y_pred - pd.DataFrame.from_records(y_actual)"
   ]
  },
  {
   "cell_type": "code",
   "execution_count": 27,
   "metadata": {},
   "outputs": [
    {
     "name": "stdout",
     "output_type": "stream",
     "text": [
      "xRate (array([0.00625767]), array([0.00869486]))\n",
      "mRate (array([0.00051845]), array([0.00069701]))\n",
      "subPopSize (array([0.0007201]), array([0.00107408]))\n"
     ]
    }
   ],
   "source": [
    "for col in diff_df.columns:\n",
    "    diff_df[col] = np.abs(diff_df[col])\n",
    "    diff_arr = diff_df[col]\n",
    "    conf_int = st.t.interval(alpha=0.95, df=len(diff_arr)-1, loc=np.mean(diff_arr), scale=st.sem(diff_arr)) \n",
    "    print(col, conf_int)\n",
    "\n",
    "    "
   ]
  },
  {
   "cell_type": "code",
   "execution_count": 28,
   "metadata": {},
   "outputs": [
    {
     "name": "stdout",
     "output_type": "stream",
     "text": [
      "Rate per 1000: 0.7379055023193359\n",
      "Bias: 0.0007379055023193359\n",
      "Rate per 1000: 0.0700727105140686\n",
      "Bias: 7.00727105140686e-05\n",
      "Rate per 1000: 0.13290345668792725\n",
      "Bias: 0.00013290345668792725\n"
     ]
    }
   ],
   "source": [
    "for col in ['xRate', 'mRate', 'subPopSize']:\n",
    "    X_train, X_test, y_train, y_test = train_test_split(priorities_df[['best_fitness', 'avg_fitness', 'avg_fit_change']], \n",
    "                                                        priorities_df[col])\n",
    "    mlpr = XGBRegressor(tree_method=\"hist\", max_depth=1).fit(X_train, y_train)\n",
    "    y_pred = mlpr.predict(X_test)\n",
    "    print(f'Rate per 1000: {median_absolute_error(y_pred, y_test) * 1000}')\n",
    "    print(f'Bias: {median_absolute_error(y_pred, y_test)}')"
   ]
  },
  {
   "attachments": {},
   "cell_type": "markdown",
   "metadata": {},
   "source": [
    "Provided that most errors are centered around 0 (there's no systematic overstating or understating of some metric), as well as rates being less than <.15 per 1000, the approximation would be considered correct. Let's train a model and then use it for the future inference. "
   ]
  },
  {
   "cell_type": "code",
   "execution_count": 29,
   "metadata": {},
   "outputs": [],
   "source": [
    "for col in ['xRate', 'mRate', 'subPopSize']:\n",
    "    mlpr = XGBRegressor(tree_method=\"hist\",).fit(priorities_df[['best_fitness', 'avg_fitness', 'avg_fit_change']], \n",
    "                                                        priorities_df[col])\n",
    "    \n",
    "    with open(f'./indices/xgb_{col}.pkl', 'wb') as f:\n",
    "        pkl.dump(mlpr, f)\n",
    "    "
   ]
  },
  {
   "cell_type": "code",
   "execution_count": 36,
   "metadata": {},
   "outputs": [],
   "source": [
    "search_space = generate_search_space((50, 50, 50), [(priorities_df.best_fitness.min(), priorities_df.best_fitness.max(),), \n",
    "                                           (priorities_df.avg_fitness.min(), priorities_df.avg_fitness.max()), \n",
    "                                           (priorities_df.avg_fit_change.min(), priorities_df.avg_fit_change.max())])"
   ]
  },
  {
   "cell_type": "code",
   "execution_count": 37,
   "metadata": {},
   "outputs": [],
   "source": [
    "for col in ['xRate', 'mRate', 'subPopSize']:\n",
    "    mlpr = XGBRegressor(tree_method=\"hist\",).fit(priorities_df[['best_fitness', 'avg_fitness', 'avg_fit_change']], \n",
    "                                                        priorities_df[col])\n",
    "    \n",
    "    y = mlpr.predict(search_space)\n",
    "\n",
    "    \n",
    "    with open(f'./indices/xgb_{col}_y.pkl', 'wb') as f:\n",
    "        pkl.dump(y, f)\n",
    "    "
   ]
  },
  {
   "cell_type": "code",
   "execution_count": 38,
   "metadata": {},
   "outputs": [],
   "source": [
    "search_space = init_param_index(search_space)\n",
    "    "
   ]
  },
  {
   "cell_type": "code",
   "execution_count": 39,
   "metadata": {},
   "outputs": [],
   "source": [
    "import faiss"
   ]
  },
  {
   "cell_type": "code",
   "execution_count": 40,
   "metadata": {},
   "outputs": [],
   "source": [
    "faiss.write_index(search_space, './indices/params.index')"
   ]
  },
  {
   "cell_type": "code",
   "execution_count": 4,
   "metadata": {},
   "outputs": [],
   "source": [
    "gpi  =GeneralizedParamInferencer(3)"
   ]
  },
  {
   "cell_type": "code",
   "execution_count": 5,
   "metadata": {},
   "outputs": [
    {
     "data": {
      "text/plain": [
       "{'xRate': 0.654632827324478,\n",
       " 'mRate': 0.021219402277039844,\n",
       " 'subPopSize': 0.1871930958501653}"
      ]
     },
     "execution_count": 5,
     "metadata": {},
     "output_type": "execute_result"
    }
   ],
   "source": [
    "gpi.infer(.21, .22, .2)"
   ]
  },
  {
   "cell_type": "code",
   "execution_count": 6,
   "metadata": {},
   "outputs": [],
   "source": [
    "from src.elegant_fuzzy_genetic_algorithms.helpers.param_inference_approximation import ParamInferenceApprox"
   ]
  },
  {
   "cell_type": "code",
   "execution_count": 7,
   "metadata": {},
   "outputs": [
    {
     "ename": "TypeError",
     "evalue": "Wrong number or type of arguments for overloaded function 'new_IndexIVFFlat'.\n  Possible C/C++ prototypes are:\n    faiss::IndexIVFFlat::IndexIVFFlat(faiss::Index *,size_t,size_t,faiss::MetricType)\n    faiss::IndexIVFFlat::IndexIVFFlat(faiss::Index *,size_t,size_t)\n    faiss::IndexIVFFlat::IndexIVFFlat()\n",
     "output_type": "error",
     "traceback": [
      "\u001b[0;31m---------------------------------------------------------------------------\u001b[0m",
      "\u001b[0;31mTypeError\u001b[0m                                 Traceback (most recent call last)",
      "\u001b[1;32m/home/oleksandr/UT/Thesis/Implementations/notebooks/parameter_updates_estimation.ipynb Cell 40\u001b[0m in \u001b[0;36m<cell line: 1>\u001b[0;34m()\u001b[0m\n\u001b[0;32m----> <a href='vscode-notebook-cell:/home/oleksandr/UT/Thesis/Implementations/notebooks/parameter_updates_estimation.ipynb#X54sZmlsZQ%3D%3D?line=0'>1</a>\u001b[0m pia \u001b[39m=\u001b[39m ParamInferenceApprox()\n",
      "File \u001b[0;32m~/UT/Thesis/Implementations/src/elegant_fuzzy_genetic_algorithms/helpers/param_inference_approximation.py:15\u001b[0m, in \u001b[0;36mParamInferenceApprox.__init__\u001b[0;34m(self, dir)\u001b[0m\n\u001b[1;32m     13\u001b[0m \u001b[39mfor\u001b[39;00m param \u001b[39min\u001b[39;00m [\u001b[39m'\u001b[39m\u001b[39mxRate\u001b[39m\u001b[39m'\u001b[39m, \u001b[39m'\u001b[39m\u001b[39mmRate\u001b[39m\u001b[39m'\u001b[39m, \u001b[39m'\u001b[39m\u001b[39msubPopSize\u001b[39m\u001b[39m'\u001b[39m]:\n\u001b[1;32m     14\u001b[0m     \u001b[39mwith\u001b[39;00m \u001b[39mopen\u001b[39m(\u001b[39mf\u001b[39m\u001b[39m'\u001b[39m\u001b[39m./indices/xgb_\u001b[39m\u001b[39m{\u001b[39;00mparam\u001b[39m}\u001b[39;00m\u001b[39m_y.pkl\u001b[39m\u001b[39m'\u001b[39m, \u001b[39m'\u001b[39m\u001b[39mrb\u001b[39m\u001b[39m'\u001b[39m) \u001b[39mas\u001b[39;00m f:\n\u001b[0;32m---> 15\u001b[0m         \u001b[39mself\u001b[39m\u001b[39m.\u001b[39my[param] \u001b[39m=\u001b[39m  index \u001b[39m=\u001b[39m faiss\u001b[39m.\u001b[39;49mIndexIVFFlat(pkl\u001b[39m.\u001b[39;49mload(f), \u001b[39m3\u001b[39;49m, \u001b[39m10\u001b[39;49m)\n\u001b[1;32m     17\u001b[0m \u001b[39mself\u001b[39m\u001b[39m.\u001b[39mindex  \u001b[39m=\u001b[39m  faiss\u001b[39m.\u001b[39mread_index(\u001b[39m'\u001b[39m\u001b[39m./indices/params.index\u001b[39m\u001b[39m'\u001b[39m)\n",
      "File \u001b[0;32m~/miniconda3/envs/thesis/lib/python3.10/site-packages/faiss/__init__.py:89\u001b[0m, in \u001b[0;36madd_ref_in_constructor.<locals>.replacement_init\u001b[0;34m(self, *args)\u001b[0m\n\u001b[1;32m     88\u001b[0m \u001b[39mdef\u001b[39;00m \u001b[39mreplacement_init\u001b[39m(\u001b[39mself\u001b[39m, \u001b[39m*\u001b[39margs):\n\u001b[0;32m---> 89\u001b[0m     original_init(\u001b[39mself\u001b[39;49m, \u001b[39m*\u001b[39;49margs)\n\u001b[1;32m     90\u001b[0m     \u001b[39mself\u001b[39m\u001b[39m.\u001b[39mreferenced_objects \u001b[39m=\u001b[39m [args[parameter_no]]\n",
      "File \u001b[0;32m~/miniconda3/envs/thesis/lib/python3.10/site-packages/faiss/swigfaiss_avx2.py:6462\u001b[0m, in \u001b[0;36mIndexIVFFlat.__init__\u001b[0;34m(self, *args)\u001b[0m\n\u001b[1;32m   6461\u001b[0m \u001b[39mdef\u001b[39;00m \u001b[39m__init__\u001b[39m(\u001b[39mself\u001b[39m, \u001b[39m*\u001b[39margs):\n\u001b[0;32m-> 6462\u001b[0m     _swigfaiss_avx2\u001b[39m.\u001b[39mIndexIVFFlat_swiginit(\u001b[39mself\u001b[39m, _swigfaiss_avx2\u001b[39m.\u001b[39;49mnew_IndexIVFFlat(\u001b[39m*\u001b[39;49margs))\n",
      "\u001b[0;31mTypeError\u001b[0m: Wrong number or type of arguments for overloaded function 'new_IndexIVFFlat'.\n  Possible C/C++ prototypes are:\n    faiss::IndexIVFFlat::IndexIVFFlat(faiss::Index *,size_t,size_t,faiss::MetricType)\n    faiss::IndexIVFFlat::IndexIVFFlat(faiss::Index *,size_t,size_t)\n    faiss::IndexIVFFlat::IndexIVFFlat()\n"
     ]
    }
   ],
   "source": [
    "pia = ParamInferenceApprox()"
   ]
  },
  {
   "cell_type": "code",
   "execution_count": null,
   "metadata": {},
   "outputs": [
    {
     "data": {
      "text/plain": [
       "{'xRate': array([0.6537803], dtype=float32),\n",
       " 'mRate': array([0.0218903], dtype=float32),\n",
       " 'subPopSize': array([0.18691383], dtype=float32)}"
      ]
     },
     "execution_count": 49,
     "metadata": {},
     "output_type": "execute_result"
    }
   ],
   "source": [
    "pia.infer(.21, .22, .2)"
   ]
  },
  {
   "cell_type": "code",
   "execution_count": null,
   "metadata": {},
   "outputs": [],
   "source": []
  }
 ],
 "metadata": {
  "kernelspec": {
   "display_name": "thesis",
   "language": "python",
   "name": "python3"
  },
  "language_info": {
   "codemirror_mode": {
    "name": "ipython",
    "version": 3
   },
   "file_extension": ".py",
   "mimetype": "text/x-python",
   "name": "python",
   "nbconvert_exporter": "python",
   "pygments_lexer": "ipython3",
   "version": "3.10.10"
  },
  "orig_nbformat": 4
 },
 "nbformat": 4,
 "nbformat_minor": 2
}
