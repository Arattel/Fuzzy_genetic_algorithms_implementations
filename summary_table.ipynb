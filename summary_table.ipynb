{
 "cells": [
  {
   "cell_type": "code",
   "execution_count": 1,
   "metadata": {},
   "outputs": [],
   "source": [
    "import json\n",
    "import pandas as pd"
   ]
  },
  {
   "cell_type": "code",
   "execution_count": 2,
   "metadata": {},
   "outputs": [],
   "source": [
    "methods = ['gendered', 'efga']\n",
    "functions = ['rastrigin', 'ackley', 'griewank', 'schwefel']"
   ]
  },
  {
   "cell_type": "code",
   "execution_count": 4,
   "metadata": {},
   "outputs": [],
   "source": [
    "def json_file(method, fn):\n",
    "    return f'log/{fn}_{method}_params.json'\n",
    "\n",
    "def log_file(method, fn):\n",
    "    return f'log/{fn}_experiment_{method}_logs.csv'"
   ]
  },
  {
   "cell_type": "code",
   "execution_count": 13,
   "metadata": {},
   "outputs": [
    {
     "name": "stdout",
     "output_type": "stream",
     "text": [
      "{'n_experiments': 5, 'fitness_fn': 'rastrigin', 'population_scale': 5.12, 'mutation_scale': 0.05, 'N': 150, 'epochs': 100, 'mean_ncalls': 90031.4}\n",
      "{'n_experiments': 5, 'fitness_fn': 'ackley', 'population_scale': 32, 'mutation_scale': 0.05, 'N': 150, 'epochs': 100, 'mean_ncalls': 7387.8}\n",
      "{'n_experiments': 5, 'fitness_fn': 'griewank', 'population_scale': 600, 'mutation_scale': 0.5, 'N': 150, 'epochs': 100, 'mean_ncalls': 16885.4}\n",
      "{'n_experiments': 5, 'fitness_fn': 'schwefel', 'population_scale': 500, 'mutation_scale': 0.5, 'N': 150, 'epochs': 100, 'mean_ncalls': 14648.6}\n",
      "{'n_experiments': 5, 'fitness_fn': 'rastrigin', 'population_scale': 5.12, 'mutation_scale': 0.05, 'N': 500, 'epochs': 500, 'mean_ncalls': 35438.0}\n",
      "{'n_experiments': 5, 'fitness_fn': 'ackley', 'population_scale': 32, 'mutation_scale': 0.05, 'N': 500, 'epochs': 500, 'mean_ncalls': 43514.8}\n",
      "{'n_experiments': 5, 'fitness_fn': 'griewank', 'population_scale': 600, 'mutation_scale': 0.2, 'N': 500, 'epochs': 500, 'mean_ncalls': 27773.2}\n",
      "{'n_experiments': 5, 'fitness_fn': 'schwefel', 'population_scale': 500, 'mutation_scale': 0.5, 'N': 500, 'epochs': 500, 'mean_ncalls': 33449.6}\n"
     ]
    }
   ],
   "source": [
    "records = []\n",
    "\n",
    "for method in methods:\n",
    "    for function in functions:\n",
    "        log = log_file(method, function)\n",
    "        params = json_file(method, function)\n",
    "\n",
    "        with open(params, 'r') as f:\n",
    "            params = json.load(f)\n",
    "        log= pd.read_csv(log)\n",
    "\n",
    "        params['mean_fitness_fn_calls'] =  log.groupby('seed').first().mean()['ncalls']\n",
    "        params['median_best_fitness'] =  log.groupby('seed').first().mean()['ncalls']\n",
    "\n",
    "        print(params)"
   ]
  },
  {
   "cell_type": "code",
   "execution_count": null,
   "metadata": {},
   "outputs": [],
   "source": []
  }
 ],
 "metadata": {
  "kernelspec": {
   "display_name": "thesis",
   "language": "python",
   "name": "python3"
  },
  "language_info": {
   "codemirror_mode": {
    "name": "ipython",
    "version": 3
   },
   "file_extension": ".py",
   "mimetype": "text/x-python",
   "name": "python",
   "nbconvert_exporter": "python",
   "pygments_lexer": "ipython3",
   "version": "3.10.4"
  },
  "orig_nbformat": 4,
  "vscode": {
   "interpreter": {
    "hash": "1a78cde6364742d5eb3c1afb06f5d9ac27359d158d2fd799008b8978ac1916b2"
   }
  }
 },
 "nbformat": 4,
 "nbformat_minor": 2
}
