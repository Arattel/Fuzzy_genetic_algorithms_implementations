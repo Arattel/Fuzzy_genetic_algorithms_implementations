{
 "cells": [
  {
   "cell_type": "code",
   "execution_count": 1,
   "metadata": {},
   "outputs": [],
   "source": [
    "from typing import Union\n",
    "import os \n",
    "os.chdir('..')\n",
    "\n",
    "import numpy as np\n",
    "import faiss"
   ]
  },
  {
   "cell_type": "code",
   "execution_count": 2,
   "metadata": {},
   "outputs": [],
   "source": [
    "from src.elegant_fuzzy_genetic_algorithms.helpers.all_params_wrapper import AllEFGAParamsParallelWrapper\n",
    "from src.elegant_fuzzy_genetic_algorithms.helpers.cached_indexed_priority_wrapper import CachedPriorityWrapper"
   ]
  },
  {
   "cell_type": "code",
   "execution_count": 4,
   "metadata": {},
   "outputs": [],
   "source": [
    "def generate_search_space(n_splits: Union[tuple[int], int], ranges: list[tuple[float]]  = [(0, 1), (0, 1)]):\n",
    "    \"\"\"Generates space of all combinations of points in range\n",
    "\n",
    "    Args:\n",
    "        n_splits (Union[tuple[int], int]): Number of points for each range\n",
    "        ranges (list[tuple[float]], optional): Ranges. Defaults to [(0, 1), (0, 1)].\n",
    "\n",
    "    Returns:\n",
    "        _type_: Search space\n",
    "    \"\"\"\n",
    "\n",
    "    # Making it tuple\n",
    "    if isinstance(n_splits, int):\n",
    "        n_splits = (n_splits, n_splits)\n",
    "\n",
    "    \n",
    "    range_1 = np.linspace(start=ranges[0][0], stop=ranges[0][1], num=n_splits[0])\n",
    "    range_2 = np.linspace(start=ranges[1][0], stop=ranges[1][1], num=n_splits[1])\n",
    "\n",
    "    params_combinations = np.array(np.meshgrid(range_1, range_2)).T.reshape(-1, 2)\n",
    "\n",
    "    return params_combinations\n"
   ]
  },
  {
   "cell_type": "code",
   "execution_count": 5,
   "metadata": {},
   "outputs": [],
   "source": [
    "def init_param_index(params_combinations: np.array) -> faiss.Index:\n",
    "    \"\"\"Given combination of parameters creates Index object for faster search\n",
    "\n",
    "    Args:\n",
    "        params_combinations (np.array):  Search space\n",
    "\n",
    "    Returns:\n",
    "        faiss.Index: Faiss index object\n",
    "    \"\"\"\n",
    "    param_index = faiss.IndexFlatL2(params_combinations.shape[1])\n",
    "    param_index.add(params_combinations)\n",
    "    return param_index"
   ]
  },
  {
   "cell_type": "code",
   "execution_count": 47,
   "metadata": {},
   "outputs": [],
   "source": [
    "params_combinations = generate_search_space(100)\n",
    "param_index = init_param_index(params_combinations)"
   ]
  },
  {
   "cell_type": "code",
   "execution_count": 52,
   "metadata": {},
   "outputs": [],
   "source": [
    "# Max number of priorities to be calculated at once\n",
    "\n",
    "def calculate_priorities(params_combinations, n_terms_params, n_terms_priority, nmax: int = 1000):\n",
    "    \"\"\"Calculates priorities given parameter combinations\n",
    "\n",
    "    Args:\n",
    "        params_combinations (_type_): _description_\n",
    "        n_terms_params (_type_): _description_\n",
    "        n_terms_priority (_type_): _description_\n",
    "        nmax (int, optional): Max number of entries to be calculated at once. Defaults to 1000.\n",
    "\n",
    "    Returns:\n",
    "        _type_: _description_\n",
    "    \"\"\"\n",
    "    n_iterations: int = (params_combinations.shape[0] // nmax) + 1\n",
    "    priority_inferencer = AllEFGAParamsParallelWrapper(n_terms_params=n_terms_params, n_terms_priority=n_terms_priority)\n",
    "    \n",
    "    priorities_final = []\n",
    "    for i in range(n_iterations):\n",
    "        priorities_ = priority_inferencer.infer_priority(c1=params_combinations[i*nmax:(i + 1)* nmax, 0], \n",
    "                                                         c2=params_combinations[i*nmax:(i + 1)* nmax, 1])\n",
    "        priorities_final.append(priorities_)\n",
    "        \n",
    "    priorities_final  = np.concatenate(priorities_final)\n",
    "    return priorities_final\n"
   ]
  },
  {
   "cell_type": "code",
   "execution_count": 49,
   "metadata": {},
   "outputs": [],
   "source": [
    "y = calculate_priorities(params_combinations, n_terms_params=3, n_terms_priority=7)"
   ]
  },
  {
   "cell_type": "code",
   "execution_count": 70,
   "metadata": {},
   "outputs": [],
   "source": [
    "np.random.seed(42)\n",
    "ex1 = np.random.uniform(0, 1, size=(2, 2))\n",
    "D, I = param_index.search(ex1, k=1)"
   ]
  },
  {
   "cell_type": "code",
   "execution_count": 72,
   "metadata": {},
   "outputs": [
    {
     "data": {
      "text/plain": [
       "array([[[0.37373737, 0.94949495]],\n",
       "\n",
       "       [[0.72727273, 0.5959596 ]]])"
      ]
     },
     "execution_count": 72,
     "metadata": {},
     "output_type": "execute_result"
    }
   ],
   "source": [
    "params_combinations[I]"
   ]
  },
  {
   "cell_type": "code",
   "execution_count": 73,
   "metadata": {},
   "outputs": [
    {
     "data": {
      "text/plain": [
       "array([[0.37454012, 0.95071431],\n",
       "       [0.73199394, 0.59865848]])"
      ]
     },
     "execution_count": 73,
     "metadata": {},
     "output_type": "execute_result"
    }
   ],
   "source": [
    "ex1"
   ]
  },
  {
   "cell_type": "code",
   "execution_count": 74,
   "metadata": {},
   "outputs": [
    {
     "data": {
      "text/plain": [
       "array([[-0.32448131],\n",
       "       [-0.32610519]])"
      ]
     },
     "execution_count": 74,
     "metadata": {},
     "output_type": "execute_result"
    }
   ],
   "source": [
    "y[I]"
   ]
  },
  {
   "cell_type": "code",
   "execution_count": 76,
   "metadata": {},
   "outputs": [],
   "source": [
    "faiss.write_index(param_index, 'indices/test_ind.index')"
   ]
  },
  {
   "cell_type": "code",
   "execution_count": 77,
   "metadata": {},
   "outputs": [],
   "source": [
    "test_search = np.random.uniform(0, 1, size=(2000, 2))"
   ]
  },
  {
   "cell_type": "code",
   "execution_count": 79,
   "metadata": {},
   "outputs": [
    {
     "name": "stdout",
     "output_type": "stream",
     "text": [
      "55.9 ms ± 5.29 ms per loop (mean ± std. dev. of 7 runs, 10 loops each)\n"
     ]
    }
   ],
   "source": [
    "%%timeit\n",
    "D, I = param_index.search(test_search, k=1)\n",
    "estimations = y[I]"
   ]
  },
  {
   "cell_type": "code",
   "execution_count": 80,
   "metadata": {},
   "outputs": [],
   "source": [
    "priority_inferencer = AllEFGAParamsParallelWrapper(n_terms_params=3, n_terms_priority=7)"
   ]
  },
  {
   "cell_type": "code",
   "execution_count": 84,
   "metadata": {},
   "outputs": [
    {
     "name": "stdout",
     "output_type": "stream",
     "text": [
      "1.57 s ± 209 ms per loop (mean ± std. dev. of 7 runs, 1 loop each)\n"
     ]
    }
   ],
   "source": [
    "%%timeit \n",
    "priority_actual = priority_inferencer.infer_priority(test_search[:, 0], test_search[:, 1])"
   ]
  },
  {
   "cell_type": "code",
   "execution_count": 87,
   "metadata": {},
   "outputs": [],
   "source": [
    "priority_actual = priority_inferencer.infer_priority(test_search[:, 0], test_search[:, 1])"
   ]
  },
  {
   "cell_type": "code",
   "execution_count": 88,
   "metadata": {},
   "outputs": [],
   "source": [
    "D, I = param_index.search(test_search, k=1)\n",
    "estimations = y[I]"
   ]
  },
  {
   "cell_type": "code",
   "execution_count": 96,
   "metadata": {},
   "outputs": [
    {
     "data": {
      "text/plain": [
       "0.002955391677721686"
      ]
     },
     "execution_count": 96,
     "metadata": {},
     "output_type": "execute_result"
    }
   ],
   "source": [
    "np.median(np.abs(priority_actual -  estimations.ravel()))"
   ]
  },
  {
   "attachments": {},
   "cell_type": "markdown",
   "metadata": {},
   "source": [
    "~28 times faster in exchange for ~0.003 priority error"
   ]
  },
  {
   "cell_type": "code",
   "execution_count": 97,
   "metadata": {},
   "outputs": [],
   "source": [
    "def estimate_by_index(index: faiss.Index, y: np.array, query: np.array):\n",
    "    D, I = index.search(query, k=1)\n",
    "    estimations = y[I]\n",
    "    return estimations\n"
   ]
  },
  {
   "cell_type": "code",
   "execution_count": 3,
   "metadata": {},
   "outputs": [],
   "source": [
    "cw = CachedPriorityWrapper(7)"
   ]
  },
  {
   "cell_type": "code",
   "execution_count": 4,
   "metadata": {},
   "outputs": [
    {
     "data": {
      "text/plain": [
       "array([[0.0263354 ],\n",
       "       [0.5214763 ],\n",
       "       [0.74992265]])"
      ]
     },
     "execution_count": 4,
     "metadata": {},
     "output_type": "execute_result"
    }
   ],
   "source": [
    "cw.infer_priority(np.array([0, .2, .1]), np.array([.98, .27, .1]))"
   ]
  },
  {
   "cell_type": "code",
   "execution_count": null,
   "metadata": {},
   "outputs": [],
   "source": []
  }
 ],
 "metadata": {
  "kernelspec": {
   "display_name": "thesis",
   "language": "python",
   "name": "python3"
  },
  "language_info": {
   "codemirror_mode": {
    "name": "ipython",
    "version": 3
   },
   "file_extension": ".py",
   "mimetype": "text/x-python",
   "name": "python",
   "nbconvert_exporter": "python",
   "pygments_lexer": "ipython3",
   "version": "3.10.10"
  },
  "orig_nbformat": 4
 },
 "nbformat": 4,
 "nbformat_minor": 2
}
