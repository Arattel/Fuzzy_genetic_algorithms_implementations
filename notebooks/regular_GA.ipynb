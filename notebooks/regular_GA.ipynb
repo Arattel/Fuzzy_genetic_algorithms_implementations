{
 "cells": [
  {
   "cell_type": "code",
   "execution_count": 1,
   "metadata": {},
   "outputs": [],
   "source": [
    "import random\n",
    "import numpy as np\n",
    "import os\n",
    "from matplotlib import pyplot as plt"
   ]
  },
  {
   "cell_type": "code",
   "execution_count": 2,
   "metadata": {},
   "outputs": [],
   "source": [
    "os.chdir('..')"
   ]
  },
  {
   "cell_type": "code",
   "execution_count": 9,
   "metadata": {},
   "outputs": [],
   "source": [
    "from src.standard_ga.simulation import GA\n",
    "from src.common.fitness import griewank, schwefel"
   ]
  },
  {
   "cell_type": "code",
   "execution_count": 4,
   "metadata": {},
   "outputs": [],
   "source": [
    "ga = GA(fitness_fn=griewank, mutation_scale=.2)\n",
    "solution, history = ga.run(100, population_size=200, seed=1)"
   ]
  },
  {
   "cell_type": "code",
   "execution_count": 7,
   "metadata": {},
   "outputs": [],
   "source": [
    "scales = {\n",
    "    'schwefel': (500, .5), \n",
    "    'rastrigin': (5.12, .05), \n",
    "    'griewank': (600, .2), \n",
    "    'ackley': (32, .05)\n",
    "}"
   ]
  },
  {
   "cell_type": "code",
   "execution_count": 5,
   "metadata": {},
   "outputs": [
    {
     "data": {
      "text/html": [
       "<div>\n",
       "<style scoped>\n",
       "    .dataframe tbody tr th:only-of-type {\n",
       "        vertical-align: middle;\n",
       "    }\n",
       "\n",
       "    .dataframe tbody tr th {\n",
       "        vertical-align: top;\n",
       "    }\n",
       "\n",
       "    .dataframe thead th {\n",
       "        text-align: right;\n",
       "    }\n",
       "</style>\n",
       "<table border=\"1\" class=\"dataframe\">\n",
       "  <thead>\n",
       "    <tr style=\"text-align: right;\">\n",
       "      <th></th>\n",
       "      <th>best_fitness</th>\n",
       "      <th>avg_fitness</th>\n",
       "      <th>epoch</th>\n",
       "      <th>ncalls</th>\n",
       "      <th>seed</th>\n",
       "    </tr>\n",
       "  </thead>\n",
       "  <tbody>\n",
       "    <tr>\n",
       "      <th>0</th>\n",
       "      <td>31.576774</td>\n",
       "      <td>150.673448</td>\n",
       "      <td>0</td>\n",
       "      <td>200</td>\n",
       "      <td>1</td>\n",
       "    </tr>\n",
       "    <tr>\n",
       "      <th>1</th>\n",
       "      <td>4.705215</td>\n",
       "      <td>64.793542</td>\n",
       "      <td>1</td>\n",
       "      <td>520</td>\n",
       "      <td>1</td>\n",
       "    </tr>\n",
       "    <tr>\n",
       "      <th>2</th>\n",
       "      <td>3.246737</td>\n",
       "      <td>23.668445</td>\n",
       "      <td>2</td>\n",
       "      <td>840</td>\n",
       "      <td>1</td>\n",
       "    </tr>\n",
       "    <tr>\n",
       "      <th>3</th>\n",
       "      <td>3.035715</td>\n",
       "      <td>7.519120</td>\n",
       "      <td>3</td>\n",
       "      <td>1160</td>\n",
       "      <td>1</td>\n",
       "    </tr>\n",
       "    <tr>\n",
       "      <th>4</th>\n",
       "      <td>1.684446</td>\n",
       "      <td>3.794556</td>\n",
       "      <td>4</td>\n",
       "      <td>1480</td>\n",
       "      <td>1</td>\n",
       "    </tr>\n",
       "    <tr>\n",
       "      <th>...</th>\n",
       "      <td>...</td>\n",
       "      <td>...</td>\n",
       "      <td>...</td>\n",
       "      <td>...</td>\n",
       "      <td>...</td>\n",
       "    </tr>\n",
       "    <tr>\n",
       "      <th>95</th>\n",
       "      <td>0.544669</td>\n",
       "      <td>0.799791</td>\n",
       "      <td>95</td>\n",
       "      <td>30600</td>\n",
       "      <td>1</td>\n",
       "    </tr>\n",
       "    <tr>\n",
       "      <th>96</th>\n",
       "      <td>0.544669</td>\n",
       "      <td>0.801863</td>\n",
       "      <td>96</td>\n",
       "      <td>30920</td>\n",
       "      <td>1</td>\n",
       "    </tr>\n",
       "    <tr>\n",
       "      <th>97</th>\n",
       "      <td>0.544669</td>\n",
       "      <td>0.766253</td>\n",
       "      <td>97</td>\n",
       "      <td>31240</td>\n",
       "      <td>1</td>\n",
       "    </tr>\n",
       "    <tr>\n",
       "      <th>98</th>\n",
       "      <td>0.544669</td>\n",
       "      <td>0.741399</td>\n",
       "      <td>98</td>\n",
       "      <td>31560</td>\n",
       "      <td>1</td>\n",
       "    </tr>\n",
       "    <tr>\n",
       "      <th>99</th>\n",
       "      <td>0.544669</td>\n",
       "      <td>0.792847</td>\n",
       "      <td>99</td>\n",
       "      <td>31880</td>\n",
       "      <td>1</td>\n",
       "    </tr>\n",
       "  </tbody>\n",
       "</table>\n",
       "<p>100 rows × 5 columns</p>\n",
       "</div>"
      ],
      "text/plain": [
       "    best_fitness  avg_fitness  epoch  ncalls  seed\n",
       "0      31.576774   150.673448      0     200     1\n",
       "1       4.705215    64.793542      1     520     1\n",
       "2       3.246737    23.668445      2     840     1\n",
       "3       3.035715     7.519120      3    1160     1\n",
       "4       1.684446     3.794556      4    1480     1\n",
       "..           ...          ...    ...     ...   ...\n",
       "95      0.544669     0.799791     95   30600     1\n",
       "96      0.544669     0.801863     96   30920     1\n",
       "97      0.544669     0.766253     97   31240     1\n",
       "98      0.544669     0.741399     98   31560     1\n",
       "99      0.544669     0.792847     99   31880     1\n",
       "\n",
       "[100 rows x 5 columns]"
      ]
     },
     "execution_count": 5,
     "metadata": {},
     "output_type": "execute_result"
    }
   ],
   "source": [
    "history"
   ]
  },
  {
   "cell_type": "code",
   "execution_count": 6,
   "metadata": {},
   "outputs": [
    {
     "data": {
      "text/plain": [
       "[<matplotlib.lines.Line2D at 0x7fb2d84bde70>]"
      ]
     },
     "execution_count": 6,
     "metadata": {},
     "output_type": "execute_result"
    },
    {
     "data": {
      "image/png": "[encoded data removed]",
      "text/plain": [
       "<Figure size 432x288 with 1 Axes>"
      ]
     },
     "metadata": {
      "needs_background": "light"
     },
     "output_type": "display_data"
    }
   ],
   "source": [
    "plt.plot(history.avg_fitness)"
   ]
  },
  {
   "cell_type": "code",
   "execution_count": 10,
   "metadata": {},
   "outputs": [
    {
     "name": "stdout",
     "output_type": "stream",
     "text": [
      "Epoch: 0, Min griewank_function: 791.4611568975361\n",
      "Epoch: 1, Min griewank_function: 645.2311946315463\n",
      "Epoch: 2, Min griewank_function: 502.3191908863382\n",
      "Epoch: 3, Min griewank_function: 245.70483965116114\n",
      "Epoch: 4, Min griewank_function: 210.99537716850637\n",
      "Epoch: 5, Min griewank_function: 192.3163829296343\n",
      "Epoch: 6, Min griewank_function: 182.4867412552885\n",
      "Epoch: 7, Min griewank_function: 181.56724515635165\n",
      "Epoch: 8, Min griewank_function: 179.86749053011795\n",
      "Epoch: 9, Min griewank_function: 178.78484173010247\n",
      "Epoch: 10, Min griewank_function: 178.6418400852715\n",
      "Epoch: 11, Min griewank_function: 178.61692247803558\n",
      "Epoch: 12, Min griewank_function: 178.59081722569545\n",
      "Epoch: 13, Min griewank_function: 178.58054753652482\n",
      "Epoch: 14, Min griewank_function: 178.5796695228105\n",
      "Epoch: 15, Min griewank_function: 178.57450576453812\n",
      "Epoch: 16, Min griewank_function: 178.5717757072639\n",
      "Epoch: 17, Min griewank_function: 178.57039914444022\n",
      "Epoch: 18, Min griewank_function: 178.57020439242092\n",
      "Epoch: 19, Min griewank_function: 178.57001573504112\n",
      "Epoch: 20, Min griewank_function: 178.5700074577594\n",
      "Epoch: 21, Min griewank_function: 178.56925647172488\n",
      "Epoch: 22, Min griewank_function: 178.5689818253311\n",
      "Epoch: 23, Min griewank_function: 178.56880747267905\n",
      "Epoch: 24, Min griewank_function: 178.56820084228593\n",
      "Epoch: 25, Min griewank_function: 178.56810427869368\n",
      "Epoch: 26, Min griewank_function: 178.56803287230832\n",
      "Epoch: 27, Min griewank_function: 178.56803287230832\n",
      "Epoch: 28, Min griewank_function: 178.56795829309613\n",
      "Epoch: 29, Min griewank_function: 178.56781384523993\n",
      "Epoch: 30, Min griewank_function: 178.56738107495858\n",
      "Epoch: 31, Min griewank_function: 178.56738107495858\n",
      "Epoch: 32, Min griewank_function: 178.56730923058103\n",
      "Epoch: 33, Min griewank_function: 178.5671851686625\n",
      "Epoch: 34, Min griewank_function: 178.56717874789683\n",
      "Epoch: 35, Min griewank_function: 178.56717874789683\n",
      "Epoch: 36, Min griewank_function: 178.56717233812742\n",
      "Epoch: 37, Min griewank_function: 178.56716852920408\n",
      "Epoch: 38, Min griewank_function: 178.56716803342488\n",
      "Epoch: 39, Min griewank_function: 178.56716803342488\n",
      "Epoch: 40, Min griewank_function: 178.56716803342488\n",
      "Epoch: 41, Min griewank_function: 178.56716803342488\n",
      "Epoch: 42, Min griewank_function: 178.56715606202943\n",
      "Epoch: 43, Min griewank_function: 178.56702355119342\n",
      "Epoch: 44, Min griewank_function: 178.56701112020664\n",
      "Epoch: 45, Min griewank_function: 178.56701112020664\n",
      "Epoch: 46, Min griewank_function: 178.56701112020664\n",
      "Epoch: 47, Min griewank_function: 178.56701112020664\n",
      "Epoch: 48, Min griewank_function: 178.56701112020664\n",
      "Epoch: 49, Min griewank_function: 178.56701112020664\n",
      "Epoch: 50, Min griewank_function: 178.56701112020664\n",
      "Epoch: 51, Min griewank_function: 178.56701112020664\n",
      "Epoch: 52, Min griewank_function: 178.56701112020664\n",
      "Epoch: 53, Min griewank_function: 178.56701112020664\n",
      "Epoch: 54, Min griewank_function: 178.56701112020664\n",
      "Epoch: 55, Min griewank_function: 178.56701112020664\n",
      "Epoch: 56, Min griewank_function: 178.56701112020664\n",
      "Epoch: 57, Min griewank_function: 178.56701112020664\n",
      "Epoch: 58, Min griewank_function: 178.56701112020664\n",
      "Epoch: 59, Min griewank_function: 178.56701112020664\n",
      "Epoch: 60, Min griewank_function: 178.56701112020664\n",
      "Epoch: 61, Min griewank_function: 178.56701112020664\n",
      "Epoch: 62, Min griewank_function: 178.56701112020664\n",
      "Epoch: 63, Min griewank_function: 178.56701112020664\n",
      "Epoch: 64, Min griewank_function: 178.56700070357533\n",
      "Epoch: 65, Min griewank_function: 178.56698573668268\n",
      "Epoch: 66, Min griewank_function: 178.56698487464269\n",
      "Epoch: 67, Min griewank_function: 178.56698487464269\n",
      "Epoch: 68, Min griewank_function: 178.56698487464269\n",
      "Epoch: 69, Min griewank_function: 178.56698487464269\n",
      "Epoch: 70, Min griewank_function: 178.56698487464269\n",
      "Epoch: 71, Min griewank_function: 178.56698487464269\n",
      "Epoch: 72, Min griewank_function: 178.56698487464269\n",
      "Epoch: 73, Min griewank_function: 178.56698487464269\n",
      "Epoch: 74, Min griewank_function: 178.56698487464269\n",
      "Epoch: 75, Min griewank_function: 178.56698487464269\n",
      "Epoch: 76, Min griewank_function: 178.56698487464269\n",
      "Epoch: 77, Min griewank_function: 178.56698487464269\n",
      "Epoch: 78, Min griewank_function: 178.56698487464269\n",
      "Epoch: 79, Min griewank_function: 178.56698487464269\n",
      "Epoch: 80, Min griewank_function: 178.56698487464269\n",
      "Epoch: 81, Min griewank_function: 178.56698487464269\n",
      "Epoch: 82, Min griewank_function: 178.56698487464269\n",
      "Epoch: 83, Min griewank_function: 178.56698487464269\n",
      "Epoch: 84, Min griewank_function: 178.56698487464269\n",
      "Epoch: 85, Min griewank_function: 178.56698487464269\n",
      "Epoch: 86, Min griewank_function: 178.56698487464269\n",
      "Epoch: 87, Min griewank_function: 178.56698487464269\n",
      "Epoch: 88, Min griewank_function: 178.56698487464269\n",
      "Epoch: 89, Min griewank_function: 178.56698487464269\n",
      "Epoch: 90, Min griewank_function: 178.5669840189105\n",
      "Epoch: 91, Min griewank_function: 178.56698242174411\n",
      "Epoch: 92, Min griewank_function: 178.56698241298386\n",
      "Epoch: 93, Min griewank_function: 178.56698241298386\n",
      "Epoch: 94, Min griewank_function: 178.56698241298386\n",
      "Epoch: 95, Min griewank_function: 178.56698241298386\n",
      "Epoch: 96, Min griewank_function: 178.56698241298386\n",
      "Epoch: 97, Min griewank_function: 178.56698241298386\n",
      "Epoch: 98, Min griewank_function: 178.56698241298386\n",
      "Epoch: 99, Min griewank_function: 178.56698241298386\n"
     ]
    }
   ],
   "source": [
    "ga = GA(fitness_fn=schwefel, mutation_scale=scales['schwefel'][1], population_scale=scales['schwefel'][0])\n",
    "solution, history = ga.run(100, population_size=200, seed=1, verbose=True)"
   ]
  }
 ],
 "metadata": {
  "kernelspec": {
   "display_name": "thesis",
   "language": "python",
   "name": "python3"
  },
  "language_info": {
   "codemirror_mode": {
    "name": "ipython",
    "version": 3
   },
   "file_extension": ".py",
   "mimetype": "text/x-python",
   "name": "python",
   "nbconvert_exporter": "python",
   "pygments_lexer": "ipython3",
   "version": "3.10.10"
  },
  "orig_nbformat": 4
 },
 "nbformat": 4,
 "nbformat_minor": 2
}
