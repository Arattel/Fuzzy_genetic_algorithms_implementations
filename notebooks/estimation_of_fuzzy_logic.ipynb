{
 "cells": [
  {
   "cell_type": "code",
   "execution_count": 1,
   "metadata": {},
   "outputs": [],
   "source": [
    "import os\n",
    "os.chdir('..')"
   ]
  },
  {
   "cell_type": "code",
   "execution_count": 2,
   "metadata": {},
   "outputs": [],
   "source": [
    "import numpy as np\n",
    "from scipy.spatial import distance_matrix\n",
    "import scipy.stats as st\n",
    "import faiss\n",
    "from tqdm import tqdm\n",
    "\n",
    "\n",
    "from src.common.scales import scales\n",
    "from src.common.utils import generate_population, mutation, crossover\n",
    "from src.common.fitness import (griewank, schwefel, ackley, rastrigin)\n",
    "from src.elegant_fuzzy_genetic_algorithms.helpers.all_params_wrapper import AllEFGAParamsParallelWrapper\n",
    "from src.elegant_fuzzy_genetic_algorithms.priority_diff_simulation import simulation_priorities\n",
    "from src.common.approximation_helpers import (generate_search_space, init_param_index, estimate_by_index)\n",
    "from src.gendered_selection.faster_fuzzy_logic.generalized_partition_inferrer import GeneralizedInferrer\n",
    "from src.gendered_selection.age_diff_estimator import Simulation as AgeDiffSimulation\n",
    "from src.gendered_selection.conf.gendered_selection_config import Config as GenderedSelectionConfig\n",
    "\n",
    "\n",
    "np.random.seed(1)"
   ]
  },
  {
   "attachments": {},
   "cell_type": "markdown",
   "metadata": {},
   "source": [
    "Given that 90+% of time spent running fuzzy genetic algorithms is spent on using fuzzy logic, the idea is to make an approximation using nearest neighbors. "
   ]
  },
  {
   "attachments": {},
   "cell_type": "markdown",
   "metadata": {},
   "source": [
    "## Priority estimation (EFGA)"
   ]
  },
  {
   "attachments": {},
   "cell_type": "markdown",
   "metadata": {},
   "source": [
    "### Getting the error confidence interval"
   ]
  },
  {
   "cell_type": "code",
   "execution_count": 20,
   "metadata": {},
   "outputs": [],
   "source": [
    "priority_inferencer = AllEFGAParamsParallelWrapper(n_terms_params=3, n_terms_priority=7, use_approx=False)"
   ]
  },
  {
   "cell_type": "code",
   "execution_count": 21,
   "metadata": {},
   "outputs": [],
   "source": [
    "c1_range = np.linspace(start=0, stop=1, num=70)\n",
    "c2_range = np.linspace(start=0, stop=1, num=70)"
   ]
  },
  {
   "cell_type": "code",
   "execution_count": 22,
   "metadata": {},
   "outputs": [],
   "source": [
    "params_combinations = np.array(np.meshgrid(c1_range, c2_range)).T.reshape(-1, 2)\n",
    "priorities = priority_inferencer.infer_priority(c1=params_combinations[:, 0], c2=params_combinations[:, 1])"
   ]
  },
  {
   "cell_type": "code",
   "execution_count": 23,
   "metadata": {},
   "outputs": [],
   "source": [
    "entries = np.random.uniform(0, 1, size=(200, 2))"
   ]
  },
  {
   "cell_type": "code",
   "execution_count": 24,
   "metadata": {},
   "outputs": [],
   "source": [
    "params_ind = init_param_index(params_combinations, approx_inf=True)\n",
    "D, I = params_ind.search(entries, 1)"
   ]
  },
  {
   "cell_type": "code",
   "execution_count": 18,
   "metadata": {},
   "outputs": [
    {
     "data": {
      "text/plain": [
       "array([[-7.32840033e-01],\n",
       "       [ 2.39626746e-01],\n",
       "       [-3.85676711e-01],\n",
       "       [ 5.10860225e-01],\n",
       "       [ 4.84343095e-01],\n",
       "       [ 2.77913890e-01],\n",
       "       [-4.95247867e-01],\n",
       "       [-1.13012749e-01],\n",
       "       [-2.71460925e-01],\n",
       "       [-4.43611228e-01],\n",
       "       [ 7.61964131e-01],\n",
       "       [ 8.41058728e-01],\n",
       "       [ 4.64187243e-01],\n",
       "       [ 2.04538238e-01],\n",
       "       [-1.56245434e-01],\n",
       "       [ 1.31142563e-01],\n",
       "       [ 7.61646792e-02],\n",
       "       [-1.95521368e-01],\n",
       "       [ 4.40670139e-02],\n",
       "       [ 1.17566214e-01],\n",
       "       [ 3.65601423e-01],\n",
       "       [ 4.57940571e-01],\n",
       "       [-7.95062769e-01],\n",
       "       [-6.98840472e-01],\n",
       "       [ 6.98525604e-01],\n",
       "       [ 1.81633154e-01],\n",
       "       [-8.32505681e-01],\n",
       "       [-4.52743009e-01],\n",
       "       [-3.20664231e-01],\n",
       "       [ 5.80963199e-01],\n",
       "       [ 9.85408271e-02],\n",
       "       [ 6.02256435e-01],\n",
       "       [-1.19599802e-01],\n",
       "       [-2.44776694e-01],\n",
       "       [ 1.39029247e-01],\n",
       "       [-2.95636576e-01],\n",
       "       [ 6.13288314e-02],\n",
       "       [ 2.64518622e-02],\n",
       "       [-6.16206794e-01],\n",
       "       [ 4.20170912e-01],\n",
       "       [-1.84865858e-01],\n",
       "       [-2.77913890e-01],\n",
       "       [-5.03215083e-02],\n",
       "       [ 6.99865387e-01],\n",
       "       [ 1.29400213e-01],\n",
       "       [-4.60844689e-01],\n",
       "       [ 3.33391783e-01],\n",
       "       [-2.98842524e-01],\n",
       "       [-7.68547902e-01],\n",
       "       [-1.50997871e-01],\n",
       "       [ 6.73462935e-01],\n",
       "       [ 5.06403415e-01],\n",
       "       [-1.95333424e-02],\n",
       "       [-3.23437243e-16],\n",
       "       [ 3.73424016e-02],\n",
       "       [ 7.38338516e-02],\n",
       "       [ 6.92306820e-01],\n",
       "       [-1.59570136e-01],\n",
       "       [ 2.91892622e-01],\n",
       "       [-5.69159674e-01],\n",
       "       [-3.91002498e-01],\n",
       "       [-8.04269936e-01],\n",
       "       [ 3.66675677e-01],\n",
       "       [ 7.72616391e-01],\n",
       "       [ 1.79247099e-01],\n",
       "       [-1.37058605e-01],\n",
       "       [-7.22086110e-01],\n",
       "       [-4.53229860e-01],\n",
       "       [-1.34970979e-01],\n",
       "       [ 6.31366127e-01],\n",
       "       [-2.24267920e-01],\n",
       "       [ 9.72692734e-02],\n",
       "       [ 8.21850454e-01],\n",
       "       [-7.38338516e-02],\n",
       "       [-2.13251092e-01],\n",
       "       [ 1.34970979e-01],\n",
       "       [-2.09441874e-01],\n",
       "       [ 5.61082025e-01],\n",
       "       [-1.73898030e-01],\n",
       "       [ 1.17566214e-01],\n",
       "       [ 4.20170912e-01],\n",
       "       [ 1.84865858e-01],\n",
       "       [-3.47087271e-01],\n",
       "       [-3.47497818e-01],\n",
       "       [ 3.70331239e-01],\n",
       "       [-3.33075436e-01],\n",
       "       [-4.74859776e-01],\n",
       "       [-2.43798883e-01],\n",
       "       [ 1.63310320e-01],\n",
       "       [-1.39357099e-02],\n",
       "       [-7.61646792e-02],\n",
       "       [-3.73424016e-02],\n",
       "       [-1.88522216e-01],\n",
       "       [-1.49675055e-01],\n",
       "       [ 7.57104508e-03],\n",
       "       [-3.38734332e-02],\n",
       "       [ 2.68724584e-02],\n",
       "       [ 5.56143625e-01],\n",
       "       [ 4.85354944e-01],\n",
       "       [ 8.02336533e-01],\n",
       "       [-4.57940571e-01],\n",
       "       [ 6.73462935e-01],\n",
       "       [-1.24240989e-01],\n",
       "       [-2.82693185e-01],\n",
       "       [-1.37058605e-01],\n",
       "       [-3.52195317e-01],\n",
       "       [-1.81633154e-01],\n",
       "       [-7.59618493e-02],\n",
       "       [ 6.31649672e-01],\n",
       "       [ 1.63524182e-01],\n",
       "       [ 1.34988962e-01],\n",
       "       [ 1.72459750e-01],\n",
       "       [ 1.41794210e-02],\n",
       "       [-3.45192032e-01],\n",
       "       [-2.18558894e-01],\n",
       "       [-1.64296296e-02],\n",
       "       [-3.52904407e-01],\n",
       "       [ 1.63086959e-01],\n",
       "       [-4.21126584e-02],\n",
       "       [ 3.06729521e-01],\n",
       "       [ 6.38354464e-03],\n",
       "       [ 6.63938699e-02],\n",
       "       [ 3.85486296e-01],\n",
       "       [ 7.12532289e-01],\n",
       "       [ 2.32744382e-01],\n",
       "       [ 5.54585431e-01],\n",
       "       [ 1.37089976e-01],\n",
       "       [-1.60278970e-01],\n",
       "       [ 3.77281206e-01],\n",
       "       [ 2.74038360e-02],\n",
       "       [-2.87467711e-01],\n",
       "       [ 3.05351397e-01],\n",
       "       [ 1.41794210e-02],\n",
       "       [ 9.31219063e-02],\n",
       "       [ 1.06118873e-01],\n",
       "       [-4.39020244e-01],\n",
       "       [-1.70452690e-01],\n",
       "       [-6.99865387e-01],\n",
       "       [ 7.31452098e-01],\n",
       "       [-7.61964131e-01],\n",
       "       [-2.68310096e-01],\n",
       "       [-4.87648053e-01],\n",
       "       [-1.46687961e-01],\n",
       "       [-3.52904407e-01],\n",
       "       [-1.15374638e-01],\n",
       "       [ 2.35781351e-01],\n",
       "       [-1.50997871e-01],\n",
       "       [ 6.66630714e-01],\n",
       "       [-1.89345044e-01],\n",
       "       [ 1.71148719e-01],\n",
       "       [ 5.87785290e-01],\n",
       "       [ 8.19392576e-02],\n",
       "       [ 1.10852489e-01],\n",
       "       [-2.48553230e-01],\n",
       "       [-3.63377634e-02],\n",
       "       [ 3.16108664e-01],\n",
       "       [ 6.56570494e-02],\n",
       "       [-3.33369286e-01],\n",
       "       [-2.22746975e-01],\n",
       "       [ 2.26497363e-01],\n",
       "       [-3.40031864e-01],\n",
       "       [-3.58864286e-01],\n",
       "       [-1.97402949e-16],\n",
       "       [ 8.50811058e-02],\n",
       "       [-5.10089467e-01],\n",
       "       [ 2.57782389e-01],\n",
       "       [-1.12745159e-01],\n",
       "       [-2.56801143e-01],\n",
       "       [-5.47256991e-01],\n",
       "       [ 1.41316988e-01],\n",
       "       [-5.83329621e-02],\n",
       "       [-2.52817044e-01],\n",
       "       [ 1.60278970e-01],\n",
       "       [-2.97340765e-01],\n",
       "       [-4.61970562e-02],\n",
       "       [ 4.17518449e-01],\n",
       "       [-7.72616391e-01],\n",
       "       [-3.57660617e-01],\n",
       "       [-1.04767474e-01],\n",
       "       [ 9.31219063e-02],\n",
       "       [-1.61788837e-01],\n",
       "       [ 6.22718794e-01],\n",
       "       [ 8.20313343e-01],\n",
       "       [-2.89294164e-01],\n",
       "       [-2.79929193e-01],\n",
       "       [-4.95247867e-01],\n",
       "       [-1.77609226e-01],\n",
       "       [ 1.74203209e-01],\n",
       "       [ 5.06403415e-01],\n",
       "       [ 3.45192032e-01],\n",
       "       [-3.66675677e-01],\n",
       "       [-2.98022915e-01],\n",
       "       [-9.64062917e-03],\n",
       "       [-4.85354944e-01],\n",
       "       [-3.23978828e-02],\n",
       "       [ 1.97247565e-01],\n",
       "       [-3.70282572e-02],\n",
       "       [-6.44453782e-02],\n",
       "       [ 1.53957124e-01],\n",
       "       [-3.57660617e-01]])"
      ]
     },
     "execution_count": 18,
     "metadata": {},
     "output_type": "execute_result"
    }
   ],
   "source": [
    "priorities[I.ravel()]"
   ]
  },
  {
   "cell_type": "code",
   "execution_count": 28,
   "metadata": {},
   "outputs": [],
   "source": [
    "priorities_est = priorities[I].ravel()\n",
    "priorities_actual =  priority_inferencer.infer_priority(c1=entries[:, 0], c2=entries[:, 1])"
   ]
  },
  {
   "cell_type": "code",
   "execution_count": 30,
   "metadata": {},
   "outputs": [],
   "source": [
    "diff = np.abs(priorities_est - priorities_actual)"
   ]
  },
  {
   "cell_type": "code",
   "execution_count": 32,
   "metadata": {},
   "outputs": [
    {
     "data": {
      "text/plain": [
       "(0.0050007552921728865, 0.006088810387731133)"
      ]
     },
     "execution_count": 32,
     "metadata": {},
     "output_type": "execute_result"
    }
   ],
   "source": [
    "conf_int = st.t.interval(alpha=0.95, df=len(diff)-1, loc=np.mean(diff), scale=st.sem(diff)) \n",
    "conf_int"
   ]
  },
  {
   "attachments": {},
   "cell_type": "markdown",
   "metadata": {},
   "source": [
    "We know the 95% confidence interval of the priority estimation error. If we prove that it's smaller than 95% of differences between the current priority and next best, then usage of this estimation is appropriate. "
   ]
  },
  {
   "attachments": {},
   "cell_type": "markdown",
   "metadata": {},
   "source": [
    "### Estimating priority difference"
   ]
  },
  {
   "cell_type": "code",
   "execution_count": 33,
   "metadata": {},
   "outputs": [
    {
     "name": "stderr",
     "output_type": "stream",
     "text": [
      "100%|██████████| 200/200 [00:22<00:00,  9.05it/s]\n",
      "100%|██████████| 200/200 [00:24<00:00,  8.04it/s]\n",
      "100%|██████████| 200/200 [00:24<00:00,  8.20it/s]\n",
      "100%|██████████| 200/200 [00:20<00:00,  9.76it/s]\n"
     ]
    }
   ],
   "source": [
    "priorities = []\n",
    "\n",
    "for fn in [griewank, schwefel, rastrigin, ackley]:\n",
    "    fn_name = fn.__name__\n",
    "    priorities_ = simulation_priorities(N=100, epochs=200, fitness_fn=fn, population_scale=scales[fn_name][0], \n",
    "                      mutation_scale=scales[fn_name][1], seed=1)\n",
    "    priorities.append(priorities_)"
   ]
  },
  {
   "cell_type": "code",
   "execution_count": 34,
   "metadata": {},
   "outputs": [],
   "source": [
    "priorities_mtr = np.array(priorities)\n",
    "priorities_mtr = np.sort(priorities_mtr, axis=1)\n",
    "priority_difference_mtr = np.diff(priorities_mtr, axis=1)\n",
    "priority_difference =  priority_difference_mtr.ravel()"
   ]
  },
  {
   "cell_type": "code",
   "execution_count": 35,
   "metadata": {},
   "outputs": [],
   "source": [
    "conf_int_actual_diff = st.t.interval(alpha=0.95, df=len(priority_difference)-1, loc=np.mean(priority_difference), scale=st.sem(priority_difference)) "
   ]
  },
  {
   "cell_type": "code",
   "execution_count": 36,
   "metadata": {},
   "outputs": [
    {
     "data": {
      "text/plain": [
       "((0.026625617917013247, 0.027913588650583764),\n",
       " (0.0050007552921728865, 0.006088810387731133))"
      ]
     },
     "execution_count": 36,
     "metadata": {},
     "output_type": "execute_result"
    }
   ],
   "source": [
    "conf_int_actual_diff, conf_int"
   ]
  },
  {
   "cell_type": "code",
   "execution_count": 37,
   "metadata": {},
   "outputs": [],
   "source": [
    "first_second_diff = np.abs(np.diff(priority_difference_mtr[:, :2], axis=1).ravel())\n",
    "conf_int_first_second = st.t.interval(alpha=0.95, df=len(first_second_diff)-1, loc=np.mean(first_second_diff), scale=st.sem(first_second_diff)) "
   ]
  },
  {
   "cell_type": "code",
   "execution_count": 38,
   "metadata": {},
   "outputs": [
    {
     "data": {
      "text/plain": [
       "(0.05903070832699521, 0.09724286275938558)"
      ]
     },
     "execution_count": 38,
     "metadata": {},
     "output_type": "execute_result"
    }
   ],
   "source": [
    "conf_int_first_second"
   ]
  },
  {
   "attachments": {},
   "cell_type": "markdown",
   "metadata": {},
   "source": [
    "### Conclusion"
   ]
  },
  {
   "attachments": {},
   "cell_type": "markdown",
   "metadata": {},
   "source": [
    "Provided that the actual difference between first and second entry, as well as difference is much bigger than actual errror of approximation (even in the worst case the error is 10 times smaller), we can successfully use approximation techniques. "
   ]
  },
  {
   "attachments": {},
   "cell_type": "markdown",
   "metadata": {},
   "source": [
    "## Partner age estimation (Gendered selection)"
   ]
  },
  {
   "attachments": {},
   "cell_type": "markdown",
   "metadata": {},
   "source": [
    "### Getting actual error for age estimation"
   ]
  },
  {
   "cell_type": "code",
   "execution_count": 40,
   "metadata": {},
   "outputs": [],
   "source": [
    "params_combinations = generate_search_space(n_splits=200, ranges=[(0, 1), (0, 10)])\n",
    "gi = GeneralizedInferrer(7)"
   ]
  },
  {
   "cell_type": "code",
   "execution_count": 41,
   "metadata": {},
   "outputs": [
    {
     "name": "stderr",
     "output_type": "stream",
     "text": [
      "100%|██████████| 40000/40000 [03:44<00:00, 178.01it/s]\n"
     ]
    }
   ],
   "source": [
    "y = [gi.infer_partner_age(*params_combinations[i, :]) for i in tqdm(range(params_combinations.shape[0]))]"
   ]
  },
  {
   "cell_type": "code",
   "execution_count": 42,
   "metadata": {},
   "outputs": [],
   "source": [
    "y = np.array(y)"
   ]
  },
  {
   "cell_type": "code",
   "execution_count": 43,
   "metadata": {},
   "outputs": [
    {
     "name": "stderr",
     "output_type": "stream",
     "text": [
      "100%|██████████| 200/200 [00:01<00:00, 180.72it/s]\n"
     ]
    }
   ],
   "source": [
    "entries_test = np.hstack([np.random.uniform(0, 1, size=(200, 1)), np.random.uniform(0, 10, size=(200, 1))])\n",
    "# age_est = y[np.argmin(distance_matrix(entries_test, params_combinations), axis=1)]\n",
    "age_actual = np.array([gi.infer_partner_age(*entries_test[i, :]) for i in tqdm(range(entries_test.shape[0]))])"
   ]
  },
  {
   "cell_type": "code",
   "execution_count": 44,
   "metadata": {},
   "outputs": [],
   "source": [
    "params_ind = init_param_index(params_combinations, approx_inf=True)\n",
    "D, I = params_ind.search(entries_test, 1)\n",
    "age_est = y[I.ravel()]"
   ]
  },
  {
   "cell_type": "code",
   "execution_count": 45,
   "metadata": {},
   "outputs": [
    {
     "data": {
      "text/plain": [
       "(0.0008273533625253398, 0.0011571999001171419)"
      ]
     },
     "execution_count": 45,
     "metadata": {},
     "output_type": "execute_result"
    }
   ],
   "source": [
    "diff = np.abs(age_est - age_actual)\n",
    "conf_int_age_error = st.t.interval(alpha=0.95, df=len(diff)-1, loc=np.mean(diff), scale=st.sem(diff)) \n",
    "conf_int_age_error"
   ]
  },
  {
   "attachments": {},
   "cell_type": "markdown",
   "metadata": {},
   "source": [
    "### Estimating confidence intervals for age difference for females"
   ]
  },
  {
   "cell_type": "code",
   "execution_count": 46,
   "metadata": {},
   "outputs": [
    {
     "name": "stderr",
     "output_type": "stream",
     "text": [
      "  0%|          | 1/200 [00:00<00:20,  9.84it/s]"
     ]
    },
    {
     "name": "stdout",
     "output_type": "stream",
     "text": [
      "[-249.35633071 -246.12872579 -245.56878051 -219.57428921 -219.41105259\n",
      " -218.75044051 -213.22218905 -210.92547902 -209.88358201 -201.62965166]\n"
     ]
    },
    {
     "name": "stderr",
     "output_type": "stream",
     "text": [
      " 67%|██████▋   | 134/200 [00:13<00:06,  9.79it/s]\n"
     ]
    },
    {
     "name": "stdout",
     "output_type": "stream",
     "text": [
      "Early stopping at epoch: 134, population died\n"
     ]
    },
    {
     "name": "stderr",
     "output_type": "stream",
     "text": [
      "  0%|          | 1/200 [00:00<00:20,  9.80it/s]"
     ]
    },
    {
     "name": "stdout",
     "output_type": "stream",
     "text": [
      "[-2587.49367996 -2495.30734206 -2439.01083313 -2421.61577749\n",
      " -2378.82107373 -2378.82107373 -2328.32286449 -2230.96814427\n",
      " -2222.00363909 -2194.21488081]\n"
     ]
    },
    {
     "name": "stderr",
     "output_type": "stream",
     "text": [
      "100%|██████████| 200/200 [00:18<00:00, 10.53it/s]\n",
      "  0%|          | 1/200 [00:00<00:25,  7.91it/s]"
     ]
    },
    {
     "name": "stdout",
     "output_type": "stream",
     "text": [
      "[-164.04324218 -142.81374051 -124.27624217 -110.47992893 -109.60358413\n",
      " -108.34798061 -108.12620076 -107.1076225  -105.39232329 -101.18524974]\n"
     ]
    },
    {
     "name": "stderr",
     "output_type": "stream",
     "text": [
      "100%|██████████| 200/200 [00:29<00:00,  6.89it/s]\n",
      "  0%|          | 0/200 [00:00<?, ?it/s]"
     ]
    },
    {
     "name": "stdout",
     "output_type": "stream",
     "text": [
      "[-22.237698   -22.2148927  -22.00886026 -21.99755589 -21.98829155\n",
      " -21.97395631 -21.96101749 -21.95221456 -21.94448626 -21.91396373]\n"
     ]
    },
    {
     "name": "stderr",
     "output_type": "stream",
     "text": [
      " 51%|█████     | 102/200 [00:09<00:09, 10.32it/s]"
     ]
    },
    {
     "name": "stdout",
     "output_type": "stream",
     "text": [
      "Early stopping at epoch: 102, population died\n"
     ]
    },
    {
     "name": "stderr",
     "output_type": "stream",
     "text": [
      "\n"
     ]
    }
   ],
   "source": [
    "\n",
    "ages = []\n",
    "\n",
    "for fn in [griewank, schwefel, rastrigin, ackley]:\n",
    "    fn_name = fn.__name__\n",
    "    sim = AgeDiffSimulation(conf=GenderedSelectionConfig(100), fitness_fn=fn, mutation=mutation, crossover=crossover)\n",
    "    ages_ = sim.run(n_epochs=200, n_partitions=7, population_scale=scales[fn_name][0], mutation_scale=scales[fn_name][1], seed=1)\n",
    "    ages.append(ages_)"
   ]
  },
  {
   "cell_type": "code",
   "execution_count": 47,
   "metadata": {},
   "outputs": [
    {
     "data": {
      "text/plain": [
       "(0.002322242730583462, 0.0025186984783038373)"
      ]
     },
     "execution_count": 47,
     "metadata": {},
     "output_type": "execute_result"
    }
   ],
   "source": [
    "diffs_age = np.concatenate([np.concatenate([np.diff(np.sort(i)) for i in ages[j]]) for j in range(len(ages))])\n",
    "conf_int_age_diff = st.t.interval(alpha=0.95, df=len(diffs_age)-1, loc=np.mean(diffs_age), scale=st.sem(diffs_age)) \n",
    "conf_int_age_diff"
   ]
  },
  {
   "cell_type": "code",
   "execution_count": 48,
   "metadata": {},
   "outputs": [
    {
     "data": {
      "text/plain": [
       "(0.01107746234098387, 0.023435579298824324)"
      ]
     },
     "execution_count": 48,
     "metadata": {},
     "output_type": "execute_result"
    }
   ],
   "source": [
    "diffs_age = np.concatenate([np.concatenate([np.diff(np.sort(i)[:2]) for i in ages[j]]) for j in range(len(ages))])\n",
    "conf_int_age_diff = st.t.interval(alpha=0.95, df=len(diffs_age)-1, loc=np.mean(diffs_age), scale=st.sem(diffs_age)) \n",
    "conf_int_age_diff"
   ]
  },
  {
   "attachments": {},
   "cell_type": "markdown",
   "metadata": {},
   "source": [
    "### Conclusions"
   ]
  },
  {
   "attachments": {},
   "cell_type": "markdown",
   "metadata": {},
   "source": [
    "Given that upper range of 95% confidence interval for error is smaller than lower range of 95% range of age difference between adjacent female ages, we can conclude that error is small enought to not be noticeable in partner selection. "
   ]
  }
 ],
 "metadata": {
  "kernelspec": {
   "display_name": "thesis",
   "language": "python",
   "name": "python3"
  },
  "language_info": {
   "codemirror_mode": {
    "name": "ipython",
    "version": 3
   },
   "file_extension": ".py",
   "mimetype": "text/x-python",
   "name": "python",
   "nbconvert_exporter": "python",
   "pygments_lexer": "ipython3",
   "version": "3.10.10"
  },
  "orig_nbformat": 4,
  "vscode": {
   "interpreter": {
    "hash": "1a78cde6364742d5eb3c1afb06f5d9ac27359d158d2fd799008b8978ac1916b2"
   }
  }
 },
 "nbformat": 4,
 "nbformat_minor": 2
}
