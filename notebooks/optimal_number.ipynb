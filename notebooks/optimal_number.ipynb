{
 "cells": [
  {
   "cell_type": "code",
   "execution_count": 1,
   "metadata": {},
   "outputs": [],
   "source": [
    "import os \n",
    "os.chdir('/home/oleksandr/UT/Thesis/Implementations/')"
   ]
  },
  {
   "cell_type": "code",
   "execution_count": 26,
   "metadata": {},
   "outputs": [],
   "source": [
    "from tqdm import tqdm\n",
    "from scipy.stats import friedmanchisquare, wilcoxon\n",
    "import numpy as np\n",
    "from matplotlib import pyplot as plt"
   ]
  },
  {
   "cell_type": "code",
   "execution_count": 46,
   "metadata": {},
   "outputs": [],
   "source": [
    "from src.standard_ga.simulation import GA\n",
    "from src.common.fitness import griewank\n",
    "from src.common.scales import scales"
   ]
  },
  {
   "cell_type": "code",
   "execution_count": 47,
   "metadata": {},
   "outputs": [
    {
     "name": "stderr",
     "output_type": "stream",
     "text": [
      "100%|██████████| 100/100 [00:35<00:00,  2.80it/s]\n"
     ]
    }
   ],
   "source": [
    "# Regular GA\n",
    "\n",
    "sample_regular = []\n",
    "\n",
    "for seed in tqdm(range(100)):\n",
    "    ga = GA(fitness_fn=griewank, population_scale=scales['griewank'][0], \n",
    "            mutation_scale=scales['griewank'][1])\n",
    "    history, _, _ = ga.run(10, seed=seed)\n",
    "    sample_regular.append(history['best_fitness'].min())"
   ]
  },
  {
   "cell_type": "code",
   "execution_count": 48,
   "metadata": {},
   "outputs": [
    {
     "name": "stderr",
     "output_type": "stream",
     "text": [
      "100%|██████████| 100/100 [00:33<00:00,  3.03it/s]\n"
     ]
    }
   ],
   "source": [
    "# Regular GAx2\n",
    "\n",
    "sample_x_2 = []\n",
    "\n",
    "for seed in tqdm(range(100)):\n",
    "    ga = GA(fitness_fn=griewank, population_scale=scales['griewank'][0], \n",
    "            mutation_scale=scales['griewank'][1]*2)\n",
    "    history, _, _ = ga.run(10, seed=seed)\n",
    "    sample_x_2.append(history['best_fitness'].min())"
   ]
  },
  {
   "cell_type": "code",
   "execution_count": 49,
   "metadata": {},
   "outputs": [],
   "source": [
    "pvals = []\n",
    "for i in range(10, 100):\n",
    "    pval = friedmanchisquare(sample_x_2[:i], sample_regular[:i], sample_x_2[:i]).pvalue\n",
    "    pvals.append(pval)"
   ]
  },
  {
   "cell_type": "code",
   "execution_count": 50,
   "metadata": {},
   "outputs": [
    {
     "data": {
      "image/png": "[encoded data removed]",
      "text/plain": [
       "<Figure size 432x288 with 1 Axes>"
      ]
     },
     "metadata": {
      "needs_background": "light"
     },
     "output_type": "display_data"
    }
   ],
   "source": [
    "plt.plot(list(range(10, 100)), pvals)\n",
    "plt.hlines(xmax=100, xmin=10, y=.05, colors='red')\n",
    "plt.show()"
   ]
  }
 ],
 "metadata": {
  "kernelspec": {
   "display_name": "thesis",
   "language": "python",
   "name": "python3"
  },
  "language_info": {
   "codemirror_mode": {
    "name": "ipython",
    "version": 3
   },
   "file_extension": ".py",
   "mimetype": "text/x-python",
   "name": "python",
   "nbconvert_exporter": "python",
   "pygments_lexer": "ipython3",
   "version": "3.10.10"
  },
  "orig_nbformat": 4
 },
 "nbformat": 4,
 "nbformat_minor": 2
}
