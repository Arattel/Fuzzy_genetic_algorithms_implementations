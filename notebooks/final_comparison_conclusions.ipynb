{
 "cells": [
  {
   "cell_type": "code",
   "execution_count": 1,
   "metadata": {},
   "outputs": [],
   "source": [
    "import os\n",
    "os.chdir('..')"
   ]
  },
  {
   "cell_type": "code",
   "execution_count": 2,
   "metadata": {},
   "outputs": [],
   "source": [
    "import pickle as pkl\n",
    "import numpy as np"
   ]
  },
  {
   "cell_type": "code",
   "execution_count": 3,
   "metadata": {},
   "outputs": [],
   "source": [
    "from src.common.fitness import (schwefel, ackley, griewank, rastrigin)"
   ]
  },
  {
   "cell_type": "code",
   "execution_count": 4,
   "metadata": {},
   "outputs": [],
   "source": [
    "benchmarks = (schwefel, ackley, griewank, rastrigin)"
   ]
  },
  {
   "cell_type": "code",
   "execution_count": 5,
   "metadata": {},
   "outputs": [],
   "source": [
    "root_dirs = {\n",
    "    'efga': './log/efga_param_tuning/',\n",
    "    'gendered_FGA': './log/gendered_param_tuning/', \n",
    "    'standard_GA': './log/standard_GA', \n",
    "    'particle_swarm': './log/particle_swarm/'\n",
    "}\n",
    "# Checking for dir existence\n",
    "for d in root_dirs:\n",
    "    assert os.path.exists(root_dirs[d])"
   ]
  },
  {
   "cell_type": "code",
   "execution_count": 6,
   "metadata": {},
   "outputs": [],
   "source": [
    "N_EXPERIMENTS: int = 25\n",
    "filename_generators = {\n",
    "    'efga': lambda x: f'{x}_priority_3_experiments_{N_EXPERIMENTS}.pkl',\n",
    "    'gendered_FGA': lambda x: f'{x}_priority_3_experiments_{N_EXPERIMENTS}.pkl', \n",
    "    'standard_GA': lambda x: f'{x}_experiments_{N_EXPERIMENTS}.pkl', \n",
    "    'particle_swarm': lambda x: f'{x}_experiments_{N_EXPERIMENTS}.pkl',\n",
    "}\n",
    "\n",
    "# Checking for artifact existence\n",
    "for d in root_dirs:\n",
    "    for fn in benchmarks:\n",
    "        pth = os.path.join(root_dirs[d], filename_generators[d](fn.__name__))\n",
    "        assert os.path.exists(pth)"
   ]
  },
  {
   "cell_type": "code",
   "execution_count": 12,
   "metadata": {},
   "outputs": [],
   "source": [
    "comparison_matrix = np.zeros(shape=(len(filename_generators), N_EXPERIMENTS * len(benchmarks)))\n",
    "\n",
    "for i, d in enumerate(root_dirs):\n",
    "    for j, fn in enumerate(benchmarks):\n",
    "        pth = os.path.join(root_dirs[d], filename_generators[d](fn.__name__))\n",
    "        # Loading params\n",
    "        with open(pth, 'rb') as f:\n",
    "            log, params = pkl.load(f)\n",
    "        \n",
    "        # Vector of best results\n",
    "        best_res = np.round(log.groupby('seed').min()['best_fitness'].to_numpy(), 2)\n",
    "        comparison_matrix[i, j*N_EXPERIMENTS: (j+1)*N_EXPERIMENTS] = best_res"
   ]
  },
  {
   "cell_type": "code",
   "execution_count": 16,
   "metadata": {},
   "outputs": [],
   "source": [
    "from scikit_posthocs import posthoc_nemenyi_friedman\n",
    "from scipy.stats import wilcoxon"
   ]
  },
  {
   "cell_type": "code",
   "execution_count": 15,
   "metadata": {},
   "outputs": [
    {
     "data": {
      "text/html": [
       "<div>\n",
       "<style scoped>\n",
       "    .dataframe tbody tr th:only-of-type {\n",
       "        vertical-align: middle;\n",
       "    }\n",
       "\n",
       "    .dataframe tbody tr th {\n",
       "        vertical-align: top;\n",
       "    }\n",
       "\n",
       "    .dataframe thead th {\n",
       "        text-align: right;\n",
       "    }\n",
       "</style>\n",
       "<table border=\"1\" class=\"dataframe\">\n",
       "  <thead>\n",
       "    <tr style=\"text-align: right;\">\n",
       "      <th></th>\n",
       "      <th>0</th>\n",
       "      <th>1</th>\n",
       "      <th>2</th>\n",
       "      <th>3</th>\n",
       "    </tr>\n",
       "  </thead>\n",
       "  <tbody>\n",
       "    <tr>\n",
       "      <th>0</th>\n",
       "      <td>1.000000</td>\n",
       "      <td>0.001</td>\n",
       "      <td>0.808619</td>\n",
       "      <td>0.900000</td>\n",
       "    </tr>\n",
       "    <tr>\n",
       "      <th>1</th>\n",
       "      <td>0.001000</td>\n",
       "      <td>1.000</td>\n",
       "      <td>0.001000</td>\n",
       "      <td>0.001000</td>\n",
       "    </tr>\n",
       "    <tr>\n",
       "      <th>2</th>\n",
       "      <td>0.808619</td>\n",
       "      <td>0.001</td>\n",
       "      <td>1.000000</td>\n",
       "      <td>0.716389</td>\n",
       "    </tr>\n",
       "    <tr>\n",
       "      <th>3</th>\n",
       "      <td>0.900000</td>\n",
       "      <td>0.001</td>\n",
       "      <td>0.716389</td>\n",
       "      <td>1.000000</td>\n",
       "    </tr>\n",
       "  </tbody>\n",
       "</table>\n",
       "</div>"
      ],
      "text/plain": [
       "          0      1         2         3\n",
       "0  1.000000  0.001  0.808619  0.900000\n",
       "1  0.001000  1.000  0.001000  0.001000\n",
       "2  0.808619  0.001  1.000000  0.716389\n",
       "3  0.900000  0.001  0.716389  1.000000"
      ]
     },
     "execution_count": 15,
     "metadata": {},
     "output_type": "execute_result"
    }
   ],
   "source": [
    "posthoc_nemenyi_friedman(comparison_matrix.T)"
   ]
  },
  {
   "cell_type": "code",
   "execution_count": 17,
   "metadata": {},
   "outputs": [
    {
     "data": {
      "text/plain": [
       "WilcoxonResult(statistic=1.0, pvalue=2.007172505030583e-18)"
      ]
     },
     "execution_count": 17,
     "metadata": {},
     "output_type": "execute_result"
    }
   ],
   "source": [
    "wilcoxon(comparison_matrix[0], comparison_matrix[1], alternative='less')"
   ]
  },
  {
   "attachments": {},
   "cell_type": "markdown",
   "metadata": {},
   "source": [
    "Currently, we can say for sure that gendered FGA is inferior in performance to all other methods. As for the 3 methods left, we can find their results comparable. "
   ]
  },
  {
   "cell_type": "code",
   "execution_count": 22,
   "metadata": {},
   "outputs": [],
   "source": [
    "import pandas as pd\n",
    "records = pd.DataFrame(comparison_matrix.T, columns=list(root_dirs.keys()))\n",
    "records['function'] = None\n",
    "\n",
    "for i, fn in benchmarks:\n",
    "    "
   ]
  },
  {
   "cell_type": "code",
   "execution_count": null,
   "metadata": {},
   "outputs": [],
   "source": []
  }
 ],
 "metadata": {
  "kernelspec": {
   "display_name": "thesis",
   "language": "python",
   "name": "python3"
  },
  "language_info": {
   "codemirror_mode": {
    "name": "ipython",
    "version": 3
   },
   "file_extension": ".py",
   "mimetype": "text/x-python",
   "name": "python",
   "nbconvert_exporter": "python",
   "pygments_lexer": "ipython3",
   "version": "3.10.10"
  },
  "orig_nbformat": 4
 },
 "nbformat": 4,
 "nbformat_minor": 2
}
