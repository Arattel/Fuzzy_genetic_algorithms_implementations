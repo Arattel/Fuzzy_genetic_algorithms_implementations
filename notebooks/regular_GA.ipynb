{
 "cells": [
  {
   "cell_type": "code",
   "execution_count": 1,
   "metadata": {},
   "outputs": [],
   "source": [
    "import random\n",
    "import numpy as np\n",
    "import os\n",
    "from matplotlib import pyplot as plt"
   ]
  },
  {
   "cell_type": "code",
   "execution_count": 2,
   "metadata": {},
   "outputs": [],
   "source": [
    "os.chdir('..')"
   ]
  },
  {
   "cell_type": "code",
   "execution_count": 3,
   "metadata": {},
   "outputs": [],
   "source": [
    "from src.standard_ga.simulation import GA\n",
    "from src.common.fitness import griewank, schwefel"
   ]
  },
  {
   "cell_type": "code",
   "execution_count": 8,
   "metadata": {},
   "outputs": [],
   "source": [
    "ga = GA(fitness_fn=griewank, mutation_scale=.2, population_scale=600)\n",
    "solution, history = ga.run(100, population_size=200, seed=1)"
   ]
  },
  {
   "cell_type": "code",
   "execution_count": 5,
   "metadata": {},
   "outputs": [],
   "source": [
    "scales = {\n",
    "    'schwefel': (500, .5), \n",
    "    'rastrigin': (5.12, .05), \n",
    "    'griewank': (600, .2), \n",
    "    'ackley': (32, .05)\n",
    "}"
   ]
  },
  {
   "cell_type": "code",
   "execution_count": 9,
   "metadata": {},
   "outputs": [
    {
     "data": {
      "text/html": [
       "<div>\n",
       "<style scoped>\n",
       "    .dataframe tbody tr th:only-of-type {\n",
       "        vertical-align: middle;\n",
       "    }\n",
       "\n",
       "    .dataframe tbody tr th {\n",
       "        vertical-align: top;\n",
       "    }\n",
       "\n",
       "    .dataframe thead th {\n",
       "        text-align: right;\n",
       "    }\n",
       "</style>\n",
       "<table border=\"1\" class=\"dataframe\">\n",
       "  <thead>\n",
       "    <tr style=\"text-align: right;\">\n",
       "      <th></th>\n",
       "      <th>best_fitness</th>\n",
       "      <th>avg_fitness</th>\n",
       "      <th>epoch</th>\n",
       "      <th>ncalls</th>\n",
       "      <th>seed</th>\n",
       "    </tr>\n",
       "  </thead>\n",
       "  <tbody>\n",
       "    <tr>\n",
       "      <th>0</th>\n",
       "      <td>31.576774</td>\n",
       "      <td>150.673448</td>\n",
       "      <td>0</td>\n",
       "      <td>200</td>\n",
       "      <td>1</td>\n",
       "    </tr>\n",
       "    <tr>\n",
       "      <th>1</th>\n",
       "      <td>5.031151</td>\n",
       "      <td>68.386307</td>\n",
       "      <td>1</td>\n",
       "      <td>520</td>\n",
       "      <td>1</td>\n",
       "    </tr>\n",
       "    <tr>\n",
       "      <th>2</th>\n",
       "      <td>3.457658</td>\n",
       "      <td>26.324454</td>\n",
       "      <td>2</td>\n",
       "      <td>840</td>\n",
       "      <td>1</td>\n",
       "    </tr>\n",
       "    <tr>\n",
       "      <th>3</th>\n",
       "      <td>2.611102</td>\n",
       "      <td>8.570761</td>\n",
       "      <td>3</td>\n",
       "      <td>1160</td>\n",
       "      <td>1</td>\n",
       "    </tr>\n",
       "    <tr>\n",
       "      <th>4</th>\n",
       "      <td>1.906380</td>\n",
       "      <td>3.382564</td>\n",
       "      <td>4</td>\n",
       "      <td>1480</td>\n",
       "      <td>1</td>\n",
       "    </tr>\n",
       "    <tr>\n",
       "      <th>...</th>\n",
       "      <td>...</td>\n",
       "      <td>...</td>\n",
       "      <td>...</td>\n",
       "      <td>...</td>\n",
       "      <td>...</td>\n",
       "    </tr>\n",
       "    <tr>\n",
       "      <th>95</th>\n",
       "      <td>0.763669</td>\n",
       "      <td>1.048868</td>\n",
       "      <td>95</td>\n",
       "      <td>30600</td>\n",
       "      <td>1</td>\n",
       "    </tr>\n",
       "    <tr>\n",
       "      <th>96</th>\n",
       "      <td>0.763669</td>\n",
       "      <td>0.965329</td>\n",
       "      <td>96</td>\n",
       "      <td>30920</td>\n",
       "      <td>1</td>\n",
       "    </tr>\n",
       "    <tr>\n",
       "      <th>97</th>\n",
       "      <td>0.763669</td>\n",
       "      <td>1.021758</td>\n",
       "      <td>97</td>\n",
       "      <td>31240</td>\n",
       "      <td>1</td>\n",
       "    </tr>\n",
       "    <tr>\n",
       "      <th>98</th>\n",
       "      <td>0.763669</td>\n",
       "      <td>0.995406</td>\n",
       "      <td>98</td>\n",
       "      <td>31560</td>\n",
       "      <td>1</td>\n",
       "    </tr>\n",
       "    <tr>\n",
       "      <th>99</th>\n",
       "      <td>0.763669</td>\n",
       "      <td>1.019363</td>\n",
       "      <td>99</td>\n",
       "      <td>31880</td>\n",
       "      <td>1</td>\n",
       "    </tr>\n",
       "  </tbody>\n",
       "</table>\n",
       "<p>100 rows × 5 columns</p>\n",
       "</div>"
      ],
      "text/plain": [
       "    best_fitness  avg_fitness  epoch  ncalls  seed\n",
       "0      31.576774   150.673448      0     200     1\n",
       "1       5.031151    68.386307      1     520     1\n",
       "2       3.457658    26.324454      2     840     1\n",
       "3       2.611102     8.570761      3    1160     1\n",
       "4       1.906380     3.382564      4    1480     1\n",
       "..           ...          ...    ...     ...   ...\n",
       "95      0.763669     1.048868     95   30600     1\n",
       "96      0.763669     0.965329     96   30920     1\n",
       "97      0.763669     1.021758     97   31240     1\n",
       "98      0.763669     0.995406     98   31560     1\n",
       "99      0.763669     1.019363     99   31880     1\n",
       "\n",
       "[100 rows x 5 columns]"
      ]
     },
     "execution_count": 9,
     "metadata": {},
     "output_type": "execute_result"
    }
   ],
   "source": [
    "history"
   ]
  },
  {
   "cell_type": "code",
   "execution_count": 11,
   "metadata": {},
   "outputs": [
    {
     "data": {
      "text/plain": [
       "[<matplotlib.lines.Line2D at 0x7fa7c6abbd60>]"
      ]
     },
     "execution_count": 11,
     "metadata": {},
     "output_type": "execute_result"
    },
    {
     "data": {
      "image/png": "[encoded data removed]",
      "text/plain": [
       "<Figure size 432x288 with 1 Axes>"
      ]
     },
     "metadata": {
      "needs_background": "light"
     },
     "output_type": "display_data"
    }
   ],
   "source": [
    "plt.plot(history.best_fitness)"
   ]
  },
  {
   "cell_type": "code",
   "execution_count": 12,
   "metadata": {},
   "outputs": [
    {
     "name": "stdout",
     "output_type": "stream",
     "text": [
      "Epoch: 0, Min griewank_function: 791.4611568975361\n",
      "Epoch: 1, Min griewank_function: 672.4218317711457\n",
      "Epoch: 2, Min griewank_function: 54.7710004524497\n",
      "Epoch: 3, Min griewank_function: 27.46895768242348\n",
      "Epoch: 4, Min griewank_function: 8.708876016124123\n",
      "Epoch: 5, Min griewank_function: 5.129534025537396\n",
      "Epoch: 6, Min griewank_function: 4.8903251517731405\n",
      "Epoch: 7, Min griewank_function: 4.312983700494442\n",
      "Epoch: 8, Min griewank_function: 4.102809591515324\n",
      "Epoch: 9, Min griewank_function: 3.611410127040017\n",
      "Epoch: 10, Min griewank_function: 3.5766970196459624\n",
      "Epoch: 11, Min griewank_function: 3.5696719597503943\n",
      "Epoch: 12, Min griewank_function: 3.5229371484974763\n",
      "Epoch: 13, Min griewank_function: 3.500674787059779\n",
      "Epoch: 14, Min griewank_function: 3.49707348661741\n",
      "Epoch: 15, Min griewank_function: 3.4949250950639907\n",
      "Epoch: 16, Min griewank_function: 3.4945073778703772\n",
      "Epoch: 17, Min griewank_function: 3.494231805725576\n",
      "Epoch: 18, Min griewank_function: 3.4939516946251388\n",
      "Epoch: 19, Min griewank_function: 3.4939516946251388\n",
      "Epoch: 20, Min griewank_function: 3.4936933372619023\n",
      "Epoch: 21, Min griewank_function: 3.4936933372619023\n",
      "Epoch: 22, Min griewank_function: 3.4936933372619023\n",
      "Epoch: 23, Min griewank_function: 3.4936933372619023\n",
      "Epoch: 24, Min griewank_function: 3.4936933372619023\n",
      "Epoch: 25, Min griewank_function: 3.4936933372619023\n",
      "Epoch: 26, Min griewank_function: 3.4936933372619023\n",
      "Epoch: 27, Min griewank_function: 3.4936933372619023\n",
      "Epoch: 28, Min griewank_function: 3.493693327799974\n",
      "Epoch: 29, Min griewank_function: 3.493693251723016\n",
      "Epoch: 30, Min griewank_function: 3.493693231688667\n",
      "Epoch: 31, Min griewank_function: 3.493693231688667\n",
      "Epoch: 32, Min griewank_function: 3.493693231688667\n",
      "Epoch: 33, Min griewank_function: 3.493693231688667\n",
      "Epoch: 34, Min griewank_function: 3.493693231688667\n",
      "Epoch: 35, Min griewank_function: 3.493693231688667\n",
      "Epoch: 36, Min griewank_function: 3.493693231688667\n",
      "Epoch: 37, Min griewank_function: 3.493693231688667\n",
      "Epoch: 38, Min griewank_function: 3.493693231688667\n",
      "Epoch: 39, Min griewank_function: 3.493693231688667\n",
      "Epoch: 40, Min griewank_function: 3.493693231688667\n",
      "Epoch: 41, Min griewank_function: 3.493693231688667\n",
      "Epoch: 42, Min griewank_function: 3.493693231688667\n",
      "Epoch: 43, Min griewank_function: 3.493693231688667\n",
      "Epoch: 44, Min griewank_function: 3.493693231688667\n",
      "Epoch: 45, Min griewank_function: 3.493693231688667\n",
      "Epoch: 46, Min griewank_function: 3.493693231688667\n",
      "Epoch: 47, Min griewank_function: 3.493693231688667\n",
      "Epoch: 48, Min griewank_function: 3.493693231688667\n",
      "Epoch: 49, Min griewank_function: 3.493693231688667\n",
      "Epoch: 50, Min griewank_function: 3.493693231688667\n",
      "Epoch: 51, Min griewank_function: 3.493693231688667\n",
      "Epoch: 52, Min griewank_function: 3.493693231688667\n",
      "Epoch: 53, Min griewank_function: 3.493693231688667\n",
      "Epoch: 54, Min griewank_function: 3.493693231688667\n",
      "Epoch: 55, Min griewank_function: 3.493693231688667\n",
      "Epoch: 56, Min griewank_function: 3.493693231688667\n",
      "Epoch: 57, Min griewank_function: 3.493693231688667\n",
      "Epoch: 58, Min griewank_function: 3.493693231688667\n",
      "Epoch: 59, Min griewank_function: 3.493693231688667\n",
      "Epoch: 60, Min griewank_function: 3.493693231688667\n",
      "Epoch: 61, Min griewank_function: 3.493693231688667\n",
      "Epoch: 62, Min griewank_function: 3.493693231688667\n",
      "Epoch: 63, Min griewank_function: 3.493693231688667\n",
      "Epoch: 64, Min griewank_function: 3.493693231688667\n",
      "Epoch: 65, Min griewank_function: 3.493693231688667\n",
      "Epoch: 66, Min griewank_function: 3.493693231688667\n",
      "Epoch: 67, Min griewank_function: 3.493693231688667\n",
      "Epoch: 68, Min griewank_function: 3.493693231688667\n",
      "Epoch: 69, Min griewank_function: 3.493693231688667\n",
      "Epoch: 70, Min griewank_function: 3.493693231688667\n",
      "Epoch: 71, Min griewank_function: 3.493693231688667\n",
      "Epoch: 72, Min griewank_function: 3.493693231688667\n",
      "Epoch: 73, Min griewank_function: 3.493693231688667\n",
      "Epoch: 74, Min griewank_function: 3.493693231688667\n",
      "Epoch: 75, Min griewank_function: 3.493693231688667\n",
      "Epoch: 76, Min griewank_function: 3.493693231688667\n",
      "Epoch: 77, Min griewank_function: 3.493693231688667\n",
      "Epoch: 78, Min griewank_function: 3.493693231688667\n",
      "Epoch: 79, Min griewank_function: 3.493693231688667\n",
      "Epoch: 80, Min griewank_function: 3.493693231688667\n",
      "Epoch: 81, Min griewank_function: 3.493693231688667\n",
      "Epoch: 82, Min griewank_function: 3.493693231688667\n",
      "Epoch: 83, Min griewank_function: 3.493693231688667\n",
      "Epoch: 84, Min griewank_function: 3.493693231688667\n",
      "Epoch: 85, Min griewank_function: 3.493693231688667\n",
      "Epoch: 86, Min griewank_function: 3.493693231688667\n",
      "Epoch: 87, Min griewank_function: 3.493693231688667\n",
      "Epoch: 88, Min griewank_function: 3.493693231688667\n",
      "Epoch: 89, Min griewank_function: 3.493693231688667\n",
      "Epoch: 90, Min griewank_function: 3.493693231688667\n",
      "Epoch: 91, Min griewank_function: 3.493693231688667\n",
      "Epoch: 92, Min griewank_function: 3.4936928937804623\n",
      "Epoch: 93, Min griewank_function: 3.493689850611645\n",
      "Epoch: 94, Min griewank_function: 3.4936890379876786\n",
      "Epoch: 95, Min griewank_function: 3.4936890379876786\n",
      "Epoch: 96, Min griewank_function: 3.4936890379876786\n",
      "Epoch: 97, Min griewank_function: 3.4936890379876786\n",
      "Epoch: 98, Min griewank_function: 3.4936890379876786\n",
      "Epoch: 99, Min griewank_function: 3.4936890379876786\n"
     ]
    }
   ],
   "source": [
    "ga = GA(fitness_fn=schwefel, mutation_scale=scales['schwefel'][1], population_scale=scales['schwefel'][0])\n",
    "solution, history = ga.run(100, population_size=200, seed=1, verbose=True)"
   ]
  },
  {
   "cell_type": "code",
   "execution_count": null,
   "metadata": {},
   "outputs": [],
   "source": []
  }
 ],
 "metadata": {
  "kernelspec": {
   "display_name": "thesis",
   "language": "python",
   "name": "python3"
  },
  "language_info": {
   "codemirror_mode": {
    "name": "ipython",
    "version": 3
   },
   "file_extension": ".py",
   "mimetype": "text/x-python",
   "name": "python",
   "nbconvert_exporter": "python",
   "pygments_lexer": "ipython3",
   "version": "3.10.10"
  },
  "orig_nbformat": 4
 },
 "nbformat": 4,
 "nbformat_minor": 2
}
