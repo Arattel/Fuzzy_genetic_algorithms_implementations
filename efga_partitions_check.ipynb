{
 "cells": [
  {
   "cell_type": "code",
   "execution_count": 34,
   "metadata": {},
   "outputs": [],
   "source": [
    "from src.elegant_fuzzy_genetic_algorithms.helpers.generalized_param_inferrer import GeneralizedParamInferencer, generate_rules_parameter_inference\n",
    "from src.elegant_fuzzy_genetic_algorithms.helpers.parallel_priority_wrapper import ParallelPriorityWrapper\n",
    "# from src.common.visualization import plot\n",
    "\n",
    "import multiprocessing as mp\n",
    "import numpy as np"
   ]
  },
  {
   "cell_type": "code",
   "execution_count": 19,
   "metadata": {},
   "outputs": [],
   "source": [
    "g_priority = ParallelPriorityWrapper(3)"
   ]
  },
  {
   "cell_type": "code",
   "execution_count": 20,
   "metadata": {},
   "outputs": [],
   "source": [
    "from src.elegant_fuzzy_genetic_algorithms.helpers.param_inference import ParamInference"
   ]
  },
  {
   "cell_type": "code",
   "execution_count": 21,
   "metadata": {},
   "outputs": [],
   "source": [
    "pi = ParamInference(rule_path_param='src/elegant_fuzzy_genetic_algorithms/rulesets/ruleset_params.txt', \n",
    "                    rule_path_priority='src/elegant_fuzzy_genetic_algorithms/rulesets/ruleset_priorityt.txt')"
   ]
  },
  {
   "cell_type": "code",
   "execution_count": 31,
   "metadata": {},
   "outputs": [],
   "source": [
    "from matplotlib import pyplot as plt\n",
    "def plot_variable(var, universe=None):\n",
    "    if universe is None:\n",
    "        universe = (var.minimum, var.maximum)\n",
    "    plt.title(var.name)\n",
    "    linguistic_terms_names = []\n",
    "    vals = np.linspace(*universe, 100)\n",
    "    \n",
    "        \n",
    "    for term in var.terms:\n",
    "        membership_fn = [term.membership(e) for e in vals]\n",
    "        plt.plot(vals, membership_fn)\n",
    "        linguistic_terms_names.append(term.name)\n",
    "    plt.legend(linguistic_terms_names)\n",
    "    plt.xlabel(var.name)\n",
    "    plt.ylabel('membership function')\n",
    "    plt.show()"
   ]
  },
  {
   "cell_type": "code",
   "execution_count": 35,
   "metadata": {},
   "outputs": [
    {
     "data": {
      "text/plain": [
       "['if  bestFitness is last_bin  then  xRate is last_bin',\n",
       " 'if  avgFitness is first_bin  then  xRate is first_bin',\n",
       " 'if  bestFitness is last_bin  then  mRate is last_bin',\n",
       " 'if  avgFitness is first_bin  then  mRate is first_bin',\n",
       " 'if  bestFitness is last_bin  then  subPopSize is last_bin',\n",
       " 'if  avgFitness is first_bin  then  subPopSize is first_bin',\n",
       " 'if  avgFitChange is first_bin   and  avgFitness is last_bin  then  xRate is last_bin',\n",
       " 'if  avgFitChange is first_bin   and  avgFitness is last_bin  then  mRate is last_bin',\n",
       " 'if  avgFitChange is first_bin   and  avgFitness is last_bin  then  subPopSize is last_bin',\n",
       " 'if  avgFitChange is first_bin   and  avgFitness is bin_4  then  xRate is bin_4',\n",
       " 'if  avgFitChange is first_bin   and  avgFitness is bin_4  then  mRate is bin_4',\n",
       " 'if  avgFitChange is first_bin   and  avgFitness is bin_4  then  subPopSize is bin_4',\n",
       " 'if  avgFitChange is first_bin   and  avgFitness is bin_3  then  xRate is bin_3',\n",
       " 'if  avgFitChange is first_bin   and  avgFitness is bin_3  then  mRate is bin_3',\n",
       " 'if  avgFitChange is first_bin   and  avgFitness is bin_3  then  subPopSize is bin_3',\n",
       " 'if  avgFitChange is first_bin   and  avgFitness is bin_2  then  xRate is bin_2',\n",
       " 'if  avgFitChange is first_bin   and  avgFitness is bin_2  then  mRate is bin_2',\n",
       " 'if  avgFitChange is first_bin   and  avgFitness is bin_2  then  subPopSize is bin_2',\n",
       " 'if  avgFitChange is bin_2   and  avgFitness is last_bin  then  xRate is last_bin',\n",
       " 'if  avgFitChange is bin_2   and  avgFitness is last_bin  then  mRate is last_bin',\n",
       " 'if  avgFitChange is bin_2   and  avgFitness is last_bin  then  subPopSize is last_bin',\n",
       " 'if  avgFitChange is bin_2   and  avgFitness is bin_4  then  xRate is bin_4',\n",
       " 'if  avgFitChange is bin_2   and  avgFitness is bin_4  then  mRate is bin_4',\n",
       " 'if  avgFitChange is bin_2   and  avgFitness is bin_4  then  subPopSize is bin_4',\n",
       " 'if  avgFitChange is bin_2   and  avgFitness is bin_3  then  xRate is bin_3',\n",
       " 'if  avgFitChange is bin_2   and  avgFitness is bin_3  then  mRate is bin_3',\n",
       " 'if  avgFitChange is bin_2   and  avgFitness is bin_3  then  subPopSize is bin_3',\n",
       " 'if  avgFitChange is bin_2   and  avgFitness is bin_2  then  xRate is bin_2',\n",
       " 'if  avgFitChange is bin_2   and  avgFitness is bin_2  then  mRate is bin_2',\n",
       " 'if  avgFitChange is bin_2   and  avgFitness is bin_2  then  subPopSize is bin_2',\n",
       " 'if  avgFitChange is bin_3   and  avgFitness is last_bin  then  xRate is last_bin',\n",
       " 'if  avgFitChange is bin_3   and  avgFitness is last_bin  then  mRate is last_bin',\n",
       " 'if  avgFitChange is bin_3   and  avgFitness is last_bin  then  subPopSize is last_bin',\n",
       " 'if  avgFitChange is bin_3   and  avgFitness is bin_4  then  xRate is bin_4',\n",
       " 'if  avgFitChange is bin_3   and  avgFitness is bin_4  then  mRate is bin_4',\n",
       " 'if  avgFitChange is bin_3   and  avgFitness is bin_4  then  subPopSize is bin_4',\n",
       " 'if  avgFitChange is bin_3   and  avgFitness is bin_3  then  xRate is bin_3',\n",
       " 'if  avgFitChange is bin_3   and  avgFitness is bin_3  then  mRate is bin_3',\n",
       " 'if  avgFitChange is bin_3   and  avgFitness is bin_3  then  subPopSize is bin_3',\n",
       " 'if  avgFitChange is bin_3   and  avgFitness is bin_2  then  xRate is bin_2',\n",
       " 'if  avgFitChange is bin_3   and  avgFitness is bin_2  then  mRate is bin_2',\n",
       " 'if  avgFitChange is bin_3   and  avgFitness is bin_2  then  subPopSize is bin_2',\n",
       " 'if  avgFitChange is bin_4   and  avgFitness is last_bin  then  xRate is bin_4',\n",
       " 'if  avgFitChange is bin_4   and  avgFitness is last_bin  then  mRate is bin_4',\n",
       " 'if  avgFitChange is bin_4   and  avgFitness is last_bin  then  subPopSize is bin_4',\n",
       " 'if  avgFitChange is bin_4   and  avgFitness is bin_4  then  xRate is bin_3',\n",
       " 'if  avgFitChange is bin_4   and  avgFitness is bin_4  then  mRate is bin_3',\n",
       " 'if  avgFitChange is bin_4   and  avgFitness is bin_4  then  subPopSize is bin_3',\n",
       " 'if  avgFitChange is bin_4   and  avgFitness is bin_3  then  xRate is bin_2',\n",
       " 'if  avgFitChange is bin_4   and  avgFitness is bin_3  then  mRate is bin_2',\n",
       " 'if  avgFitChange is bin_4   and  avgFitness is bin_3  then  subPopSize is bin_2',\n",
       " 'if  avgFitChange is bin_4   and  avgFitness is bin_2  then  xRate is first_bin',\n",
       " 'if  avgFitChange is bin_4   and  avgFitness is bin_2  then  mRate is first_bin',\n",
       " 'if  avgFitChange is bin_4   and  avgFitness is bin_2  then  subPopSize is first_bin',\n",
       " 'if  avgFitChange is last_bin   and  avgFitness is last_bin  then  xRate is bin_4',\n",
       " 'if  avgFitChange is last_bin   and  avgFitness is last_bin  then  mRate is bin_4',\n",
       " 'if  avgFitChange is last_bin   and  avgFitness is last_bin  then  subPopSize is bin_4',\n",
       " 'if  avgFitChange is last_bin   and  avgFitness is bin_4  then  xRate is bin_3',\n",
       " 'if  avgFitChange is last_bin   and  avgFitness is bin_4  then  mRate is bin_3',\n",
       " 'if  avgFitChange is last_bin   and  avgFitness is bin_4  then  subPopSize is bin_3',\n",
       " 'if  avgFitChange is last_bin   and  avgFitness is bin_3  then  xRate is bin_2',\n",
       " 'if  avgFitChange is last_bin   and  avgFitness is bin_3  then  mRate is bin_2',\n",
       " 'if  avgFitChange is last_bin   and  avgFitness is bin_3  then  subPopSize is bin_2',\n",
       " 'if  avgFitChange is last_bin   and  avgFitness is bin_2  then  xRate is first_bin',\n",
       " 'if  avgFitChange is last_bin   and  avgFitness is bin_2  then  mRate is first_bin',\n",
       " 'if  avgFitChange is last_bin   and  avgFitness is bin_2  then  subPopSize is first_bin']"
      ]
     },
     "execution_count": 35,
     "metadata": {},
     "output_type": "execute_result"
    }
   ],
   "source": [
    "generate_rules_parameter_inference(5)"
   ]
  },
  {
   "cell_type": "code",
   "execution_count": 32,
   "metadata": {},
   "outputs": [
    {
     "data": {
      "image/png": "[encoded data removed]",
      "text/plain": [
       "<Figure size 432x288 with 1 Axes>"
      ]
     },
     "metadata": {
      "needs_background": "light"
     },
     "output_type": "display_data"
    }
   ],
   "source": [
    "g_params = GeneralizedParamInferencer(5)\n",
    "plot_variable(g_params.x_rate)\n"
   ]
  },
  {
   "cell_type": "code",
   "execution_count": null,
   "metadata": {},
   "outputs": [],
   "source": []
  },
  {
   "cell_type": "code",
   "execution_count": null,
   "metadata": {},
   "outputs": [],
   "source": []
  },
  {
   "cell_type": "code",
   "execution_count": 36,
   "metadata": {},
   "outputs": [
    {
     "data": {
      "text/plain": [
       "5"
      ]
     },
     "execution_count": 36,
     "metadata": {},
     "output_type": "execute_result"
    }
   ],
   "source": [
    "len(g_params.x_rate.terms)"
   ]
  },
  {
   "cell_type": "code",
   "execution_count": 6,
   "metadata": {},
   "outputs": [
    {
     "name": "stdout",
     "output_type": "stream",
     "text": [
      "if bestFitness is last_bin then xRate is last_bin\n",
      "if avgFitness is first_bin then xRate is first_bin\n",
      "if bestFitness is last_bin then mRate is last_bin\n",
      "if avgFitness is first_bin then mRate is first_bin\n",
      "if bestFitness is last_bin then subPopSize is last_bin\n",
      "if avgFitness is first_bin then subPopSize is first_bin\n",
      "if avgFitChange is first_bin and avgFitness is last_bin then xRate is last_bin\n",
      "if avgFitChange is first_bin and avgFitness is last_bin then mRate is last_bin\n",
      "if avgFitChange is first_bin and avgFitness is last_bin then subPopSize is last_bin\n",
      "if avgFitChange is first_bin and avgFitness is bin_4 then xRate is bin_4\n",
      "if avgFitChange is first_bin and avgFitness is bin_4 then mRate is bin_4\n",
      "if avgFitChange is first_bin and avgFitness is bin_4 then subPopSize is bin_4\n",
      "if avgFitChange is first_bin and avgFitness is bin_3 then xRate is bin_3\n",
      "if avgFitChange is first_bin and avgFitness is bin_3 then mRate is bin_3\n",
      "if avgFitChange is first_bin and avgFitness is bin_3 then subPopSize is bin_3\n",
      "if avgFitChange is first_bin and avgFitness is bin_2 then xRate is bin_2\n",
      "if avgFitChange is first_bin and avgFitness is bin_2 then mRate is bin_2\n",
      "if avgFitChange is first_bin and avgFitness is bin_2 then subPopSize is bin_2\n",
      "if avgFitChange is bin_2 and avgFitness is last_bin then xRate is last_bin\n",
      "if avgFitChange is bin_2 and avgFitness is last_bin then mRate is last_bin\n",
      "if avgFitChange is bin_2 and avgFitness is last_bin then subPopSize is last_bin\n",
      "if avgFitChange is bin_2 and avgFitness is bin_4 then xRate is bin_4\n",
      "if avgFitChange is bin_2 and avgFitness is bin_4 then mRate is bin_4\n",
      "if avgFitChange is bin_2 and avgFitness is bin_4 then subPopSize is bin_4\n",
      "if avgFitChange is bin_2 and avgFitness is bin_3 then xRate is bin_3\n",
      "if avgFitChange is bin_2 and avgFitness is bin_3 then mRate is bin_3\n",
      "if avgFitChange is bin_2 and avgFitness is bin_3 then subPopSize is bin_3\n",
      "if avgFitChange is bin_2 and avgFitness is bin_2 then xRate is bin_2\n",
      "if avgFitChange is bin_2 and avgFitness is bin_2 then mRate is bin_2\n",
      "if avgFitChange is bin_2 and avgFitness is bin_2 then subPopSize is bin_2\n",
      "if avgFitChange is bin_3 and avgFitness is last_bin then xRate is last_bin\n",
      "if avgFitChange is bin_3 and avgFitness is last_bin then mRate is last_bin\n",
      "if avgFitChange is bin_3 and avgFitness is last_bin then subPopSize is last_bin\n",
      "if avgFitChange is bin_3 and avgFitness is bin_4 then xRate is bin_4\n",
      "if avgFitChange is bin_3 and avgFitness is bin_4 then mRate is bin_4\n",
      "if avgFitChange is bin_3 and avgFitness is bin_4 then subPopSize is bin_4\n",
      "if avgFitChange is bin_3 and avgFitness is bin_3 then xRate is bin_3\n",
      "if avgFitChange is bin_3 and avgFitness is bin_3 then mRate is bin_3\n",
      "if avgFitChange is bin_3 and avgFitness is bin_3 then subPopSize is bin_3\n",
      "if avgFitChange is bin_3 and avgFitness is bin_2 then xRate is bin_2\n",
      "if avgFitChange is bin_3 and avgFitness is bin_2 then mRate is bin_2\n",
      "if avgFitChange is bin_3 and avgFitness is bin_2 then subPopSize is bin_2\n",
      "if avgFitChange is bin_4 and avgFitness is last_bin then xRate is bin_4\n",
      "if avgFitChange is bin_4 and avgFitness is last_bin then mRate is bin_4\n",
      "if avgFitChange is bin_4 and avgFitness is last_bin then subPopSize is bin_4\n",
      "if avgFitChange is bin_4 and avgFitness is bin_4 then xRate is bin_3\n",
      "if avgFitChange is bin_4 and avgFitness is bin_4 then mRate is bin_3\n",
      "if avgFitChange is bin_4 and avgFitness is bin_4 then subPopSize is bin_3\n",
      "if avgFitChange is bin_4 and avgFitness is bin_3 then xRate is bin_2\n",
      "if avgFitChange is bin_4 and avgFitness is bin_3 then mRate is bin_2\n",
      "if avgFitChange is bin_4 and avgFitness is bin_3 then subPopSize is bin_2\n",
      "if avgFitChange is bin_4 and avgFitness is bin_2 then xRate is first_bin\n",
      "if avgFitChange is bin_4 and avgFitness is bin_2 then mRate is first_bin\n",
      "if avgFitChange is bin_4 and avgFitness is bin_2 then subPopSize is first_bin\n",
      "if avgFitChange is last_bin and avgFitness is last_bin then xRate is bin_4\n",
      "if avgFitChange is last_bin and avgFitness is last_bin then mRate is bin_4\n",
      "if avgFitChange is last_bin and avgFitness is last_bin then subPopSize is bin_4\n",
      "if avgFitChange is last_bin and avgFitness is bin_4 then xRate is bin_3\n",
      "if avgFitChange is last_bin and avgFitness is bin_4 then mRate is bin_3\n",
      "if avgFitChange is last_bin and avgFitness is bin_4 then subPopSize is bin_3\n",
      "if avgFitChange is last_bin and avgFitness is bin_3 then xRate is bin_2\n",
      "if avgFitChange is last_bin and avgFitness is bin_3 then mRate is bin_2\n",
      "if avgFitChange is last_bin and avgFitness is bin_3 then subPopSize is bin_2\n",
      "if avgFitChange is last_bin and avgFitness is bin_2 then xRate is first_bin\n",
      "if avgFitChange is last_bin and avgFitness is bin_2 then mRate is first_bin\n",
      "if avgFitChange is last_bin and avgFitness is bin_2 then subPopSize is first_bin\n"
     ]
    }
   ],
   "source": [
    "for r in g_params.engine.rule_blocks[0].rules:\n",
    "    print(r.text)"
   ]
  },
  {
   "cell_type": "code",
   "execution_count": 4,
   "metadata": {},
   "outputs": [],
   "source": [
    "class AllEFGAParamsParallelWrapper:\n",
    "    def __init__(self, n_terms_params: int = 3, n_terms_priority: int = 3, n_processes: int = mp.cpu_count()) -> None:\n",
    "        self.priority = ParallelPriorityWrapper(n_terms_fitness=n_terms_priority, n_processes=n_processes)\n",
    "        self.params = GeneralizedParamInferencer(n_terms_params)\n",
    "    \n",
    "    def infer_priority(self, c1, c2):\n",
    "        return self.priority.infer_priority(c1, c2)\n",
    "    \n",
    "    def infer(self, bestFitness: float, avgFitness: float, avgFitChange: float) -> float:\n",
    "        return self.params.infer(bestFitness=bestFitness, avgFitness=avgFitness, avgFitChange=avgFitChange)"
   ]
  },
  {
   "cell_type": "code",
   "execution_count": 5,
   "metadata": {},
   "outputs": [],
   "source": [
    "aefgpw = AllEFGAParamsParallelWrapper(3, 5)"
   ]
  },
  {
   "cell_type": "code",
   "execution_count": 6,
   "metadata": {},
   "outputs": [
    {
     "data": {
      "text/plain": [
       "{'xRate': 0.8866346153846152,\n",
       " 'mRate': 0.040552884615384616,\n",
       " 'subPopSize': 0.21714114285714275}"
      ]
     },
     "execution_count": 6,
     "metadata": {},
     "output_type": "execute_result"
    }
   ],
   "source": [
    "aefgpw.infer(.5, .99, .01)"
   ]
  },
  {
   "cell_type": "code",
   "execution_count": 7,
   "metadata": {},
   "outputs": [],
   "source": [
    "c1 = np.random.uniform(0,1, 100)\n",
    "c2 = np.random.uniform(0,1, 100)"
   ]
  },
  {
   "cell_type": "code",
   "execution_count": 8,
   "metadata": {},
   "outputs": [
    {
     "data": {
      "text/plain": [
       "array([-0.18495665,  0.54536791, -0.46924286, -0.19573953, -0.26229646,\n",
       "        0.04600472,  0.38564844, -0.45718733,  0.04288611, -0.29627861,\n",
       "       -0.50069496, -0.46397611,  0.26305148,  0.17346222,  0.25950609,\n",
       "        0.32864725,  0.50985775,  0.05169453,  0.08605943, -0.14676437,\n",
       "        0.09380389, -0.15043721,  0.40544377,  0.03181528,  0.45720557,\n",
       "        0.10916098,  0.08261382,  0.21356162, -0.14021865,  0.35831851,\n",
       "       -0.02419718, -0.63887521,  0.0798451 , -0.36238048, -0.44261837,\n",
       "        0.24156288,  0.39576051,  0.28600903, -0.41054923,  0.45994164,\n",
       "        0.6663853 , -0.27206833,  0.01914065,  0.02861487, -0.37308159,\n",
       "       -0.60395594, -0.24031426, -0.24898632, -0.57979865, -0.09708774,\n",
       "       -0.26129045, -0.0291027 , -0.47724523, -0.30138496, -0.14452461,\n",
       "        0.61206018, -0.36594049,  0.20965095,  0.10310314, -0.08557938,\n",
       "       -0.32827623,  0.34865775,  0.04419342,  0.3101038 , -0.24818646,\n",
       "        0.3446754 ,  0.05223699, -0.28559659,  0.10738484,  0.53939809,\n",
       "       -0.74210111,  0.59575866,  0.24636851, -0.48811984,  0.68379662,\n",
       "       -0.05251001,  0.66669208, -0.56386431,  0.15986203, -0.16801441,\n",
       "       -0.07816564, -0.73504672,  0.11607398,  0.02639417, -0.41265714,\n",
       "       -0.66363377,  0.32749599, -0.40171876,  0.45484456, -0.07136926,\n",
       "        0.49408263,  0.7124333 , -0.45484194,  0.14711048,  0.08413592,\n",
       "        0.68350872, -0.37682871, -0.35849644, -0.27504913,  0.74388212])"
      ]
     },
     "execution_count": 8,
     "metadata": {},
     "output_type": "execute_result"
    }
   ],
   "source": [
    "priorities = aefgpw.infer_priority(c1, c2)\n",
    "priorities"
   ]
  },
  {
   "cell_type": "code",
   "execution_count": 11,
   "metadata": {},
   "outputs": [
    {
     "data": {
      "text/plain": [
       "array([-0.18495665, -0.18495665,  0.54536791,  0.54536791, -0.46924286,\n",
       "       -0.46924286, -0.19573953, -0.19573953, -0.26229646, -0.26229646,\n",
       "        0.04600472,  0.04600472,  0.38564844,  0.38564844, -0.45718733,\n",
       "       -0.45718733,  0.04288611,  0.04288611, -0.29627861, -0.29627861,\n",
       "       -0.50069496, -0.50069496, -0.46397611, -0.46397611,  0.26305148,\n",
       "        0.26305148,  0.17346222,  0.17346222,  0.25950609,  0.25950609,\n",
       "        0.32864725,  0.32864725,  0.50985775,  0.50985775,  0.05169453,\n",
       "        0.05169453,  0.08605943,  0.08605943, -0.14676437, -0.14676437,\n",
       "        0.09380389,  0.09380389, -0.15043721, -0.15043721,  0.40544377,\n",
       "        0.40544377,  0.03181528,  0.03181528,  0.45720557,  0.45720557,\n",
       "        0.10916098,  0.10916098,  0.08261382,  0.08261382,  0.21356162,\n",
       "        0.21356162, -0.14021865, -0.14021865,  0.35831851,  0.35831851,\n",
       "       -0.02419718, -0.02419718, -0.63887521, -0.63887521,  0.0798451 ,\n",
       "        0.0798451 , -0.36238048, -0.36238048, -0.44261837, -0.44261837,\n",
       "        0.24156288,  0.24156288,  0.39576051,  0.39576051,  0.28600903,\n",
       "        0.28600903, -0.41054923, -0.41054923,  0.45994164,  0.45994164,\n",
       "        0.6663853 ,  0.6663853 , -0.27206833, -0.27206833,  0.01914065,\n",
       "        0.01914065,  0.02861487,  0.02861487, -0.37308159, -0.37308159,\n",
       "       -0.60395594, -0.60395594, -0.24031426, -0.24031426, -0.24898632,\n",
       "       -0.24898632, -0.57979865, -0.57979865, -0.09708774, -0.09708774,\n",
       "       -0.26129045, -0.26129045, -0.0291027 , -0.0291027 , -0.47724523,\n",
       "       -0.47724523, -0.30138496, -0.30138496, -0.14452461, -0.14452461,\n",
       "        0.61206018,  0.61206018, -0.36594049, -0.36594049,  0.20965095,\n",
       "        0.20965095,  0.10310314,  0.10310314, -0.08557938, -0.08557938,\n",
       "       -0.32827623, -0.32827623,  0.34865775,  0.34865775,  0.04419342,\n",
       "        0.04419342,  0.3101038 ,  0.3101038 , -0.24818646, -0.24818646,\n",
       "        0.3446754 ,  0.3446754 ,  0.05223699,  0.05223699, -0.28559659,\n",
       "       -0.28559659,  0.10738484,  0.10738484,  0.53939809,  0.53939809,\n",
       "       -0.74210111, -0.74210111,  0.59575866,  0.59575866,  0.24636851,\n",
       "        0.24636851, -0.48811984, -0.48811984,  0.68379662,  0.68379662,\n",
       "       -0.05251001, -0.05251001,  0.66669208,  0.66669208, -0.56386431,\n",
       "       -0.56386431,  0.15986203,  0.15986203, -0.16801441, -0.16801441,\n",
       "       -0.07816564, -0.07816564, -0.73504672, -0.73504672,  0.11607398,\n",
       "        0.11607398,  0.02639417,  0.02639417, -0.41265714, -0.41265714,\n",
       "       -0.66363377, -0.66363377,  0.32749599,  0.32749599, -0.40171876,\n",
       "       -0.40171876,  0.45484456,  0.45484456, -0.07136926, -0.07136926,\n",
       "        0.49408263,  0.49408263,  0.7124333 ,  0.7124333 , -0.45484194,\n",
       "       -0.45484194,  0.14711048,  0.14711048,  0.08413592,  0.08413592,\n",
       "        0.68350872,  0.68350872, -0.37682871, -0.37682871, -0.35849644,\n",
       "       -0.35849644, -0.27504913, -0.27504913,  0.74388212,  0.74388212])"
      ]
     },
     "execution_count": 11,
     "metadata": {},
     "output_type": "execute_result"
    }
   ],
   "source": [
    "np.repeat(priorities, 2)"
   ]
  },
  {
   "cell_type": "code",
   "execution_count": 12,
   "metadata": {},
   "outputs": [],
   "source": [
    "a = np.array([1, 2, 3,])\n",
    "b = np.array([4, 5, 6])"
   ]
  },
  {
   "cell_type": "code",
   "execution_count": 14,
   "metadata": {},
   "outputs": [],
   "source": [
    "c = np.zeros(a.shape[0] * 2)\n",
    "c[::2] = a\n",
    "c[1::2] = b"
   ]
  },
  {
   "cell_type": "code",
   "execution_count": 6,
   "metadata": {},
   "outputs": [
    {
     "data": {
      "text/plain": [
       "{'xRate': nan, 'mRate': nan, 'subPopSize': nan}"
      ]
     },
     "execution_count": 6,
     "metadata": {},
     "output_type": "execute_result"
    }
   ],
   "source": [
    "g_params.infer(.1, 4, .1)"
   ]
  },
  {
   "cell_type": "code",
   "execution_count": null,
   "metadata": {},
   "outputs": [],
   "source": []
  }
 ],
 "metadata": {
  "kernelspec": {
   "display_name": "thesis",
   "language": "python",
   "name": "python3"
  },
  "language_info": {
   "codemirror_mode": {
    "name": "ipython",
    "version": 3
   },
   "file_extension": ".py",
   "mimetype": "text/x-python",
   "name": "python",
   "nbconvert_exporter": "python",
   "pygments_lexer": "ipython3",
   "version": "3.10.10"
  },
  "orig_nbformat": 4,
  "vscode": {
   "interpreter": {
    "hash": "1a78cde6364742d5eb3c1afb06f5d9ac27359d158d2fd799008b8978ac1916b2"
   }
  }
 },
 "nbformat": 4,
 "nbformat_minor": 2
}
