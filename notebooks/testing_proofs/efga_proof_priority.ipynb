{
 "cells": [
  {
   "cell_type": "code",
   "execution_count": 1,
   "metadata": {},
   "outputs": [],
   "source": [
    "import os \n",
    "os.chdir('/home/oleksandr/UT/Thesis/Implementations/')"
   ]
  },
  {
   "cell_type": "code",
   "execution_count": 10,
   "metadata": {},
   "outputs": [],
   "source": [
    "from sklearn.model_selection import train_test_split\n",
    "import faiss\n",
    "import numpy as np\n",
    "from scipy.special import softmax\n",
    "from scipy import stats as st\n",
    "from tqdm import tqdm\n",
    "import pandas as pd"
   ]
  },
  {
   "cell_type": "code",
   "execution_count": 5,
   "metadata": {},
   "outputs": [],
   "source": [
    "from src.common.approximation_helpers import generate_search_space\n",
    "from src.elegant_fuzzy_genetic_algorithms.helpers.all_params_wrapper import AllEFGAParamsParallelWrapper\n",
    "from src.elegant_fuzzy_genetic_algorithms.priority_diff_simulation import simulation_priorities\n",
    "from src.common.fitness import griewank\n",
    "from src.common.scales import scales"
   ]
  },
  {
   "attachments": {},
   "cell_type": "markdown",
   "metadata": {},
   "source": [
    "## Empirical difference between closest item priorities for N partitions"
   ]
  },
  {
   "cell_type": "code",
   "execution_count": 6,
   "metadata": {},
   "outputs": [
    {
     "name": "stderr",
     "output_type": "stream",
     "text": [
      "  0%|          | 0/100 [00:00<?, ?it/s]"
     ]
    },
    {
     "name": "stderr",
     "output_type": "stream",
     "text": [
      "100%|██████████| 100/100 [00:09<00:00, 10.32it/s]\n",
      "100%|██████████| 100/100 [00:09<00:00, 10.47it/s]\n",
      "100%|██████████| 100/100 [00:09<00:00, 10.13it/s]\n"
     ]
    }
   ],
   "source": [
    "resulting_intervals = {}\n",
    "\n",
    "\n",
    "for n_terms in [3, 5, 7]:\n",
    "    history = simulation_priorities(N=50, epochs=100, n_terms_priority=n_terms, ndim=5, fitness_fn=griewank, mutation_scale=scales['griewank'][1], \n",
    "                                population_scale=scales['griewank'][0])\n",
    "    \n",
    "    # Sorting by priorities and finding difference between closest items\n",
    "    diffs = np.abs(np.diff(np.sort(np.array(history), axis=1)[:, ::-1], axis=1).ravel())\n",
    "\n",
    "    # Getting 95% confidence interval\n",
    "    conf_interval = st.t.interval(alpha=0.95, df=len(diffs)-1, loc=np.mean(diffs), scale=st.sem(diffs))\n",
    "\n",
    "    resulting_intervals[n_terms] = conf_interval\n",
    "    "
   ]
  },
  {
   "cell_type": "code",
   "execution_count": 8,
   "metadata": {},
   "outputs": [
    {
     "name": "stderr",
     "output_type": "stream",
     "text": [
      "100%|██████████| 3/3 [00:05<00:00,  1.93s/it]\n"
     ]
    }
   ],
   "source": [
    "resulting_intervals_estimation_error = {}\n",
    "\n",
    "for n_terms in tqdm([3, 5, 7]):\n",
    "    X = generate_search_space(50)\n",
    "    y = AllEFGAParamsParallelWrapper(n_terms_priority=n_terms, use_approx=False).infer_priority(X[:, 0], X[:, 1])\n",
    "\n",
    "    X_train, X_test, y_train, y_test = train_test_split(X, y, test_size=.1, random_state=42)\n",
    "    param_index = faiss.IndexFlatL2(X_train.shape[1])\n",
    "    param_index.add(X_train)\n",
    "\n",
    "    D, I = param_index.search(X_test, k=10)\n",
    "    y_pred = (y_train[I] * softmax(D, axis=1)).sum(axis=1)\n",
    "    errors = np.abs(y_pred.ravel() - y_test.ravel())\n",
    "    error_confint = st.t.interval(alpha=0.95, df=len(errors)-1, loc=np.mean(errors), scale=st.sem(errors)) \n",
    "    resulting_intervals_estimation_error[n_terms] = error_confint"
   ]
  },
  {
   "cell_type": "code",
   "execution_count": 11,
   "metadata": {},
   "outputs": [
    {
     "data": {
      "text/html": [
       "<div>\n",
       "<style scoped>\n",
       "    .dataframe tbody tr th:only-of-type {\n",
       "        vertical-align: middle;\n",
       "    }\n",
       "\n",
       "    .dataframe tbody tr th {\n",
       "        vertical-align: top;\n",
       "    }\n",
       "\n",
       "    .dataframe thead th {\n",
       "        text-align: right;\n",
       "    }\n",
       "</style>\n",
       "<table border=\"1\" class=\"dataframe\">\n",
       "  <thead>\n",
       "    <tr style=\"text-align: right;\">\n",
       "      <th></th>\n",
       "      <th>n_terms</th>\n",
       "      <th>priority_difference_95%_confint</th>\n",
       "      <th>priority_estimation_error_95%_confint</th>\n",
       "    </tr>\n",
       "  </thead>\n",
       "  <tbody>\n",
       "    <tr>\n",
       "      <th>0</th>\n",
       "      <td>3</td>\n",
       "      <td>(0.07264316891113803, 0.0834474455869724)</td>\n",
       "      <td>(0.004143535086433256, 0.005945887181003547)</td>\n",
       "    </tr>\n",
       "    <tr>\n",
       "      <th>1</th>\n",
       "      <td>5</td>\n",
       "      <td>(0.08426089359469648, 0.09712742831978542)</td>\n",
       "      <td>(0.004568798208505782, 0.0060947738291328305)</td>\n",
       "    </tr>\n",
       "    <tr>\n",
       "      <th>2</th>\n",
       "      <td>7</td>\n",
       "      <td>(0.09399059825815591, 0.10860154766821269)</td>\n",
       "      <td>(0.00483617588822278, 0.006179077698847528)</td>\n",
       "    </tr>\n",
       "  </tbody>\n",
       "</table>\n",
       "</div>"
      ],
      "text/plain": [
       "   n_terms             priority_difference_95%_confint  \\\n",
       "0        3   (0.07264316891113803, 0.0834474455869724)   \n",
       "1        5  (0.08426089359469648, 0.09712742831978542)   \n",
       "2        7  (0.09399059825815591, 0.10860154766821269)   \n",
       "\n",
       "           priority_estimation_error_95%_confint  \n",
       "0   (0.004143535086433256, 0.005945887181003547)  \n",
       "1  (0.004568798208505782, 0.0060947738291328305)  \n",
       "2    (0.00483617588822278, 0.006179077698847528)  "
      ]
     },
     "execution_count": 11,
     "metadata": {},
     "output_type": "execute_result"
    }
   ],
   "source": [
    "df = []\n",
    "\n",
    "for n_terms in [3, 5, 7]:\n",
    "    record = {\n",
    "        'n_terms': n_terms, \n",
    "        'priority_difference_95%_confint': resulting_intervals[n_terms], \n",
    "        'priority_estimation_error_95%_confint': resulting_intervals_estimation_error[n_terms]\n",
    "    }\n",
    "    df.append(record)\n",
    "\n",
    "df = pd.DataFrame(df)\n",
    "df"
   ]
  },
  {
   "cell_type": "code",
   "execution_count": 12,
   "metadata": {},
   "outputs": [],
   "source": [
    "df.to_csv('results/efga_proof_confints.csv')"
   ]
  },
  {
   "cell_type": "code",
   "execution_count": null,
   "metadata": {},
   "outputs": [],
   "source": []
  }
 ],
 "metadata": {
  "kernelspec": {
   "display_name": "thesis",
   "language": "python",
   "name": "python3"
  },
  "language_info": {
   "codemirror_mode": {
    "name": "ipython",
    "version": 3
   },
   "file_extension": ".py",
   "mimetype": "text/x-python",
   "name": "python",
   "nbconvert_exporter": "python",
   "pygments_lexer": "ipython3",
   "version": "3.10.10"
  },
  "orig_nbformat": 4
 },
 "nbformat": 4,
 "nbformat_minor": 2
}
