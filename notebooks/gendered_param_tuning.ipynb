{
 "cells": [
  {
   "cell_type": "code",
   "execution_count": 1,
   "metadata": {},
   "outputs": [],
   "source": [
    "import os\n",
    "os.chdir('..')"
   ]
  },
  {
   "cell_type": "code",
   "execution_count": 18,
   "metadata": {},
   "outputs": [],
   "source": [
    "from typing import Any\n",
    "import pickle as pkl\n",
    "import numpy as np\n",
    "import pandas as pd\n",
    "from scipy.stats import friedmanchisquare"
   ]
  },
  {
   "cell_type": "code",
   "execution_count": 3,
   "metadata": {},
   "outputs": [],
   "source": [
    "from src.common.experiment_runners import run_experiments_gendered\n",
    "from src.common.fitness import (schwefel, ackley, griewank, rastrigin)\n",
    "from src.common.scales import scales"
   ]
  },
  {
   "cell_type": "code",
   "execution_count": 6,
   "metadata": {},
   "outputs": [],
   "source": [
    "! mkdir ./log/gendered_param_tuning/"
   ]
  },
  {
   "cell_type": "code",
   "execution_count": 4,
   "metadata": {},
   "outputs": [],
   "source": [
    "N_genomes = 200\n",
    "N_epochs = 500\n",
    "N_experiments = 25\n",
    "n_partitions_age = [3, 5, 7, 10, 15]\n",
    "rootdir: str = './log/gendered_param_tuning/'"
   ]
  },
  {
   "cell_type": "code",
   "execution_count": 6,
   "metadata": {},
   "outputs": [],
   "source": [
    "def caching_filename(function_name: str, n_experiments: int, n_partitions: int, d: str,) -> str: \n",
    "    return os.path.join(d, f'{function_name}_priority_{n_partitions}_experiments_{n_experiments}.pkl')\n",
    "\n",
    "def experiment_exists(function_name: str, n_experiments: int, n_partitions: int, d: str) -> bool:\n",
    "    pth = caching_filename(function_name, n_experiments, n_partitions, d)\n",
    "    return os.path.exists(pth)\n",
    "\n",
    "def cache_experiment(pth: str, experiment_obj: Any) -> None:\n",
    "    with open(pth, 'wb') as f:\n",
    "        pkl.dump(experiment_obj, f)"
   ]
  },
  {
   "cell_type": "code",
   "execution_count": 7,
   "metadata": {},
   "outputs": [],
   "source": [
    "def check_or_run(function: str, n_experiments: int, n_partitions: int, d: str,):\n",
    "    function_name = function.__name__\n",
    "    if not experiment_exists(function_name, n_experiments, n_partitions, d):\n",
    "        print('Running experiments...')\n",
    "        pth = caching_filename(function_name, n_experiments, n_partitions, d)\n",
    "        exp_artifacts = run_experiments_gendered(n_experiments=n_experiments, fitness_fn=function, population_scale=scales[function_name][0], \n",
    "                                     mutation_scale=scales[function_name][1], N=N_genomes, epochs=N_epochs, \n",
    "                                     n_partitions=n_partitions)\n",
    "        cache_experiment(pth, exp_artifacts)\n",
    "        "
   ]
  },
  {
   "cell_type": "code",
   "execution_count": 14,
   "metadata": {},
   "outputs": [
    {
     "name": "stdout",
     "output_type": "stream",
     "text": [
      "Running experiments...\n"
     ]
    },
    {
     "name": "stderr",
     "output_type": "stream",
     "text": [
      "100%|██████████| 40000/40000 [08:52<00:00, 75.17it/s] \n"
     ]
    },
    {
     "name": "stdout",
     "output_type": "stream",
     "text": [
      "/home/oleksandr/UT/Thesis/Implementations\n"
     ]
    },
    {
     "name": "stderr",
     "output_type": "stream",
     "text": [
      "100%|██████████| 500/500 [00:10<00:00, 46.94it/s]\n",
      "100%|██████████| 1/1 [09:04<00:00, 544.66s/it]\n"
     ]
    },
    {
     "name": "stdout",
     "output_type": "stream",
     "text": [
      "Running experiments...\n"
     ]
    },
    {
     "name": "stderr",
     "output_type": "stream",
     "text": [
      " 79%|███████▉  | 397/500 [00:06<00:01, 60.79it/s] \n",
      "100%|██████████| 1/1 [00:06<00:00,  6.55s/it]\n"
     ]
    },
    {
     "name": "stdout",
     "output_type": "stream",
     "text": [
      "Early stopping at epoch: 397, population died\n",
      "Running experiments...\n"
     ]
    },
    {
     "name": "stderr",
     "output_type": "stream",
     "text": [
      " 30%|██▉       | 149/500 [00:02<00:05, 64.45it/s] \n",
      "100%|██████████| 1/1 [00:02<00:00,  2.34s/it]\n"
     ]
    },
    {
     "name": "stdout",
     "output_type": "stream",
     "text": [
      "Early stopping at epoch: 149, population died\n",
      "Running experiments...\n"
     ]
    },
    {
     "name": "stderr",
     "output_type": "stream",
     "text": [
      "  0%|          | 0/1 [00:00<?, ?it/s]/home/oleksandr/UT/Thesis/Implementations/src/gendered_selection/helpers.py:16: RuntimeWarning: invalid value encountered in true_divide\n",
      "  phi_small = (fitness - f_min) / (f_avg - f_min)\n",
      "/home/oleksandr/UT/Thesis/Implementations/src/gendered_selection/helpers.py:17: RuntimeWarning: invalid value encountered in true_divide\n",
      "  phi_big = (fitness - f_avg) / (f_max - f_avg)\n",
      " 70%|███████   | 352/500 [00:13<00:05, 26.00it/s]\n",
      "100%|██████████| 1/1 [00:13<00:00, 13.57s/it]\n"
     ]
    },
    {
     "name": "stdout",
     "output_type": "stream",
     "text": [
      "Early stopping at epoch: 352, population died\n",
      "Running experiments...\n"
     ]
    },
    {
     "name": "stderr",
     "output_type": "stream",
     "text": [
      "100%|██████████| 500/500 [00:14<00:00, 33.81it/s]\n",
      "100%|██████████| 1/1 [00:14<00:00, 14.80s/it]\n"
     ]
    },
    {
     "name": "stdout",
     "output_type": "stream",
     "text": [
      "Running experiments...\n"
     ]
    },
    {
     "name": "stderr",
     "output_type": "stream",
     "text": [
      " 26%|██▌       | 130/500 [00:02<00:07, 52.02it/s]\n",
      "100%|██████████| 1/1 [00:02<00:00,  2.52s/it]\n"
     ]
    },
    {
     "name": "stdout",
     "output_type": "stream",
     "text": [
      "Early stopping at epoch: 130, population died\n",
      "Running experiments...\n"
     ]
    },
    {
     "name": "stderr",
     "output_type": "stream",
     "text": [
      " 77%|███████▋  | 383/500 [00:08<00:02, 44.12it/s]\n",
      "100%|██████████| 1/1 [00:08<00:00,  8.71s/it]\n"
     ]
    },
    {
     "name": "stdout",
     "output_type": "stream",
     "text": [
      "Early stopping at epoch: 383, population died\n",
      "Running experiments...\n"
     ]
    },
    {
     "name": "stderr",
     "output_type": "stream",
     "text": [
      " 64%|██████▍   | 320/500 [00:11<00:06, 27.14it/s]\n",
      "100%|██████████| 1/1 [00:11<00:00, 11.80s/it]\n"
     ]
    },
    {
     "name": "stdout",
     "output_type": "stream",
     "text": [
      "Early stopping at epoch: 320, population died\n",
      "Running experiments...\n"
     ]
    },
    {
     "name": "stderr",
     "output_type": "stream",
     "text": [
      "100%|██████████| 40000/40000 [09:43<00:00, 68.54it/s] \n"
     ]
    },
    {
     "name": "stdout",
     "output_type": "stream",
     "text": [
      "/home/oleksandr/UT/Thesis/Implementations\n"
     ]
    },
    {
     "name": "stderr",
     "output_type": "stream",
     "text": [
      " 35%|███▌      | 177/500 [00:00<00:01, 211.10it/s]\n",
      "100%|██████████| 1/1 [09:46<00:00, 586.92s/it]\n"
     ]
    },
    {
     "name": "stdout",
     "output_type": "stream",
     "text": [
      "Early stopping at epoch: 177, population died\n",
      "Running experiments...\n"
     ]
    },
    {
     "name": "stderr",
     "output_type": "stream",
     "text": [
      " 21%|██        | 106/500 [00:00<00:01, 225.49it/s]\n",
      "100%|██████████| 1/1 [00:00<00:00,  2.08it/s]\n"
     ]
    },
    {
     "name": "stdout",
     "output_type": "stream",
     "text": [
      "Early stopping at epoch: 106, population died\n",
      "Running experiments...\n"
     ]
    },
    {
     "name": "stderr",
     "output_type": "stream",
     "text": [
      " 26%|██▋       | 132/500 [00:01<00:02, 130.59it/s]\n",
      "100%|██████████| 1/1 [00:01<00:00,  1.02s/it]\n"
     ]
    },
    {
     "name": "stdout",
     "output_type": "stream",
     "text": [
      "Early stopping at epoch: 132, population died\n",
      "Running experiments...\n"
     ]
    },
    {
     "name": "stderr",
     "output_type": "stream",
     "text": [
      "100%|██████████| 500/500 [00:08<00:00, 61.42it/s] \n",
      "100%|██████████| 1/1 [00:08<00:00,  8.15s/it]\n"
     ]
    },
    {
     "name": "stdout",
     "output_type": "stream",
     "text": [
      "Running experiments...\n"
     ]
    },
    {
     "name": "stderr",
     "output_type": "stream",
     "text": [
      "100%|██████████| 40000/40000 [09:09<00:00, 72.74it/s] \n"
     ]
    },
    {
     "name": "stdout",
     "output_type": "stream",
     "text": [
      "/home/oleksandr/UT/Thesis/Implementations\n"
     ]
    },
    {
     "name": "stderr",
     "output_type": "stream",
     "text": [
      " 35%|███▌      | 176/500 [00:01<00:02, 112.36it/s]\n",
      "100%|██████████| 1/1 [09:11<00:00, 551.66s/it]\n"
     ]
    },
    {
     "name": "stdout",
     "output_type": "stream",
     "text": [
      "Early stopping at epoch: 176, population died\n",
      "Running experiments...\n"
     ]
    },
    {
     "name": "stderr",
     "output_type": "stream",
     "text": [
      " 37%|███▋      | 185/500 [00:01<00:02, 122.28it/s]\n",
      "100%|██████████| 1/1 [00:01<00:00,  1.53s/it]\n"
     ]
    },
    {
     "name": "stdout",
     "output_type": "stream",
     "text": [
      "Early stopping at epoch: 185, population died\n",
      "Running experiments...\n"
     ]
    },
    {
     "name": "stderr",
     "output_type": "stream",
     "text": [
      "100%|██████████| 500/500 [00:04<00:00, 121.04it/s]\n",
      "100%|██████████| 1/1 [00:04<00:00,  4.15s/it]\n"
     ]
    },
    {
     "name": "stdout",
     "output_type": "stream",
     "text": [
      "Running experiments...\n"
     ]
    },
    {
     "name": "stderr",
     "output_type": "stream",
     "text": [
      " 76%|███████▌  | 381/500 [00:08<00:02, 46.99it/s]\n",
      "100%|██████████| 1/1 [00:08<00:00,  8.12s/it]\n"
     ]
    },
    {
     "name": "stdout",
     "output_type": "stream",
     "text": [
      "Early stopping at epoch: 381, population died\n",
      "Running experiments...\n"
     ]
    },
    {
     "name": "stderr",
     "output_type": "stream",
     "text": [
      "100%|██████████| 40000/40000 [11:26<00:00, 58.30it/s]\n"
     ]
    },
    {
     "name": "stdout",
     "output_type": "stream",
     "text": [
      "/home/oleksandr/UT/Thesis/Implementations\n"
     ]
    },
    {
     "name": "stderr",
     "output_type": "stream",
     "text": [
      " 53%|█████▎    | 263/500 [00:01<00:01, 226.07it/s]\n",
      "100%|██████████| 1/1 [11:27<00:00, 687.64s/it]\n"
     ]
    },
    {
     "name": "stdout",
     "output_type": "stream",
     "text": [
      "Early stopping at epoch: 263, population died\n",
      "Running experiments...\n"
     ]
    },
    {
     "name": "stderr",
     "output_type": "stream",
     "text": [
      " 24%|██▍       | 120/500 [00:00<00:01, 209.49it/s]\n",
      "100%|██████████| 1/1 [00:00<00:00,  1.71it/s]\n"
     ]
    },
    {
     "name": "stdout",
     "output_type": "stream",
     "text": [
      "Early stopping at epoch: 120, population died\n",
      "Running experiments...\n"
     ]
    },
    {
     "name": "stderr",
     "output_type": "stream",
     "text": [
      " 32%|███▏      | 159/500 [00:00<00:02, 165.57it/s]\n",
      "100%|██████████| 1/1 [00:00<00:00,  1.03it/s]\n"
     ]
    },
    {
     "name": "stdout",
     "output_type": "stream",
     "text": [
      "Early stopping at epoch: 159, population died\n",
      "Running experiments...\n"
     ]
    },
    {
     "name": "stderr",
     "output_type": "stream",
     "text": [
      "100%|██████████| 500/500 [00:07<00:00, 62.55it/s] \n",
      "100%|██████████| 1/1 [00:08<00:00,  8.00s/it]\n"
     ]
    }
   ],
   "source": [
    "# Dry-run \n",
    "N_experiments=1\n",
    "for n_partitions in n_partitions_age:\n",
    "    for func in (schwefel, ackley, griewank, rastrigin):\n",
    "        check_or_run(func, n_experiments=N_experiments, n_partitions=n_partitions, d=rootdir)"
   ]
  },
  {
   "cell_type": "code",
   "execution_count": 8,
   "metadata": {},
   "outputs": [
    {
     "name": "stdout",
     "output_type": "stream",
     "text": [
      "schwefel 3\n",
      "ackley 3\n",
      "griewank 3\n",
      "rastrigin 3\n",
      "Running experiments...\n"
     ]
    },
    {
     "name": "stderr",
     "output_type": "stream",
     "text": [
      " 70%|███████   | 352/500 [00:08<00:03, 43.68it/s] \n",
      "  4%|▍         | 1/25 [00:08<03:13,  8.07s/it]"
     ]
    },
    {
     "name": "stdout",
     "output_type": "stream",
     "text": [
      "Early stopping at epoch: 352, population died\n"
     ]
    },
    {
     "name": "stderr",
     "output_type": "stream",
     "text": [
      " 85%|████████▌ | 425/500 [00:08<00:01, 51.63it/s] \n",
      "  8%|▊         | 2/25 [00:16<03:07,  8.17s/it]"
     ]
    },
    {
     "name": "stdout",
     "output_type": "stream",
     "text": [
      "Early stopping at epoch: 425, population died\n"
     ]
    },
    {
     "name": "stderr",
     "output_type": "stream",
     "text": [
      " 83%|████████▎ | 415/500 [00:06<00:01, 61.66it/s] \n",
      " 12%|█▏        | 3/25 [00:23<02:45,  7.52s/it]"
     ]
    },
    {
     "name": "stdout",
     "output_type": "stream",
     "text": [
      "Early stopping at epoch: 415, population died\n"
     ]
    },
    {
     "name": "stderr",
     "output_type": "stream",
     "text": [
      " 65%|██████▌   | 327/500 [00:06<00:03, 49.81it/s] \n",
      " 16%|█▌        | 4/25 [00:29<02:30,  7.15s/it]"
     ]
    },
    {
     "name": "stdout",
     "output_type": "stream",
     "text": [
      "Early stopping at epoch: 327, population died\n"
     ]
    },
    {
     "name": "stderr",
     "output_type": "stream",
     "text": [
      "100%|██████████| 500/500 [00:07<00:00, 65.18it/s] \n",
      " 85%|████████▌ | 426/500 [00:05<00:01, 71.98it/s] \n",
      " 24%|██▍       | 6/25 [00:43<02:10,  6.86s/it]"
     ]
    },
    {
     "name": "stdout",
     "output_type": "stream",
     "text": [
      "Early stopping at epoch: 426, population died\n"
     ]
    },
    {
     "name": "stderr",
     "output_type": "stream",
     "text": [
      "100%|██████████| 500/500 [00:07<00:00, 70.57it/s] \n",
      "100%|██████████| 500/500 [00:07<00:00, 70.15it/s] \n",
      " 59%|█████▉    | 297/500 [00:05<00:03, 52.64it/s] \n",
      " 36%|███▌      | 9/25 [01:03<01:45,  6.58s/it]"
     ]
    },
    {
     "name": "stdout",
     "output_type": "stream",
     "text": [
      "Early stopping at epoch: 297, population died\n"
     ]
    },
    {
     "name": "stderr",
     "output_type": "stream",
     "text": [
      " 62%|██████▏   | 311/500 [00:05<00:03, 53.16it/s] \n",
      " 40%|████      | 10/25 [01:08<01:35,  6.36s/it]"
     ]
    },
    {
     "name": "stdout",
     "output_type": "stream",
     "text": [
      "Early stopping at epoch: 311, population died\n"
     ]
    },
    {
     "name": "stderr",
     "output_type": "stream",
     "text": [
      " 66%|██████▌   | 328/500 [00:05<00:03, 56.71it/s] \n",
      " 44%|████▍     | 11/25 [01:14<01:26,  6.18s/it]"
     ]
    },
    {
     "name": "stdout",
     "output_type": "stream",
     "text": [
      "Early stopping at epoch: 328, population died\n"
     ]
    },
    {
     "name": "stderr",
     "output_type": "stream",
     "text": [
      " 67%|██████▋   | 335/500 [00:06<00:03, 53.89it/s] \n",
      " 48%|████▊     | 12/25 [01:21<01:20,  6.20s/it]"
     ]
    },
    {
     "name": "stdout",
     "output_type": "stream",
     "text": [
      "Early stopping at epoch: 335, population died\n"
     ]
    },
    {
     "name": "stderr",
     "output_type": "stream",
     "text": [
      "100%|██████████| 500/500 [00:06<00:00, 73.78it/s] \n",
      "100%|██████████| 500/500 [00:06<00:00, 83.10it/s] \n",
      "100%|██████████| 500/500 [00:05<00:00, 84.68it/s] \n",
      "100%|██████████| 500/500 [00:06<00:00, 81.77it/s] \n",
      " 94%|█████████▍| 471/500 [00:06<00:00, 73.08it/s] \n",
      " 68%|██████▊   | 17/25 [01:52<00:49,  6.24s/it]"
     ]
    },
    {
     "name": "stdout",
     "output_type": "stream",
     "text": [
      "Early stopping at epoch: 471, population died\n"
     ]
    },
    {
     "name": "stderr",
     "output_type": "stream",
     "text": [
      " 96%|█████████▌| 478/500 [00:06<00:00, 74.97it/s] \n",
      " 72%|███████▏  | 18/25 [01:58<00:43,  6.29s/it]"
     ]
    },
    {
     "name": "stdout",
     "output_type": "stream",
     "text": [
      "Early stopping at epoch: 478, population died\n"
     ]
    },
    {
     "name": "stderr",
     "output_type": "stream",
     "text": [
      "100%|██████████| 500/500 [00:06<00:00, 75.51it/s] \n",
      " 59%|█████▉    | 294/500 [00:05<00:03, 52.56it/s] \n",
      " 80%|████████  | 20/25 [02:10<00:30,  6.15s/it]"
     ]
    },
    {
     "name": "stdout",
     "output_type": "stream",
     "text": [
      "Early stopping at epoch: 294, population died\n"
     ]
    },
    {
     "name": "stderr",
     "output_type": "stream",
     "text": [
      " 92%|█████████▏| 460/500 [00:05<00:00, 80.70it/s] \n",
      " 84%|████████▍ | 21/25 [02:16<00:24,  6.02s/it]"
     ]
    },
    {
     "name": "stdout",
     "output_type": "stream",
     "text": [
      "Early stopping at epoch: 460, population died\n"
     ]
    },
    {
     "name": "stderr",
     "output_type": "stream",
     "text": [
      "100%|█████████▉| 498/500 [00:06<00:00, 77.24it/s] \n",
      " 88%|████████▊ | 22/25 [02:23<00:18,  6.15s/it]"
     ]
    },
    {
     "name": "stdout",
     "output_type": "stream",
     "text": [
      "Early stopping at epoch: 498, population died\n"
     ]
    },
    {
     "name": "stderr",
     "output_type": "stream",
     "text": [
      "100%|██████████| 500/500 [00:06<00:00, 80.82it/s] \n",
      " 76%|███████▌  | 380/500 [00:06<00:01, 62.14it/s] \n",
      " 96%|█████████▌| 24/25 [02:35<00:06,  6.15s/it]"
     ]
    },
    {
     "name": "stdout",
     "output_type": "stream",
     "text": [
      "Early stopping at epoch: 380, population died\n"
     ]
    },
    {
     "name": "stderr",
     "output_type": "stream",
     "text": [
      " 93%|█████████▎| 465/500 [00:05<00:00, 78.30it/s] \n",
      "100%|██████████| 25/25 [02:41<00:00,  6.46s/it]\n"
     ]
    },
    {
     "name": "stdout",
     "output_type": "stream",
     "text": [
      "Early stopping at epoch: 465, population died\n",
      "schwefel 5\n",
      "Running experiments...\n"
     ]
    },
    {
     "name": "stderr",
     "output_type": "stream",
     "text": [
      "100%|██████████| 500/500 [00:05<00:00, 87.02it/s]\n",
      " 41%|████      | 203/500 [00:00<00:01, 287.85it/s]\n",
      "  8%|▊         | 2/25 [00:06<01:04,  2.79s/it]"
     ]
    },
    {
     "name": "stdout",
     "output_type": "stream",
     "text": [
      "Early stopping at epoch: 203, population died\n"
     ]
    },
    {
     "name": "stderr",
     "output_type": "stream",
     "text": [
      " 37%|███▋      | 186/500 [00:01<00:02, 127.33it/s]\n",
      " 12%|█▏        | 3/25 [00:07<00:48,  2.19s/it]"
     ]
    },
    {
     "name": "stdout",
     "output_type": "stream",
     "text": [
      "Early stopping at epoch: 186, population died\n"
     ]
    },
    {
     "name": "stderr",
     "output_type": "stream",
     "text": [
      " 22%|██▏       | 112/500 [00:01<00:03, 97.72it/s] \n",
      " 16%|█▌        | 4/25 [00:09<00:37,  1.78s/it]"
     ]
    },
    {
     "name": "stdout",
     "output_type": "stream",
     "text": [
      "Early stopping at epoch: 112, population died\n"
     ]
    },
    {
     "name": "stderr",
     "output_type": "stream",
     "text": [
      " 20%|██        | 102/500 [00:00<00:03, 109.75it/s]\n",
      " 20%|██        | 5/25 [00:10<00:29,  1.48s/it]"
     ]
    },
    {
     "name": "stdout",
     "output_type": "stream",
     "text": [
      "Early stopping at epoch: 102, population died\n"
     ]
    },
    {
     "name": "stderr",
     "output_type": "stream",
     "text": [
      "100%|██████████| 500/500 [00:05<00:00, 98.28it/s]\n",
      "100%|██████████| 500/500 [00:07<00:00, 63.65it/s] \n",
      "100%|██████████| 500/500 [00:05<00:00, 86.86it/s]\n",
      "100%|██████████| 500/500 [00:03<00:00, 159.67it/s]\n",
      "100%|██████████| 500/500 [00:04<00:00, 112.00it/s]\n",
      "100%|██████████| 500/500 [00:07<00:00, 69.34it/s]\n",
      " 37%|███▋      | 183/500 [00:00<00:01, 289.82it/s]\n",
      " 48%|████▊     | 12/25 [00:44<00:49,  3.84s/it]"
     ]
    },
    {
     "name": "stdout",
     "output_type": "stream",
     "text": [
      "Early stopping at epoch: 183, population died\n"
     ]
    },
    {
     "name": "stderr",
     "output_type": "stream",
     "text": [
      "100%|██████████| 500/500 [00:02<00:00, 176.70it/s]\n",
      "100%|██████████| 500/500 [00:01<00:00, 345.97it/s]\n",
      "100%|██████████| 500/500 [00:03<00:00, 139.40it/s]\n",
      " 38%|███▊      | 190/500 [00:00<00:00, 321.90it/s]\n",
      " 64%|██████▍   | 16/25 [00:52<00:21,  2.36s/it]"
     ]
    },
    {
     "name": "stdout",
     "output_type": "stream",
     "text": [
      "Early stopping at epoch: 190, population died\n"
     ]
    },
    {
     "name": "stderr",
     "output_type": "stream",
     "text": [
      "100%|██████████| 500/500 [00:07<00:00, 70.78it/s]\n",
      "100%|██████████| 500/500 [00:01<00:00, 310.68it/s]\n",
      " 51%|█████     | 253/500 [00:00<00:00, 392.66it/s]\n",
      " 76%|███████▌  | 19/25 [01:02<00:14,  2.38s/it]"
     ]
    },
    {
     "name": "stdout",
     "output_type": "stream",
     "text": [
      "Early stopping at epoch: 253, population died\n"
     ]
    },
    {
     "name": "stderr",
     "output_type": "stream",
     "text": [
      " 32%|███▏      | 161/500 [00:00<00:00, 361.31it/s]\n",
      " 80%|████████  | 20/25 [01:02<00:09,  1.80s/it]"
     ]
    },
    {
     "name": "stdout",
     "output_type": "stream",
     "text": [
      "Early stopping at epoch: 161, population died\n"
     ]
    },
    {
     "name": "stderr",
     "output_type": "stream",
     "text": [
      "100%|██████████| 500/500 [00:05<00:00, 92.76it/s]\n",
      "100%|██████████| 500/500 [00:07<00:00, 65.58it/s]\n",
      " 39%|███▉      | 197/500 [00:00<00:00, 367.89it/s]\n",
      " 92%|█████████▏| 23/25 [01:16<00:06,  3.18s/it]"
     ]
    },
    {
     "name": "stdout",
     "output_type": "stream",
     "text": [
      "Early stopping at epoch: 197, population died\n"
     ]
    },
    {
     "name": "stderr",
     "output_type": "stream",
     "text": [
      " 52%|█████▏    | 260/500 [00:00<00:00, 315.33it/s]\n",
      " 96%|█████████▌| 24/25 [01:16<00:02,  2.48s/it]"
     ]
    },
    {
     "name": "stdout",
     "output_type": "stream",
     "text": [
      "Early stopping at epoch: 260, population died\n"
     ]
    },
    {
     "name": "stderr",
     "output_type": "stream",
     "text": [
      " 23%|██▎       | 116/500 [00:00<00:01, 239.63it/s]\n",
      "100%|██████████| 25/25 [01:17<00:00,  3.10s/it]\n"
     ]
    },
    {
     "name": "stdout",
     "output_type": "stream",
     "text": [
      "Early stopping at epoch: 116, population died\n",
      "ackley 5\n",
      "Running experiments...\n"
     ]
    },
    {
     "name": "stderr",
     "output_type": "stream",
     "text": [
      " 26%|██▌       | 130/500 [00:00<00:02, 150.07it/s]\n",
      "  4%|▍         | 1/25 [00:00<00:21,  1.14it/s]"
     ]
    },
    {
     "name": "stdout",
     "output_type": "stream",
     "text": [
      "Early stopping at epoch: 130, population died\n"
     ]
    },
    {
     "name": "stderr",
     "output_type": "stream",
     "text": [
      " 21%|██        | 104/500 [00:00<00:01, 237.25it/s]\n",
      "  8%|▊         | 2/25 [00:01<00:14,  1.59it/s]"
     ]
    },
    {
     "name": "stdout",
     "output_type": "stream",
     "text": [
      "Early stopping at epoch: 104, population died\n"
     ]
    },
    {
     "name": "stderr",
     "output_type": "stream",
     "text": [
      " 34%|███▎      | 168/500 [00:01<00:03, 103.75it/s]\n",
      " 12%|█▏        | 3/25 [00:02<00:23,  1.09s/it]"
     ]
    },
    {
     "name": "stdout",
     "output_type": "stream",
     "text": [
      "Early stopping at epoch: 168, population died\n"
     ]
    },
    {
     "name": "stderr",
     "output_type": "stream",
     "text": [
      " 81%|████████  | 404/500 [00:03<00:00, 126.03it/s]\n",
      " 16%|█▌        | 4/25 [00:06<00:40,  1.93s/it]"
     ]
    },
    {
     "name": "stdout",
     "output_type": "stream",
     "text": [
      "Early stopping at epoch: 404, population died\n"
     ]
    },
    {
     "name": "stderr",
     "output_type": "stream",
     "text": [
      " 29%|██▉       | 145/500 [00:01<00:02, 143.67it/s]\n",
      " 20%|██        | 5/25 [00:07<00:32,  1.60s/it]"
     ]
    },
    {
     "name": "stdout",
     "output_type": "stream",
     "text": [
      "Early stopping at epoch: 145, population died\n"
     ]
    },
    {
     "name": "stderr",
     "output_type": "stream",
     "text": [
      " 62%|██████▏   | 312/500 [00:00<00:00, 370.11it/s]\n",
      " 24%|██▍       | 6/25 [00:08<00:25,  1.35s/it]"
     ]
    },
    {
     "name": "stdout",
     "output_type": "stream",
     "text": [
      "Early stopping at epoch: 312, population died\n"
     ]
    },
    {
     "name": "stderr",
     "output_type": "stream",
     "text": [
      " 25%|██▍       | 124/500 [00:00<00:01, 196.03it/s]\n",
      " 28%|██▊       | 7/25 [00:08<00:20,  1.12s/it]"
     ]
    },
    {
     "name": "stdout",
     "output_type": "stream",
     "text": [
      "Early stopping at epoch: 124, population died\n"
     ]
    },
    {
     "name": "stderr",
     "output_type": "stream",
     "text": [
      " 34%|███▍      | 172/500 [00:00<00:01, 265.65it/s]\n",
      " 32%|███▏      | 8/25 [00:09<00:16,  1.03it/s]"
     ]
    },
    {
     "name": "stdout",
     "output_type": "stream",
     "text": [
      "Early stopping at epoch: 172, population died\n"
     ]
    },
    {
     "name": "stderr",
     "output_type": "stream",
     "text": [
      " 15%|█▌        | 75/500 [00:00<00:01, 270.54it/s]\n",
      " 36%|███▌      | 9/25 [00:09<00:12,  1.32it/s]"
     ]
    },
    {
     "name": "stdout",
     "output_type": "stream",
     "text": [
      "Early stopping at epoch: 75, population died\n"
     ]
    },
    {
     "name": "stderr",
     "output_type": "stream",
     "text": [
      " 46%|████▌     | 228/500 [00:00<00:00, 397.89it/s]\n",
      " 40%|████      | 10/25 [00:10<00:10,  1.42it/s]"
     ]
    },
    {
     "name": "stdout",
     "output_type": "stream",
     "text": [
      "Early stopping at epoch: 228, population died\n"
     ]
    },
    {
     "name": "stderr",
     "output_type": "stream",
     "text": [
      " 70%|███████   | 350/500 [00:00<00:00, 397.07it/s]\n",
      " 44%|████▍     | 11/25 [00:11<00:10,  1.31it/s]"
     ]
    },
    {
     "name": "stdout",
     "output_type": "stream",
     "text": [
      "Early stopping at epoch: 350, population died\n"
     ]
    },
    {
     "name": "stderr",
     "output_type": "stream",
     "text": [
      " 42%|████▏     | 208/500 [00:00<00:00, 347.05it/s]\n",
      " 48%|████▊     | 12/25 [00:11<00:09,  1.40it/s]"
     ]
    },
    {
     "name": "stdout",
     "output_type": "stream",
     "text": [
      "Early stopping at epoch: 208, population died\n"
     ]
    },
    {
     "name": "stderr",
     "output_type": "stream",
     "text": [
      " 47%|████▋     | 237/500 [00:00<00:00, 303.73it/s]\n",
      " 52%|█████▏    | 13/25 [00:12<00:08,  1.35it/s]"
     ]
    },
    {
     "name": "stdout",
     "output_type": "stream",
     "text": [
      "Early stopping at epoch: 237, population died\n"
     ]
    },
    {
     "name": "stderr",
     "output_type": "stream",
     "text": [
      " 63%|██████▎   | 313/500 [00:00<00:00, 417.81it/s]\n",
      " 56%|█████▌    | 14/25 [00:13<00:08,  1.34it/s]"
     ]
    },
    {
     "name": "stdout",
     "output_type": "stream",
     "text": [
      "Early stopping at epoch: 313, population died\n"
     ]
    },
    {
     "name": "stderr",
     "output_type": "stream",
     "text": [
      " 34%|███▍      | 172/500 [00:00<00:01, 323.34it/s]\n",
      " 60%|██████    | 15/25 [00:13<00:06,  1.46it/s]"
     ]
    },
    {
     "name": "stdout",
     "output_type": "stream",
     "text": [
      "Early stopping at epoch: 172, population died\n"
     ]
    },
    {
     "name": "stderr",
     "output_type": "stream",
     "text": [
      " 31%|███       | 154/500 [00:01<00:02, 124.70it/s]\n",
      " 64%|██████▍   | 16/25 [00:15<00:07,  1.17it/s]"
     ]
    },
    {
     "name": "stdout",
     "output_type": "stream",
     "text": [
      "Early stopping at epoch: 154, population died\n"
     ]
    },
    {
     "name": "stderr",
     "output_type": "stream",
     "text": [
      " 17%|█▋        | 85/500 [00:01<00:05, 82.46it/s]\n",
      " 68%|██████▊   | 17/25 [00:16<00:07,  1.10it/s]"
     ]
    },
    {
     "name": "stdout",
     "output_type": "stream",
     "text": [
      "Early stopping at epoch: 85, population died\n"
     ]
    },
    {
     "name": "stderr",
     "output_type": "stream",
     "text": [
      " 28%|██▊       | 140/500 [00:01<00:03, 101.11it/s]\n",
      " 72%|███████▏  | 18/25 [00:17<00:07,  1.06s/it]"
     ]
    },
    {
     "name": "stdout",
     "output_type": "stream",
     "text": [
      "Early stopping at epoch: 140, population died\n"
     ]
    },
    {
     "name": "stderr",
     "output_type": "stream",
     "text": [
      " 20%|█▉        | 99/500 [00:00<00:03, 105.51it/s]\n",
      " 76%|███████▌  | 19/25 [00:18<00:06,  1.03s/it]"
     ]
    },
    {
     "name": "stdout",
     "output_type": "stream",
     "text": [
      "Early stopping at epoch: 99, population died\n"
     ]
    },
    {
     "name": "stderr",
     "output_type": "stream",
     "text": [
      " 18%|█▊        | 89/500 [00:00<00:04, 96.39it/s]\n",
      " 80%|████████  | 20/25 [00:19<00:04,  1.00it/s]"
     ]
    },
    {
     "name": "stdout",
     "output_type": "stream",
     "text": [
      "Early stopping at epoch: 89, population died\n"
     ]
    },
    {
     "name": "stderr",
     "output_type": "stream",
     "text": [
      " 53%|█████▎    | 266/500 [00:00<00:00, 347.23it/s]\n",
      " 84%|████████▍ | 21/25 [00:20<00:03,  1.07it/s]"
     ]
    },
    {
     "name": "stdout",
     "output_type": "stream",
     "text": [
      "Early stopping at epoch: 266, population died\n"
     ]
    },
    {
     "name": "stderr",
     "output_type": "stream",
     "text": [
      " 35%|███▌      | 176/500 [00:00<00:00, 361.58it/s]\n",
      " 88%|████████▊ | 22/25 [00:20<00:02,  1.25it/s]"
     ]
    },
    {
     "name": "stdout",
     "output_type": "stream",
     "text": [
      "Early stopping at epoch: 176, population died\n"
     ]
    },
    {
     "name": "stderr",
     "output_type": "stream",
     "text": [
      " 49%|████▉     | 247/500 [00:02<00:02, 114.71it/s]\n",
      " 92%|█████████▏| 23/25 [00:22<00:02,  1.21s/it]"
     ]
    },
    {
     "name": "stdout",
     "output_type": "stream",
     "text": [
      "Early stopping at epoch: 247, population died\n"
     ]
    },
    {
     "name": "stderr",
     "output_type": "stream",
     "text": [
      " 87%|████████▋ | 437/500 [00:01<00:00, 415.25it/s]\n",
      " 96%|█████████▌| 24/25 [00:23<00:01,  1.17s/it]"
     ]
    },
    {
     "name": "stdout",
     "output_type": "stream",
     "text": [
      "Early stopping at epoch: 437, population died\n"
     ]
    },
    {
     "name": "stderr",
     "output_type": "stream",
     "text": [
      " 28%|██▊       | 142/500 [00:00<00:01, 275.56it/s]\n",
      "100%|██████████| 25/25 [00:24<00:00,  1.02it/s]\n"
     ]
    },
    {
     "name": "stdout",
     "output_type": "stream",
     "text": [
      "Early stopping at epoch: 142, population died\n",
      "griewank 5\n",
      "Running experiments...\n"
     ]
    },
    {
     "name": "stderr",
     "output_type": "stream",
     "text": [
      " 77%|███████▋  | 383/500 [00:03<00:00, 121.78it/s]\n",
      "  4%|▍         | 1/25 [00:03<01:15,  3.16s/it]"
     ]
    },
    {
     "name": "stdout",
     "output_type": "stream",
     "text": [
      "Early stopping at epoch: 383, population died\n"
     ]
    },
    {
     "name": "stderr",
     "output_type": "stream",
     "text": [
      " 40%|███▉      | 199/500 [00:02<00:03, 79.27it/s]\n",
      "  8%|▊         | 2/25 [00:05<01:04,  2.78s/it]"
     ]
    },
    {
     "name": "stdout",
     "output_type": "stream",
     "text": [
      "Early stopping at epoch: 199, population died\n"
     ]
    },
    {
     "name": "stderr",
     "output_type": "stream",
     "text": [
      " 36%|███▌      | 179/500 [00:01<00:03, 98.83it/s] \n",
      " 12%|█▏        | 3/25 [00:07<00:51,  2.34s/it]"
     ]
    },
    {
     "name": "stdout",
     "output_type": "stream",
     "text": [
      "Early stopping at epoch: 179, population died\n"
     ]
    },
    {
     "name": "stderr",
     "output_type": "stream",
     "text": [
      " 55%|█████▌    | 276/500 [00:01<00:01, 168.78it/s]\n",
      " 16%|█▌        | 4/25 [00:09<00:43,  2.07s/it]"
     ]
    },
    {
     "name": "stdout",
     "output_type": "stream",
     "text": [
      "Early stopping at epoch: 276, population died\n"
     ]
    },
    {
     "name": "stderr",
     "output_type": "stream",
     "text": [
      " 39%|███▉      | 195/500 [00:01<00:01, 185.62it/s]\n",
      " 20%|██        | 5/25 [00:10<00:34,  1.71s/it]"
     ]
    },
    {
     "name": "stdout",
     "output_type": "stream",
     "text": [
      "Early stopping at epoch: 195, population died\n"
     ]
    },
    {
     "name": "stderr",
     "output_type": "stream",
     "text": [
      " 48%|████▊     | 238/500 [00:01<00:01, 227.39it/s]\n",
      " 24%|██▍       | 6/25 [00:11<00:28,  1.49s/it]"
     ]
    },
    {
     "name": "stdout",
     "output_type": "stream",
     "text": [
      "Early stopping at epoch: 238, population died\n"
     ]
    },
    {
     "name": "stderr",
     "output_type": "stream",
     "text": [
      " 39%|███▉      | 196/500 [00:00<00:01, 199.62it/s]\n",
      " 28%|██▊       | 7/25 [00:12<00:23,  1.33s/it]"
     ]
    },
    {
     "name": "stdout",
     "output_type": "stream",
     "text": [
      "Early stopping at epoch: 196, population died\n"
     ]
    },
    {
     "name": "stderr",
     "output_type": "stream",
     "text": [
      " 46%|████▌     | 228/500 [00:00<00:00, 283.82it/s]\n",
      " 32%|███▏      | 8/25 [00:13<00:19,  1.16s/it]"
     ]
    },
    {
     "name": "stdout",
     "output_type": "stream",
     "text": [
      "Early stopping at epoch: 228, population died\n"
     ]
    },
    {
     "name": "stderr",
     "output_type": "stream",
     "text": [
      " 30%|███       | 151/500 [00:00<00:01, 187.42it/s]\n",
      " 36%|███▌      | 9/25 [00:13<00:16,  1.05s/it]"
     ]
    },
    {
     "name": "stdout",
     "output_type": "stream",
     "text": [
      "Early stopping at epoch: 151, population died\n"
     ]
    },
    {
     "name": "stderr",
     "output_type": "stream",
     "text": [
      " 33%|███▎      | 164/500 [00:00<00:01, 208.96it/s]\n",
      " 40%|████      | 10/25 [00:14<00:14,  1.03it/s]"
     ]
    },
    {
     "name": "stdout",
     "output_type": "stream",
     "text": [
      "Early stopping at epoch: 164, population died\n"
     ]
    },
    {
     "name": "stderr",
     "output_type": "stream",
     "text": [
      " 63%|██████▎   | 317/500 [00:03<00:01, 103.26it/s]\n",
      " 44%|████▍     | 11/25 [00:17<00:22,  1.62s/it]"
     ]
    },
    {
     "name": "stdout",
     "output_type": "stream",
     "text": [
      "Early stopping at epoch: 317, population died\n"
     ]
    },
    {
     "name": "stderr",
     "output_type": "stream",
     "text": [
      " 33%|███▎      | 167/500 [00:01<00:03, 92.93it/s] \n",
      " 48%|████▊     | 12/25 [00:19<00:21,  1.68s/it]"
     ]
    },
    {
     "name": "stdout",
     "output_type": "stream",
     "text": [
      "Early stopping at epoch: 167, population died\n"
     ]
    },
    {
     "name": "stderr",
     "output_type": "stream",
     "text": [
      " 39%|███▊      | 193/500 [00:01<00:02, 141.52it/s]\n",
      " 52%|█████▏    | 13/25 [00:20<00:19,  1.59s/it]"
     ]
    },
    {
     "name": "stdout",
     "output_type": "stream",
     "text": [
      "Early stopping at epoch: 193, population died\n"
     ]
    },
    {
     "name": "stderr",
     "output_type": "stream",
     "text": [
      " 18%|█▊        | 90/500 [00:00<00:03, 136.57it/s]\n",
      " 56%|█████▌    | 14/25 [00:21<00:14,  1.31s/it]"
     ]
    },
    {
     "name": "stdout",
     "output_type": "stream",
     "text": [
      "Early stopping at epoch: 90, population died\n"
     ]
    },
    {
     "name": "stderr",
     "output_type": "stream",
     "text": [
      " 56%|█████▌    | 280/500 [00:01<00:01, 155.02it/s]\n",
      " 60%|██████    | 15/25 [00:23<00:14,  1.46s/it]"
     ]
    },
    {
     "name": "stdout",
     "output_type": "stream",
     "text": [
      "Early stopping at epoch: 280, population died\n"
     ]
    },
    {
     "name": "stderr",
     "output_type": "stream",
     "text": [
      " 54%|█████▍    | 269/500 [00:01<00:01, 149.28it/s]\n",
      " 64%|██████▍   | 16/25 [00:25<00:14,  1.57s/it]"
     ]
    },
    {
     "name": "stdout",
     "output_type": "stream",
     "text": [
      "Early stopping at epoch: 269, population died\n"
     ]
    },
    {
     "name": "stderr",
     "output_type": "stream",
     "text": [
      " 50%|█████     | 250/500 [00:01<00:01, 228.05it/s]\n",
      " 68%|██████▊   | 17/25 [00:26<00:11,  1.43s/it]"
     ]
    },
    {
     "name": "stdout",
     "output_type": "stream",
     "text": [
      "Early stopping at epoch: 250, population died\n"
     ]
    },
    {
     "name": "stderr",
     "output_type": "stream",
     "text": [
      " 37%|███▋      | 186/500 [00:01<00:01, 179.41it/s]\n",
      " 72%|███████▏  | 18/25 [00:27<00:09,  1.32s/it]"
     ]
    },
    {
     "name": "stdout",
     "output_type": "stream",
     "text": [
      "Early stopping at epoch: 186, population died\n"
     ]
    },
    {
     "name": "stderr",
     "output_type": "stream",
     "text": [
      " 80%|███████▉  | 398/500 [00:05<00:01, 78.92it/s] \n",
      " 76%|███████▌  | 19/25 [00:32<00:14,  2.44s/it]"
     ]
    },
    {
     "name": "stdout",
     "output_type": "stream",
     "text": [
      "Early stopping at epoch: 398, population died\n"
     ]
    },
    {
     "name": "stderr",
     "output_type": "stream",
     "text": [
      "100%|██████████| 500/500 [00:02<00:00, 193.56it/s]\n",
      " 61%|██████    | 306/500 [00:01<00:01, 176.98it/s]\n",
      " 84%|████████▍ | 21/25 [00:36<00:09,  2.26s/it]"
     ]
    },
    {
     "name": "stdout",
     "output_type": "stream",
     "text": [
      "Early stopping at epoch: 306, population died\n"
     ]
    },
    {
     "name": "stderr",
     "output_type": "stream",
     "text": [
      "100%|██████████| 500/500 [00:02<00:00, 206.63it/s]\n",
      " 45%|████▍     | 223/500 [00:01<00:01, 209.80it/s]\n",
      " 92%|█████████▏| 23/25 [00:40<00:03,  1.94s/it]"
     ]
    },
    {
     "name": "stdout",
     "output_type": "stream",
     "text": [
      "Early stopping at epoch: 223, population died\n"
     ]
    },
    {
     "name": "stderr",
     "output_type": "stream",
     "text": [
      " 47%|████▋     | 235/500 [00:02<00:02, 93.75it/s] \n",
      " 96%|█████████▌| 24/25 [00:42<00:02,  2.12s/it]"
     ]
    },
    {
     "name": "stdout",
     "output_type": "stream",
     "text": [
      "Early stopping at epoch: 235, population died\n"
     ]
    },
    {
     "name": "stderr",
     "output_type": "stream",
     "text": [
      " 44%|████▍     | 220/500 [00:02<00:03, 92.43it/s] \n",
      "100%|██████████| 25/25 [00:45<00:00,  1.81s/it]\n"
     ]
    },
    {
     "name": "stdout",
     "output_type": "stream",
     "text": [
      "Early stopping at epoch: 220, population died\n",
      "rastrigin 5\n",
      "Running experiments...\n"
     ]
    },
    {
     "name": "stderr",
     "output_type": "stream",
     "text": [
      " 64%|██████▍   | 320/500 [00:05<00:03, 59.89it/s] \n",
      "  4%|▍         | 1/25 [00:05<02:08,  5.35s/it]"
     ]
    },
    {
     "name": "stdout",
     "output_type": "stream",
     "text": [
      "Early stopping at epoch: 320, population died\n"
     ]
    },
    {
     "name": "stderr",
     "output_type": "stream",
     "text": [
      " 88%|████████▊ | 439/500 [00:06<00:00, 63.68it/s] \n",
      "  8%|▊         | 2/25 [00:12<02:24,  6.26s/it]"
     ]
    },
    {
     "name": "stdout",
     "output_type": "stream",
     "text": [
      "Early stopping at epoch: 439, population died\n"
     ]
    },
    {
     "name": "stderr",
     "output_type": "stream",
     "text": [
      "100%|██████████| 500/500 [00:06<00:00, 78.82it/s] \n",
      "100%|██████████| 500/500 [00:09<00:00, 50.73it/s] \n",
      " 97%|█████████▋| 485/500 [00:08<00:00, 55.94it/s]\n",
      " 20%|██        | 5/25 [00:37<02:41,  8.06s/it]"
     ]
    },
    {
     "name": "stdout",
     "output_type": "stream",
     "text": [
      "Early stopping at epoch: 485, population died\n"
     ]
    },
    {
     "name": "stderr",
     "output_type": "stream",
     "text": [
      " 77%|███████▋  | 386/500 [00:05<00:01, 67.90it/s] \n",
      " 24%|██▍       | 6/25 [00:42<02:17,  7.26s/it]"
     ]
    },
    {
     "name": "stdout",
     "output_type": "stream",
     "text": [
      "Early stopping at epoch: 386, population died\n"
     ]
    },
    {
     "name": "stderr",
     "output_type": "stream",
     "text": [
      " 61%|██████    | 305/500 [00:07<00:04, 40.56it/s]\n",
      " 28%|██▊       | 7/25 [00:50<02:12,  7.35s/it]"
     ]
    },
    {
     "name": "stdout",
     "output_type": "stream",
     "text": [
      "Early stopping at epoch: 305, population died\n"
     ]
    },
    {
     "name": "stderr",
     "output_type": "stream",
     "text": [
      " 98%|█████████▊| 490/500 [00:06<00:00, 74.13it/s] \n",
      " 32%|███▏      | 8/25 [00:57<02:00,  7.12s/it]"
     ]
    },
    {
     "name": "stdout",
     "output_type": "stream",
     "text": [
      "Early stopping at epoch: 490, population died\n"
     ]
    },
    {
     "name": "stderr",
     "output_type": "stream",
     "text": [
      "100%|██████████| 500/500 [00:07<00:00, 69.04it/s] \n",
      "100%|██████████| 500/500 [00:06<00:00, 82.67it/s] \n",
      " 76%|███████▋  | 382/500 [00:06<00:02, 56.88it/s] \n",
      " 44%|████▍     | 11/25 [01:17<01:35,  6.79s/it]"
     ]
    },
    {
     "name": "stdout",
     "output_type": "stream",
     "text": [
      "Early stopping at epoch: 382, population died\n"
     ]
    },
    {
     "name": "stderr",
     "output_type": "stream",
     "text": [
      " 74%|███████▎  | 368/500 [00:05<00:01, 70.63it/s] \n",
      " 48%|████▊     | 12/25 [01:22<01:22,  6.31s/it]"
     ]
    },
    {
     "name": "stdout",
     "output_type": "stream",
     "text": [
      "Early stopping at epoch: 368, population died\n"
     ]
    },
    {
     "name": "stderr",
     "output_type": "stream",
     "text": [
      " 80%|████████  | 402/500 [00:06<00:01, 59.31it/s] \n",
      " 52%|█████▏    | 13/25 [01:29<01:17,  6.46s/it]"
     ]
    },
    {
     "name": "stdout",
     "output_type": "stream",
     "text": [
      "Early stopping at epoch: 402, population died\n"
     ]
    },
    {
     "name": "stderr",
     "output_type": "stream",
     "text": [
      " 59%|█████▉    | 295/500 [00:05<00:03, 55.95it/s] \n",
      " 56%|█████▌    | 14/25 [01:34<01:07,  6.10s/it]"
     ]
    },
    {
     "name": "stdout",
     "output_type": "stream",
     "text": [
      "Early stopping at epoch: 295, population died\n"
     ]
    },
    {
     "name": "stderr",
     "output_type": "stream",
     "text": [
      " 60%|██████    | 301/500 [00:06<00:04, 47.13it/s]\n",
      " 60%|██████    | 15/25 [01:40<01:01,  6.19s/it]"
     ]
    },
    {
     "name": "stdout",
     "output_type": "stream",
     "text": [
      "Early stopping at epoch: 301, population died\n"
     ]
    },
    {
     "name": "stderr",
     "output_type": "stream",
     "text": [
      "100%|██████████| 500/500 [00:06<00:00, 77.60it/s] \n",
      " 67%|██████▋   | 333/500 [00:06<00:03, 48.63it/s] \n",
      " 68%|██████▊   | 17/25 [01:54<00:51,  6.45s/it]"
     ]
    },
    {
     "name": "stdout",
     "output_type": "stream",
     "text": [
      "Early stopping at epoch: 333, population died\n"
     ]
    },
    {
     "name": "stderr",
     "output_type": "stream",
     "text": [
      "100%|██████████| 500/500 [00:06<00:00, 82.65it/s] \n",
      " 67%|██████▋   | 334/500 [00:07<00:03, 44.88it/s] \n",
      " 76%|███████▌  | 19/25 [02:07<00:40,  6.67s/it]"
     ]
    },
    {
     "name": "stdout",
     "output_type": "stream",
     "text": [
      "Early stopping at epoch: 334, population died\n"
     ]
    },
    {
     "name": "stderr",
     "output_type": "stream",
     "text": [
      "100%|██████████| 500/500 [00:10<00:00, 45.65it/s]\n",
      " 72%|███████▏  | 361/500 [00:04<00:01, 72.21it/s] \n",
      " 84%|████████▍ | 21/25 [02:23<00:28,  7.07s/it]"
     ]
    },
    {
     "name": "stdout",
     "output_type": "stream",
     "text": [
      "Early stopping at epoch: 361, population died\n"
     ]
    },
    {
     "name": "stderr",
     "output_type": "stream",
     "text": [
      " 68%|██████▊   | 340/500 [00:06<00:03, 48.95it/s]\n",
      " 88%|████████▊ | 22/25 [02:30<00:21,  7.04s/it]"
     ]
    },
    {
     "name": "stdout",
     "output_type": "stream",
     "text": [
      "Early stopping at epoch: 340, population died\n"
     ]
    },
    {
     "name": "stderr",
     "output_type": "stream",
     "text": [
      " 56%|█████▌    | 280/500 [00:05<00:04, 51.83it/s] \n",
      " 92%|█████████▏| 23/25 [02:35<00:13,  6.55s/it]"
     ]
    },
    {
     "name": "stdout",
     "output_type": "stream",
     "text": [
      "Early stopping at epoch: 280, population died\n"
     ]
    },
    {
     "name": "stderr",
     "output_type": "stream",
     "text": [
      " 88%|████████▊ | 438/500 [00:07<00:01, 59.41it/s]\n",
      " 96%|█████████▌| 24/25 [02:43<00:06,  6.80s/it]"
     ]
    },
    {
     "name": "stdout",
     "output_type": "stream",
     "text": [
      "Early stopping at epoch: 438, population died\n"
     ]
    },
    {
     "name": "stderr",
     "output_type": "stream",
     "text": [
      " 84%|████████▍ | 422/500 [00:06<00:01, 62.54it/s] \n",
      "100%|██████████| 25/25 [02:50<00:00,  6.80s/it]\n"
     ]
    },
    {
     "name": "stdout",
     "output_type": "stream",
     "text": [
      "Early stopping at epoch: 422, population died\n",
      "schwefel 7\n",
      "Running experiments...\n"
     ]
    },
    {
     "name": "stderr",
     "output_type": "stream",
     "text": [
      " 35%|███▌      | 177/500 [00:00<00:01, 306.23it/s]\n",
      "  4%|▍         | 1/25 [00:00<00:14,  1.71it/s]"
     ]
    },
    {
     "name": "stdout",
     "output_type": "stream",
     "text": [
      "Early stopping at epoch: 177, population died\n"
     ]
    },
    {
     "name": "stderr",
     "output_type": "stream",
     "text": [
      "100%|██████████| 500/500 [00:07<00:00, 64.42it/s] \n",
      "100%|██████████| 500/500 [00:05<00:00, 96.27it/s]\n",
      " 42%|████▏     | 208/500 [00:01<00:02, 114.42it/s]\n",
      " 16%|█▌        | 4/25 [00:15<01:18,  3.74s/it]"
     ]
    },
    {
     "name": "stdout",
     "output_type": "stream",
     "text": [
      "Early stopping at epoch: 208, population died\n"
     ]
    },
    {
     "name": "stderr",
     "output_type": "stream",
     "text": [
      "100%|██████████| 500/500 [00:06<00:00, 77.10it/s] \n",
      "100%|██████████| 500/500 [00:03<00:00, 162.06it/s]\n",
      "100%|██████████| 500/500 [00:07<00:00, 66.37it/s] \n",
      "100%|██████████| 500/500 [00:01<00:00, 465.38it/s]\n",
      "100%|██████████| 500/500 [00:04<00:00, 120.13it/s]\n",
      "100%|██████████| 500/500 [00:03<00:00, 150.06it/s]\n",
      "100%|██████████| 500/500 [00:03<00:00, 129.67it/s]\n",
      " 28%|██▊       | 141/500 [00:00<00:01, 296.24it/s]\n",
      " 48%|████▊     | 12/25 [00:45<00:36,  2.81s/it]"
     ]
    },
    {
     "name": "stdout",
     "output_type": "stream",
     "text": [
      "Early stopping at epoch: 141, population died\n"
     ]
    },
    {
     "name": "stderr",
     "output_type": "stream",
     "text": [
      "100%|██████████| 500/500 [00:01<00:00, 328.77it/s]\n",
      "100%|██████████| 500/500 [00:05<00:00, 97.68it/s]\n",
      "100%|██████████| 500/500 [00:06<00:00, 78.49it/s]\n",
      " 72%|███████▏  | 359/500 [00:01<00:00, 214.74it/s]\n",
      " 64%|██████▍   | 16/25 [01:00<00:30,  3.43s/it]"
     ]
    },
    {
     "name": "stdout",
     "output_type": "stream",
     "text": [
      "Early stopping at epoch: 359, population died\n"
     ]
    },
    {
     "name": "stderr",
     "output_type": "stream",
     "text": [
      "100%|██████████| 500/500 [00:05<00:00, 97.29it/s] \n",
      "100%|██████████| 500/500 [00:04<00:00, 124.45it/s]\n",
      " 36%|███▌      | 178/500 [00:01<00:02, 143.56it/s]\n",
      " 76%|███████▌  | 19/25 [01:10<00:18,  3.16s/it]"
     ]
    },
    {
     "name": "stdout",
     "output_type": "stream",
     "text": [
      "Early stopping at epoch: 178, population died\n"
     ]
    },
    {
     "name": "stderr",
     "output_type": "stream",
     "text": [
      "100%|██████████| 500/500 [00:04<00:00, 111.80it/s]\n",
      " 21%|██▏       | 107/500 [00:01<00:03, 105.66it/s]\n",
      " 84%|████████▍ | 21/25 [01:16<00:11,  2.79s/it]"
     ]
    },
    {
     "name": "stdout",
     "output_type": "stream",
     "text": [
      "Early stopping at epoch: 107, population died\n"
     ]
    },
    {
     "name": "stderr",
     "output_type": "stream",
     "text": [
      "100%|██████████| 500/500 [00:05<00:00, 84.38it/s]\n",
      " 34%|███▍      | 169/500 [00:00<00:01, 169.56it/s]\n",
      " 92%|█████████▏| 23/25 [01:23<00:05,  2.92s/it]"
     ]
    },
    {
     "name": "stdout",
     "output_type": "stream",
     "text": [
      "Early stopping at epoch: 169, population died\n"
     ]
    },
    {
     "name": "stderr",
     "output_type": "stream",
     "text": [
      "100%|██████████| 500/500 [00:03<00:00, 154.17it/s]\n",
      "100%|██████████| 500/500 [00:02<00:00, 202.08it/s]\n",
      "100%|██████████| 25/25 [01:28<00:00,  3.55s/it]\n"
     ]
    },
    {
     "name": "stdout",
     "output_type": "stream",
     "text": [
      "ackley 7\n",
      "Running experiments...\n"
     ]
    },
    {
     "name": "stderr",
     "output_type": "stream",
     "text": [
      " 21%|██        | 106/500 [00:01<00:03, 101.16it/s]\n",
      "  4%|▍         | 1/25 [00:01<00:25,  1.06s/it]"
     ]
    },
    {
     "name": "stdout",
     "output_type": "stream",
     "text": [
      "Early stopping at epoch: 106, population died\n"
     ]
    },
    {
     "name": "stderr",
     "output_type": "stream",
     "text": [
      " 50%|█████     | 252/500 [00:00<00:00, 300.74it/s]\n",
      "  8%|▊         | 2/25 [00:01<00:21,  1.07it/s]"
     ]
    },
    {
     "name": "stdout",
     "output_type": "stream",
     "text": [
      "Early stopping at epoch: 252, population died\n"
     ]
    },
    {
     "name": "stderr",
     "output_type": "stream",
     "text": [
      " 46%|████▌     | 231/500 [00:00<00:00, 317.41it/s]\n",
      " 12%|█▏        | 3/25 [00:02<00:18,  1.18it/s]"
     ]
    },
    {
     "name": "stdout",
     "output_type": "stream",
     "text": [
      "Early stopping at epoch: 231, population died\n"
     ]
    },
    {
     "name": "stderr",
     "output_type": "stream",
     "text": [
      " 65%|██████▌   | 327/500 [00:02<00:01, 124.34it/s]\n",
      " 16%|█▌        | 4/25 [00:05<00:32,  1.55s/it]"
     ]
    },
    {
     "name": "stdout",
     "output_type": "stream",
     "text": [
      "Early stopping at epoch: 327, population died\n"
     ]
    },
    {
     "name": "stderr",
     "output_type": "stream",
     "text": [
      " 32%|███▏      | 160/500 [00:01<00:03, 105.17it/s]\n",
      " 20%|██        | 5/25 [00:06<00:30,  1.55s/it]"
     ]
    },
    {
     "name": "stdout",
     "output_type": "stream",
     "text": [
      "Early stopping at epoch: 160, population died\n"
     ]
    },
    {
     "name": "stderr",
     "output_type": "stream",
     "text": [
      " 21%|██        | 105/500 [00:00<00:01, 237.38it/s]\n",
      " 24%|██▍       | 6/25 [00:07<00:22,  1.18s/it]"
     ]
    },
    {
     "name": "stdout",
     "output_type": "stream",
     "text": [
      "Early stopping at epoch: 105, population died\n"
     ]
    },
    {
     "name": "stderr",
     "output_type": "stream",
     "text": [
      " 42%|████▏     | 208/500 [00:00<00:00, 307.24it/s]\n",
      " 28%|██▊       | 7/25 [00:07<00:18,  1.02s/it]"
     ]
    },
    {
     "name": "stdout",
     "output_type": "stream",
     "text": [
      "Early stopping at epoch: 208, population died\n"
     ]
    },
    {
     "name": "stderr",
     "output_type": "stream",
     "text": [
      " 31%|███       | 156/500 [00:00<00:01, 293.97it/s]\n",
      " 32%|███▏      | 8/25 [00:08<00:14,  1.16it/s]"
     ]
    },
    {
     "name": "stdout",
     "output_type": "stream",
     "text": [
      "Early stopping at epoch: 156, population died\n"
     ]
    },
    {
     "name": "stderr",
     "output_type": "stream",
     "text": [
      " 38%|███▊      | 190/500 [00:00<00:00, 436.76it/s]\n",
      " 36%|███▌      | 9/25 [00:08<00:11,  1.36it/s]"
     ]
    },
    {
     "name": "stdout",
     "output_type": "stream",
     "text": [
      "Early stopping at epoch: 190, population died\n"
     ]
    },
    {
     "name": "stderr",
     "output_type": "stream",
     "text": [
      " 38%|███▊      | 192/500 [00:00<00:00, 311.85it/s]\n",
      " 40%|████      | 10/25 [00:09<00:10,  1.43it/s]"
     ]
    },
    {
     "name": "stdout",
     "output_type": "stream",
     "text": [
      "Early stopping at epoch: 192, population died\n"
     ]
    },
    {
     "name": "stderr",
     "output_type": "stream",
     "text": [
      " 78%|███████▊  | 389/500 [00:00<00:00, 394.23it/s]\n",
      " 44%|████▍     | 11/25 [00:10<00:11,  1.26it/s]"
     ]
    },
    {
     "name": "stdout",
     "output_type": "stream",
     "text": [
      "Early stopping at epoch: 389, population died\n"
     ]
    },
    {
     "name": "stderr",
     "output_type": "stream",
     "text": [
      " 21%|██        | 105/500 [00:00<00:03, 128.33it/s]\n",
      " 48%|████▊     | 12/25 [00:11<00:10,  1.25it/s]"
     ]
    },
    {
     "name": "stdout",
     "output_type": "stream",
     "text": [
      "Early stopping at epoch: 105, population died\n"
     ]
    },
    {
     "name": "stderr",
     "output_type": "stream",
     "text": [
      " 36%|███▌      | 178/500 [00:01<00:02, 117.21it/s]\n",
      " 52%|█████▏    | 13/25 [00:12<00:12,  1.02s/it]"
     ]
    },
    {
     "name": "stdout",
     "output_type": "stream",
     "text": [
      "Early stopping at epoch: 178, population died\n"
     ]
    },
    {
     "name": "stderr",
     "output_type": "stream",
     "text": [
      " 60%|█████▉    | 298/500 [00:01<00:00, 289.31it/s]\n",
      " 56%|█████▌    | 14/25 [00:13<00:11,  1.03s/it]"
     ]
    },
    {
     "name": "stdout",
     "output_type": "stream",
     "text": [
      "Early stopping at epoch: 298, population died\n"
     ]
    },
    {
     "name": "stderr",
     "output_type": "stream",
     "text": [
      " 59%|█████▊    | 293/500 [00:00<00:00, 434.44it/s]\n",
      " 60%|██████    | 15/25 [00:14<00:09,  1.08it/s]"
     ]
    },
    {
     "name": "stdout",
     "output_type": "stream",
     "text": [
      "Early stopping at epoch: 293, population died\n"
     ]
    },
    {
     "name": "stderr",
     "output_type": "stream",
     "text": [
      " 36%|███▌      | 181/500 [00:00<00:01, 290.36it/s]\n",
      " 64%|██████▍   | 16/25 [00:15<00:07,  1.19it/s]"
     ]
    },
    {
     "name": "stdout",
     "output_type": "stream",
     "text": [
      "Early stopping at epoch: 181, population died\n"
     ]
    },
    {
     "name": "stderr",
     "output_type": "stream",
     "text": [
      " 94%|█████████▍| 469/500 [00:04<00:00, 111.73it/s]\n",
      " 68%|██████▊   | 17/25 [00:19<00:14,  1.85s/it]"
     ]
    },
    {
     "name": "stdout",
     "output_type": "stream",
     "text": [
      "Early stopping at epoch: 469, population died\n"
     ]
    },
    {
     "name": "stderr",
     "output_type": "stream",
     "text": [
      " 22%|██▏       | 112/500 [00:00<00:01, 290.50it/s]\n",
      " 72%|███████▏  | 18/25 [00:19<00:09,  1.42s/it]"
     ]
    },
    {
     "name": "stdout",
     "output_type": "stream",
     "text": [
      "Early stopping at epoch: 112, population died\n"
     ]
    },
    {
     "name": "stderr",
     "output_type": "stream",
     "text": [
      " 52%|█████▏    | 260/500 [00:00<00:00, 267.44it/s]\n",
      " 76%|███████▌  | 19/25 [00:20<00:07,  1.29s/it]"
     ]
    },
    {
     "name": "stdout",
     "output_type": "stream",
     "text": [
      "Early stopping at epoch: 260, population died\n"
     ]
    },
    {
     "name": "stderr",
     "output_type": "stream",
     "text": [
      " 21%|██        | 103/500 [00:00<00:02, 158.88it/s]\n",
      " 80%|████████  | 20/25 [00:21<00:05,  1.10s/it]"
     ]
    },
    {
     "name": "stdout",
     "output_type": "stream",
     "text": [
      "Early stopping at epoch: 103, population died\n"
     ]
    },
    {
     "name": "stderr",
     "output_type": "stream",
     "text": [
      " 32%|███▏      | 159/500 [00:00<00:01, 199.78it/s]\n",
      " 84%|████████▍ | 21/25 [00:22<00:04,  1.01s/it]"
     ]
    },
    {
     "name": "stdout",
     "output_type": "stream",
     "text": [
      "Early stopping at epoch: 159, population died\n"
     ]
    },
    {
     "name": "stderr",
     "output_type": "stream",
     "text": [
      " 28%|██▊       | 140/500 [00:00<00:01, 257.00it/s]\n",
      " 88%|████████▊ | 22/25 [00:22<00:02,  1.14it/s]"
     ]
    },
    {
     "name": "stdout",
     "output_type": "stream",
     "text": [
      "Early stopping at epoch: 140, population died\n"
     ]
    },
    {
     "name": "stderr",
     "output_type": "stream",
     "text": [
      " 48%|████▊     | 241/500 [00:01<00:01, 138.91it/s]\n",
      " 92%|█████████▏| 23/25 [00:24<00:02,  1.14s/it]"
     ]
    },
    {
     "name": "stdout",
     "output_type": "stream",
     "text": [
      "Early stopping at epoch: 241, population died\n"
     ]
    },
    {
     "name": "stderr",
     "output_type": "stream",
     "text": [
      " 85%|████████▍ | 423/500 [00:01<00:00, 282.63it/s]\n",
      " 96%|█████████▌| 24/25 [00:26<00:01,  1.25s/it]"
     ]
    },
    {
     "name": "stdout",
     "output_type": "stream",
     "text": [
      "Early stopping at epoch: 423, population died\n"
     ]
    },
    {
     "name": "stderr",
     "output_type": "stream",
     "text": [
      " 30%|███       | 150/500 [00:00<00:01, 283.13it/s]\n",
      "100%|██████████| 25/25 [00:26<00:00,  1.07s/it]\n"
     ]
    },
    {
     "name": "stdout",
     "output_type": "stream",
     "text": [
      "Early stopping at epoch: 150, population died\n",
      "griewank 7\n",
      "Running experiments...\n"
     ]
    },
    {
     "name": "stderr",
     "output_type": "stream",
     "text": [
      " 26%|██▋       | 132/500 [00:00<00:02, 177.86it/s]\n",
      "  4%|▍         | 1/25 [00:00<00:18,  1.33it/s]"
     ]
    },
    {
     "name": "stdout",
     "output_type": "stream",
     "text": [
      "Early stopping at epoch: 132, population died\n"
     ]
    },
    {
     "name": "stderr",
     "output_type": "stream",
     "text": [
      " 30%|███       | 150/500 [00:00<00:01, 213.50it/s]\n",
      "  8%|▊         | 2/25 [00:01<00:16,  1.37it/s]"
     ]
    },
    {
     "name": "stdout",
     "output_type": "stream",
     "text": [
      "Early stopping at epoch: 150, population died\n"
     ]
    },
    {
     "name": "stderr",
     "output_type": "stream",
     "text": [
      " 48%|████▊     | 241/500 [00:02<00:02, 88.33it/s]\n",
      " 12%|█▏        | 3/25 [00:04<00:36,  1.65s/it]"
     ]
    },
    {
     "name": "stdout",
     "output_type": "stream",
     "text": [
      "Early stopping at epoch: 241, population died\n"
     ]
    },
    {
     "name": "stderr",
     "output_type": "stream",
     "text": [
      " 42%|████▏     | 210/500 [00:01<00:02, 120.88it/s]\n",
      " 16%|█▌        | 4/25 [00:05<00:35,  1.69s/it]"
     ]
    },
    {
     "name": "stdout",
     "output_type": "stream",
     "text": [
      "Early stopping at epoch: 210, population died\n"
     ]
    },
    {
     "name": "stderr",
     "output_type": "stream",
     "text": [
      " 29%|██▉       | 146/500 [00:00<00:01, 198.91it/s]\n",
      " 20%|██        | 5/25 [00:06<00:26,  1.35s/it]"
     ]
    },
    {
     "name": "stdout",
     "output_type": "stream",
     "text": [
      "Early stopping at epoch: 146, population died\n"
     ]
    },
    {
     "name": "stderr",
     "output_type": "stream",
     "text": [
      " 31%|███       | 155/500 [00:01<00:02, 127.51it/s]\n",
      " 24%|██▍       | 6/25 [00:07<00:24,  1.31s/it]"
     ]
    },
    {
     "name": "stdout",
     "output_type": "stream",
     "text": [
      "Early stopping at epoch: 155, population died\n"
     ]
    },
    {
     "name": "stderr",
     "output_type": "stream",
     "text": [
      " 69%|██████▊   | 343/500 [00:01<00:00, 185.68it/s]\n",
      " 28%|██▊       | 7/25 [00:09<00:26,  1.49s/it]"
     ]
    },
    {
     "name": "stdout",
     "output_type": "stream",
     "text": [
      "Early stopping at epoch: 343, population died\n"
     ]
    },
    {
     "name": "stderr",
     "output_type": "stream",
     "text": [
      " 61%|██████    | 303/500 [00:02<00:01, 137.27it/s]\n",
      " 32%|███▏      | 8/25 [00:12<00:29,  1.72s/it]"
     ]
    },
    {
     "name": "stdout",
     "output_type": "stream",
     "text": [
      "Early stopping at epoch: 303, population died\n"
     ]
    },
    {
     "name": "stderr",
     "output_type": "stream",
     "text": [
      " 53%|█████▎    | 266/500 [00:00<00:00, 276.28it/s]\n",
      " 36%|███▌      | 9/25 [00:12<00:23,  1.49s/it]"
     ]
    },
    {
     "name": "stdout",
     "output_type": "stream",
     "text": [
      "Early stopping at epoch: 266, population died\n"
     ]
    },
    {
     "name": "stderr",
     "output_type": "stream",
     "text": [
      " 61%|██████    | 306/500 [00:03<00:02, 90.37it/s]\n",
      " 40%|████      | 10/25 [00:16<00:31,  2.08s/it]"
     ]
    },
    {
     "name": "stdout",
     "output_type": "stream",
     "text": [
      "Early stopping at epoch: 306, population died\n"
     ]
    },
    {
     "name": "stderr",
     "output_type": "stream",
     "text": [
      " 54%|█████▍    | 270/500 [00:02<00:01, 116.09it/s]\n",
      " 44%|████▍     | 11/25 [00:18<00:30,  2.16s/it]"
     ]
    },
    {
     "name": "stdout",
     "output_type": "stream",
     "text": [
      "Early stopping at epoch: 270, population died\n"
     ]
    },
    {
     "name": "stderr",
     "output_type": "stream",
     "text": [
      " 61%|██████▏   | 307/500 [00:01<00:00, 252.28it/s]\n",
      " 48%|████▊     | 12/25 [00:19<00:24,  1.88s/it]"
     ]
    },
    {
     "name": "stdout",
     "output_type": "stream",
     "text": [
      "Early stopping at epoch: 307, population died\n"
     ]
    },
    {
     "name": "stderr",
     "output_type": "stream",
     "text": [
      " 98%|█████████▊| 489/500 [00:03<00:00, 133.08it/s]\n",
      " 52%|█████▏    | 13/25 [00:23<00:29,  2.42s/it]"
     ]
    },
    {
     "name": "stdout",
     "output_type": "stream",
     "text": [
      "Early stopping at epoch: 489, population died\n"
     ]
    },
    {
     "name": "stderr",
     "output_type": "stream",
     "text": [
      " 31%|███       | 154/500 [00:00<00:01, 183.66it/s]\n",
      " 56%|█████▌    | 14/25 [00:24<00:21,  1.95s/it]"
     ]
    },
    {
     "name": "stdout",
     "output_type": "stream",
     "text": [
      "Early stopping at epoch: 154, population died\n"
     ]
    },
    {
     "name": "stderr",
     "output_type": "stream",
     "text": [
      " 56%|█████▌    | 281/500 [00:01<00:00, 244.71it/s]\n",
      " 60%|██████    | 15/25 [00:25<00:17,  1.71s/it]"
     ]
    },
    {
     "name": "stdout",
     "output_type": "stream",
     "text": [
      "Early stopping at epoch: 281, population died\n"
     ]
    },
    {
     "name": "stderr",
     "output_type": "stream",
     "text": [
      " 38%|███▊      | 191/500 [00:01<00:02, 145.76it/s]\n",
      " 64%|██████▍   | 16/25 [00:26<00:14,  1.59s/it]"
     ]
    },
    {
     "name": "stdout",
     "output_type": "stream",
     "text": [
      "Early stopping at epoch: 191, population died\n"
     ]
    },
    {
     "name": "stderr",
     "output_type": "stream",
     "text": [
      " 26%|██▌       | 129/500 [00:01<00:03, 111.13it/s]\n",
      " 68%|██████▊   | 17/25 [00:28<00:11,  1.47s/it]"
     ]
    },
    {
     "name": "stdout",
     "output_type": "stream",
     "text": [
      "Early stopping at epoch: 129, population died\n"
     ]
    },
    {
     "name": "stderr",
     "output_type": "stream",
     "text": [
      " 33%|███▎      | 163/500 [00:01<00:03, 97.45it/s]\n",
      " 72%|███████▏  | 18/25 [00:29<00:10,  1.53s/it]"
     ]
    },
    {
     "name": "stdout",
     "output_type": "stream",
     "text": [
      "Early stopping at epoch: 163, population died\n"
     ]
    },
    {
     "name": "stderr",
     "output_type": "stream",
     "text": [
      " 50%|█████     | 252/500 [00:01<00:01, 149.69it/s]\n",
      " 76%|███████▌  | 19/25 [00:31<00:09,  1.58s/it]"
     ]
    },
    {
     "name": "stdout",
     "output_type": "stream",
     "text": [
      "Early stopping at epoch: 252, population died\n"
     ]
    },
    {
     "name": "stderr",
     "output_type": "stream",
     "text": [
      " 28%|██▊       | 140/500 [00:00<00:01, 234.06it/s]\n",
      " 80%|████████  | 20/25 [00:32<00:06,  1.29s/it]"
     ]
    },
    {
     "name": "stdout",
     "output_type": "stream",
     "text": [
      "Early stopping at epoch: 140, population died\n"
     ]
    },
    {
     "name": "stderr",
     "output_type": "stream",
     "text": [
      " 34%|███▍      | 170/500 [00:01<00:03, 105.28it/s]\n",
      " 84%|████████▍ | 21/25 [00:33<00:05,  1.39s/it]"
     ]
    },
    {
     "name": "stdout",
     "output_type": "stream",
     "text": [
      "Early stopping at epoch: 170, population died\n"
     ]
    },
    {
     "name": "stderr",
     "output_type": "stream",
     "text": [
      " 33%|███▎      | 164/500 [00:01<00:03, 87.48it/s]\n",
      " 88%|████████▊ | 22/25 [00:35<00:04,  1.54s/it]"
     ]
    },
    {
     "name": "stdout",
     "output_type": "stream",
     "text": [
      "Early stopping at epoch: 164, population died\n"
     ]
    },
    {
     "name": "stderr",
     "output_type": "stream",
     "text": [
      " 35%|███▌      | 176/500 [00:01<00:03, 103.90it/s]\n",
      " 92%|█████████▏| 23/25 [00:37<00:03,  1.59s/it]"
     ]
    },
    {
     "name": "stdout",
     "output_type": "stream",
     "text": [
      "Early stopping at epoch: 176, population died\n"
     ]
    },
    {
     "name": "stderr",
     "output_type": "stream",
     "text": [
      "100%|██████████| 500/500 [00:01<00:00, 322.34it/s]\n",
      " 54%|█████▎    | 268/500 [00:01<00:01, 150.40it/s]\n",
      "100%|██████████| 25/25 [00:40<00:00,  1.63s/it]\n"
     ]
    },
    {
     "name": "stdout",
     "output_type": "stream",
     "text": [
      "Early stopping at epoch: 268, population died\n",
      "rastrigin 7\n",
      "Running experiments...\n"
     ]
    },
    {
     "name": "stderr",
     "output_type": "stream",
     "text": [
      "100%|██████████| 500/500 [00:07<00:00, 64.38it/s]\n",
      "100%|██████████| 500/500 [00:08<00:00, 60.56it/s] \n",
      "100%|██████████| 500/500 [00:07<00:00, 67.54it/s] \n",
      " 69%|██████▊   | 343/500 [00:05<00:02, 57.58it/s] \n",
      " 16%|█▌        | 4/25 [00:29<02:28,  7.06s/it]"
     ]
    },
    {
     "name": "stdout",
     "output_type": "stream",
     "text": [
      "Early stopping at epoch: 343, population died\n"
     ]
    },
    {
     "name": "stderr",
     "output_type": "stream",
     "text": [
      "100%|██████████| 500/500 [00:06<00:00, 71.46it/s] \n",
      " 60%|██████    | 301/500 [00:06<00:04, 45.30it/s] \n",
      " 24%|██▍       | 6/25 [00:43<02:11,  6.91s/it]"
     ]
    },
    {
     "name": "stdout",
     "output_type": "stream",
     "text": [
      "Early stopping at epoch: 301, population died\n"
     ]
    },
    {
     "name": "stderr",
     "output_type": "stream",
     "text": [
      "100%|██████████| 500/500 [00:09<00:00, 54.37it/s]\n",
      "100%|██████████| 500/500 [00:07<00:00, 68.23it/s] \n",
      " 84%|████████▍ | 419/500 [00:06<00:01, 60.68it/s] \n",
      " 36%|███▌      | 9/25 [01:06<01:57,  7.36s/it]"
     ]
    },
    {
     "name": "stdout",
     "output_type": "stream",
     "text": [
      "Early stopping at epoch: 419, population died\n"
     ]
    },
    {
     "name": "stderr",
     "output_type": "stream",
     "text": [
      " 97%|█████████▋| 487/500 [00:06<00:00, 76.65it/s] \n",
      " 40%|████      | 10/25 [01:12<01:45,  7.05s/it]"
     ]
    },
    {
     "name": "stdout",
     "output_type": "stream",
     "text": [
      "Early stopping at epoch: 487, population died\n"
     ]
    },
    {
     "name": "stderr",
     "output_type": "stream",
     "text": [
      "100%|██████████| 500/500 [00:08<00:00, 59.50it/s] \n",
      " 92%|█████████▏| 458/500 [00:05<00:00, 79.28it/s] \n",
      " 48%|████▊     | 12/25 [01:27<01:30,  6.96s/it]"
     ]
    },
    {
     "name": "stdout",
     "output_type": "stream",
     "text": [
      "Early stopping at epoch: 458, population died\n"
     ]
    },
    {
     "name": "stderr",
     "output_type": "stream",
     "text": [
      "100%|██████████| 500/500 [00:07<00:00, 65.02it/s] \n",
      " 70%|███████   | 352/500 [00:06<00:02, 53.78it/s] \n",
      " 56%|█████▌    | 14/25 [01:41<01:16,  6.99s/it]"
     ]
    },
    {
     "name": "stdout",
     "output_type": "stream",
     "text": [
      "Early stopping at epoch: 352, population died\n"
     ]
    },
    {
     "name": "stderr",
     "output_type": "stream",
     "text": [
      " 72%|███████▏  | 360/500 [00:06<00:02, 56.43it/s] \n",
      " 60%|██████    | 15/25 [01:47<01:08,  6.81s/it]"
     ]
    },
    {
     "name": "stdout",
     "output_type": "stream",
     "text": [
      "Early stopping at epoch: 360, population died\n"
     ]
    },
    {
     "name": "stderr",
     "output_type": "stream",
     "text": [
      " 64%|██████▍   | 322/500 [00:06<00:03, 50.50it/s] \n",
      " 64%|██████▍   | 16/25 [01:54<01:00,  6.68s/it]"
     ]
    },
    {
     "name": "stdout",
     "output_type": "stream",
     "text": [
      "Early stopping at epoch: 322, population died\n"
     ]
    },
    {
     "name": "stderr",
     "output_type": "stream",
     "text": [
      "100%|██████████| 500/500 [00:07<00:00, 70.86it/s] \n",
      " 70%|███████   | 352/500 [00:06<00:02, 54.92it/s] \n",
      " 72%|███████▏  | 18/25 [02:07<00:46,  6.69s/it]"
     ]
    },
    {
     "name": "stdout",
     "output_type": "stream",
     "text": [
      "Early stopping at epoch: 352, population died\n"
     ]
    },
    {
     "name": "stderr",
     "output_type": "stream",
     "text": [
      "100%|██████████| 500/500 [00:06<00:00, 80.71it/s] \n",
      " 93%|█████████▎| 465/500 [00:08<00:00, 56.58it/s]\n",
      " 80%|████████  | 20/25 [02:22<00:35,  7.05s/it]"
     ]
    },
    {
     "name": "stdout",
     "output_type": "stream",
     "text": [
      "Early stopping at epoch: 465, population died\n"
     ]
    },
    {
     "name": "stderr",
     "output_type": "stream",
     "text": [
      " 78%|███████▊  | 392/500 [00:06<00:01, 64.49it/s] \n",
      " 84%|████████▍ | 21/25 [02:28<00:27,  6.76s/it]"
     ]
    },
    {
     "name": "stdout",
     "output_type": "stream",
     "text": [
      "Early stopping at epoch: 392, population died\n"
     ]
    },
    {
     "name": "stderr",
     "output_type": "stream",
     "text": [
      " 89%|████████▊ | 443/500 [00:07<00:00, 59.99it/s] \n",
      " 88%|████████▊ | 22/25 [02:35<00:20,  6.95s/it]"
     ]
    },
    {
     "name": "stdout",
     "output_type": "stream",
     "text": [
      "Early stopping at epoch: 443, population died\n"
     ]
    },
    {
     "name": "stderr",
     "output_type": "stream",
     "text": [
      " 93%|█████████▎| 467/500 [00:05<00:00, 81.76it/s] \n",
      " 92%|█████████▏| 23/25 [02:41<00:13,  6.58s/it]"
     ]
    },
    {
     "name": "stdout",
     "output_type": "stream",
     "text": [
      "Early stopping at epoch: 467, population died\n"
     ]
    },
    {
     "name": "stderr",
     "output_type": "stream",
     "text": [
      " 66%|██████▌   | 328/500 [00:06<00:03, 47.77it/s]\n",
      " 96%|█████████▌| 24/25 [02:48<00:06,  6.67s/it]"
     ]
    },
    {
     "name": "stdout",
     "output_type": "stream",
     "text": [
      "Early stopping at epoch: 328, population died\n"
     ]
    },
    {
     "name": "stderr",
     "output_type": "stream",
     "text": [
      " 85%|████████▍ | 424/500 [00:06<00:01, 68.60it/s] \n",
      "100%|██████████| 25/25 [02:54<00:00,  6.97s/it]\n"
     ]
    },
    {
     "name": "stdout",
     "output_type": "stream",
     "text": [
      "Early stopping at epoch: 424, population died\n",
      "schwefel 10\n",
      "Running experiments...\n"
     ]
    },
    {
     "name": "stderr",
     "output_type": "stream",
     "text": [
      " 35%|███▌      | 176/500 [00:01<00:02, 129.50it/s]\n",
      "  4%|▍         | 1/25 [00:01<00:32,  1.37s/it]"
     ]
    },
    {
     "name": "stdout",
     "output_type": "stream",
     "text": [
      "Early stopping at epoch: 176, population died\n"
     ]
    },
    {
     "name": "stderr",
     "output_type": "stream",
     "text": [
      "100%|██████████| 500/500 [00:07<00:00, 62.94it/s]\n",
      "100%|██████████| 500/500 [00:06<00:00, 79.30it/s]\n",
      "100%|██████████| 500/500 [00:05<00:00, 97.08it/s]\n",
      "100%|██████████| 500/500 [00:04<00:00, 105.78it/s]\n",
      " 85%|████████▍ | 424/500 [00:02<00:00, 184.12it/s]\n",
      " 24%|██▍       | 6/25 [00:27<01:20,  4.24s/it]"
     ]
    },
    {
     "name": "stdout",
     "output_type": "stream",
     "text": [
      "Early stopping at epoch: 424, population died\n"
     ]
    },
    {
     "name": "stderr",
     "output_type": "stream",
     "text": [
      "100%|██████████| 500/500 [00:05<00:00, 88.29it/s]\n",
      "100%|██████████| 500/500 [00:04<00:00, 106.33it/s]\n",
      "100%|██████████| 500/500 [00:06<00:00, 75.93it/s]\n",
      " 31%|███       | 153/500 [00:00<00:01, 265.11it/s]\n",
      " 40%|████      | 10/25 [00:45<00:57,  3.84s/it]"
     ]
    },
    {
     "name": "stdout",
     "output_type": "stream",
     "text": [
      "Early stopping at epoch: 153, population died\n"
     ]
    },
    {
     "name": "stderr",
     "output_type": "stream",
     "text": [
      "100%|██████████| 500/500 [00:01<00:00, 258.33it/s]\n",
      "100%|██████████| 500/500 [00:01<00:00, 396.55it/s]\n",
      "100%|██████████| 500/500 [00:03<00:00, 128.30it/s]\n",
      "100%|██████████| 500/500 [00:07<00:00, 65.30it/s]\n",
      "100%|██████████| 500/500 [00:02<00:00, 195.56it/s]\n",
      "100%|██████████| 500/500 [00:07<00:00, 67.68it/s]\n",
      " 39%|███▊      | 193/500 [00:00<00:01, 229.05it/s]\n",
      " 68%|██████▊   | 17/25 [01:11<00:29,  3.71s/it]"
     ]
    },
    {
     "name": "stdout",
     "output_type": "stream",
     "text": [
      "Early stopping at epoch: 193, population died\n"
     ]
    },
    {
     "name": "stderr",
     "output_type": "stream",
     "text": [
      "100%|██████████| 500/500 [00:01<00:00, 369.42it/s]\n",
      "100%|██████████| 500/500 [00:01<00:00, 262.58it/s]\n",
      " 41%|████      | 204/500 [00:00<00:00, 470.96it/s]\n",
      " 80%|████████  | 20/25 [01:14<00:10,  2.00s/it]"
     ]
    },
    {
     "name": "stdout",
     "output_type": "stream",
     "text": [
      "Early stopping at epoch: 204, population died\n"
     ]
    },
    {
     "name": "stderr",
     "output_type": "stream",
     "text": [
      "100%|██████████| 500/500 [00:02<00:00, 168.24it/s]\n",
      "100%|██████████| 500/500 [00:08<00:00, 59.41it/s] \n",
      " 44%|████▍     | 222/500 [00:00<00:00, 318.60it/s]\n",
      " 92%|█████████▏| 23/25 [01:26<00:06,  3.11s/it]"
     ]
    },
    {
     "name": "stdout",
     "output_type": "stream",
     "text": [
      "Early stopping at epoch: 222, population died\n"
     ]
    },
    {
     "name": "stderr",
     "output_type": "stream",
     "text": [
      "100%|██████████| 500/500 [00:05<00:00, 83.49it/s]\n",
      "100%|██████████| 500/500 [00:05<00:00, 91.49it/s]\n",
      "100%|██████████| 25/25 [01:38<00:00,  3.93s/it]\n"
     ]
    },
    {
     "name": "stdout",
     "output_type": "stream",
     "text": [
      "ackley 10\n",
      "Running experiments...\n"
     ]
    },
    {
     "name": "stderr",
     "output_type": "stream",
     "text": [
      " 37%|███▋      | 185/500 [00:00<00:01, 211.90it/s]\n",
      "  4%|▍         | 1/25 [00:00<00:21,  1.13it/s]"
     ]
    },
    {
     "name": "stdout",
     "output_type": "stream",
     "text": [
      "Early stopping at epoch: 185, population died\n"
     ]
    },
    {
     "name": "stderr",
     "output_type": "stream",
     "text": [
      " 52%|█████▏    | 258/500 [00:00<00:00, 300.05it/s]\n",
      "  8%|▊         | 2/25 [00:01<00:20,  1.14it/s]"
     ]
    },
    {
     "name": "stdout",
     "output_type": "stream",
     "text": [
      "Early stopping at epoch: 258, population died\n"
     ]
    },
    {
     "name": "stderr",
     "output_type": "stream",
     "text": [
      " 28%|██▊       | 141/500 [00:00<00:01, 269.49it/s]\n",
      " 12%|█▏        | 3/25 [00:02<00:15,  1.39it/s]"
     ]
    },
    {
     "name": "stdout",
     "output_type": "stream",
     "text": [
      "Early stopping at epoch: 141, population died\n"
     ]
    },
    {
     "name": "stderr",
     "output_type": "stream",
     "text": [
      "100%|█████████▉| 498/500 [00:01<00:00, 347.62it/s]\n",
      " 16%|█▌        | 4/25 [00:03<00:21,  1.01s/it]"
     ]
    },
    {
     "name": "stdout",
     "output_type": "stream",
     "text": [
      "Early stopping at epoch: 498, population died\n"
     ]
    },
    {
     "name": "stderr",
     "output_type": "stream",
     "text": [
      " 22%|██▏       | 109/500 [00:01<00:03, 98.94it/s]\n",
      " 20%|██        | 5/25 [00:04<00:20,  1.04s/it]"
     ]
    },
    {
     "name": "stdout",
     "output_type": "stream",
     "text": [
      "Early stopping at epoch: 109, population died\n"
     ]
    },
    {
     "name": "stderr",
     "output_type": "stream",
     "text": [
      " 45%|████▌     | 226/500 [00:02<00:02, 92.28it/s] \n",
      " 24%|██▍       | 6/25 [00:07<00:28,  1.53s/it]"
     ]
    },
    {
     "name": "stdout",
     "output_type": "stream",
     "text": [
      "Early stopping at epoch: 226, population died\n"
     ]
    },
    {
     "name": "stderr",
     "output_type": "stream",
     "text": [
      " 25%|██▌       | 127/500 [00:01<00:03, 99.41it/s] \n",
      " 28%|██▊       | 7/25 [00:08<00:26,  1.45s/it]"
     ]
    },
    {
     "name": "stdout",
     "output_type": "stream",
     "text": [
      "Early stopping at epoch: 127, population died\n"
     ]
    },
    {
     "name": "stderr",
     "output_type": "stream",
     "text": [
      " 39%|███▉      | 195/500 [00:01<00:02, 119.79it/s]\n",
      " 32%|███▏      | 8/25 [00:10<00:25,  1.51s/it]"
     ]
    },
    {
     "name": "stdout",
     "output_type": "stream",
     "text": [
      "Early stopping at epoch: 195, population died\n"
     ]
    },
    {
     "name": "stderr",
     "output_type": "stream",
     "text": [
      " 36%|███▌      | 180/500 [00:00<00:01, 252.56it/s]\n",
      " 36%|███▌      | 9/25 [00:10<00:20,  1.26s/it]"
     ]
    },
    {
     "name": "stdout",
     "output_type": "stream",
     "text": [
      "Early stopping at epoch: 180, population died\n"
     ]
    },
    {
     "name": "stderr",
     "output_type": "stream",
     "text": [
      " 95%|█████████▍| 474/500 [00:01<00:00, 458.39it/s]\n",
      " 40%|████      | 10/25 [00:12<00:17,  1.20s/it]"
     ]
    },
    {
     "name": "stdout",
     "output_type": "stream",
     "text": [
      "Early stopping at epoch: 474, population died\n"
     ]
    },
    {
     "name": "stderr",
     "output_type": "stream",
     "text": [
      " 49%|████▊     | 243/500 [00:00<00:00, 411.28it/s]\n",
      " 44%|████▍     | 11/25 [00:12<00:14,  1.01s/it]"
     ]
    },
    {
     "name": "stdout",
     "output_type": "stream",
     "text": [
      "Early stopping at epoch: 243, population died\n"
     ]
    },
    {
     "name": "stderr",
     "output_type": "stream",
     "text": [
      " 31%|███       | 154/500 [00:00<00:01, 204.74it/s]\n",
      " 48%|████▊     | 12/25 [00:13<00:12,  1.07it/s]"
     ]
    },
    {
     "name": "stdout",
     "output_type": "stream",
     "text": [
      "Early stopping at epoch: 154, population died\n"
     ]
    },
    {
     "name": "stderr",
     "output_type": "stream",
     "text": [
      " 79%|███████▉  | 396/500 [00:01<00:00, 300.34it/s]\n",
      " 52%|█████▏    | 13/25 [00:14<00:12,  1.06s/it]"
     ]
    },
    {
     "name": "stdout",
     "output_type": "stream",
     "text": [
      "Early stopping at epoch: 396, population died\n"
     ]
    },
    {
     "name": "stderr",
     "output_type": "stream",
     "text": [
      " 52%|█████▏    | 259/500 [00:01<00:00, 254.70it/s]\n",
      " 56%|█████▌    | 14/25 [00:15<00:11,  1.05s/it]"
     ]
    },
    {
     "name": "stdout",
     "output_type": "stream",
     "text": [
      "Early stopping at epoch: 259, population died\n"
     ]
    },
    {
     "name": "stderr",
     "output_type": "stream",
     "text": [
      " 51%|█████▏    | 257/500 [00:00<00:00, 317.66it/s]\n",
      " 60%|██████    | 15/25 [00:16<00:09,  1.02it/s]"
     ]
    },
    {
     "name": "stdout",
     "output_type": "stream",
     "text": [
      "Early stopping at epoch: 257, population died\n"
     ]
    },
    {
     "name": "stderr",
     "output_type": "stream",
     "text": [
      " 68%|██████▊   | 341/500 [00:03<00:01, 97.94it/s]\n",
      " 64%|██████▍   | 16/25 [00:20<00:15,  1.74s/it]"
     ]
    },
    {
     "name": "stdout",
     "output_type": "stream",
     "text": [
      "Early stopping at epoch: 341, population died\n"
     ]
    },
    {
     "name": "stderr",
     "output_type": "stream",
     "text": [
      " 58%|█████▊    | 289/500 [00:02<00:02, 105.44it/s]\n",
      " 68%|██████▊   | 17/25 [00:22<00:16,  2.04s/it]"
     ]
    },
    {
     "name": "stdout",
     "output_type": "stream",
     "text": [
      "Early stopping at epoch: 289, population died\n"
     ]
    },
    {
     "name": "stderr",
     "output_type": "stream",
     "text": [
      " 97%|█████████▋| 487/500 [00:02<00:00, 225.13it/s]\n",
      " 72%|███████▏  | 18/25 [00:24<00:14,  2.08s/it]"
     ]
    },
    {
     "name": "stdout",
     "output_type": "stream",
     "text": [
      "Early stopping at epoch: 487, population died\n"
     ]
    },
    {
     "name": "stderr",
     "output_type": "stream",
     "text": [
      " 42%|████▏     | 211/500 [00:01<00:02, 138.01it/s]\n",
      " 76%|███████▌  | 19/25 [00:26<00:11,  1.92s/it]"
     ]
    },
    {
     "name": "stdout",
     "output_type": "stream",
     "text": [
      "Early stopping at epoch: 211, population died\n"
     ]
    },
    {
     "name": "stderr",
     "output_type": "stream",
     "text": [
      " 41%|████      | 204/500 [00:00<00:01, 258.46it/s]\n",
      " 80%|████████  | 20/25 [00:27<00:07,  1.58s/it]"
     ]
    },
    {
     "name": "stdout",
     "output_type": "stream",
     "text": [
      "Early stopping at epoch: 204, population died\n"
     ]
    },
    {
     "name": "stderr",
     "output_type": "stream",
     "text": [
      " 29%|██▉       | 144/500 [00:00<00:01, 196.06it/s]\n",
      " 84%|████████▍ | 21/25 [00:28<00:05,  1.33s/it]"
     ]
    },
    {
     "name": "stdout",
     "output_type": "stream",
     "text": [
      "Early stopping at epoch: 144, population died\n"
     ]
    },
    {
     "name": "stderr",
     "output_type": "stream",
     "text": [
      " 42%|████▏     | 210/500 [00:00<00:00, 312.09it/s]\n",
      " 88%|████████▊ | 22/25 [00:28<00:03,  1.14s/it]"
     ]
    },
    {
     "name": "stdout",
     "output_type": "stream",
     "text": [
      "Early stopping at epoch: 210, population died\n"
     ]
    },
    {
     "name": "stderr",
     "output_type": "stream",
     "text": [
      " 33%|███▎      | 163/500 [00:00<00:01, 306.54it/s]\n",
      " 92%|█████████▏| 23/25 [00:29<00:01,  1.04it/s]"
     ]
    },
    {
     "name": "stdout",
     "output_type": "stream",
     "text": [
      "Early stopping at epoch: 163, population died\n"
     ]
    },
    {
     "name": "stderr",
     "output_type": "stream",
     "text": [
      " 50%|█████     | 252/500 [00:01<00:01, 129.59it/s]\n",
      " 96%|█████████▌| 24/25 [00:31<00:01,  1.26s/it]"
     ]
    },
    {
     "name": "stdout",
     "output_type": "stream",
     "text": [
      "Early stopping at epoch: 252, population died\n"
     ]
    },
    {
     "name": "stderr",
     "output_type": "stream",
     "text": [
      " 79%|███████▉  | 396/500 [00:03<00:00, 110.59it/s]\n",
      "100%|██████████| 25/25 [00:34<00:00,  1.39s/it]\n"
     ]
    },
    {
     "name": "stdout",
     "output_type": "stream",
     "text": [
      "Early stopping at epoch: 396, population died\n",
      "griewank 10\n",
      "Running experiments...\n"
     ]
    },
    {
     "name": "stderr",
     "output_type": "stream",
     "text": [
      "100%|██████████| 500/500 [00:02<00:00, 218.33it/s]\n",
      " 25%|██▌       | 127/500 [00:00<00:02, 152.35it/s]\n",
      "  8%|▊         | 2/25 [00:03<00:33,  1.45s/it]"
     ]
    },
    {
     "name": "stdout",
     "output_type": "stream",
     "text": [
      "Early stopping at epoch: 127, population died\n"
     ]
    },
    {
     "name": "stderr",
     "output_type": "stream",
     "text": [
      " 77%|███████▋  | 384/500 [00:01<00:00, 239.42it/s]\n",
      " 12%|█▏        | 3/25 [00:04<00:33,  1.52s/it]"
     ]
    },
    {
     "name": "stdout",
     "output_type": "stream",
     "text": [
      "Early stopping at epoch: 384, population died\n"
     ]
    },
    {
     "name": "stderr",
     "output_type": "stream",
     "text": [
      " 51%|█████     | 255/500 [00:00<00:00, 261.81it/s]\n",
      " 16%|█▌        | 4/25 [00:05<00:27,  1.31s/it]"
     ]
    },
    {
     "name": "stdout",
     "output_type": "stream",
     "text": [
      "Early stopping at epoch: 255, population died\n"
     ]
    },
    {
     "name": "stderr",
     "output_type": "stream",
     "text": [
      " 41%|████▏     | 207/500 [00:00<00:01, 210.97it/s]\n",
      " 20%|██        | 5/25 [00:06<00:23,  1.20s/it]"
     ]
    },
    {
     "name": "stdout",
     "output_type": "stream",
     "text": [
      "Early stopping at epoch: 207, population died\n"
     ]
    },
    {
     "name": "stderr",
     "output_type": "stream",
     "text": [
      " 41%|████      | 206/500 [00:00<00:01, 270.01it/s]\n",
      " 24%|██▍       | 6/25 [00:07<00:20,  1.05s/it]"
     ]
    },
    {
     "name": "stdout",
     "output_type": "stream",
     "text": [
      "Early stopping at epoch: 206, population died\n"
     ]
    },
    {
     "name": "stderr",
     "output_type": "stream",
     "text": [
      " 33%|███▎      | 166/500 [00:02<00:04, 81.96it/s]\n",
      " 28%|██▊       | 7/25 [00:09<00:24,  1.37s/it]"
     ]
    },
    {
     "name": "stdout",
     "output_type": "stream",
     "text": [
      "Early stopping at epoch: 166, population died\n"
     ]
    },
    {
     "name": "stderr",
     "output_type": "stream",
     "text": [
      " 28%|██▊       | 140/500 [00:01<00:03, 94.30it/s] \n",
      " 32%|███▏      | 8/25 [00:11<00:24,  1.41s/it]"
     ]
    },
    {
     "name": "stdout",
     "output_type": "stream",
     "text": [
      "Early stopping at epoch: 140, population died\n"
     ]
    },
    {
     "name": "stderr",
     "output_type": "stream",
     "text": [
      " 35%|███▍      | 173/500 [00:01<00:03, 94.76it/s] \n",
      " 36%|███▌      | 9/25 [00:12<00:24,  1.55s/it]"
     ]
    },
    {
     "name": "stdout",
     "output_type": "stream",
     "text": [
      "Early stopping at epoch: 173, population died\n"
     ]
    },
    {
     "name": "stderr",
     "output_type": "stream",
     "text": [
      " 41%|████▏     | 207/500 [00:01<00:02, 143.46it/s]\n",
      " 40%|████      | 10/25 [00:14<00:22,  1.52s/it]"
     ]
    },
    {
     "name": "stdout",
     "output_type": "stream",
     "text": [
      "Early stopping at epoch: 207, population died\n"
     ]
    },
    {
     "name": "stderr",
     "output_type": "stream",
     "text": [
      " 59%|█████▊    | 293/500 [00:01<00:00, 225.59it/s]\n",
      " 44%|████▍     | 11/25 [00:15<00:20,  1.45s/it]"
     ]
    },
    {
     "name": "stdout",
     "output_type": "stream",
     "text": [
      "Early stopping at epoch: 293, population died\n"
     ]
    },
    {
     "name": "stderr",
     "output_type": "stream",
     "text": [
      " 57%|█████▋    | 287/500 [00:01<00:00, 216.86it/s]\n",
      " 48%|████▊     | 12/25 [00:16<00:18,  1.42s/it]"
     ]
    },
    {
     "name": "stdout",
     "output_type": "stream",
     "text": [
      "Early stopping at epoch: 287, population died\n"
     ]
    },
    {
     "name": "stderr",
     "output_type": "stream",
     "text": [
      " 40%|███▉      | 198/500 [00:00<00:01, 202.01it/s]\n",
      " 52%|█████▏    | 13/25 [00:17<00:15,  1.29s/it]"
     ]
    },
    {
     "name": "stdout",
     "output_type": "stream",
     "text": [
      "Early stopping at epoch: 198, population died\n"
     ]
    },
    {
     "name": "stderr",
     "output_type": "stream",
     "text": [
      " 39%|███▉      | 194/500 [00:01<00:02, 122.80it/s]\n",
      " 56%|█████▌    | 14/25 [00:19<00:15,  1.38s/it]"
     ]
    },
    {
     "name": "stdout",
     "output_type": "stream",
     "text": [
      "Early stopping at epoch: 194, population died\n"
     ]
    },
    {
     "name": "stderr",
     "output_type": "stream",
     "text": [
      " 66%|██████▌   | 331/500 [00:03<00:01, 100.54it/s]\n",
      " 60%|██████    | 15/25 [00:22<00:19,  1.96s/it]"
     ]
    },
    {
     "name": "stdout",
     "output_type": "stream",
     "text": [
      "Early stopping at epoch: 331, population died\n"
     ]
    },
    {
     "name": "stderr",
     "output_type": "stream",
     "text": [
      " 90%|████████▉ | 449/500 [00:04<00:00, 110.36it/s]\n",
      " 64%|██████▍   | 16/25 [00:26<00:23,  2.60s/it]"
     ]
    },
    {
     "name": "stdout",
     "output_type": "stream",
     "text": [
      "Early stopping at epoch: 449, population died\n"
     ]
    },
    {
     "name": "stderr",
     "output_type": "stream",
     "text": [
      " 43%|████▎     | 216/500 [00:01<00:01, 174.54it/s]\n",
      " 68%|██████▊   | 17/25 [00:28<00:17,  2.19s/it]"
     ]
    },
    {
     "name": "stdout",
     "output_type": "stream",
     "text": [
      "Early stopping at epoch: 216, population died\n"
     ]
    },
    {
     "name": "stderr",
     "output_type": "stream",
     "text": [
      " 45%|████▍     | 223/500 [00:00<00:01, 245.60it/s]\n",
      " 72%|███████▏  | 18/25 [00:29<00:12,  1.81s/it]"
     ]
    },
    {
     "name": "stdout",
     "output_type": "stream",
     "text": [
      "Early stopping at epoch: 223, population died\n"
     ]
    },
    {
     "name": "stderr",
     "output_type": "stream",
     "text": [
      " 40%|████      | 202/500 [00:00<00:01, 241.75it/s]\n",
      " 76%|███████▌  | 19/25 [00:29<00:09,  1.52s/it]"
     ]
    },
    {
     "name": "stdout",
     "output_type": "stream",
     "text": [
      "Early stopping at epoch: 202, population died\n"
     ]
    },
    {
     "name": "stderr",
     "output_type": "stream",
     "text": [
      " 58%|█████▊    | 288/500 [00:01<00:00, 242.11it/s]\n",
      " 80%|████████  | 20/25 [00:31<00:07,  1.43s/it]"
     ]
    },
    {
     "name": "stdout",
     "output_type": "stream",
     "text": [
      "Early stopping at epoch: 288, population died\n"
     ]
    },
    {
     "name": "stderr",
     "output_type": "stream",
     "text": [
      " 21%|██        | 104/500 [00:00<00:02, 171.08it/s]\n",
      " 84%|████████▍ | 21/25 [00:31<00:04,  1.18s/it]"
     ]
    },
    {
     "name": "stdout",
     "output_type": "stream",
     "text": [
      "Early stopping at epoch: 104, population died\n"
     ]
    },
    {
     "name": "stderr",
     "output_type": "stream",
     "text": [
      " 35%|███▌      | 177/500 [00:00<00:01, 196.42it/s]\n",
      " 88%|████████▊ | 22/25 [00:32<00:03,  1.10s/it]"
     ]
    },
    {
     "name": "stdout",
     "output_type": "stream",
     "text": [
      "Early stopping at epoch: 177, population died\n"
     ]
    },
    {
     "name": "stderr",
     "output_type": "stream",
     "text": [
      " 48%|████▊     | 238/500 [00:02<00:02, 102.61it/s]\n",
      " 92%|█████████▏| 23/25 [00:35<00:02,  1.47s/it]"
     ]
    },
    {
     "name": "stdout",
     "output_type": "stream",
     "text": [
      "Early stopping at epoch: 238, population died\n"
     ]
    },
    {
     "name": "stderr",
     "output_type": "stream",
     "text": [
      " 48%|████▊     | 241/500 [00:02<00:03, 84.53it/s]\n",
      " 96%|█████████▌| 24/25 [00:37<00:01,  1.89s/it]"
     ]
    },
    {
     "name": "stdout",
     "output_type": "stream",
     "text": [
      "Early stopping at epoch: 241, population died\n"
     ]
    },
    {
     "name": "stderr",
     "output_type": "stream",
     "text": [
      " 38%|███▊      | 188/500 [00:01<00:02, 134.07it/s]\n",
      "100%|██████████| 25/25 [00:39<00:00,  1.57s/it]\n"
     ]
    },
    {
     "name": "stdout",
     "output_type": "stream",
     "text": [
      "Early stopping at epoch: 188, population died\n",
      "rastrigin 10\n",
      "Running experiments...\n"
     ]
    },
    {
     "name": "stderr",
     "output_type": "stream",
     "text": [
      " 76%|███████▌  | 381/500 [00:07<00:02, 49.62it/s]\n",
      "  4%|▍         | 1/25 [00:07<03:04,  7.69s/it]"
     ]
    },
    {
     "name": "stdout",
     "output_type": "stream",
     "text": [
      "Early stopping at epoch: 381, population died\n"
     ]
    },
    {
     "name": "stderr",
     "output_type": "stream",
     "text": [
      " 96%|█████████▌| 479/500 [00:07<00:00, 62.38it/s] \n",
      "  8%|▊         | 2/25 [00:15<02:56,  7.69s/it]"
     ]
    },
    {
     "name": "stdout",
     "output_type": "stream",
     "text": [
      "Early stopping at epoch: 479, population died\n"
     ]
    },
    {
     "name": "stderr",
     "output_type": "stream",
     "text": [
      "100%|██████████| 500/500 [00:08<00:00, 56.06it/s] \n",
      "100%|██████████| 500/500 [00:06<00:00, 78.70it/s] \n",
      " 98%|█████████▊| 491/500 [00:07<00:00, 63.71it/s] \n",
      " 20%|██        | 5/25 [00:38<02:31,  7.58s/it]"
     ]
    },
    {
     "name": "stdout",
     "output_type": "stream",
     "text": [
      "Early stopping at epoch: 491, population died\n"
     ]
    },
    {
     "name": "stderr",
     "output_type": "stream",
     "text": [
      " 76%|███████▋  | 382/500 [00:06<00:02, 55.77it/s] \n",
      " 24%|██▍       | 6/25 [00:45<02:19,  7.34s/it]"
     ]
    },
    {
     "name": "stdout",
     "output_type": "stream",
     "text": [
      "Early stopping at epoch: 382, population died\n"
     ]
    },
    {
     "name": "stderr",
     "output_type": "stream",
     "text": [
      " 72%|███████▏  | 360/500 [00:06<00:02, 52.67it/s] \n",
      " 28%|██▊       | 7/25 [00:52<02:09,  7.18s/it]"
     ]
    },
    {
     "name": "stdout",
     "output_type": "stream",
     "text": [
      "Early stopping at epoch: 360, population died\n"
     ]
    },
    {
     "name": "stderr",
     "output_type": "stream",
     "text": [
      " 71%|███████▏  | 357/500 [00:06<00:02, 51.95it/s]\n",
      " 32%|███▏      | 8/25 [00:58<02:00,  7.08s/it]"
     ]
    },
    {
     "name": "stdout",
     "output_type": "stream",
     "text": [
      "Early stopping at epoch: 357, population died\n"
     ]
    },
    {
     "name": "stderr",
     "output_type": "stream",
     "text": [
      " 81%|████████▏ | 407/500 [00:07<00:01, 51.74it/s] \n",
      " 36%|███▌      | 9/25 [01:06<01:57,  7.33s/it]"
     ]
    },
    {
     "name": "stdout",
     "output_type": "stream",
     "text": [
      "Early stopping at epoch: 407, population died\n"
     ]
    },
    {
     "name": "stderr",
     "output_type": "stream",
     "text": [
      " 82%|████████▏ | 410/500 [00:07<00:01, 55.04it/s] \n",
      " 40%|████      | 10/25 [01:14<01:50,  7.37s/it]"
     ]
    },
    {
     "name": "stdout",
     "output_type": "stream",
     "text": [
      "Early stopping at epoch: 410, population died\n"
     ]
    },
    {
     "name": "stderr",
     "output_type": "stream",
     "text": [
      "100%|██████████| 500/500 [00:05<00:00, 85.21it/s] \n",
      "100%|██████████| 500/500 [00:07<00:00, 65.41it/s] \n",
      " 68%|██████▊   | 339/500 [00:05<00:02, 58.91it/s] \n",
      " 52%|█████▏    | 13/25 [01:33<01:20,  6.72s/it]"
     ]
    },
    {
     "name": "stdout",
     "output_type": "stream",
     "text": [
      "Early stopping at epoch: 339, population died\n"
     ]
    },
    {
     "name": "stderr",
     "output_type": "stream",
     "text": [
      " 67%|██████▋   | 335/500 [00:06<00:03, 48.59it/s] \n",
      " 56%|█████▌    | 14/25 [01:40<01:14,  6.78s/it]"
     ]
    },
    {
     "name": "stdout",
     "output_type": "stream",
     "text": [
      "Early stopping at epoch: 335, population died\n"
     ]
    },
    {
     "name": "stderr",
     "output_type": "stream",
     "text": [
      "100%|██████████| 500/500 [00:09<00:00, 51.44it/s]\n",
      " 57%|█████▋    | 286/500 [00:05<00:04, 49.19it/s] \n",
      " 64%|██████▍   | 16/25 [01:56<01:04,  7.11s/it]"
     ]
    },
    {
     "name": "stdout",
     "output_type": "stream",
     "text": [
      "Early stopping at epoch: 286, population died\n"
     ]
    },
    {
     "name": "stderr",
     "output_type": "stream",
     "text": [
      " 97%|█████████▋| 483/500 [00:08<00:00, 59.16it/s] \n",
      " 68%|██████▊   | 17/25 [02:04<00:59,  7.43s/it]"
     ]
    },
    {
     "name": "stdout",
     "output_type": "stream",
     "text": [
      "Early stopping at epoch: 483, population died\n"
     ]
    },
    {
     "name": "stderr",
     "output_type": "stream",
     "text": [
      "100%|██████████| 500/500 [00:12<00:00, 41.01it/s]\n",
      "100%|██████████| 500/500 [00:09<00:00, 54.08it/s] \n",
      " 79%|███████▉  | 395/500 [00:06<00:01, 59.28it/s] \n",
      " 80%|████████  | 20/25 [02:32<00:41,  8.29s/it]"
     ]
    },
    {
     "name": "stdout",
     "output_type": "stream",
     "text": [
      "Early stopping at epoch: 395, population died\n"
     ]
    },
    {
     "name": "stderr",
     "output_type": "stream",
     "text": [
      " 92%|█████████▏| 459/500 [00:06<00:00, 71.14it/s] \n",
      " 84%|████████▍ | 21/25 [02:38<00:30,  7.74s/it]"
     ]
    },
    {
     "name": "stdout",
     "output_type": "stream",
     "text": [
      "Early stopping at epoch: 459, population died\n"
     ]
    },
    {
     "name": "stderr",
     "output_type": "stream",
     "text": [
      " 94%|█████████▍| 470/500 [00:07<00:00, 63.68it/s] \n",
      " 88%|████████▊ | 22/25 [02:46<00:22,  7.64s/it]"
     ]
    },
    {
     "name": "stdout",
     "output_type": "stream",
     "text": [
      "Early stopping at epoch: 470, population died\n"
     ]
    },
    {
     "name": "stderr",
     "output_type": "stream",
     "text": [
      " 62%|██████▏   | 312/500 [00:06<00:03, 48.77it/s] \n",
      " 92%|█████████▏| 23/25 [02:52<00:14,  7.27s/it]"
     ]
    },
    {
     "name": "stdout",
     "output_type": "stream",
     "text": [
      "Early stopping at epoch: 312, population died\n"
     ]
    },
    {
     "name": "stderr",
     "output_type": "stream",
     "text": [
      "100%|██████████| 500/500 [00:07<00:00, 64.55it/s] \n",
      " 64%|██████▍   | 322/500 [00:07<00:03, 45.45it/s]\n",
      "100%|██████████| 25/25 [03:07<00:00,  7.50s/it]\n"
     ]
    },
    {
     "name": "stdout",
     "output_type": "stream",
     "text": [
      "Early stopping at epoch: 322, population died\n",
      "schwefel 15\n",
      "Running experiments...\n"
     ]
    },
    {
     "name": "stderr",
     "output_type": "stream",
     "text": [
      " 53%|█████▎    | 263/500 [00:01<00:01, 166.46it/s]\n",
      "  4%|▍         | 1/25 [00:01<00:38,  1.59s/it]"
     ]
    },
    {
     "name": "stdout",
     "output_type": "stream",
     "text": [
      "Early stopping at epoch: 263, population died\n"
     ]
    },
    {
     "name": "stderr",
     "output_type": "stream",
     "text": [
      " 36%|███▌      | 181/500 [00:00<00:01, 254.86it/s]\n",
      "  8%|▊         | 2/25 [00:02<00:24,  1.08s/it]"
     ]
    },
    {
     "name": "stdout",
     "output_type": "stream",
     "text": [
      "Early stopping at epoch: 181, population died\n"
     ]
    },
    {
     "name": "stderr",
     "output_type": "stream",
     "text": [
      " 21%|██        | 104/500 [00:00<00:01, 255.08it/s]\n",
      " 12%|█▏        | 3/25 [00:02<00:17,  1.29it/s]"
     ]
    },
    {
     "name": "stdout",
     "output_type": "stream",
     "text": [
      "Early stopping at epoch: 104, population died\n"
     ]
    },
    {
     "name": "stderr",
     "output_type": "stream",
     "text": [
      "100%|██████████| 500/500 [00:03<00:00, 148.40it/s]\n",
      " 55%|█████▍    | 274/500 [00:01<00:01, 148.89it/s]\n",
      " 20%|██        | 5/25 [00:07<00:36,  1.82s/it]"
     ]
    },
    {
     "name": "stdout",
     "output_type": "stream",
     "text": [
      "Early stopping at epoch: 274, population died\n"
     ]
    },
    {
     "name": "stderr",
     "output_type": "stream",
     "text": [
      "100%|██████████| 500/500 [00:02<00:00, 227.97it/s]\n",
      " 50%|█████     | 251/500 [00:02<00:02, 100.61it/s]\n",
      " 28%|██▊       | 7/25 [00:12<00:38,  2.13s/it]"
     ]
    },
    {
     "name": "stdout",
     "output_type": "stream",
     "text": [
      "Early stopping at epoch: 251, population died\n"
     ]
    },
    {
     "name": "stderr",
     "output_type": "stream",
     "text": [
      " 53%|█████▎    | 263/500 [00:01<00:01, 176.76it/s]\n",
      " 32%|███▏      | 8/25 [00:14<00:32,  1.93s/it]"
     ]
    },
    {
     "name": "stdout",
     "output_type": "stream",
     "text": [
      "Early stopping at epoch: 263, population died\n"
     ]
    },
    {
     "name": "stderr",
     "output_type": "stream",
     "text": [
      "100%|██████████| 500/500 [00:05<00:00, 94.38it/s]\n",
      " 45%|████▍     | 223/500 [00:00<00:00, 355.44it/s]\n",
      " 40%|████      | 10/25 [00:20<00:33,  2.26s/it]"
     ]
    },
    {
     "name": "stdout",
     "output_type": "stream",
     "text": [
      "Early stopping at epoch: 223, population died\n"
     ]
    },
    {
     "name": "stderr",
     "output_type": "stream",
     "text": [
      " 37%|███▋      | 186/500 [00:00<00:00, 444.97it/s]\n",
      " 44%|████▍     | 11/25 [00:20<00:23,  1.70s/it]"
     ]
    },
    {
     "name": "stdout",
     "output_type": "stream",
     "text": [
      "Early stopping at epoch: 186, population died\n"
     ]
    },
    {
     "name": "stderr",
     "output_type": "stream",
     "text": [
      " 45%|████▍     | 224/500 [00:00<00:00, 382.56it/s]\n",
      " 48%|████▊     | 12/25 [00:21<00:17,  1.36s/it]"
     ]
    },
    {
     "name": "stdout",
     "output_type": "stream",
     "text": [
      "Early stopping at epoch: 224, population died\n"
     ]
    },
    {
     "name": "stderr",
     "output_type": "stream",
     "text": [
      " 25%|██▌       | 127/500 [00:00<00:01, 252.84it/s]\n",
      " 52%|█████▏    | 13/25 [00:21<00:13,  1.10s/it]"
     ]
    },
    {
     "name": "stdout",
     "output_type": "stream",
     "text": [
      "Early stopping at epoch: 127, population died\n"
     ]
    },
    {
     "name": "stderr",
     "output_type": "stream",
     "text": [
      " 61%|██████    | 304/500 [00:02<00:01, 121.71it/s]\n",
      " 56%|█████▌    | 14/25 [00:24<00:16,  1.53s/it]"
     ]
    },
    {
     "name": "stdout",
     "output_type": "stream",
     "text": [
      "Early stopping at epoch: 304, population died\n"
     ]
    },
    {
     "name": "stderr",
     "output_type": "stream",
     "text": [
      " 42%|████▏     | 208/500 [00:02<00:03, 96.97it/s] \n",
      " 60%|██████    | 15/25 [00:26<00:17,  1.72s/it]"
     ]
    },
    {
     "name": "stdout",
     "output_type": "stream",
     "text": [
      "Early stopping at epoch: 208, population died\n"
     ]
    },
    {
     "name": "stderr",
     "output_type": "stream",
     "text": [
      "100%|██████████| 500/500 [00:05<00:00, 96.05it/s]\n",
      " 31%|███       | 155/500 [00:00<00:01, 307.07it/s]\n",
      " 68%|██████▊   | 17/25 [00:32<00:16,  2.09s/it]"
     ]
    },
    {
     "name": "stdout",
     "output_type": "stream",
     "text": [
      "Early stopping at epoch: 155, population died\n"
     ]
    },
    {
     "name": "stderr",
     "output_type": "stream",
     "text": [
      " 36%|███▌      | 181/500 [00:00<00:00, 411.06it/s]\n",
      " 72%|███████▏  | 18/25 [00:32<00:11,  1.60s/it]"
     ]
    },
    {
     "name": "stdout",
     "output_type": "stream",
     "text": [
      "Early stopping at epoch: 181, population died\n"
     ]
    },
    {
     "name": "stderr",
     "output_type": "stream",
     "text": [
      " 28%|██▊       | 139/500 [00:00<00:01, 321.88it/s]\n",
      " 76%|███████▌  | 19/25 [00:32<00:07,  1.25s/it]"
     ]
    },
    {
     "name": "stdout",
     "output_type": "stream",
     "text": [
      "Early stopping at epoch: 139, population died\n"
     ]
    },
    {
     "name": "stderr",
     "output_type": "stream",
     "text": [
      " 71%|███████   | 353/500 [00:00<00:00, 431.72it/s]\n",
      " 80%|████████  | 20/25 [00:33<00:05,  1.12s/it]"
     ]
    },
    {
     "name": "stdout",
     "output_type": "stream",
     "text": [
      "Early stopping at epoch: 353, population died\n"
     ]
    },
    {
     "name": "stderr",
     "output_type": "stream",
     "text": [
      " 29%|██▉       | 147/500 [00:00<00:01, 311.82it/s]\n",
      " 84%|████████▍ | 21/25 [00:34<00:03,  1.07it/s]"
     ]
    },
    {
     "name": "stdout",
     "output_type": "stream",
     "text": [
      "Early stopping at epoch: 147, population died\n"
     ]
    },
    {
     "name": "stderr",
     "output_type": "stream",
     "text": [
      "100%|██████████| 500/500 [00:06<00:00, 74.43it/s]\n",
      " 47%|████▋     | 234/500 [00:01<00:01, 136.32it/s]\n",
      " 92%|█████████▏| 23/25 [00:42<00:04,  2.39s/it]"
     ]
    },
    {
     "name": "stdout",
     "output_type": "stream",
     "text": [
      "Early stopping at epoch: 234, population died\n"
     ]
    },
    {
     "name": "stderr",
     "output_type": "stream",
     "text": [
      " 24%|██▍       | 119/500 [00:00<00:03, 123.98it/s]\n",
      " 96%|█████████▌| 24/25 [00:43<00:01,  1.96s/it]"
     ]
    },
    {
     "name": "stdout",
     "output_type": "stream",
     "text": [
      "Early stopping at epoch: 119, population died\n"
     ]
    },
    {
     "name": "stderr",
     "output_type": "stream",
     "text": [
      "100%|██████████| 500/500 [00:05<00:00, 93.60it/s]\n",
      "100%|██████████| 25/25 [00:49<00:00,  1.96s/it]\n"
     ]
    },
    {
     "name": "stdout",
     "output_type": "stream",
     "text": [
      "ackley 15\n",
      "Running experiments...\n"
     ]
    },
    {
     "name": "stderr",
     "output_type": "stream",
     "text": [
      " 24%|██▍       | 120/500 [00:01<00:04, 86.34it/s]\n",
      "  4%|▍         | 1/25 [00:01<00:33,  1.41s/it]"
     ]
    },
    {
     "name": "stdout",
     "output_type": "stream",
     "text": [
      "Early stopping at epoch: 120, population died\n"
     ]
    },
    {
     "name": "stderr",
     "output_type": "stream",
     "text": [
      " 24%|██▍       | 120/500 [00:00<00:03, 122.58it/s]\n",
      "  8%|▊         | 2/25 [00:02<00:26,  1.16s/it]"
     ]
    },
    {
     "name": "stdout",
     "output_type": "stream",
     "text": [
      "Early stopping at epoch: 120, population died\n"
     ]
    },
    {
     "name": "stderr",
     "output_type": "stream",
     "text": [
      " 18%|█▊        | 89/500 [00:00<00:02, 138.22it/s]\n",
      " 12%|█▏        | 3/25 [00:03<00:20,  1.07it/s]"
     ]
    },
    {
     "name": "stdout",
     "output_type": "stream",
     "text": [
      "Early stopping at epoch: 89, population died\n"
     ]
    },
    {
     "name": "stderr",
     "output_type": "stream",
     "text": [
      " 28%|██▊       | 140/500 [00:00<00:01, 269.92it/s]\n",
      " 16%|█▌        | 4/25 [00:03<00:16,  1.30it/s]"
     ]
    },
    {
     "name": "stdout",
     "output_type": "stream",
     "text": [
      "Early stopping at epoch: 140, population died\n"
     ]
    },
    {
     "name": "stderr",
     "output_type": "stream",
     "text": [
      " 51%|█████▏    | 257/500 [00:00<00:00, 358.99it/s]\n",
      " 20%|██        | 5/25 [00:04<00:15,  1.32it/s]"
     ]
    },
    {
     "name": "stdout",
     "output_type": "stream",
     "text": [
      "Early stopping at epoch: 257, population died\n"
     ]
    },
    {
     "name": "stderr",
     "output_type": "stream",
     "text": [
      " 39%|███▉      | 196/500 [00:01<00:02, 119.25it/s]\n",
      " 24%|██▍       | 6/25 [00:05<00:20,  1.06s/it]"
     ]
    },
    {
     "name": "stdout",
     "output_type": "stream",
     "text": [
      "Early stopping at epoch: 196, population died\n"
     ]
    },
    {
     "name": "stderr",
     "output_type": "stream",
     "text": [
      " 47%|████▋     | 237/500 [00:01<00:01, 205.41it/s]\n",
      " 28%|██▊       | 7/25 [00:07<00:19,  1.10s/it]"
     ]
    },
    {
     "name": "stdout",
     "output_type": "stream",
     "text": [
      "Early stopping at epoch: 237, population died\n"
     ]
    },
    {
     "name": "stderr",
     "output_type": "stream",
     "text": [
      " 28%|██▊       | 139/500 [00:00<00:01, 341.12it/s]\n",
      " 32%|███▏      | 8/25 [00:07<00:14,  1.14it/s]"
     ]
    },
    {
     "name": "stdout",
     "output_type": "stream",
     "text": [
      "Early stopping at epoch: 139, population died\n"
     ]
    },
    {
     "name": "stderr",
     "output_type": "stream",
     "text": [
      " 44%|████▎     | 218/500 [00:00<00:00, 375.45it/s]\n",
      " 36%|███▌      | 9/25 [00:08<00:12,  1.27it/s]"
     ]
    },
    {
     "name": "stdout",
     "output_type": "stream",
     "text": [
      "Early stopping at epoch: 218, population died\n"
     ]
    },
    {
     "name": "stderr",
     "output_type": "stream",
     "text": [
      " 26%|██▌       | 129/500 [00:00<00:01, 269.10it/s]\n",
      " 40%|████      | 10/25 [00:08<00:10,  1.43it/s]"
     ]
    },
    {
     "name": "stdout",
     "output_type": "stream",
     "text": [
      "Early stopping at epoch: 129, population died\n"
     ]
    },
    {
     "name": "stderr",
     "output_type": "stream",
     "text": [
      " 30%|███       | 152/500 [00:00<00:01, 221.40it/s]\n",
      " 44%|████▍     | 11/25 [00:09<00:09,  1.43it/s]"
     ]
    },
    {
     "name": "stdout",
     "output_type": "stream",
     "text": [
      "Early stopping at epoch: 152, population died\n"
     ]
    },
    {
     "name": "stderr",
     "output_type": "stream",
     "text": [
      " 39%|███▊      | 193/500 [00:00<00:00, 323.60it/s]\n",
      " 48%|████▊     | 12/25 [00:09<00:08,  1.49it/s]"
     ]
    },
    {
     "name": "stdout",
     "output_type": "stream",
     "text": [
      "Early stopping at epoch: 193, population died\n"
     ]
    },
    {
     "name": "stderr",
     "output_type": "stream",
     "text": [
      " 31%|███       | 155/500 [00:00<00:01, 243.90it/s]\n",
      " 52%|█████▏    | 13/25 [00:10<00:07,  1.51it/s]"
     ]
    },
    {
     "name": "stdout",
     "output_type": "stream",
     "text": [
      "Early stopping at epoch: 155, population died\n"
     ]
    },
    {
     "name": "stderr",
     "output_type": "stream",
     "text": [
      " 31%|███       | 155/500 [00:00<00:01, 295.05it/s]\n",
      " 56%|█████▌    | 14/25 [00:11<00:06,  1.60it/s]"
     ]
    },
    {
     "name": "stdout",
     "output_type": "stream",
     "text": [
      "Early stopping at epoch: 155, population died\n"
     ]
    },
    {
     "name": "stderr",
     "output_type": "stream",
     "text": [
      " 17%|█▋        | 84/500 [00:00<00:03, 122.35it/s]\n",
      " 60%|██████    | 15/25 [00:11<00:06,  1.55it/s]"
     ]
    },
    {
     "name": "stdout",
     "output_type": "stream",
     "text": [
      "Early stopping at epoch: 84, population died\n"
     ]
    },
    {
     "name": "stderr",
     "output_type": "stream",
     "text": [
      " 22%|██▏       | 110/500 [00:01<00:03, 103.26it/s]\n",
      " 64%|██████▍   | 16/25 [00:12<00:06,  1.29it/s]"
     ]
    },
    {
     "name": "stdout",
     "output_type": "stream",
     "text": [
      "Early stopping at epoch: 110, population died\n"
     ]
    },
    {
     "name": "stderr",
     "output_type": "stream",
     "text": [
      " 71%|███████   | 356/500 [00:02<00:01, 126.65it/s]\n",
      " 68%|██████▊   | 17/25 [00:15<00:11,  1.39s/it]"
     ]
    },
    {
     "name": "stdout",
     "output_type": "stream",
     "text": [
      "Early stopping at epoch: 356, population died\n"
     ]
    },
    {
     "name": "stderr",
     "output_type": "stream",
     "text": [
      " 28%|██▊       | 142/500 [00:00<00:01, 242.41it/s]\n",
      " 72%|███████▏  | 18/25 [00:16<00:08,  1.15s/it]"
     ]
    },
    {
     "name": "stdout",
     "output_type": "stream",
     "text": [
      "Early stopping at epoch: 142, population died\n"
     ]
    },
    {
     "name": "stderr",
     "output_type": "stream",
     "text": [
      " 19%|█▉        | 96/500 [00:00<00:02, 138.70it/s]\n",
      " 76%|███████▌  | 19/25 [00:17<00:06,  1.02s/it]"
     ]
    },
    {
     "name": "stdout",
     "output_type": "stream",
     "text": [
      "Early stopping at epoch: 96, population died\n"
     ]
    },
    {
     "name": "stderr",
     "output_type": "stream",
     "text": [
      " 45%|████▍     | 224/500 [00:02<00:02, 99.69it/s] \n",
      " 80%|████████  | 20/25 [00:19<00:06,  1.39s/it]"
     ]
    },
    {
     "name": "stdout",
     "output_type": "stream",
     "text": [
      "Early stopping at epoch: 224, population died\n"
     ]
    },
    {
     "name": "stderr",
     "output_type": "stream",
     "text": [
      " 69%|██████▉   | 345/500 [00:01<00:00, 307.81it/s]\n",
      " 84%|████████▍ | 21/25 [00:20<00:05,  1.31s/it]"
     ]
    },
    {
     "name": "stdout",
     "output_type": "stream",
     "text": [
      "Early stopping at epoch: 345, population died\n"
     ]
    },
    {
     "name": "stderr",
     "output_type": "stream",
     "text": [
      " 21%|██        | 106/500 [00:00<00:01, 209.29it/s]\n",
      " 88%|████████▊ | 22/25 [00:20<00:03,  1.07s/it]"
     ]
    },
    {
     "name": "stdout",
     "output_type": "stream",
     "text": [
      "Early stopping at epoch: 106, population died\n"
     ]
    },
    {
     "name": "stderr",
     "output_type": "stream",
     "text": [
      " 26%|██▌       | 131/500 [00:00<00:01, 223.99it/s]\n",
      " 92%|█████████▏| 23/25 [00:21<00:01,  1.07it/s]"
     ]
    },
    {
     "name": "stdout",
     "output_type": "stream",
     "text": [
      "Early stopping at epoch: 131, population died\n"
     ]
    },
    {
     "name": "stderr",
     "output_type": "stream",
     "text": [
      " 19%|█▊        | 93/500 [00:00<00:01, 205.99it/s]\n",
      " 96%|█████████▌| 24/25 [00:21<00:00,  1.26it/s]"
     ]
    },
    {
     "name": "stdout",
     "output_type": "stream",
     "text": [
      "Early stopping at epoch: 93, population died\n"
     ]
    },
    {
     "name": "stderr",
     "output_type": "stream",
     "text": [
      " 48%|████▊     | 238/500 [00:00<00:00, 327.94it/s]\n",
      "100%|██████████| 25/25 [00:22<00:00,  1.10it/s]\n"
     ]
    },
    {
     "name": "stdout",
     "output_type": "stream",
     "text": [
      "Early stopping at epoch: 238, population died\n",
      "griewank 15\n",
      "Running experiments...\n"
     ]
    },
    {
     "name": "stderr",
     "output_type": "stream",
     "text": [
      " 32%|███▏      | 159/500 [00:00<00:02, 164.36it/s]\n",
      "  4%|▍         | 1/25 [00:00<00:23,  1.02it/s]"
     ]
    },
    {
     "name": "stdout",
     "output_type": "stream",
     "text": [
      "Early stopping at epoch: 159, population died\n"
     ]
    },
    {
     "name": "stderr",
     "output_type": "stream",
     "text": [
      " 30%|███       | 152/500 [00:01<00:03, 103.75it/s]\n",
      "  8%|▊         | 2/25 [00:02<00:29,  1.27s/it]"
     ]
    },
    {
     "name": "stdout",
     "output_type": "stream",
     "text": [
      "Early stopping at epoch: 152, population died\n"
     ]
    },
    {
     "name": "stderr",
     "output_type": "stream",
     "text": [
      " 70%|██████▉   | 348/500 [00:03<00:01, 109.26it/s]\n",
      " 12%|█▏        | 3/25 [00:05<00:47,  2.15s/it]"
     ]
    },
    {
     "name": "stdout",
     "output_type": "stream",
     "text": [
      "Early stopping at epoch: 348, population died\n"
     ]
    },
    {
     "name": "stderr",
     "output_type": "stream",
     "text": [
      "100%|██████████| 500/500 [00:02<00:00, 193.96it/s]\n",
      " 48%|████▊     | 239/500 [00:01<00:01, 133.84it/s]\n",
      " 20%|██        | 5/25 [00:10<00:42,  2.13s/it]"
     ]
    },
    {
     "name": "stdout",
     "output_type": "stream",
     "text": [
      "Early stopping at epoch: 239, population died\n"
     ]
    },
    {
     "name": "stderr",
     "output_type": "stream",
     "text": [
      " 88%|████████▊ | 442/500 [00:01<00:00, 248.42it/s]\n",
      " 24%|██▍       | 6/25 [00:11<00:38,  2.02s/it]"
     ]
    },
    {
     "name": "stdout",
     "output_type": "stream",
     "text": [
      "Early stopping at epoch: 442, population died\n"
     ]
    },
    {
     "name": "stderr",
     "output_type": "stream",
     "text": [
      " 52%|█████▏    | 260/500 [00:01<00:01, 179.23it/s]\n",
      " 28%|██▊       | 7/25 [00:13<00:33,  1.84s/it]"
     ]
    },
    {
     "name": "stdout",
     "output_type": "stream",
     "text": [
      "Early stopping at epoch: 260, population died\n"
     ]
    },
    {
     "name": "stderr",
     "output_type": "stream",
     "text": [
      " 56%|█████▌    | 280/500 [00:02<00:01, 125.72it/s]\n",
      " 32%|███▏      | 8/25 [00:15<00:33,  1.96s/it]"
     ]
    },
    {
     "name": "stdout",
     "output_type": "stream",
     "text": [
      "Early stopping at epoch: 280, population died\n"
     ]
    },
    {
     "name": "stderr",
     "output_type": "stream",
     "text": [
      " 38%|███▊      | 188/500 [00:01<00:03, 98.37it/s]\n",
      " 36%|███▌      | 9/25 [00:17<00:31,  1.95s/it]"
     ]
    },
    {
     "name": "stdout",
     "output_type": "stream",
     "text": [
      "Early stopping at epoch: 188, population died\n"
     ]
    },
    {
     "name": "stderr",
     "output_type": "stream",
     "text": [
      " 48%|████▊     | 242/500 [00:01<00:01, 194.93it/s]\n",
      " 40%|████      | 10/25 [00:18<00:26,  1.74s/it]"
     ]
    },
    {
     "name": "stdout",
     "output_type": "stream",
     "text": [
      "Early stopping at epoch: 242, population died\n"
     ]
    },
    {
     "name": "stderr",
     "output_type": "stream",
     "text": [
      " 38%|███▊      | 190/500 [00:01<00:02, 123.44it/s]\n",
      " 44%|████▍     | 11/25 [00:20<00:23,  1.68s/it]"
     ]
    },
    {
     "name": "stdout",
     "output_type": "stream",
     "text": [
      "Early stopping at epoch: 190, population died\n"
     ]
    },
    {
     "name": "stderr",
     "output_type": "stream",
     "text": [
      " 52%|█████▏    | 259/500 [00:01<00:01, 171.89it/s]\n",
      " 48%|████▊     | 12/25 [00:21<00:21,  1.63s/it]"
     ]
    },
    {
     "name": "stdout",
     "output_type": "stream",
     "text": [
      "Early stopping at epoch: 259, population died\n"
     ]
    },
    {
     "name": "stderr",
     "output_type": "stream",
     "text": [
      " 51%|█████▏    | 257/500 [00:01<00:01, 182.47it/s]\n",
      " 52%|█████▏    | 13/25 [00:23<00:18,  1.57s/it]"
     ]
    },
    {
     "name": "stdout",
     "output_type": "stream",
     "text": [
      "Early stopping at epoch: 257, population died\n"
     ]
    },
    {
     "name": "stderr",
     "output_type": "stream",
     "text": [
      " 67%|██████▋   | 336/500 [00:01<00:00, 278.42it/s]\n",
      " 56%|█████▌    | 14/25 [00:24<00:16,  1.46s/it]"
     ]
    },
    {
     "name": "stdout",
     "output_type": "stream",
     "text": [
      "Early stopping at epoch: 336, population died\n"
     ]
    },
    {
     "name": "stderr",
     "output_type": "stream",
     "text": [
      " 55%|█████▌    | 277/500 [00:01<00:01, 200.58it/s]\n",
      " 60%|██████    | 15/25 [00:25<00:14,  1.44s/it]"
     ]
    },
    {
     "name": "stdout",
     "output_type": "stream",
     "text": [
      "Early stopping at epoch: 277, population died\n"
     ]
    },
    {
     "name": "stderr",
     "output_type": "stream",
     "text": [
      " 66%|██████▋   | 332/500 [00:03<00:01, 94.20it/s] \n",
      " 64%|██████▍   | 16/25 [00:29<00:18,  2.07s/it]"
     ]
    },
    {
     "name": "stdout",
     "output_type": "stream",
     "text": [
      "Early stopping at epoch: 332, population died\n"
     ]
    },
    {
     "name": "stderr",
     "output_type": "stream",
     "text": [
      " 39%|███▉      | 194/500 [00:01<00:02, 122.90it/s]\n",
      " 68%|██████▊   | 17/25 [00:30<00:15,  1.93s/it]"
     ]
    },
    {
     "name": "stdout",
     "output_type": "stream",
     "text": [
      "Early stopping at epoch: 194, population died\n"
     ]
    },
    {
     "name": "stderr",
     "output_type": "stream",
     "text": [
      " 58%|█████▊    | 290/500 [00:01<00:01, 145.34it/s]\n",
      " 72%|███████▏  | 18/25 [00:32<00:13,  1.95s/it]"
     ]
    },
    {
     "name": "stdout",
     "output_type": "stream",
     "text": [
      "Early stopping at epoch: 290, population died\n"
     ]
    },
    {
     "name": "stderr",
     "output_type": "stream",
     "text": [
      " 51%|█████     | 253/500 [00:01<00:01, 186.18it/s]\n",
      " 76%|███████▌  | 19/25 [00:34<00:10,  1.78s/it]"
     ]
    },
    {
     "name": "stdout",
     "output_type": "stream",
     "text": [
      "Early stopping at epoch: 253, population died\n"
     ]
    },
    {
     "name": "stderr",
     "output_type": "stream",
     "text": [
      " 42%|████▏     | 208/500 [00:01<00:02, 128.55it/s]\n",
      " 80%|████████  | 20/25 [00:35<00:08,  1.73s/it]"
     ]
    },
    {
     "name": "stdout",
     "output_type": "stream",
     "text": [
      "Early stopping at epoch: 208, population died\n"
     ]
    },
    {
     "name": "stderr",
     "output_type": "stream",
     "text": [
      " 31%|███       | 156/500 [00:00<00:00, 396.84it/s]\n",
      " 84%|████████▍ | 21/25 [00:36<00:05,  1.33s/it]"
     ]
    },
    {
     "name": "stdout",
     "output_type": "stream",
     "text": [
      "Early stopping at epoch: 156, population died\n"
     ]
    },
    {
     "name": "stderr",
     "output_type": "stream",
     "text": [
      " 63%|██████▎   | 314/500 [00:01<00:00, 226.20it/s]\n",
      " 88%|████████▊ | 22/25 [00:37<00:04,  1.35s/it]"
     ]
    },
    {
     "name": "stdout",
     "output_type": "stream",
     "text": [
      "Early stopping at epoch: 314, population died\n"
     ]
    },
    {
     "name": "stderr",
     "output_type": "stream",
     "text": [
      " 97%|█████████▋| 484/500 [00:02<00:00, 171.31it/s]\n",
      " 92%|█████████▏| 23/25 [00:40<00:03,  1.80s/it]"
     ]
    },
    {
     "name": "stdout",
     "output_type": "stream",
     "text": [
      "Early stopping at epoch: 484, population died\n"
     ]
    },
    {
     "name": "stderr",
     "output_type": "stream",
     "text": [
      " 30%|███       | 151/500 [00:01<00:03, 88.23it/s] \n",
      " 96%|█████████▌| 24/25 [00:42<00:01,  1.78s/it]"
     ]
    },
    {
     "name": "stdout",
     "output_type": "stream",
     "text": [
      "Early stopping at epoch: 151, population died\n"
     ]
    },
    {
     "name": "stderr",
     "output_type": "stream",
     "text": [
      " 30%|███       | 151/500 [00:01<00:02, 120.87it/s]\n",
      "100%|██████████| 25/25 [00:43<00:00,  1.74s/it]\n"
     ]
    },
    {
     "name": "stdout",
     "output_type": "stream",
     "text": [
      "Early stopping at epoch: 151, population died\n",
      "rastrigin 15\n",
      "Running experiments...\n"
     ]
    },
    {
     "name": "stderr",
     "output_type": "stream",
     "text": [
      "100%|██████████| 500/500 [00:07<00:00, 70.21it/s] \n",
      " 97%|█████████▋| 486/500 [00:07<00:00, 60.81it/s] \n",
      "  8%|▊         | 2/25 [00:15<02:55,  7.64s/it]"
     ]
    },
    {
     "name": "stdout",
     "output_type": "stream",
     "text": [
      "Early stopping at epoch: 486, population died\n"
     ]
    },
    {
     "name": "stderr",
     "output_type": "stream",
     "text": [
      " 86%|████████▋ | 432/500 [00:06<00:01, 62.86it/s] \n",
      " 12%|█▏        | 3/25 [00:22<02:40,  7.30s/it]"
     ]
    },
    {
     "name": "stdout",
     "output_type": "stream",
     "text": [
      "Early stopping at epoch: 432, population died\n"
     ]
    },
    {
     "name": "stderr",
     "output_type": "stream",
     "text": [
      " 85%|████████▌ | 426/500 [00:06<00:01, 64.36it/s] \n",
      " 16%|█▌        | 4/25 [00:28<02:27,  7.03s/it]"
     ]
    },
    {
     "name": "stdout",
     "output_type": "stream",
     "text": [
      "Early stopping at epoch: 426, population died\n"
     ]
    },
    {
     "name": "stderr",
     "output_type": "stream",
     "text": [
      " 87%|████████▋ | 435/500 [00:07<00:01, 57.88it/s] \n",
      " 20%|██        | 5/25 [00:36<02:24,  7.21s/it]"
     ]
    },
    {
     "name": "stdout",
     "output_type": "stream",
     "text": [
      "Early stopping at epoch: 435, population died\n"
     ]
    },
    {
     "name": "stderr",
     "output_type": "stream",
     "text": [
      " 66%|██████▌   | 329/500 [00:06<00:03, 52.74it/s] \n",
      " 24%|██▍       | 6/25 [00:42<02:10,  6.88s/it]"
     ]
    },
    {
     "name": "stdout",
     "output_type": "stream",
     "text": [
      "Early stopping at epoch: 329, population died\n"
     ]
    },
    {
     "name": "stderr",
     "output_type": "stream",
     "text": [
      " 90%|████████▉ | 448/500 [00:09<00:01, 47.95it/s] \n",
      " 28%|██▊       | 7/25 [00:51<02:18,  7.69s/it]"
     ]
    },
    {
     "name": "stdout",
     "output_type": "stream",
     "text": [
      "Early stopping at epoch: 448, population died\n"
     ]
    },
    {
     "name": "stderr",
     "output_type": "stream",
     "text": [
      " 74%|███████▍  | 369/500 [00:05<00:01, 70.49it/s] \n",
      " 32%|███▏      | 8/25 [00:57<01:57,  6.91s/it]"
     ]
    },
    {
     "name": "stdout",
     "output_type": "stream",
     "text": [
      "Early stopping at epoch: 369, population died\n"
     ]
    },
    {
     "name": "stderr",
     "output_type": "stream",
     "text": [
      " 72%|███████▏  | 362/500 [00:07<00:02, 49.30it/s]\n",
      " 36%|███▌      | 9/25 [01:04<01:52,  7.05s/it]"
     ]
    },
    {
     "name": "stdout",
     "output_type": "stream",
     "text": [
      "Early stopping at epoch: 362, population died\n"
     ]
    },
    {
     "name": "stderr",
     "output_type": "stream",
     "text": [
      " 62%|██████▏   | 310/500 [00:05<00:03, 57.49it/s] \n",
      " 40%|████      | 10/25 [01:09<01:38,  6.54s/it]"
     ]
    },
    {
     "name": "stdout",
     "output_type": "stream",
     "text": [
      "Early stopping at epoch: 310, population died\n"
     ]
    },
    {
     "name": "stderr",
     "output_type": "stream",
     "text": [
      " 71%|███████   | 356/500 [00:07<00:02, 50.85it/s] \n",
      " 44%|████▍     | 11/25 [01:16<01:33,  6.69s/it]"
     ]
    },
    {
     "name": "stdout",
     "output_type": "stream",
     "text": [
      "Early stopping at epoch: 356, population died\n"
     ]
    },
    {
     "name": "stderr",
     "output_type": "stream",
     "text": [
      " 73%|███████▎  | 367/500 [00:05<00:01, 67.33it/s] \n",
      " 48%|████▊     | 12/25 [01:22<01:22,  6.31s/it]"
     ]
    },
    {
     "name": "stdout",
     "output_type": "stream",
     "text": [
      "Early stopping at epoch: 367, population died\n"
     ]
    },
    {
     "name": "stderr",
     "output_type": "stream",
     "text": [
      "100%|██████████| 500/500 [00:07<00:00, 69.96it/s] \n",
      " 77%|███████▋  | 384/500 [00:05<00:01, 66.40it/s] \n",
      " 56%|█████▌    | 14/25 [01:35<01:09,  6.33s/it]"
     ]
    },
    {
     "name": "stdout",
     "output_type": "stream",
     "text": [
      "Early stopping at epoch: 384, population died\n"
     ]
    },
    {
     "name": "stderr",
     "output_type": "stream",
     "text": [
      " 75%|███████▍  | 373/500 [00:06<00:02, 56.80it/s] \n",
      " 60%|██████    | 15/25 [01:41<01:04,  6.41s/it]"
     ]
    },
    {
     "name": "stdout",
     "output_type": "stream",
     "text": [
      "Early stopping at epoch: 373, population died\n"
     ]
    },
    {
     "name": "stderr",
     "output_type": "stream",
     "text": [
      " 76%|███████▌  | 380/500 [00:05<00:01, 70.97it/s] \n",
      " 64%|██████▍   | 16/25 [01:47<00:54,  6.09s/it]"
     ]
    },
    {
     "name": "stdout",
     "output_type": "stream",
     "text": [
      "Early stopping at epoch: 380, population died\n"
     ]
    },
    {
     "name": "stderr",
     "output_type": "stream",
     "text": [
      "100%|██████████| 500/500 [00:08<00:00, 61.02it/s] \n",
      "100%|██████████| 500/500 [00:07<00:00, 64.45it/s] \n",
      " 58%|█████▊    | 292/500 [00:06<00:04, 48.34it/s] \n",
      " 76%|███████▌  | 19/25 [02:09<00:40,  6.74s/it]"
     ]
    },
    {
     "name": "stdout",
     "output_type": "stream",
     "text": [
      "Early stopping at epoch: 292, population died\n"
     ]
    },
    {
     "name": "stderr",
     "output_type": "stream",
     "text": [
      " 95%|█████████▌| 477/500 [00:07<00:00, 67.45it/s] \n",
      " 80%|████████  | 20/25 [02:16<00:34,  6.85s/it]"
     ]
    },
    {
     "name": "stdout",
     "output_type": "stream",
     "text": [
      "Early stopping at epoch: 477, population died\n"
     ]
    },
    {
     "name": "stderr",
     "output_type": "stream",
     "text": [
      " 79%|███████▉  | 394/500 [00:05<00:01, 68.06it/s] \n",
      " 84%|████████▍ | 21/25 [02:22<00:26,  6.53s/it]"
     ]
    },
    {
     "name": "stdout",
     "output_type": "stream",
     "text": [
      "Early stopping at epoch: 394, population died\n"
     ]
    },
    {
     "name": "stderr",
     "output_type": "stream",
     "text": [
      "100%|██████████| 500/500 [00:06<00:00, 76.33it/s] \n",
      " 79%|███████▉  | 397/500 [00:05<00:01, 69.91it/s] \n",
      " 92%|█████████▏| 23/25 [02:34<00:12,  6.28s/it]"
     ]
    },
    {
     "name": "stdout",
     "output_type": "stream",
     "text": [
      "Early stopping at epoch: 397, population died\n"
     ]
    },
    {
     "name": "stderr",
     "output_type": "stream",
     "text": [
      " 74%|███████▍  | 371/500 [00:07<00:02, 52.84it/s] \n",
      " 96%|█████████▌| 24/25 [02:41<00:06,  6.51s/it]"
     ]
    },
    {
     "name": "stdout",
     "output_type": "stream",
     "text": [
      "Early stopping at epoch: 371, population died\n"
     ]
    },
    {
     "name": "stderr",
     "output_type": "stream",
     "text": [
      "100%|██████████| 500/500 [00:07<00:00, 71.20it/s] \n",
      "100%|██████████| 25/25 [02:48<00:00,  6.73s/it]\n"
     ]
    }
   ],
   "source": [
    "N_experiments=25\n",
    "for n_partitions in n_partitions_age:\n",
    "    for func in (schwefel, ackley, griewank, rastrigin):\n",
    "        print(func.__name__, n_partitions)\n",
    "        check_or_run(func, n_experiments=N_experiments, n_partitions=n_partitions, d=rootdir)"
   ]
  },
  {
   "cell_type": "code",
   "execution_count": 15,
   "metadata": {},
   "outputs": [],
   "source": [
    "# Getting information for Friedman chi-square test\n",
    "if isinstance(n_partitions_age, list): \n",
    "    n_partitions_age = np.array(n_partitions_age)\n",
    "\n",
    "# Placeholder for results\n",
    "test_mtr = np.zeros(shape=(n_partitions_age.shape[0], N_experiments * 4) )\n",
    "\n",
    "for i, n_partitions in enumerate(n_partitions_age):\n",
    "    for func_index, func in enumerate((schwefel, ackley, griewank, rastrigin)):\n",
    "        function_name = func.__name__\n",
    "        pth = caching_filename(function_name, N_experiments, n_partitions, rootdir)\n",
    "        \n",
    "        # Loading best results for each starting population\n",
    "        logs, params = None, None\n",
    "        with open(pth, 'rb') as f:\n",
    "            logs, params = pkl.load(f)\n",
    "        \n",
    "        best_score_vector = logs.groupby('seed').min()['best_fitness'].to_numpy()\n",
    "        test_mtr[i, func_index * N_experiments:(func_index + 1)*N_experiments] = best_score_vector"
   ]
  },
  {
   "cell_type": "code",
   "execution_count": 27,
   "metadata": {},
   "outputs": [
    {
     "data": {
      "text/plain": [
       "FriedmanchisquareResult(statistic=2.304280556988294, pvalue=0.6799898188896243)"
      ]
     },
     "execution_count": 27,
     "metadata": {},
     "output_type": "execute_result"
    }
   ],
   "source": [
    "friedmanchisquare(*test_mtr)"
   ]
  },
  {
   "attachments": {},
   "cell_type": "markdown",
   "metadata": {},
   "source": [
    "Given that we cannot say that one number of partitions is better in terms of the best result, let's compare the end result of each of them"
   ]
  },
  {
   "cell_type": "code",
   "execution_count": 29,
   "metadata": {},
   "outputs": [
    {
     "data": {
      "text/plain": [
       "FriedmanchisquareResult(statistic=6.079999999999927, pvalue=0.19325295355656671)"
      ]
     },
     "execution_count": 29,
     "metadata": {},
     "output_type": "execute_result"
    }
   ],
   "source": [
    "# Getting information for Friedman chi-square test\n",
    "if isinstance(n_partitions_age, list): \n",
    "    n_partitions_age = np.array(n_partitions_age)\n",
    "\n",
    "# Placeholder for results\n",
    "test_mtr = np.zeros(shape=(n_partitions_age.shape[0], N_experiments * 4) )\n",
    "\n",
    "for i, n_partitions in enumerate(n_partitions_age):\n",
    "    for func_index, func in enumerate((schwefel, ackley, griewank, rastrigin)):\n",
    "        function_name = func.__name__\n",
    "        pth = caching_filename(function_name, N_experiments, n_partitions, rootdir)\n",
    "        \n",
    "        # Loading end results for each starting population\n",
    "        logs, params = None, None\n",
    "        with open(pth, 'rb') as f:\n",
    "            logs, params = pkl.load(f)\n",
    "        \n",
    "        best_score_vector = logs.groupby('seed').last()['best_fitness'].to_numpy()\n",
    "        test_mtr[i, func_index * N_experiments:(func_index + 1)*N_experiments] = best_score_vector\n",
    "friedmanchisquare(*test_mtr)"
   ]
  },
  {
   "attachments": {},
   "cell_type": "markdown",
   "metadata": {},
   "source": [
    "We cannot say anything about the end result either. Given that we don't see any statistically significant difference, let's select the one with the smallest median bestFitness. "
   ]
  },
  {
   "cell_type": "code",
   "execution_count": 34,
   "metadata": {},
   "outputs": [],
   "source": [
    "# Placeholder for results\n",
    "result_median_best = []\n",
    "\n",
    "for i, n_partitions in enumerate(n_partitions_age):\n",
    "    for func_index, func in enumerate((schwefel, ackley, griewank, rastrigin)):\n",
    "        function_name = func.__name__\n",
    "        pth = caching_filename(function_name, N_experiments, n_partitions, rootdir)\n",
    "        \n",
    "        # Loading end results for each starting population\n",
    "        logs, params = None, None\n",
    "        with open(pth, 'rb') as f:\n",
    "            logs, params = pkl.load(f)\n",
    "        \n",
    "        median_best = logs.groupby('seed').min()['best_fitness'].median()\n",
    "        record = {\n",
    "            'n_partitions': n_partitions, \n",
    "            'function_name': function_name, \n",
    "            'median_best': median_best\n",
    "        }\n",
    "        result_median_best.append(record)\n",
    "\n",
    "result_median_best = pd.DataFrame(result_median_best)"
   ]
  },
  {
   "cell_type": "code",
   "execution_count": 42,
   "metadata": {},
   "outputs": [
    {
     "data": {
      "text/plain": [
       "             n_partitions\n",
       "median_best  3                6.5\n",
       "             5               10.0\n",
       "             7               18.0\n",
       "             10              11.5\n",
       "             15              14.0\n",
       "dtype: float64"
      ]
     },
     "execution_count": 42,
     "metadata": {},
     "output_type": "execute_result"
    }
   ],
   "source": [
    "pd.pivot(result_median_best, index=['function_name'], values=['median_best'], columns='n_partitions').rank(axis=1).sum(axis=0)"
   ]
  },
  {
   "attachments": {},
   "cell_type": "markdown",
   "metadata": {},
   "source": [
    "If we judge purely by the sum of ranks, then Gendered(3) is the best solution. "
   ]
  }
 ],
 "metadata": {
  "kernelspec": {
   "display_name": "thesis",
   "language": "python",
   "name": "python3"
  },
  "language_info": {
   "codemirror_mode": {
    "name": "ipython",
    "version": 3
   },
   "file_extension": ".py",
   "mimetype": "text/x-python",
   "name": "python",
   "nbconvert_exporter": "python",
   "pygments_lexer": "ipython3",
   "version": "3.10.10"
  },
  "orig_nbformat": 4,
  "vscode": {
   "interpreter": {
    "hash": "1a78cde6364742d5eb3c1afb06f5d9ac27359d158d2fd799008b8978ac1916b2"
   }
  }
 },
 "nbformat": 4,
 "nbformat_minor": 2
}
