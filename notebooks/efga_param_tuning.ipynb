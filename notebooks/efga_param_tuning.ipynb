{
 "cells": [
  {
   "cell_type": "code",
   "execution_count": 1,
   "metadata": {},
   "outputs": [],
   "source": [
    "import os\n",
    "os.chdir('..')"
   ]
  },
  {
   "cell_type": "code",
   "execution_count": 36,
   "metadata": {},
   "outputs": [],
   "source": [
    "from typing import Any\n",
    "import pickle as pkl\n",
    "import numpy as np\n",
    "import pandas as pd\n",
    "from scipy.stats import friedmanchisquare, wilcoxon\n",
    "from scikit_posthocs import posthoc_nemenyi, posthoc_nemenyi_friedman, posthoc_wilcoxon"
   ]
  },
  {
   "cell_type": "code",
   "execution_count": 3,
   "metadata": {},
   "outputs": [],
   "source": [
    "from src.common.experiment_runners import run_experiments_efga\n",
    "from src.common.fitness import (schwefel, ackley, griewank, rastrigin)\n",
    "from src.common.scales import scales"
   ]
  },
  {
   "cell_type": "code",
   "execution_count": 4,
   "metadata": {},
   "outputs": [],
   "source": [
    "N_genomes = 500\n",
    "N_epochs = 500\n",
    "N_experiments = 25\n",
    "n_partitions_priority = [3, 5, 7, 10, 15]\n",
    "rootdir: str = './log/efga_param_tuning/'"
   ]
  },
  {
   "cell_type": "code",
   "execution_count": 6,
   "metadata": {},
   "outputs": [],
   "source": [
    "def caching_filename(function_name: str, n_experiments: int, n_partitions_priority: int, d: str,) -> str: \n",
    "    return os.path.join(d, f'{function_name}_priority_{n_partitions_priority}_experiments_{n_experiments}.pkl')\n",
    "\n",
    "def experiment_exists(function_name: str, n_experiments: int, n_partitions_priority: int, d: str) -> bool:\n",
    "    pth = caching_filename(function_name, n_experiments, n_partitions_priority, d)\n",
    "    return os.path.exists(pth)\n",
    "\n",
    "def cache_experiment(pth: str, experiment_obj: Any) -> None:\n",
    "    with open(pth, 'wb') as f:\n",
    "        pkl.dump(experiment_obj, f)"
   ]
  },
  {
   "cell_type": "code",
   "execution_count": 7,
   "metadata": {},
   "outputs": [],
   "source": [
    "def check_or_run(function: str, n_experiments: int, n_partitions_priority: int, d: str,):\n",
    "    function_name = function.__name__\n",
    "    if not experiment_exists(function_name, n_experiments, n_partitions_priority, d):\n",
    "        print('Running experiments...')\n",
    "        pth = caching_filename(function_name, n_experiments, n_partitions_priority, d)\n",
    "        exp_artifacts = run_experiments_efga(n_experiments=n_experiments, fitness_fn=function, population_scale=scales[function_name][0], \n",
    "                                     mutation_scale=scales[function_name][1], N=N_genomes, epochs=N_epochs, \n",
    "                                     n_terms_priority=n_partitions_priority)\n",
    "        cache_experiment(pth, exp_artifacts)\n",
    "        \n"
   ]
  },
  {
   "cell_type": "code",
   "execution_count": 33,
   "metadata": {},
   "outputs": [
    {
     "name": "stdout",
     "output_type": "stream",
     "text": [
      "Running experiments...\n"
     ]
    },
    {
     "name": "stderr",
     "output_type": "stream",
     "text": [
      "100%|██████████| 500/500 [00:05<00:00, 88.71it/s] \n",
      "100%|██████████| 1/1 [00:05<00:00,  5.73s/it]\n"
     ]
    },
    {
     "name": "stdout",
     "output_type": "stream",
     "text": [
      "Running experiments...\n"
     ]
    },
    {
     "name": "stderr",
     "output_type": "stream",
     "text": [
      "100%|██████████| 500/500 [00:06<00:00, 76.01it/s] \n",
      "100%|██████████| 1/1 [00:06<00:00,  6.67s/it]\n"
     ]
    },
    {
     "name": "stdout",
     "output_type": "stream",
     "text": [
      "Running experiments...\n"
     ]
    },
    {
     "name": "stderr",
     "output_type": "stream",
     "text": [
      "100%|██████████| 500/500 [00:05<00:00, 97.82it/s] \n",
      "100%|██████████| 1/1 [00:05<00:00,  5.19s/it]\n"
     ]
    },
    {
     "name": "stdout",
     "output_type": "stream",
     "text": [
      "Running experiments...\n"
     ]
    },
    {
     "name": "stderr",
     "output_type": "stream",
     "text": [
      "100%|██████████| 500/500 [00:05<00:00, 87.47it/s]\n",
      "100%|██████████| 1/1 [00:05<00:00,  5.81s/it]\n"
     ]
    },
    {
     "name": "stdout",
     "output_type": "stream",
     "text": [
      "Running experiments...\n"
     ]
    },
    {
     "name": "stderr",
     "output_type": "stream",
     "text": [
      "100%|██████████| 500/500 [00:06<00:00, 72.60it/s] \n",
      "100%|██████████| 1/1 [00:06<00:00,  6.97s/it]\n"
     ]
    },
    {
     "name": "stdout",
     "output_type": "stream",
     "text": [
      "Running experiments...\n"
     ]
    },
    {
     "name": "stderr",
     "output_type": "stream",
     "text": [
      "100%|██████████| 500/500 [00:02<00:00, 213.55it/s]\n",
      "100%|██████████| 1/1 [00:02<00:00,  2.46s/it]\n"
     ]
    },
    {
     "name": "stdout",
     "output_type": "stream",
     "text": [
      "Running experiments...\n"
     ]
    },
    {
     "name": "stderr",
     "output_type": "stream",
     "text": [
      "100%|██████████| 500/500 [00:04<00:00, 105.55it/s]\n",
      "100%|██████████| 1/1 [00:04<00:00,  4.82s/it]\n"
     ]
    },
    {
     "name": "stdout",
     "output_type": "stream",
     "text": [
      "Running experiments...\n"
     ]
    },
    {
     "name": "stderr",
     "output_type": "stream",
     "text": [
      "  0%|          | 0/1 [00:00<?, ?it/s]"
     ]
    },
    {
     "name": "stdout",
     "output_type": "stream",
     "text": [
      "/home/oleksandr/UT/Thesis/Implementations\n"
     ]
    },
    {
     "name": "stderr",
     "output_type": "stream",
     "text": [
      "100%|██████████| 500/500 [00:03<00:00, 132.33it/s]\n",
      "100%|██████████| 1/1 [00:12<00:00, 12.71s/it]\n"
     ]
    },
    {
     "name": "stdout",
     "output_type": "stream",
     "text": [
      "Running experiments...\n"
     ]
    },
    {
     "name": "stderr",
     "output_type": "stream",
     "text": [
      "100%|██████████| 500/500 [00:06<00:00, 79.17it/s]\n",
      "100%|██████████| 1/1 [00:06<00:00,  6.40s/it]\n"
     ]
    },
    {
     "name": "stdout",
     "output_type": "stream",
     "text": [
      "Running experiments...\n"
     ]
    },
    {
     "name": "stderr",
     "output_type": "stream",
     "text": [
      "100%|██████████| 500/500 [00:04<00:00, 103.38it/s]\n",
      "100%|██████████| 1/1 [00:04<00:00,  4.93s/it]\n"
     ]
    },
    {
     "name": "stdout",
     "output_type": "stream",
     "text": [
      "Running experiments...\n"
     ]
    },
    {
     "name": "stderr",
     "output_type": "stream",
     "text": [
      "100%|██████████| 500/500 [00:03<00:00, 141.83it/s]\n",
      "100%|██████████| 1/1 [00:03<00:00,  3.62s/it]\n"
     ]
    },
    {
     "name": "stdout",
     "output_type": "stream",
     "text": [
      "Running experiments...\n"
     ]
    },
    {
     "name": "stderr",
     "output_type": "stream",
     "text": [
      "  0%|          | 0/1 [00:00<?, ?it/s]"
     ]
    },
    {
     "name": "stdout",
     "output_type": "stream",
     "text": [
      "/home/oleksandr/UT/Thesis/Implementations\n"
     ]
    },
    {
     "name": "stderr",
     "output_type": "stream",
     "text": [
      "100%|██████████| 500/500 [00:02<00:00, 238.05it/s]\n",
      "100%|██████████| 1/1 [00:11<00:00, 11.35s/it]\n"
     ]
    },
    {
     "name": "stdout",
     "output_type": "stream",
     "text": [
      "Running experiments...\n"
     ]
    },
    {
     "name": "stderr",
     "output_type": "stream",
     "text": [
      "100%|██████████| 500/500 [00:03<00:00, 147.81it/s]\n",
      "100%|██████████| 1/1 [00:03<00:00,  3.47s/it]\n"
     ]
    },
    {
     "name": "stdout",
     "output_type": "stream",
     "text": [
      "Running experiments...\n"
     ]
    },
    {
     "name": "stderr",
     "output_type": "stream",
     "text": [
      "100%|██████████| 500/500 [00:08<00:00, 59.15it/s] \n",
      "100%|██████████| 1/1 [00:08<00:00,  8.54s/it]\n"
     ]
    },
    {
     "name": "stdout",
     "output_type": "stream",
     "text": [
      "Running experiments...\n"
     ]
    },
    {
     "name": "stderr",
     "output_type": "stream",
     "text": [
      "100%|██████████| 500/500 [00:02<00:00, 199.80it/s]\n",
      "100%|██████████| 1/1 [00:02<00:00,  2.60s/it]\n"
     ]
    },
    {
     "name": "stdout",
     "output_type": "stream",
     "text": [
      "Running experiments...\n"
     ]
    },
    {
     "name": "stderr",
     "output_type": "stream",
     "text": [
      "  0%|          | 0/1 [00:00<?, ?it/s]"
     ]
    },
    {
     "name": "stdout",
     "output_type": "stream",
     "text": [
      "/home/oleksandr/UT/Thesis/Implementations\n"
     ]
    },
    {
     "name": "stderr",
     "output_type": "stream",
     "text": [
      "100%|██████████| 500/500 [00:03<00:00, 130.95it/s]\n",
      "100%|██████████| 1/1 [00:13<00:00, 13.80s/it]\n"
     ]
    },
    {
     "name": "stdout",
     "output_type": "stream",
     "text": [
      "Running experiments...\n"
     ]
    },
    {
     "name": "stderr",
     "output_type": "stream",
     "text": [
      "100%|██████████| 500/500 [00:09<00:00, 52.53it/s]\n",
      "100%|██████████| 1/1 [00:09<00:00,  9.60s/it]\n"
     ]
    },
    {
     "name": "stdout",
     "output_type": "stream",
     "text": [
      "Running experiments...\n"
     ]
    },
    {
     "name": "stderr",
     "output_type": "stream",
     "text": [
      "100%|██████████| 500/500 [00:03<00:00, 161.76it/s]\n",
      "100%|██████████| 1/1 [00:03<00:00,  3.19s/it]\n"
     ]
    },
    {
     "name": "stdout",
     "output_type": "stream",
     "text": [
      "Running experiments...\n"
     ]
    },
    {
     "name": "stderr",
     "output_type": "stream",
     "text": [
      "100%|██████████| 500/500 [00:08<00:00, 61.52it/s]\n",
      "100%|██████████| 1/1 [00:08<00:00,  8.21s/it]\n"
     ]
    }
   ],
   "source": [
    "# Dry-run \n",
    "N_experiments=1\n",
    "for n_partitions in n_partitions_priority:\n",
    "    for func in (schwefel, ackley, griewank, rastrigin):\n",
    "        check_or_run(func, n_experiments=N_experiments, n_partitions_priority=n_partitions, d=rootdir)"
   ]
  },
  {
   "cell_type": "code",
   "execution_count": 37,
   "metadata": {},
   "outputs": [
    {
     "name": "stdout",
     "output_type": "stream",
     "text": [
      "   best_fitness  avg_fitness  epoch  ncalls  seed\n",
      "0    991.996848  2022.040599     32   32978     0\n",
      "1   1182.485222  1987.007344     31   32978     0\n",
      "2   1375.962803  1970.678342     33   32978     0\n",
      "3   1059.889019  1965.975528     33   32978     0\n",
      "4   1060.381897  1951.329234     38   32978     0\n",
      "\n",
      "*******\n",
      "\n",
      "   best_fitness  avg_fitness  epoch  ncalls  seed\n",
      "0     20.377431    21.647762     32   43456     0\n",
      "1     20.490989    21.625337     40   43456     0\n",
      "2     20.544204    21.626852     43   43456     0\n",
      "3     20.561031    21.637525     43   43456     0\n",
      "4     20.459694    21.636482     44   43456     0\n",
      "\n",
      "*******\n",
      "\n",
      "   best_fitness  avg_fitness  epoch  ncalls  seed\n",
      "0     25.108826   146.533851     32   28198     0\n",
      "1     24.143827   142.308722     29   28198     0\n",
      "2     47.484032   141.554030     29   28198     0\n",
      "3     61.744727   141.137050     25   28198     0\n",
      "4     67.867510   140.812832     27   28198     0\n",
      "\n",
      "*******\n",
      "\n",
      "   best_fitness  avg_fitness  epoch  ncalls  seed\n",
      "0     35.053111    88.692111     32   34398     0\n",
      "1     56.899658    86.777028     30   34398     0\n",
      "2     74.580541    86.328033     32   34398     0\n",
      "3     60.751992    86.382804     32   34398     0\n",
      "4     57.767001    86.094113     35   34398     0\n",
      "\n",
      "*******\n",
      "\n",
      "   best_fitness  avg_fitness  epoch  ncalls  seed\n",
      "0    991.996848  2022.040599     32   33206     0\n",
      "1   1182.485222  1986.816287     31   33206     0\n",
      "2   1271.198938  1969.364291     33   33206     0\n",
      "3   1059.889019  1963.338327     33   33206     0\n",
      "4   1030.778235  1957.081962     38   33206     0\n",
      "\n",
      "*******\n",
      "\n",
      "   best_fitness  avg_fitness  epoch  ncalls  seed\n",
      "0     20.377431    21.647762     32   43504     0\n",
      "1     20.490989    21.625337     40   43504     0\n",
      "2     20.544204    21.626852     43   43504     0\n",
      "3     20.561031    21.637525     43   43504     0\n",
      "4     20.459694    21.636278     44   43504     0\n",
      "\n",
      "*******\n",
      "\n",
      "   best_fitness  avg_fitness  epoch  ncalls  seed\n",
      "0     25.108826   146.533851     32   27968     0\n",
      "1     24.143827   142.019437     29   27968     0\n",
      "2     47.484032   141.245817     29   27968     0\n",
      "3     67.723269   141.085645     25   27968     0\n",
      "4     72.106567   140.919334     27   27968     0\n",
      "\n",
      "*******\n",
      "\n",
      "   best_fitness  avg_fitness  epoch  ncalls  seed\n",
      "0     35.053111    88.692111     32   34866     0\n",
      "1     52.747353    86.563800     30   34866     0\n",
      "2     57.455558    86.026026     32   34866     0\n",
      "3     26.608661    85.978006     32   34866     0\n",
      "4     74.580541    85.903676     35   34866     0\n",
      "\n",
      "*******\n",
      "\n",
      "   best_fitness  avg_fitness  epoch  ncalls  seed\n",
      "0   1182.485222  2022.040599     32   33036     0\n",
      "1   1059.889019  1986.937498     31   33036     0\n",
      "2   1179.910070  1969.035762     33   33036     0\n",
      "3   1099.018924  1965.866519     33   33036     0\n",
      "4    991.996848  1949.865257     38   33036     0\n",
      "\n",
      "*******\n",
      "\n",
      "   best_fitness  avg_fitness  epoch  ncalls  seed\n",
      "0     20.377431    21.647762     32   43400     0\n",
      "1     20.490989    21.625337     40   43400     0\n",
      "2     20.544204    21.626852     43   43400     0\n",
      "3     20.561031    21.637525     43   43400     0\n",
      "4     20.459694    21.635521     44   43400     0\n",
      "\n",
      "*******\n",
      "\n",
      "   best_fitness  avg_fitness  epoch  ncalls  seed\n",
      "0     25.108826   146.533851     32   28288     0\n",
      "1     27.651327   142.113388     29   28288     0\n",
      "2     47.484032   141.370038     29   28288     0\n",
      "3     61.744727   140.971677     25   28288     0\n",
      "4     67.723269   140.695322     27   28288     0\n",
      "\n",
      "*******\n",
      "\n",
      "   best_fitness  avg_fitness  epoch  ncalls  seed\n",
      "0     35.053111    88.692111     32   34840     0\n",
      "1     50.162757    86.646255     30   34840     0\n",
      "2     26.608661    86.157710     32   34840     0\n",
      "3     36.486609    85.870181     32   34840     0\n",
      "4     31.922712    85.841184     35   34840     0\n",
      "\n",
      "*******\n",
      "\n",
      "   best_fitness  avg_fitness  epoch  ncalls  seed\n",
      "0   1182.485222  2022.040599     32   33754     0\n",
      "1   1059.889019  1983.101295     31   33754     0\n",
      "2   1197.900688  1969.844372     33   33754     0\n",
      "3   1099.018924  1969.903591     33   33754     0\n",
      "4    991.996848  1947.498758     38   33754     0\n",
      "\n",
      "*******\n",
      "\n",
      "   best_fitness  avg_fitness  epoch  ncalls  seed\n",
      "0     20.377431    21.647762     32   43388     0\n",
      "1     20.490989    21.625337     40   43388     0\n",
      "2     20.544204    21.626852     43   43388     0\n",
      "3     20.561031    21.635344     43   43388     0\n",
      "4     20.711876    21.633743     44   43388     0\n",
      "\n",
      "*******\n",
      "\n",
      "   best_fitness  avg_fitness  epoch  ncalls  seed\n",
      "0     25.108826   146.533851     32   28080     0\n",
      "1     27.651327   141.795644     29   28080     0\n",
      "2     47.484032   140.966182     29   28080     0\n",
      "3     61.744727   140.882275     25   28080     0\n",
      "4     38.463508   140.511170     27   28080     0\n",
      "\n",
      "*******\n",
      "\n",
      "   best_fitness  avg_fitness  epoch  ncalls  seed\n",
      "0     35.053111    88.692111     32   34740     0\n",
      "1     54.575633    86.548480     30   34740     0\n",
      "2     56.691560    85.880389     32   34740     0\n",
      "3     26.608661    85.751724     32   34740     0\n",
      "4     31.922712    85.769113     35   34740     0\n",
      "\n",
      "*******\n",
      "\n",
      "   best_fitness  avg_fitness  epoch  ncalls  seed\n",
      "0    991.996848  2022.040599     32   33764     0\n",
      "1   1182.485222  1988.975203     31   33764     0\n",
      "2   1059.889019  1972.582270     33   33764     0\n",
      "3   1030.778235  1967.840583     33   33764     0\n",
      "4    908.135465  1955.557174     38   33764     0\n",
      "\n",
      "*******\n",
      "\n",
      "   best_fitness  avg_fitness  epoch  ncalls  seed\n",
      "0     20.377431    21.647762     32   43482     0\n",
      "1     20.490989    21.625337     40   43482     0\n",
      "2     20.544204    21.626852     43   43482     0\n",
      "3     20.561031    21.635344     43   43482     0\n",
      "4     20.711876    21.634499     44   43482     0\n",
      "\n",
      "*******\n",
      "\n",
      "   best_fitness  avg_fitness  epoch  ncalls  seed\n",
      "0     25.108826   146.533851     32   28118     0\n",
      "1     27.651327   141.826170     29   28118     0\n",
      "2     47.484032   141.089929     29   28118     0\n",
      "3     64.524894   140.987461     25   28118     0\n",
      "4     77.572623   140.628590     27   28118     0\n",
      "\n",
      "*******\n",
      "\n",
      "   best_fitness  avg_fitness  epoch  ncalls  seed\n",
      "0     35.053111    88.692111     32   34452     0\n",
      "1     50.162757    86.702977     30   34452     0\n",
      "2     57.455558    86.020706     32   34452     0\n",
      "3     26.608661    85.868794     32   34452     0\n",
      "4     31.922712    85.794287     35   34452     0\n",
      "\n",
      "*******\n",
      "\n"
     ]
    }
   ],
   "source": [
    "for n_partitions in n_partitions_priority:\n",
    "    for func in (schwefel, ackley, griewank, rastrigin):\n",
    "        function_name = func.__name__\n",
    "        pth = caching_filename(function_name, n_experiments=N_experiments, n_partitions_priority=n_partitions, d=rootdir)\n",
    "        with open(pth, 'rb') as f:\n",
    "            artifacts = pkl.load(f)\n",
    "        print(artifacts[0].head(5))\n",
    "        print('\\n*******\\n')"
   ]
  },
  {
   "cell_type": "code",
   "execution_count": 44,
   "metadata": {},
   "outputs": [
    {
     "name": "stdout",
     "output_type": "stream",
     "text": [
      "Running experiments...\n"
     ]
    },
    {
     "name": "stderr",
     "output_type": "stream",
     "text": [
      "100%|██████████| 500/500 [01:01<00:00,  8.16it/s]\n",
      "100%|██████████| 1/1 [01:01<00:00, 61.39s/it]"
     ]
    },
    {
     "name": "stdout",
     "output_type": "stream",
     "text": [
      " "
     ]
    },
    {
     "name": "stderr",
     "output_type": "stream",
     "text": [
      "\n"
     ]
    },
    {
     "name": "stdout",
     "output_type": "stream",
     "text": [
      "         957235 function calls (914995 primitive calls) in 61.395 seconds\n",
      "\n",
      "   Ordered by: internal time\n",
      "\n",
      "   ncalls  tottime  percall  cumtime  percall filename:lineno(function)\n",
      "      500   55.607    0.111   55.607    0.111 {built-in method faiss._swigfaiss_avx2.IndexFlat_search}\n",
      "     9143    0.788    0.000    0.788    0.000 {method 'acquire' of '_thread.lock' objects}\n",
      "     4154    0.465    0.000    0.465    0.000 socket.py:480(send)\n",
      "    34898    0.393    0.000    1.319    0.000 fitness.py:16(rastrigin)\n",
      "79814/38523    0.287    0.000    2.432    0.000 {built-in method numpy.core._multiarray_umath.implement_array_function}\n",
      "        1    0.219    0.219   61.384   61.384 simulation.py:23(simulation)\n",
      "      894    0.216    0.000    1.980    0.002 shape_base.py:267(apply_along_axis)\n",
      "    34899    0.210    0.000    0.432    0.000 fromnumeric.py:69(_wrapreduction)\n",
      "    37903    0.167    0.000    0.167    0.000 {method 'reduce' of 'numpy.ufunc' objects}\n",
      "    34898    0.160    0.000    0.638    0.000 fromnumeric.py:2160(sum)\n",
      "    33903    0.143    0.000    0.327    0.000 <__array_function__ internals>:177(concatenate)\n",
      "    34898    0.141    0.000    0.926    0.000 <__array_function__ internals>:177(sum)\n",
      "    16949    0.123    0.000    0.546    0.000 utils.py:12(crossover_2)\n",
      "    36072    0.102    0.000    0.250    0.000 shape_base.py:370(<genexpr>)\n",
      "    36072    0.099    0.000    0.149    0.000 index_tricks.py:684(__next__)\n",
      "    16949    0.096    0.000    0.096    0.000 {method 'randint' of 'numpy.random.mtrand.RandomState' objects}\n",
      "    37581    0.086    0.000    0.086    0.000 {built-in method numpy.asanyarray}\n",
      "     1000    0.079    0.000    0.079    0.000 {built-in method _heapq.heapify}\n",
      "    23017    0.065    0.000    0.099    0.000 utils.py:330(<genexpr>)\n",
      "     3405    0.063    0.000    0.063    0.000 {built-in method numpy.array}\n",
      "    44372    0.061    0.000    0.061    0.000 {built-in method builtins.isinstance}\n",
      "        4    0.060    0.015    0.060    0.015 {built-in method _pickle.load}\n",
      "    34899    0.057    0.000    0.057    0.000 fromnumeric.py:70(<dictcomp>)\n",
      "     1500    0.054    0.000    0.054    0.000 {built-in method faiss._swigfaiss_avx2.IndexIVF_search}\n",
      "36966/36072    0.052    0.000    0.059    0.000 {built-in method builtins.next}\n",
      "      500    0.049    0.000    0.049    0.000 simulation.py:100(<listcomp>)\n",
      "    33903    0.047    0.000    0.047    0.000 multiarray.py:148(concatenate)\n",
      "    34898    0.046    0.000    0.046    0.000 fromnumeric.py:2155(_sum_dispatcher)\n",
      "    34900    0.044    0.000    0.044    0.000 {method 'items' of 'dict' objects}\n",
      "     4154    0.044    0.000    0.585    0.000 iostream.py:209(schedule)\n",
      "     2000    0.043    0.000   55.763    0.028 class_wrappers.py:300(replacement_search)\n",
      "      500    0.041    0.000    0.060    0.000 heap_helpers.py:49(replace_leaves_with_children)\n",
      "     5539    0.038    0.000    0.085    0.000 threading.py:1169(is_alive)\n",
      "      500    0.035    0.000    0.088    0.000 heap_helpers.py:31(update_parents_with_indices)\n",
      "    22554    0.034    0.000    0.034    0.000 {built-in method unicodedata.east_asian_width}\n",
      "      467    0.033    0.000    0.132    0.000 {built-in method builtins.sum}\n",
      "     1385    0.033    0.000    1.300    0.001 iostream.py:470(flush)\n",
      "     1500    0.032    0.000    0.124    0.000 _methods.py:162(_mean)\n",
      "      463    0.028    0.000    0.104    0.000 std.py:355(format_meter)\n",
      "      894    0.027    0.000    0.040    0.000 stride_tricks.py:38(as_strided)\n",
      "     2410    0.027    0.000    0.064    0.000 _methods.py:91(_clip_dep_is_scalar_nan)\n",
      "     1592    0.026    0.000    0.026    0.000 {method 'normal' of 'numpy.random.mtrand.RandomState' objects}\n",
      "     1387    0.025    0.000    0.265    0.000 iostream.py:525(write)\n",
      "      500    0.024    0.000    0.024    0.000 simulation.py:55(<listcomp>)\n",
      "     5539    0.023    0.000    0.038    0.000 threading.py:1102(_wait_for_tstate_lock)\n",
      "     1500    0.021    0.000    0.021    0.000 {method 'rand' of 'numpy.random.mtrand.RandomState' objects}\n",
      "      918    0.020    0.000    1.117    0.001 std.py:1455(moveto)\n",
      "     2000    0.019    0.000   55.782    0.028 approximation_helpers.py:58(estimate_by_index)\n",
      "    14188    0.019    0.000    0.019    0.000 heap_helpers.py:62(<lambda>)\n",
      "     3494    0.019    0.000    0.139    0.000 fromnumeric.py:51(_wrapfunc)\n",
      "     1500    0.018    0.000    0.021    0.000 _methods.py:66(_count_reduce_items)\n",
      "      500    0.018    0.000    0.018    0.000 simulation.py:136(<listcomp>)\n",
      "      894    0.018    0.000    0.106    0.000 index_tricks.py:657(__init__)\n",
      "     6000    0.017    0.000    0.028    0.000 swigfaiss_avx2.py:10187(swig_ptr)\n",
      "      901    0.017    0.000    0.803    0.001 threading.py:288(wait)\n",
      "      926    0.017    0.000    0.031    0.000 utils.py:222(_is_ascii)\n",
      "     2000    0.015    0.000    0.015    0.000 {built-in method numpy.ascontiguousarray}\n",
      "     3698    0.015    0.000    0.024    0.000 {method 'format' of 'str' objects}\n",
      "     1500    0.015    0.000    0.138    0.000 fromnumeric.py:3356(mean)\n",
      "     1205    0.014    0.000    0.098    0.000 _methods.py:125(_clip)\n",
      "     2766    0.014    0.000    1.578    0.001 utils.py:143(inner)\n",
      "     1385    0.014    0.000    0.833    0.001 threading.py:589(wait)\n",
      "     2755    0.013    0.000    0.013    0.000 std.py:233(__call__)\n",
      "     1385    0.013    0.000    0.013    0.000 threading.py:236(__init__)\n",
      "      502    0.013    0.000    0.013    0.000 {built-in method numpy.arange}\n",
      "     3682    0.013    0.000    0.013    0.000 {built-in method numpy.zeros}\n",
      "      500    0.012    0.000    0.012    0.000 simulation.py:57(<listcomp>)\n",
      "     1205    0.012    0.000    0.134    0.000 <__array_function__ internals>:177(clip)\n",
      "     9723    0.012    0.000    0.012    0.000 {built-in method builtins.ord}\n",
      "      459    0.012    0.000    1.928    0.004 std.py:1212(update)\n",
      "     1592    0.012    0.000    0.038    0.000 utils.py:30(_mutation)\n",
      "     3346    0.011    0.000    0.011    0.000 {built-in method numpy.asarray}\n",
      "     6000    0.011    0.000    0.011    0.000 {built-in method faiss._swigfaiss_avx2.swig_ptr}\n",
      "     2410    0.011    0.000    0.037    0.000 <__array_function__ internals>:177(ndim)\n",
      "      463    0.011    0.000    1.894    0.004 std.py:1478(display)\n",
      "     4154    0.010    0.000    0.010    0.000 iostream.py:97(_event_pipe)\n",
      "     2410    0.010    0.000    0.014    0.000 _methods.py:101(_clip_dep_is_byte_swapped)\n",
      "     1385    0.010    0.000    0.026    0.000 threading.py:545(__init__)\n",
      "     2410    0.010    0.000    0.014    0.000 fromnumeric.py:3164(ndim)\n",
      "      500    0.010    0.000    0.010    0.000 {method 'shuffle' of 'numpy.random.mtrand.RandomState' objects}\n",
      "      500    0.009    0.000    0.148    0.000 param_inference_approximation.py:20(infer)\n",
      "      500    0.009    0.000    0.022    0.000 fromnumeric.py:436(repeat)\n",
      "      463    0.009    0.000    0.017    0.000 std.py:1460(format_dict)\n",
      "     5541    0.009    0.000    0.009    0.000 threading.py:553(is_set)\n",
      "     1500    0.009    0.000    0.160    0.000 <__array_function__ internals>:177(mean)\n",
      "      894    0.009    0.000    0.034    0.000 numeric.py:76(zeros_like)\n",
      "     1788    0.008    0.000    0.040    0.000 <__array_function__ internals>:177(transpose)\n",
      "     4586    0.008    0.000    0.008    0.000 {built-in method builtins.getattr}\n",
      "      924    0.008    0.000    0.015    0.000 std.py:288(format_interval)\n",
      "     1387    0.007    0.000    0.222    0.000 iostream.py:455(_schedule_flush)\n",
      "     4025    0.007    0.000    0.007    0.000 {built-in method numpy.empty}\n",
      "      500    0.007    0.000    0.007    0.000 {method 'repeat' of 'numpy.ndarray' objects}\n",
      "     1788    0.007    0.000    0.023    0.000 fromnumeric.py:601(transpose)\n",
      "     1205    0.007    0.000    0.007    0.000 _methods.py:106(_clip_dep_invoke_with_casting)\n",
      "      463    0.007    0.000    0.128    0.000 std.py:1164(__str__)\n",
      "     5055    0.007    0.000    0.007    0.000 {method 'append' of 'collections.deque' objects}\n",
      "      500    0.007    0.000   55.657    0.111 cached_indexed_priority_wrapper.py:79(infer_priority)\n",
      "      463    0.006    0.000    0.008    0.000 std.py:188(__format__)\n",
      "      503    0.006    0.000    1.938    0.004 std.py:1174(__iter__)\n",
      "     1387    0.006    0.000    0.009    0.000 iostream.py:436(_is_master_process)\n",
      "      500    0.006    0.000   55.663    0.111 all_params_wrapper.py:17(infer_priority)\n",
      "      461    0.006    0.000    1.910    0.004 std.py:1339(refresh)\n",
      "     1385    0.006    0.000    0.010    0.000 threading.py:1430(current_thread)\n",
      "3953/3901    0.006    0.000    0.006    0.000 {built-in method builtins.len}\n",
      "     1385    0.006    0.000    0.009    0.000 threading.py:267(__exit__)\n",
      "      463    0.005    0.000    0.638    0.001 std.py:348(print_status)\n",
      "     3064    0.005    0.000    0.005    0.000 {built-in method builtins.issubclass}\n",
      "     1869    0.005    0.000    0.005    0.000 {built-in method time.time}\n",
      "     1205    0.005    0.000    0.116    0.000 fromnumeric.py:2083(clip)\n",
      "      894    0.005    0.000    0.011    0.000 <__array_function__ internals>:177(empty_like)\n",
      "      909    0.005    0.000    0.012    0.000 <__array_function__ internals>:177(copyto)\n",
      "     2770    0.005    0.000    0.005    0.000 threading.py:1145(ident)\n",
      "     1205    0.005    0.000    0.103    0.000 {method 'clip' of 'numpy.ndarray' objects}\n",
      "     2458    0.005    0.000    0.005    0.000 {built-in method builtins.hasattr}\n",
      "      894    0.005    0.000    1.990    0.002 <__array_function__ internals>:177(apply_along_axis)\n",
      "     2286    0.005    0.000    0.005    0.000 {built-in method _thread.allocate_lock}\n",
      "     1500    0.005    0.000    0.058    0.000 swigfaiss_avx2.py:5275(search)\n",
      "      469    0.005    0.000    0.007    0.000 std.py:108(release)\n",
      "     1385    0.004    0.000    0.006    0.000 threading.py:264(__enter__)\n",
      "      894    0.004    0.000    0.043    0.000 <__array_function__ internals>:177(zeros_like)\n",
      "     1500    0.004    0.000    0.004    0.000 fromnumeric.py:3351(_mean_dispatcher)\n",
      "      463    0.004    0.000    0.136    0.000 utils.py:329(_text_width)\n",
      "     1790    0.004    0.000    0.004    0.000 {method 'transpose' of 'numpy.ndarray' objects}\n",
      "      500    0.004    0.000   55.611    0.111 swigfaiss_avx2.py:1901(search)\n",
      "     1001    0.004    0.000    0.020    0.000 {method 'sum' of 'numpy.ndarray' objects}\n",
      "      500    0.004    0.000    0.030    0.000 <__array_function__ internals>:177(repeat)\n",
      "     1385    0.004    0.000    0.004    0.000 {built-in method _thread.get_ident}\n",
      "      463    0.004    0.000    0.489    0.001 std.py:342(fp_write)\n",
      "     2400    0.004    0.000    0.004    0.000 {built-in method numpy.core._multiarray_umath.normalize_axis_index}\n",
      "     1385    0.004    0.000    0.004    0.000 {method '__exit__' of '_thread.lock' objects}\n",
      "      469    0.004    0.000    0.006    0.000 std.py:104(acquire)\n",
      "     1001    0.004    0.000    0.016    0.000 _methods.py:46(_sum)\n",
      "     2311    0.004    0.000    0.004    0.000 {built-in method builtins.divmod}\n",
      "      463    0.003    0.000    0.005    0.000 std.py:155(__init__)\n",
      "      901    0.003    0.000    0.005    0.000 threading.py:276(_acquire_restore)\n",
      "      461    0.003    0.000    0.003    0.000 {built-in method now}\n",
      "     2410    0.003    0.000    0.003    0.000 fromnumeric.py:3160(_ndim_dispatcher)\n",
      "      502    0.003    0.000    0.007    0.000 _methods.py:54(_any)\n",
      "     1205    0.003    0.000    0.003    0.000 utils.py:29(mutation)\n",
      "     1387    0.003    0.000    0.003    0.000 {built-in method posix.getpid}\n",
      "      463    0.003    0.000    0.142    0.000 utils.py:333(disp_len)\n",
      "      500    0.003    0.000    0.151    0.000 all_params_wrapper.py:20(infer)\n",
      "      918    0.003    0.000    0.003    0.000 utils.py:319(_term_move_up)\n",
      "      901    0.003    0.000    0.004    0.000 threading.py:279(_is_owned)\n",
      "      463    0.003    0.000    0.003    0.000 {method 'sub' of 're.Pattern' objects}\n",
      "        1    0.003    0.003    0.071    0.071 param_inference_approximation.py:8(__init__)\n",
      "      901    0.003    0.000    0.004    0.000 threading.py:273(_release_save)\n",
      "     1387    0.003    0.000    0.003    0.000 {method 'write' of '_io.StringIO' objects}\n",
      "     1788    0.002    0.000    0.002    0.000 fromnumeric.py:597(_transpose_dispatcher)\n",
      "      502    0.002    0.000    0.009    0.000 {method 'any' of 'numpy.ndarray' objects}\n",
      "     1385    0.002    0.000    0.002    0.000 {method '__enter__' of '_thread.lock' objects}\n",
      "      894    0.002    0.000    0.002    0.000 stride_tricks.py:20(__init__)\n",
      "     1387    0.002    0.000    0.002    0.000 {method '__exit__' of '_thread.RLock' objects}\n",
      "     1205    0.002    0.000    0.002    0.000 fromnumeric.py:2079(_clip_dispatcher)\n",
      "      463    0.002    0.000    0.002    0.000 std.py:169(colour)\n",
      "      894    0.002    0.000    0.002    0.000 stride_tricks.py:25(_maybe_view_as_subclass)\n",
      "      894    0.002    0.000    0.002    0.000 {method '__array_wrap__' of 'numpy.ndarray' objects}\n",
      "      894    0.001    0.000    0.001    0.000 index_tricks.py:665(__iter__)\n",
      "      894    0.001    0.000    0.001    0.000 multiarray.py:80(empty_like)\n",
      "      501    0.001    0.000    0.002    0.000 construction.py:958(<genexpr>)\n",
      "      894    0.001    0.000    0.001    0.000 numeric.py:72(_zeros_like_dispatcher)\n",
      "      909    0.001    0.000    0.001    0.000 multiarray.py:1071(copyto)\n",
      "      894    0.001    0.000    0.001    0.000 {method '__array_prepare__' of 'numpy.ndarray' objects}\n",
      "      894    0.001    0.000    0.001    0.000 shape_base.py:263(_apply_along_axis_dispatcher)\n",
      "      469    0.001    0.000    0.001    0.000 {method 'acquire' of '_multiprocessing.SemLock' objects}\n",
      "      901    0.001    0.000    0.001    0.000 {method 'release' of '_thread.lock' objects}\n",
      "      469    0.001    0.000    0.001    0.000 {method 'release' of '_multiprocessing.SemLock' objects}\n",
      "      463    0.001    0.000    0.001    0.000 utils.py:57(__init__)\n",
      "        2    0.001    0.001    0.001    0.001 {built-in method faiss._swigfaiss_avx2.read_index}\n",
      "      469    0.001    0.000    0.001    0.000 {method 'acquire' of '_thread.RLock' objects}\n",
      "      463    0.001    0.000    0.001    0.000 utils.py:61(__format__)\n",
      "      464    0.001    0.000    0.001    0.000 {built-in method builtins.max}\n",
      "      464    0.001    0.000    0.001    0.000 {method 'update' of 'dict' objects}\n",
      "        8    0.001    0.000    0.001    0.000 {method 'copy' of 'numpy.ndarray' objects}\n",
      "      527    0.001    0.000    0.001    0.000 {method 'append' of 'list' objects}\n",
      "      463    0.001    0.000    0.001    0.000 std.py:165(colour)\n",
      "      469    0.001    0.000    0.001    0.000 {method 'release' of '_thread.RLock' objects}\n",
      "        1    0.001    0.001    0.001    0.001 heap_helpers.py:4(create_heap)\n",
      "      500    0.001    0.000    0.001    0.000 fromnumeric.py:432(_repeat_dispatcher)\n",
      "      468    0.001    0.000    0.001    0.000 {built-in method builtins.abs}\n",
      "       13    0.001    0.000    0.001    0.000 {pandas._libs.lib.maybe_convert_objects}\n",
      "        5    0.001    0.000    0.001    0.000 {built-in method io.open}\n",
      "        1    0.001    0.001    0.003    0.003 {pandas._libs.lib.fast_unique_multiple_list_gen}\n",
      "      500    0.001    0.000    0.001    0.000 {built-in method _heapq.heappush}\n",
      "      500    0.001    0.000    0.001    0.000 {method 'keys' of 'dict' objects}\n",
      "        1    0.000    0.000    0.001    0.001 {built-in method _pickle.dump}\n",
      "        4    0.000    0.000    0.000    0.000 posixpath.py:71(join)\n",
      "        3    0.000    0.000    0.000    0.000 {built-in method posix.stat}\n",
      "      107    0.000    0.000    0.000    0.000 generic.py:43(_check)\n",
      "        1    0.000    0.000    0.000    0.000 {pandas._libs.lib.dicts_to_array}\n",
      "      6/5    0.000    0.000    0.002    0.000 base.py:397(__new__)\n",
      "        1    0.000    0.000   61.394   61.394 experiment_runners.py:12(run_experiments_efga)\n",
      "        5    0.000    0.000    0.003    0.001 base.py:672(_with_infer)\n",
      "        6    0.000    0.000    0.001    0.000 construction.py:470(sanitize_array)\n",
      "       35    0.000    0.000    0.000    0.000 common.py:1587(_is_dtype_type)\n",
      "        2    0.000    0.000    0.001    0.000 managers.py:1061(iset)\n",
      "        1    0.000    0.000    0.000    0.000 concat.py:320(_get_mgr_concatenation_plan)\n",
      "        5    0.000    0.000    0.000    0.000 {pandas._libs.lib.infer_dtype}\n",
      "        1    0.000    0.000    0.000    0.000 construction.py:965(<listcomp>)\n",
      "        5    0.000    0.000    0.001    0.000 base.py:5178(equals)\n",
      "       13    0.000    0.000    0.000    0.000 numeric.py:289(full)\n",
      "        2    0.000    0.000    0.006    0.003 std.py:846(__init__)\n",
      "        3    0.000    0.000    0.004    0.001 frame.py:3463(__getitem__)\n",
      "        5    0.000    0.000    0.000    0.000 warnings.py:130(filterwarnings)\n",
      "        5    0.000    0.000    0.000    0.000 {method '__exit__' of '_io._IOBase' objects}\n",
      "        1    0.000    0.000    0.000    0.000 managers.py:2008(_form_blocks)\n",
      "       25    0.000    0.000    0.000    0.000 range.py:909(__len__)\n",
      "        7    0.000    0.000    0.000    0.000 common.py:229(asarray_tuplesafe)\n",
      "      5/3    0.000    0.000    0.005    0.002 frame.py:3630(__setitem__)\n",
      "        4    0.000    0.000    0.000    0.000 generic.py:5517(__finalize__)\n",
      "        2    0.000    0.000    0.000    0.000 managers.py:2060(_stack_arrays)\n",
      "        1    0.000    0.000    0.000    0.000 construction.py:635(_extract_index)\n",
      "        7    0.000    0.000    0.000    0.000 generic.py:239(__init__)\n",
      "       54    0.000    0.000    0.000    0.000 base.py:4820(_values)\n",
      "        3    0.000    0.000    0.000    0.000 cast.py:1579(maybe_cast_to_datetime)\n",
      "        1    0.000    0.000    0.006    0.006 frame.py:2068(from_records)\n",
      "        8    0.000    0.000    0.000    0.000 base.py:654(_simple_new)\n",
      "        1    0.000    0.000    0.001    0.001 concat.py:174(concatenate_managers)\n",
      "        1    0.000    0.000    0.001    0.001 concat.py:368(__init__)\n",
      "        4    0.000    0.000    0.003    0.001 frame.py:3797(_set_item_mgr)\n",
      "       23    0.000    0.000    0.000    0.000 base.py:884(__len__)\n",
      "        2    0.000    0.000    0.002    0.001 base.py:3706(get_indexer)\n",
      "        8    0.000    0.000    0.000    0.000 base.py:53(shape)\n",
      "        2    0.000    0.000    0.000    0.000 function_base.py:4958(delete)\n",
      "       25    0.000    0.000    0.000    0.000 {pandas._libs.lib.is_list_like}\n",
      "       23    0.000    0.000    0.000    0.000 common.py:147(<lambda>)\n",
      "        5    0.000    0.000    0.001    0.000 base.py:7106(_maybe_cast_data_without_dtype)\n",
      "        1    0.000    0.000    0.000    0.000 managers.py:713(_slice_take_blocks_ax0)\n",
      "        9    0.000    0.000    0.002    0.000 base.py:6987(ensure_index)\n",
      "        2    0.000    0.000    0.000    0.000 function_base.py:5143(insert)\n",
      "       13    0.000    0.000    0.000    0.000 common.py:161(is_object_dtype)\n",
      "        7    0.000    0.000    0.000    0.000 blocks.py:1989(get_block_type)\n",
      "       10    0.000    0.000    0.000    0.000 base.py:4973(__contains__)\n",
      "        2    0.000    0.000    0.000    0.000 {method 'get_indexer' of 'pandas._libs.index.IndexEngine' objects}\n",
      "        1    0.000    0.000   61.395   61.395 {built-in method builtins.exec}\n",
      "        2    0.000    0.000    0.000    0.000 base.py:2232(is_unique)\n",
      "       12    0.000    0.000    0.000    0.000 common.py:1483(is_ea_or_datetimelike_dtype)\n",
      "       24    0.000    0.000    0.000    0.000 base.py:55(<genexpr>)\n",
      "        1    0.000    0.000   61.395   61.395 2100339071.py:1(check_or_run)\n",
      "        2    0.000    0.000    0.002    0.001 managers.py:1219(insert)\n",
      "        4    0.000    0.000    0.004    0.001 frame.py:3822(_set_item)\n",
      "        3    0.000    0.000    0.000    0.000 base.py:845(_engine)\n",
      "        2    0.000    0.000    0.001    0.001 base.py:6561(insert)\n",
      "        5    0.000    0.000    0.000    0.000 base.py:554(_dtype_to_subclass)\n",
      "        5    0.000    0.000    0.000    0.000 frame.py:587(__init__)\n",
      "        1    0.000    0.000    0.000    0.000 {built-in method _operator.mul}\n",
      "        7    0.000    0.000    0.000    0.000 common.py:1240(is_float_dtype)\n",
      "        6    0.000    0.000    0.000    0.000 indexing.py:2318(convert_to_index_sliceable)\n",
      "        3    0.000    0.000    0.000    0.000 take.py:120(_take_nd_ndarray)\n",
      "        4    0.000    0.000    0.000    0.000 construction.py:695(_try_cast)\n",
      "        4    0.000    0.000    0.003    0.001 std.py:1279(close)\n",
      "        2    0.000    0.000    0.000    0.000 {built-in method fcntl.ioctl}\n",
      "        1    0.000    0.000    0.001    0.001 construction.py:971(_finalize_columns_and_data)\n",
      "       28    0.000    0.000    0.000    0.000 blocks.py:244(mgr_locs)\n",
      "        6    0.000    0.000    0.000    0.000 base.py:3577(get_loc)\n",
      "       10    0.000    0.000    0.000    0.000 base.py:286(is_dtype)\n",
      "        1    0.000    0.000    0.004    0.004 construction.py:934(_list_of_dict_to_arrays)\n",
      "        2    0.000    0.000    0.000    0.000 base.py:1098(take)\n",
      "        5    0.000    0.000    0.000    0.000 re.py:288(_compile)\n",
      "       23    0.000    0.000    0.000    0.000 common.py:145(classes)\n",
      "        5    0.000    0.000    0.000    0.000 warnings.py:181(_add_filter)\n",
      "        2    0.000    0.000    0.000    0.000 numeric.py:1404(moveaxis)\n",
      "        7    0.000    0.000    0.000    0.000 common.py:1429(is_extension_array_dtype)\n",
      "        8    0.000    0.000    0.000    0.000 generic.py:5577(__setattr__)\n",
      "        4    0.000    0.000    0.000    0.000 numeric.py:1341(normalize_axis_tuple)\n",
      "        8    0.000    0.000    0.000    0.000 _weakrefset.py:63(__iter__)\n",
      "        2    0.000    0.000    0.000    0.000 std.py:560(__new__)\n",
      "        5    0.000    0.000    0.000    0.000 blocks.py:1960(maybe_coerce_values)\n",
      "        7    0.000    0.000    0.000    0.000 flags.py:47(__init__)\n",
      "        5    0.000    0.000    0.000    0.000 _dtype.py:328(_name_get)\n",
      "        5    0.000    0.000    0.000    0.000 missing.py:390(array_equivalent)\n",
      "        1    0.000    0.000   61.395   61.395 <string>:1(<module>)\n",
      "       11    0.000    0.000    0.000    0.000 construction.py:438(ensure_wrapped_if_datetimelike)\n",
      "        1    0.000    0.000    0.000    0.000 base.py:1668(_validate_names)\n",
      "       10    0.000    0.000    0.000    0.000 inference.py:321(is_hashable)\n",
      "        5    0.000    0.000    0.000    0.000 common.py:581(is_dtype_equal)\n",
      "        5    0.000    0.000    0.000    0.000 warnings.py:458(__enter__)\n",
      "        2    0.000    0.000    0.000    0.000 std.py:583(_decr_instances)\n",
      "        2    0.000    0.000    0.000    0.000 cast.py:691(infer_dtype_from_scalar)\n",
      "        1    0.000    0.000    0.000    0.000 construction.py:596(_homogenize)\n",
      "        2    0.000    0.000    0.000    0.000 managers.py:1016(iget)\n",
      "        4    0.000    0.000    0.000    0.000 blocks.py:2135(ensure_block_shape)\n",
      "        1    0.000    0.000    0.000    0.000 {method 'uniform' of 'numpy.random.mtrand.RandomState' objects}\n",
      "        1    0.000    0.000    0.001    0.001 concat.py:544(get_result)\n",
      "        1    0.000    0.000    0.000    0.000 managers.py:1679(<listcomp>)\n",
      "        2    0.000    0.000    0.000    0.000 {method '_rebuild_blknos_and_blklocs' of 'pandas._libs.internals.BlockManager' objects}\n",
      "        1    0.000    0.000    0.003    0.003 base.py:5768(_get_indexer_strict)\n",
      "        1    0.000    0.000    0.000    0.000 frame.py:6951(_dispatch_frame_op)\n",
      "        8    0.000    0.000    0.000    0.000 common.py:497(is_categorical_dtype)\n",
      "        2    0.000    0.000    0.000    0.000 base.py:744(__iter__)\n",
      "        2    0.000    0.000    0.000    0.000 utils.py:282(_screen_shape_linux)\n",
      "        2    0.000    0.000    0.000    0.000 _asarray.py:22(require)\n",
      "        2    0.000    0.000    0.000    0.000 managers.py:1267(_insert_update_mgr_locs)\n",
      "        6    0.000    0.000    0.000    0.000 <frozen importlib._bootstrap>:1053(_handle_fromlist)\n",
      "        4    0.000    0.000    0.000    0.000 frame.py:3920(_clear_item_cache)\n",
      "        6    0.000    0.000    0.000    0.000 {method 'get_loc' of 'pandas._libs.index.IndexEngine' objects}\n",
      "       12    0.000    0.000    0.000    0.000 common.py:155(<lambda>)\n",
      "       10    0.000    0.000    0.000    0.000 common.py:160(cast_scalar_indexer)\n",
      "        4    0.000    0.000    0.001    0.000 frame.py:4515(_sanitize_column)\n",
      "        6    0.000    0.000    0.000    0.000 base.py:6284(_maybe_cast_indexer)\n",
      "        5    0.000    0.000    0.000    0.000 base.py:4846(_get_engine_target)\n",
      "        3    0.000    0.000    0.001    0.000 construction.py:1067(convert)\n",
      "        2    0.000    0.000    0.000    0.000 cast.py:1873(construct_1d_arraylike_from_scalar)\n",
      "       20    0.000    0.000    0.000    0.000 {built-in method builtins.hash}\n",
      "        3    0.000    0.000    0.000    0.000 common.py:389(is_timedelta64_dtype)\n",
      "        1    0.000    0.000    0.001    0.001 cached_indexed_priority_wrapper.py:49(__init__)\n",
      "        2    0.000    0.000    0.000    0.000 utils.py:162(__init__)\n",
      "        6    0.000    0.000    0.000    0.000 construction.py:379(extract_array)\n",
      "        1    0.000    0.000    0.001    0.001 generic.py:3609(take)\n",
      "        6    0.000    0.000    0.000    0.000 base.py:7082(maybe_extract_name)\n",
      "       10    0.000    0.000    0.000    0.000 common.py:1416(is_1d_only_ea_dtype)\n",
      "       10    0.000    0.000    0.000    0.000 common.py:1552(get_dtype)\n",
      "        5    0.000    0.000    0.000    0.000 common.py:786(is_unsigned_integer_dtype)\n",
      "        1    0.000    0.000    0.003    0.003 frame.py:3664(_setitem_array)\n",
      "        1    0.000    0.000    0.000    0.000 base.py:5799(_raise_if_missing)\n",
      "        2    0.000    0.000    0.000    0.000 common.py:105(is_bool_indexer)\n",
      "        2    0.000    0.000    0.002    0.001 std.py:329(status_printer)\n",
      "        2    0.000    0.000    0.001    0.000 frame.py:10986(_reindex_for_setitem)\n",
      "        5    0.000    0.000    0.000    0.000 base.py:2596(inferred_type)\n",
      "       17    0.000    0.000    0.000    0.000 typing.py:1737(cast)\n",
      "        4    0.000    0.000    0.000    0.000 blocks.py:2030(new_block_2d)\n",
      "        1    0.000    0.000    0.001    0.001 4209480472.py:8(cache_experiment)\n",
      "        5    0.000    0.000    0.000    0.000 common.py:732(is_signed_integer_dtype)\n",
      "        4    0.000    0.000    0.000    0.000 function_base.py:5337(append)\n",
      "        3    0.000    0.000    0.000    0.000 take.py:57(take_nd)\n",
      "        1    0.000    0.000    0.005    0.005 construction.py:798(to_arrays)\n",
      "        8    0.000    0.000    0.000    0.000 common.py:346(apply_if_callable)\n",
      "        2    0.000    0.000    0.000    0.000 {method 'seed' of 'numpy.random.mtrand.RandomState' objects}\n",
      "        1    0.000    0.000    0.000    0.000 managers.py:1937(create_block_manager_from_column_arrays)\n",
      "        5    0.000    0.000    0.000    0.000 warnings.py:477(__exit__)\n",
      "        8    0.000    0.000    0.000    0.000 std.py:112(__enter__)\n",
      "        5    0.000    0.000    0.000    0.000 warnings.py:437(__init__)\n",
      "        6    0.000    0.000    0.000    0.000 blocks.py:267(make_block_same_class)\n",
      "        4    0.000    0.000    0.000    0.000 base.py:5023(__getitem__)\n",
      "        2    0.000    0.000    0.000    0.000 frame.py:3906(_box_col_values)\n",
      "        1    0.000    0.000    0.000    0.000 missing.py:494(_array_equivalent_object)\n",
      "        1    0.000    0.000    0.001    0.001 construction.py:102(arrays_to_mgr)\n",
      "        4    0.000    0.000    0.000    0.000 fromnumeric.py:1755(ravel)\n",
      "        1    0.000    0.000    0.000    0.000 utils.py:249(maybe_convert_indices)\n",
      "        9    0.000    0.000    0.000    0.000 managers.py:156(blknos)\n",
      "        5    0.000    0.000    0.000    0.000 types.py:176(__get__)\n",
      "        2    0.000    0.000    0.000    0.000 {pandas._libs.algos.take_1d_int64_int64}\n",
      "        2    0.000    0.000    0.000    0.000 frame.py:3411(_ixs)\n",
      "        3    0.000    0.000    0.000    0.000 indexing.py:2481(check_deprecated_indexers)\n",
      "       12    0.000    0.000    0.000    0.000 base.py:1650(name)\n",
      "        4    0.000    0.000    0.000    0.000 construction.py:627(_sanitize_ndim)\n",
      "        2    0.000    0.000    0.000    0.000 _asarray.py:111(<setcomp>)\n",
      "        4    0.000    0.000    0.000    0.000 _weakrefset.py:27(__exit__)\n",
      "        2    0.000    0.000    0.000    0.000 frame.py:3923(_get_item_cache)\n",
      "       15    0.000    0.000    0.000    0.000 {built-in method _warnings._filters_mutated}\n",
      "        2    0.000    0.000    0.000    0.000 std.py:576(_get_free_pos)\n",
      "        1    0.000    0.000    0.001    0.001 base.py:4109(reindex)\n",
      "       11    0.000    0.000    0.000    0.000 {built-in method __new__ of type object at 0x55a81aba55c0}\n",
      "        1    0.000    0.000    0.000    0.000 range.py:167(_simple_new)\n",
      "        5    0.000    0.000    0.000    0.000 base.py:803(is_)\n",
      "        4    0.000    0.000    0.000    0.000 missing.py:149(_isna)\n",
      "        2    0.000    0.000    0.000    0.000 managers.py:1277(_insert_update_blklocs_and_blknos)\n",
      "        4    0.000    0.000    0.000    0.000 managers.py:919(__init__)\n",
      "        2    0.000    0.000    0.000    0.000 base.py:3786(_get_indexer)\n",
      "        4    0.000    0.000    0.000    0.000 _weakrefset.py:53(_commit_removals)\n",
      "        1    0.000    0.000    0.000    0.000 managers.py:960(_verify_integrity)\n",
      "        2    0.000    0.000    0.000    0.000 _ufunc_config.py:32(seterr)\n",
      "        1    0.000    0.000    0.000    0.000 config.py:589(_get_root)\n",
      "        4    0.000    0.000    0.000    0.000 std.py:1300(fp_write)\n",
      "        2    0.000    0.000    0.001    0.000 frame.py:3790(_iset_item_mgr)\n",
      "        1    0.000    0.000    0.001    0.001 managers.py:875(take)\n",
      "        8    0.000    0.000    0.000    0.000 {method 'ravel' of 'numpy.ndarray' objects}\n",
      "        1    0.000    0.000    0.000    0.000 {method 'round' of 'numpy.ndarray' objects}\n",
      "        9    0.000    0.000    0.000    0.000 base.py:834(_reset_identity)\n",
      "        6    0.000    0.000    0.000    0.000 {method 'remove' of 'set' objects}\n",
      "        2    0.000    0.000    0.000    0.000 base.py:6004(_should_compare)\n",
      "        8    0.000    0.000    0.000    0.000 std.py:115(__exit__)\n",
      "        1    0.000    0.000    0.001    0.001 frame.py:6937(_arith_method)\n",
      "        4    0.000    0.000    0.000    0.000 inference.py:184(is_array_like)\n",
      "        1    0.000    0.000    0.000    0.000 generic.py:2106(__getstate__)\n",
      "        6    0.000    0.000    0.000    0.000 managers.py:962(<genexpr>)\n",
      "        5    0.000    0.000    0.000    0.000 re.py:249(compile)\n",
      "       12    0.000    0.000    0.000    0.000 common.py:150(classes_and_not_datetimelike)\n",
      "        1    0.000    0.000    0.000    0.000 cast.py:1960(construct_1d_object_array_from_listlike)\n",
      "        6    0.000    0.000    0.000    0.000 generic.py:636(_info_axis)\n",
      "        4    0.000    0.000    0.000    0.000 <__array_function__ internals>:177(ravel)\n",
      "        1    0.000    0.000    0.000    0.000 array_ops.py:398(get_array_op)\n",
      "        7    0.000    0.000    0.000    0.000 generic.py:546(_get_axis_number)\n",
      "        2    0.000    0.000    0.000    0.000 dtypes.py:1206(is_dtype)\n",
      "        2    0.000    0.000    0.000    0.000 managers.py:2128(_fast_count_smallints)\n",
      "        1    0.000    0.000    0.000    0.000 config.py:109(_get_single_key)\n",
      "        3    0.000    0.000    0.000    0.000 managers.py:1992(_grouping_func)\n",
      "        1    0.000    0.000    0.000    0.000 managers.py:253(apply)\n",
      "        4    0.000    0.000    0.000    0.000 {method 'reshape' of 'numpy.ndarray' objects}\n",
      "        1    0.000    0.000    0.000    0.000 managers.py:1673(_consolidate_check)\n",
      "        1    0.000    0.000    0.000    0.000 frozen.py:67(__getitem__)\n",
      "        4    0.000    0.000    0.000    0.000 {built-in method builtins.all}\n",
      "        5    0.000    0.000    0.000    0.000 {method 'remove' of 'list' objects}\n",
      "        3    0.000    0.000    0.000    0.000 generic.py:560(_get_axis)\n",
      "        1    0.000    0.000    0.000    0.000 blocks.py:378(delete)\n",
      "        1    0.000    0.000    0.000    0.000 api.py:322(default_index)\n",
      "        8    0.000    0.000    0.000    0.000 {method 'add' of 'set' objects}\n",
      "        4    0.000    0.000    0.000    0.000 std.py:1167(_comparable)\n",
      "        3    0.000    0.000    0.000    0.000 generic.py:566(_get_block_manager_axis)\n",
      "        1    0.000    0.000    0.001    0.001 generic.py:3708(_take_with_is_copy)\n",
      "        4    0.000    0.000    0.000    0.000 <__array_function__ internals>:177(append)\n",
      "        1    0.000    0.000    0.000    0.000 blocks.py:1114(take_nd)\n",
      "        2    0.000    0.000    0.000    0.000 series.py:323(__init__)\n",
      "        2    0.000    0.000    0.000    0.000 algorithms.py:1352(take)\n",
      "        2    0.000    0.000    0.000    0.000 base.py:3823(_check_indexing_method)\n",
      "        2    0.000    0.000    0.000    0.000 common.py:459(is_interval_dtype)\n",
      "        3    0.000    0.000    0.000    0.000 genericpath.py:16(exists)\n",
      "        6    0.000    0.000    0.000    0.000 base.py:2344(is_floating)\n",
      "       11    0.000    0.000    0.000    0.000 managers.py:1257(<genexpr>)\n",
      "        1    0.000    0.000    0.000    0.000 base.py:5092(append)\n",
      "        4    0.000    0.000    0.000    0.000 posixpath.py:41(_get_sep)\n",
      "        2    0.000    0.000    0.000    0.000 generic.py:767(_set_axis)\n",
      "        4    0.000    0.000    0.000    0.000 construction.py:664(_sanitize_str_dtypes)\n",
      "        4    0.000    0.000    0.000    0.000 _weakrefset.py:21(__enter__)\n",
      "       10    0.000    0.000    0.000    0.000 generic.py:349(flags)\n",
      "        1    0.000    0.000    0.000    0.000 base.py:1198(copy)\n",
      "        2    0.000    0.000    0.000    0.000 managers.py:1848(internal_values)\n",
      "        4    0.000    0.000    0.000    0.000 base.py:2272(is_boolean)\n",
      "        4    0.000    0.000    0.000    0.000 frame.py:1413(__len__)\n",
      "        1    0.000    0.000    0.000    0.000 api.py:116(_get_combined_index)\n",
      "        1    0.000    0.000    0.000    0.000 range.py:203(__reduce__)\n",
      "        4    0.000    0.000    0.000    0.000 flags.py:83(allows_duplicate_labels)\n",
      "        3    0.000    0.000    0.000    0.000 {pandas._libs.internals.get_blkno_placements}\n",
      "        9    0.000    0.000    0.000    0.000 {pandas._libs.lib.is_scalar}\n",
      "        6    0.000    0.000    0.000    0.000 concat.py:604(_combine_concat_plans)\n",
      "        1    0.000    0.000    0.001    0.001 concat.py:143(concat)\n",
      "        5    0.000    0.000    0.000    0.000 base.py:2624(_is_multi)\n",
      "        2    0.000    0.000    0.000    0.000 config.py:603(_get_deprecated_option)\n",
      "        2    0.000    0.000    0.000    0.000 base.py:5917(_maybe_promote)\n",
      "        1    0.000    0.000    0.072    0.072 all_params_wrapper.py:11(__init__)\n",
      "        2    0.000    0.000    0.000    0.000 4209480472.py:1(caching_filename)\n",
      "        1    0.000    0.000    0.000    0.000 api.py:102(_get_distinct_objs)\n",
      "        3    0.000    0.000    0.000    0.000 common.py:552(require_length_match)\n",
      "        1    0.000    0.000    0.000    0.000 fromnumeric.py:38(_wrapit)\n",
      "        2    0.000    0.000    0.000    0.000 _ufunc_config.py:131(geterr)\n",
      "        5    0.000    0.000    0.000    0.000 base.py:5905(_index_as_unique)\n",
      "       10    0.000    0.000    0.000    0.000 {pandas._libs.lib.is_float}\n",
      "        1    0.000    0.000    0.000    0.000 concat.py:612(<listcomp>)\n",
      "        9    0.000    0.000    0.000    0.000 {built-in method builtins.callable}\n",
      "        4    0.000    0.000    0.000    0.000 std.py:1171(__hash__)\n",
      "        7    0.000    0.000    0.000    0.000 base.py:937(dtype)\n",
      "        6    0.000    0.000    0.000    0.000 {built-in method builtins.id}\n",
      "        2    0.000    0.000    0.000    0.000 frame.py:821(shape)\n",
      "        2    0.000    0.000    0.001    0.001 swigfaiss_avx2.py:9782(read_index)\n",
      "        1    0.000    0.000    0.000    0.000 blocks.py:2041(new_block)\n",
      "        4    0.000    0.000    0.000    0.000 construction.py:684(_maybe_repeat)\n",
      "        4    0.000    0.000    0.000    0.000 numeric.py:1391(<listcomp>)\n",
      "        2    0.000    0.000    0.000    0.000 std.py:579(<setcomp>)\n",
      "        1    0.000    0.000    0.001    0.001 _decorators.py:302(wrapper)\n",
      "        4    0.000    0.000    0.000    0.000 utils.py:171(__eq__)\n",
      "        4    0.000    0.000    0.000    0.000 utils.py:136(disable_on_exception)\n",
      "        3    0.000    0.000    0.000    0.000 {built-in method _abc._abc_instancecheck}\n",
      "        2    0.000    0.000    0.000    0.000 numeric.py:149(ones)\n",
      "        2    0.000    0.000    0.000    0.000 os.py:675(__getitem__)\n",
      "        4    0.000    0.000    0.000    0.000 missing.py:66(isna)\n",
      "        1    0.000    0.000    0.000    0.000 concat.py:627(_get_concat_axis)\n",
      "        1    0.000    0.000    0.000    0.000 {method 'astype' of 'numpy.generic' objects}\n",
      "        1    0.000    0.000    0.000    0.000 base.py:2635(__reduce__)\n",
      "        6    0.000    0.000    0.000    0.000 utils.py:101(wrapper_setattr)\n",
      "        2    0.000    0.000    0.000    0.000 base.py:1701(_get_names)\n",
      "        1    0.000    0.000    0.000    0.000 array_ops.py:183(arithmetic_op)\n",
      "        2    0.000    0.000    0.000    0.000 managers.py:973(from_blocks)\n",
      "        1    0.000    0.000    0.000    0.000 concat.py:617(_get_comb_axis)\n",
      "        5    0.000    0.000    0.000    0.000 enum.py:801(value)\n",
      "        2    0.000    0.000    0.000    0.000 _weakrefset.py:86(add)\n",
      "        7    0.000    0.000    0.000    0.000 managers.py:172(blklocs)\n",
      "        1    0.000    0.000    0.000    0.000 concat.py:610(_get_new_axes)\n",
      "        8    0.000    0.000    0.000    0.000 {pandas._libs.lib.is_integer}\n",
      "        1    0.000    0.000    0.000    0.000 utils.py:39(generate_population)\n",
      "        2    0.000    0.000    0.000    0.000 os.py:755(encode)\n",
      "        2    0.000    0.000    0.000    0.000 _weakrefset.py:111(remove)\n",
      "        2    0.000    0.000    0.000    0.000 {method 'fill' of 'numpy.ndarray' objects}\n",
      "        6    0.000    0.000    0.000    0.000 std.py:228(__init__)\n",
      "        2    0.000    0.000    0.000    0.000 base.py:57(_validate_set_axis)\n",
      "        5    0.000    0.000    0.000    0.000 _dtype.py:24(_kind_name)\n",
      "        2    0.000    0.000    0.000    0.000 <__array_function__ internals>:177(moveaxis)\n",
      "        5    0.000    0.000    0.000    0.000 base.py:540(_ensure_array)\n",
      "        1    0.000    0.000    0.001    0.001 construction.py:1051(_convert_object_array)\n",
      "        2    0.000    0.000    0.000    0.000 utils.py:215(_supports_unicode)\n",
      "        2    0.000    0.000    0.000    0.000 cast.py:2147(can_hold_element)\n",
      "        2    0.000    0.000    0.000    0.000 <__array_function__ internals>:177(delete)\n",
      "        4    0.000    0.000    0.000    0.000 utils.py:88(__getattr__)\n",
      "        2    0.000    0.000    0.000    0.000 base.py:4931(_validate_fill_value)\n",
      "        7    0.000    0.000    0.000    0.000 {pandas._libs.lib.is_iterator}\n",
      "        1    0.000    0.000    0.000    0.000 common.py:1721(validate_all_hashable)\n",
      "        1    0.000    0.000    0.000    0.000 managers.py:634(reindex_indexer)\n",
      "        4    0.000    0.000    0.000    0.000 generic.py:3948(_check_setitem_copy)\n",
      "        2    0.000    0.000    0.000    0.000 <__array_function__ internals>:177(insert)\n",
      "        3    0.000    0.000    0.000    0.000 take.py:554(_take_preprocess_indexer_and_fill_value)\n",
      "        5    0.000    0.000    0.000    0.000 concat.py:390(__init__)\n",
      "        1    0.000    0.000    0.001    0.001 common.py:55(new_method)\n",
      "        2    0.000    0.000    0.000    0.000 common.py:680(is_integer_dtype)\n",
      "        8    0.000    0.000    0.000    0.000 {pandas._libs.algos.ensure_platform_int}\n",
      "        4    0.000    0.000    0.000    0.000 frame.py:3883(_ensure_valid_index)\n",
      "        3    0.000    0.000    0.000    0.000 abc.py:117(__instancecheck__)\n",
      "        2    0.000    0.000    0.000    0.000 utils.py:105(__init__)\n",
      "        2    0.000    0.000    0.000    0.000 missing.py:911(clean_reindex_fill_method)\n",
      "        1    0.000    0.000    0.000    0.000 frame.py:7046(_construct_result)\n",
      "        1    0.000    0.000    0.000    0.000 generic.py:5632(_protect_consolidate)\n",
      "        1    0.000    0.000    0.000    0.000 api.py:72(get_objs_combined_axis)\n",
      "        7    0.000    0.000    0.000    0.000 {method 'insert' of 'list' objects}\n",
      "        2    0.000    0.000    0.000    0.000 utils.py:74(__eq__)\n",
      "        1    0.000    0.000    0.000    0.000 managers.py:2137(_preprocess_slice_or_indexer)\n",
      "        5    0.000    0.000    0.000    0.000 _dtype.py:314(_name_includes_bit_suffix)\n",
      "        2    0.000    0.000    0.000    0.000 series.py:1238(_set_as_cached)\n",
      "        1    0.000    0.000    0.000    0.000 config.py:127(_get_option)\n",
      "        5    0.000    0.000    0.000    0.000 generic.py:328(attrs)\n",
      "        2    0.000    0.000    0.000    0.000 generic.py:5554(<genexpr>)\n",
      "        2    0.000    0.000    0.000    0.000 missing.py:625(is_valid_na_for_dtype)\n",
      "        5    0.000    0.000    0.000    0.000 flags.py:51(allows_duplicate_labels)\n",
      "        4    0.000    0.000    0.000    0.000 {method 'pop' of 'list' objects}\n",
      "        4    0.000    0.000    0.000    0.000 {built-in method pandas._libs.missing.checknull}\n",
      "        1    0.000    0.000    0.000    0.000 base.py:785(_view)\n",
      "        7    0.000    0.000    0.000    0.000 {pandas._libs.lib.item_from_zerodim}\n",
      "        2    0.000    0.000    0.000    0.000 <__array_function__ internals>:177(bincount)\n",
      "        1    0.000    0.000    0.000    0.000 generic.py:2114(<dictcomp>)\n",
      "        1    0.000    0.000    0.000    0.000 generic.py:5650(f)\n",
      "        1    0.000    0.000    0.000    0.000 __init__.py:207(align_method_FRAME)\n",
      "        1    0.000    0.000    0.000    0.000 <__array_function__ internals>:177(round_)\n",
      "        1    0.000    0.000    0.000    0.000 construction.py:993(_validate_or_indexify_columns)\n",
      "        1    0.000    0.000    0.000    0.000 array_ops.py:134(_na_arithmetic_op)\n",
      "        2    0.000    0.000    0.000    0.000 utils.py:296(<listcomp>)\n",
      "        1    0.000    0.000    0.000    0.000 blocks.py:2055(check_ndim)\n",
      "        1    0.000    0.000    0.000    0.000 cached_indexed_priority_wrapper.py:40(priority_index_and_y)\n",
      "        4    0.000    0.000    0.000    0.000 _weakrefset.py:17(__init__)\n",
      "        1    0.000    0.000    0.000    0.000 {built-in method builtins.print}\n",
      "        1    0.000    0.000    0.000    0.000 4209480472.py:4(experiment_exists)\n",
      "        1    0.000    0.000    0.000    0.000 managers.py:1196(_iset_single)\n",
      "        3    0.000    0.000    0.000    0.000 cast.py:1711(sanitize_to_nanoseconds)\n",
      "        1    0.000    0.000    0.000    0.000 {pandas._libs.algos.take_2d_axis0_float64_float64}\n",
      "        1    0.000    0.000    0.000    0.000 concat.py:290(_maybe_reindex_columns_na_proxy)\n",
      "        5    0.000    0.000    0.000    0.000 {method 'clear' of 'dict' objects}\n",
      "        2    0.000    0.000    0.000    0.000 base.py:7168(unpack_nested_dtype)\n",
      "        2    0.000    0.000    0.000    0.000 {built-in method builtins.sorted}\n",
      "        1    0.000    0.000    0.001    0.001 construction.py:1073(<listcomp>)\n",
      "        5    0.000    0.000    0.000    0.000 base.py:229(disallow_kwargs)\n",
      "        1    0.000    0.000    0.000    0.000 array_ops.py:441(maybe_prepare_scalar_for_op)\n",
      "        3    0.000    0.000    0.000    0.000 take.py:326(_get_take_nd_function)\n",
      "        2    0.000    0.000    0.000    0.000 managers.py:1665(is_consolidated)\n",
      "        1    0.000    0.000    0.000    0.000 base.py:4230(_maybe_preserve_names)\n",
      "        2    0.000    0.000    0.000    0.000 common.py:1740(<genexpr>)\n",
      "        4    0.000    0.000    0.000    0.000 frame.py:578(_constructor)\n",
      "        2    0.000    0.000    0.000    0.000 std.py:657(get_lock)\n",
      "        2    0.000    0.000    0.000    0.000 managers.py:212(set_axis)\n",
      "        2    0.000    0.000    0.000    0.000 managers.py:217(is_single_block)\n",
      "        2    0.000    0.000    0.000    0.000 cast.py:468(maybe_promote)\n",
      "        2    0.000    0.000    0.000    0.000 {method 'take' of 'numpy.ndarray' objects}\n",
      "        1    0.000    0.000    0.000    0.000 config.py:571(_select_options)\n",
      "        1    0.000    0.000    0.000    0.000 {pandas._libs.lib.array_equivalent_object}\n",
      "        1    0.000    0.000    0.000    0.000 blocks.py:427(_split_op_result)\n",
      "        1    0.000    0.000    0.000    0.000 api.py:98(<listcomp>)\n",
      "        1    0.000    0.000    0.000    0.000 blocks.py:396(apply)\n",
      "        1    0.000    0.000    0.000    0.000 _ufunc_config.py:429(__enter__)\n",
      "        2    0.000    0.000    0.000    0.000 series.py:687(_values)\n",
      "        2    0.000    0.000    0.001    0.000 base.py:6293(_maybe_cast_listlike_indexer)\n",
      "        2    0.000    0.000    0.000    0.000 managers.py:1700(__init__)\n",
      "        2    0.000    0.000    0.000    0.000 range.py:522(equals)\n",
      "        4    0.000    0.000    0.000    0.000 {method 'encode' of 'str' objects}\n",
      "        5    0.000    0.000    0.000    0.000 blocks.py:350(shape)\n",
      "        2    0.000    0.000    0.000    0.000 _monitor.py:94(report)\n",
      "        1    0.000    0.000    0.000    0.000 blocks.py:2119(extend_blocks)\n",
      "        4    0.000    0.000    0.000    0.000 {built-in method numpy.geterrobj}\n",
      "        2    0.000    0.000    0.000    0.000 {method 'nonzero' of 'numpy.ndarray' objects}\n",
      "        1    0.000    0.000    0.001    0.001 arraylike.py:114(__mul__)\n",
      "        1    0.000    0.000    0.000    0.000 utils.py:409(check_key_length)\n",
      "        2    0.000    0.000    0.000    0.000 base.py:692(_constructor)\n",
      "        1    0.000    0.000    0.001    0.001 base.py:5744(get_indexer_for)\n",
      "        4    0.000    0.000    0.000    0.000 managers.py:222(items)\n",
      "        3    0.000    0.000    0.000    0.000 {pandas._libs.lib.is_bool}\n",
      "        1    0.000    0.000    0.000    0.000 missing.py:571(na_value_for_dtype)\n",
      "        1    0.000    0.000    0.000    0.000 __init__.py:315(should_reindex_frame_op)\n",
      "        2    0.000    0.000    0.000    0.000 {built-in method builtins.any}\n",
      "        1    0.000    0.000    0.000    0.000 concat.py:455(<listcomp>)\n",
      "        4    0.000    0.000    0.000    0.000 base.py:326(ndim)\n",
      "        1    0.000    0.000    0.000    0.000 base.py:5117(<setcomp>)\n",
      "        2    0.000    0.000    0.000    0.000 {built-in method numpy.seterrobj}\n",
      "        4    0.000    0.000    0.000    0.000 {built-in method _weakref.proxy}\n",
      "        4    0.000    0.000    0.000    0.000 {method 'startswith' of 'str' objects}\n",
      "        1    0.000    0.000    0.000    0.000 range.py:198(_get_data_as_items)\n",
      "        1    0.000    0.000    0.000    0.000 concat.py:685(_concat_indexes)\n",
      "        1    0.000    0.000    0.000    0.000 config.py:642(_warn_if_deprecated)\n",
      "        1    0.000    0.000    0.000    0.000 expressions.py:63(_evaluate_standard)\n",
      "        1    0.000    0.000    0.000    0.000 common.py:1148(needs_i8_conversion)\n",
      "        4    0.000    0.000    0.000    0.000 {built-in method posix.fspath}\n",
      "        1    0.000    0.000    0.000    0.000 concat.py:661(<listcomp>)\n",
      "        1    0.000    0.000    0.000    0.000 generic.py:5646(_consolidate_inplace)\n",
      "        1    0.000    0.000    0.000    0.000 <__array_function__ internals>:177(around)\n",
      "        2    0.000    0.000    0.000    0.000 std.py:1161(__del__)\n",
      "        2    0.000    0.000    0.000    0.000 utils.py:201(_is_utf)\n",
      "        1    0.000    0.000    0.000    0.000 range.py:850(_concat)\n",
      "        1    0.000    0.000    0.000    0.000 blocks.py:252(make_block)\n",
      "        3    0.000    0.000    0.000    0.000 generic.py:660(ndim)\n",
      "        2    0.000    0.000    0.000    0.000 iostream.py:311(fileno)\n",
      "        4    0.000    0.000    0.000    0.000 {method 'endswith' of 'str' objects}\n",
      "        1    0.000    0.000    0.000    0.000 base.py:2642(_na_value)\n",
      "        1    0.000    0.000    0.000    0.000 config.py:255(__call__)\n",
      "        2    0.000    0.000    0.000    0.000 blocks.py:358(iget)\n",
      "        1    0.000    0.000    0.000    0.000 {method 'split' of 'str' objects}\n",
      "        1    0.000    0.000    0.000    0.000 managers.py:1683(_consolidate_inplace)\n",
      "        1    0.000    0.000    0.000    0.000 generic.py:3925(_set_is_copy)\n",
      "        1    0.000    0.000    0.000    0.000 expressions.py:223(evaluate)\n",
      "        1    0.000    0.000    0.000    0.000 _decorators.py:214(_format_argument_list)\n",
      "        1    0.000    0.000    0.000    0.000 dispatch.py:11(should_extension_dispatch)\n",
      "        1    0.000    0.000    0.000    0.000 common.py:1747(pandas_dtype)\n",
      "        1    0.000    0.000    0.000    0.000 blocks.py:238(fill_value)\n",
      "        1    0.000    0.000    0.000    0.000 missing.py:138(dispatch_fill_zeros)\n",
      "        4    0.000    0.000    0.000    0.000 fromnumeric.py:1751(_ravel_dispatcher)\n",
      "        2    0.000    0.000    0.000    0.000 blocks.py:354(dtype)\n",
      "        1    0.000    0.000    0.000    0.000 base.py:794(_rename)\n",
      "        1    0.000    0.000    0.000    0.000 <__array_function__ internals>:177(amax)\n",
      "        2    0.000    0.000    0.000    0.000 construction.py:959(<genexpr>)\n",
      "        4    0.000    0.000    0.000    0.000 {built-in method _operator.index}\n",
      "        1    0.000    0.000    0.000    0.000 {method 'delete' of 'pandas._libs.internals.BlockPlacement' objects}\n",
      "        1    0.000    0.000    0.000    0.000 fromnumeric.py:3764(round_)\n",
      "        1    0.000    0.000    0.000    0.000 {method 'max' of 'numpy.ndarray' objects}\n",
      "        2    0.000    0.000    0.000    0.000 utils.py:231(_screen_shape_wrapper)\n",
      "        1    0.000    0.000    0.000    0.000 concat.py:209(<listcomp>)\n",
      "        2    0.000    0.000    0.000    0.000 range.py:859(<genexpr>)\n",
      "        1    0.000    0.000    0.000    0.000 fromnumeric.py:2675(amax)\n",
      "        4    0.000    0.000    0.000    0.000 function_base.py:5333(_append_dispatcher)\n",
      "        2    0.000    0.000    0.000    0.000 {pandas._libs.lib.is_bool_list}\n",
      "        1    0.000    0.000    0.000    0.000 fromnumeric.py:3257(around)\n",
      "        2    0.000    0.000    0.000    0.000 frame.py:804(axes)\n",
      "        1    0.000    0.000    0.000    0.000 config.py:630(_translate_key)\n",
      "        2    0.000    0.000    0.000    0.000 {built-in method utcfromtimestamp}\n",
      "        1    0.000    0.000    0.000    0.000 flags.py:96(__getitem__)\n",
      "        1    0.000    0.000    0.000    0.000 base.py:4226(_wrap_reindex_result)\n",
      "        2    0.000    0.000    0.000    0.000 fromnumeric.py:3253(_around_dispatcher)\n",
      "        1    0.000    0.000    0.000    0.000 std.py:605(<lambda>)\n",
      "        1    0.000    0.000    0.000    0.000 concat.py:604(_get_result_dim)\n",
      "        2    0.000    0.000    0.000    0.000 cast.py:2185(np_can_hold_element)\n",
      "        1    0.000    0.000    0.000    0.000 _ufunc_config.py:425(__init__)\n",
      "        2    0.000    0.000    0.000    0.000 {method 'item' of 'numpy.ndarray' objects}\n",
      "        1    0.000    0.000    0.000    0.000 _ufunc_config.py:434(__exit__)\n",
      "        1    0.000    0.000    0.000    0.000 managers.py:618(consolidate)\n",
      "        1    0.000    0.000    0.000    0.000 base.py:7046(ensure_has_len)\n",
      "        2    0.000    0.000    0.000    0.000 missing.py:107(clean_fill_method)\n",
      "        1    0.000    0.000    0.000    0.000 _methods.py:38(_amax)\n",
      "        2    0.000    0.000    0.000    0.000 {method 'get' of 'dict' objects}\n",
      "        1    0.000    0.000    0.000    0.000 {pandas._libs.lib.is_all_arraylike}\n",
      "        2    0.000    0.000    0.000    0.000 base.py:1124(_maybe_disallow_fill)\n",
      "        2    0.000    0.000    0.000    0.000 {pandas._libs.algos.ensure_object}\n",
      "        1    0.000    0.000    0.000    0.000 __init__.py:144(_DType_reduce)\n",
      "        2    0.000    0.000    0.000    0.000 {method 'upper' of 'str' objects}\n",
      "        2    0.000    0.000    0.000    0.000 common.py:191(<genexpr>)\n",
      "        2    0.000    0.000    0.000    0.000 {method 'difference' of 'set' objects}\n",
      "        2    0.000    0.000    0.000    0.000 multiarray.py:883(bincount)\n",
      "        2    0.000    0.000    0.000    0.000 numeric.py:1466(<listcomp>)\n",
      "        2    0.000    0.000    0.000    0.000 managers.py:1792(_block)\n",
      "        1    0.000    0.000    0.000    0.000 generic.py:2108(<dictcomp>)\n",
      "        1    0.000    0.000    0.000    0.000 {method 'astype' of 'numpy.ndarray' objects}\n",
      "        2    0.000    0.000    0.000    0.000 numeric.py:1400(_moveaxis_dispatcher)\n",
      "        2    0.000    0.000    0.000    0.000 std.py:1315(<lambda>)\n",
      "        2    0.000    0.000    0.000    0.000 base.py:6022(_is_comparable_dtype)\n",
      "        2    0.000    0.000    0.000    0.000 {built-in method builtins.min}\n",
      "        1    0.000    0.000    0.000    0.000 common.py:187(not_none)\n",
      "        1    0.000    0.000    0.000    0.000 {method 'strip' of 'str' objects}\n",
      "        1    0.000    0.000    0.000    0.000 blocks.py:248(mgr_locs)\n",
      "        1    0.000    0.000    0.000    0.000 blocks.py:306(__len__)\n",
      "        1    0.000    0.000    0.000    0.000 array_ops.py:510(_bool_arith_check)\n",
      "        2    0.000    0.000    0.000    0.000 function_base.py:5139(_insert_dispatcher)\n",
      "        1    0.000    0.000    0.000    0.000 {method 'disable' of '_lsprof.Profiler' objects}\n",
      "        2    0.000    0.000    0.000    0.000 function_base.py:4954(_delete_dispatcher)\n",
      "        1    0.000    0.000    0.000    0.000 managers.py:1118(value_getitem)\n",
      "        1    0.000    0.000    0.000    0.000 base.py:1898(nlevels)\n",
      "        1    0.000    0.000    0.000    0.000 function.py:49(__call__)\n",
      "        1    0.000    0.000    0.000    0.000 fromnumeric.py:2670(_amax_dispatcher)\n",
      "        1    0.000    0.000    0.000    0.000 managers.py:282(<dictcomp>)\n",
      "        1    0.000    0.000    0.000    0.000 {method 'append' of 'pandas._libs.internals.BlockPlacement' objects}\n",
      "        1    0.000    0.000    0.000    0.000 {method 'lstrip' of 'str' objects}\n",
      "        1    0.000    0.000    0.000    0.000 concat.py:678(_maybe_check_integrity)\n",
      "        1    0.000    0.000    0.000    0.000 generic.py:5549(<genexpr>)\n",
      "        1    0.000    0.000    0.000    0.000 {function FrozenList.__getitem__ at 0x7f5192609ab0}"
     ]
    }
   ],
   "source": [
    "%%prun\n",
    "check_or_run(rastrigin, n_experiments=1, n_partitions_priority=3, d=rootdir)"
   ]
  },
  {
   "cell_type": "code",
   "execution_count": 45,
   "metadata": {},
   "outputs": [
    {
     "name": "stdout",
     "output_type": "stream",
     "text": [
      "<function schwefel at 0x7f516ff96a70> 3\n",
      "<function ackley at 0x7f516ff96d40> 3\n",
      "<function griewank at 0x7f516ff96c20> 3\n",
      "<function rastrigin at 0x7f516ff96cb0> 3\n",
      "<function schwefel at 0x7f516ff96a70> 5\n",
      "<function ackley at 0x7f516ff96d40> 5\n",
      "<function griewank at 0x7f516ff96c20> 5\n",
      "<function rastrigin at 0x7f516ff96cb0> 5\n",
      "Running experiments...\n"
     ]
    },
    {
     "name": "stderr",
     "output_type": "stream",
     "text": [
      "100%|██████████| 500/500 [00:06<00:00, 81.46it/s]\n",
      "100%|██████████| 500/500 [00:08<00:00, 56.94it/s]\n",
      "100%|██████████| 500/500 [00:07<00:00, 63.35it/s]\n",
      "100%|██████████| 500/500 [00:05<00:00, 96.70it/s] \n",
      "100%|██████████| 500/500 [00:07<00:00, 66.21it/s]\n",
      "100%|██████████| 500/500 [00:08<00:00, 57.76it/s]\n",
      "100%|██████████| 500/500 [00:07<00:00, 66.87it/s]\n",
      "100%|██████████| 500/500 [00:05<00:00, 85.97it/s] \n",
      "100%|██████████| 500/500 [00:08<00:00, 62.49it/s] \n",
      "100%|██████████| 500/500 [00:10<00:00, 45.88it/s]\n",
      "100%|██████████| 500/500 [00:05<00:00, 94.74it/s]\n",
      "100%|██████████| 500/500 [00:07<00:00, 66.98it/s] \n",
      "100%|██████████| 500/500 [00:02<00:00, 212.64it/s]\n",
      "100%|██████████| 500/500 [00:10<00:00, 47.63it/s] \n",
      "100%|██████████| 500/500 [00:05<00:00, 88.94it/s]\n",
      "100%|██████████| 500/500 [00:06<00:00, 72.61it/s] \n",
      "100%|██████████| 500/500 [00:02<00:00, 167.91it/s]\n",
      "100%|██████████| 500/500 [00:08<00:00, 56.84it/s]\n",
      "100%|██████████| 500/500 [00:02<00:00, 184.03it/s]\n",
      "100%|██████████| 500/500 [00:09<00:00, 52.80it/s] \n",
      "100%|██████████| 500/500 [00:02<00:00, 202.53it/s]\n",
      "100%|██████████| 500/500 [00:04<00:00, 101.36it/s]\n",
      "100%|██████████| 500/500 [00:05<00:00, 86.63it/s] \n",
      "100%|██████████| 500/500 [00:02<00:00, 196.85it/s]\n",
      "100%|██████████| 500/500 [00:09<00:00, 53.88it/s] \n",
      "100%|██████████| 25/25 [02:45<00:00,  6.62s/it]\n"
     ]
    },
    {
     "name": "stdout",
     "output_type": "stream",
     "text": [
      "<function schwefel at 0x7f516ff96a70> 7\n",
      "Running experiments...\n"
     ]
    },
    {
     "name": "stderr",
     "output_type": "stream",
     "text": [
      "100%|██████████| 500/500 [00:02<00:00, 235.98it/s]\n",
      "100%|██████████| 500/500 [00:04<00:00, 107.95it/s]\n",
      "100%|██████████| 500/500 [00:01<00:00, 300.49it/s]\n",
      "100%|██████████| 500/500 [00:04<00:00, 104.76it/s]\n",
      "100%|██████████| 500/500 [00:01<00:00, 264.25it/s]\n",
      "100%|██████████| 500/500 [00:04<00:00, 115.96it/s]\n",
      "100%|██████████| 500/500 [00:01<00:00, 275.69it/s]\n",
      "100%|██████████| 500/500 [00:07<00:00, 71.28it/s] \n",
      "100%|██████████| 500/500 [00:04<00:00, 109.94it/s]\n",
      "100%|██████████| 500/500 [00:05<00:00, 95.54it/s] \n",
      "100%|██████████| 500/500 [00:01<00:00, 271.14it/s]\n",
      "100%|██████████| 500/500 [00:04<00:00, 103.61it/s]\n",
      "100%|██████████| 500/500 [00:06<00:00, 76.21it/s]\n",
      "100%|██████████| 500/500 [00:02<00:00, 223.05it/s]\n",
      "100%|██████████| 500/500 [00:09<00:00, 54.14it/s]\n",
      "100%|██████████| 500/500 [00:02<00:00, 232.89it/s]\n",
      "100%|██████████| 500/500 [00:04<00:00, 106.71it/s]\n",
      "100%|██████████| 500/500 [00:06<00:00, 81.93it/s]\n",
      "100%|██████████| 500/500 [00:02<00:00, 219.52it/s]\n",
      "100%|██████████| 500/500 [00:10<00:00, 49.22it/s]\n",
      "100%|██████████| 500/500 [00:02<00:00, 222.80it/s]\n",
      "100%|██████████| 500/500 [00:10<00:00, 49.18it/s]\n",
      "100%|██████████| 500/500 [00:02<00:00, 232.56it/s]\n",
      "100%|██████████| 500/500 [00:08<00:00, 59.49it/s]\n",
      "100%|██████████| 500/500 [00:15<00:00, 32.16it/s] \n",
      "100%|██████████| 25/25 [02:08<00:00,  5.15s/it]\n"
     ]
    },
    {
     "name": "stdout",
     "output_type": "stream",
     "text": [
      "<function ackley at 0x7f516ff96d40> 7\n",
      "Running experiments...\n"
     ]
    },
    {
     "name": "stderr",
     "output_type": "stream",
     "text": [
      "100%|██████████| 500/500 [00:06<00:00, 76.86it/s] \n",
      "100%|██████████| 500/500 [00:07<00:00, 63.90it/s] \n",
      "100%|██████████| 500/500 [00:08<00:00, 61.85it/s]\n",
      "100%|██████████| 500/500 [00:07<00:00, 70.39it/s] \n",
      "100%|██████████| 500/500 [00:09<00:00, 54.02it/s] \n",
      "100%|██████████| 500/500 [00:12<00:00, 41.25it/s]\n",
      "100%|██████████| 500/500 [00:09<00:00, 53.70it/s] \n",
      "100%|██████████| 500/500 [00:05<00:00, 86.42it/s] \n",
      "100%|██████████| 500/500 [00:10<00:00, 49.02it/s]\n",
      "100%|██████████| 500/500 [00:09<00:00, 52.52it/s] \n",
      "100%|██████████| 500/500 [00:06<00:00, 78.91it/s] \n",
      "100%|██████████| 500/500 [00:06<00:00, 74.56it/s] \n",
      "100%|██████████| 500/500 [00:05<00:00, 88.04it/s] \n",
      "100%|██████████| 500/500 [00:10<00:00, 47.90it/s]\n",
      "100%|██████████| 500/500 [00:06<00:00, 71.72it/s] \n",
      "100%|██████████| 500/500 [00:05<00:00, 90.51it/s]\n",
      "100%|██████████| 500/500 [00:06<00:00, 78.54it/s]\n",
      "100%|██████████| 500/500 [00:06<00:00, 73.08it/s]\n",
      "100%|██████████| 500/500 [00:06<00:00, 73.79it/s]\n",
      "100%|██████████| 500/500 [00:05<00:00, 87.04it/s] \n",
      "100%|██████████| 500/500 [00:06<00:00, 77.77it/s]\n",
      "100%|██████████| 500/500 [00:05<00:00, 88.98it/s]\n",
      "100%|██████████| 500/500 [00:07<00:00, 68.52it/s]\n",
      "100%|██████████| 500/500 [00:06<00:00, 78.06it/s] \n",
      "100%|██████████| 500/500 [00:06<00:00, 80.00it/s] \n",
      "100%|██████████| 25/25 [03:07<00:00,  7.49s/it]\n"
     ]
    },
    {
     "name": "stdout",
     "output_type": "stream",
     "text": [
      "<function griewank at 0x7f516ff96c20> 7\n",
      "Running experiments...\n"
     ]
    },
    {
     "name": "stderr",
     "output_type": "stream",
     "text": [
      "100%|██████████| 500/500 [00:02<00:00, 249.62it/s]\n",
      "100%|██████████| 500/500 [00:04<00:00, 109.48it/s]\n",
      "100%|██████████| 500/500 [00:01<00:00, 273.01it/s]\n",
      "100%|██████████| 500/500 [00:08<00:00, 58.23it/s]\n",
      "100%|██████████| 500/500 [00:02<00:00, 225.26it/s]\n",
      "100%|██████████| 500/500 [00:05<00:00, 83.36it/s] \n",
      "100%|██████████| 500/500 [00:04<00:00, 106.44it/s]\n",
      "100%|██████████| 500/500 [00:02<00:00, 249.46it/s]\n",
      "100%|██████████| 500/500 [00:05<00:00, 86.59it/s] \n",
      "100%|██████████| 500/500 [00:03<00:00, 143.41it/s]\n",
      "100%|██████████| 500/500 [00:08<00:00, 61.25it/s]\n",
      "100%|██████████| 500/500 [00:02<00:00, 173.40it/s]\n",
      "100%|██████████| 500/500 [00:04<00:00, 108.42it/s]\n",
      "100%|██████████| 500/500 [00:05<00:00, 86.44it/s]\n",
      "100%|██████████| 500/500 [00:02<00:00, 219.16it/s]\n",
      "100%|██████████| 500/500 [00:04<00:00, 109.57it/s]\n",
      "100%|██████████| 500/500 [00:07<00:00, 64.11it/s] \n",
      "100%|██████████| 500/500 [00:05<00:00, 93.46it/s] \n",
      "100%|██████████| 500/500 [00:06<00:00, 76.93it/s] \n",
      "100%|██████████| 500/500 [00:04<00:00, 108.64it/s]\n",
      "100%|██████████| 500/500 [00:06<00:00, 74.54it/s]\n",
      "100%|██████████| 500/500 [00:04<00:00, 110.57it/s]\n",
      "100%|██████████| 500/500 [00:08<00:00, 56.40it/s] \n",
      "100%|██████████| 500/500 [00:04<00:00, 102.81it/s]\n",
      "100%|██████████| 500/500 [00:07<00:00, 67.71it/s] \n",
      "100%|██████████| 25/25 [02:08<00:00,  5.12s/it]\n"
     ]
    },
    {
     "name": "stdout",
     "output_type": "stream",
     "text": [
      "<function rastrigin at 0x7f516ff96cb0> 7\n",
      "Running experiments...\n"
     ]
    },
    {
     "name": "stderr",
     "output_type": "stream",
     "text": [
      "100%|██████████| 500/500 [00:04<00:00, 107.08it/s]\n",
      "100%|██████████| 500/500 [00:07<00:00, 64.02it/s] \n",
      "100%|██████████| 500/500 [00:04<00:00, 102.81it/s]\n",
      "100%|██████████| 500/500 [00:04<00:00, 102.37it/s]\n",
      "100%|██████████| 500/500 [00:04<00:00, 112.48it/s]\n",
      "100%|██████████| 500/500 [00:07<00:00, 69.57it/s]\n",
      "100%|██████████| 500/500 [00:08<00:00, 55.64it/s]\n",
      "100%|██████████| 500/500 [00:07<00:00, 70.94it/s]\n",
      "100%|██████████| 500/500 [00:03<00:00, 147.22it/s]\n",
      "100%|██████████| 500/500 [00:06<00:00, 82.05it/s] \n",
      "100%|██████████| 500/500 [00:04<00:00, 104.72it/s]\n",
      "100%|██████████| 500/500 [00:07<00:00, 66.96it/s] \n",
      "100%|██████████| 500/500 [00:05<00:00, 93.49it/s] \n",
      "100%|██████████| 500/500 [00:07<00:00, 69.82it/s] \n",
      "100%|██████████| 500/500 [00:04<00:00, 102.80it/s]\n",
      "100%|██████████| 500/500 [00:07<00:00, 70.18it/s] \n",
      "100%|██████████| 500/500 [00:06<00:00, 82.28it/s] \n",
      "100%|██████████| 500/500 [00:07<00:00, 68.75it/s] \n",
      "100%|██████████| 500/500 [00:04<00:00, 104.52it/s]\n",
      "100%|██████████| 500/500 [00:06<00:00, 72.04it/s] \n",
      "100%|██████████| 500/500 [00:04<00:00, 100.06it/s]\n",
      "100%|██████████| 500/500 [00:06<00:00, 72.03it/s]\n",
      "100%|██████████| 500/500 [00:05<00:00, 89.96it/s] \n",
      "100%|██████████| 500/500 [00:04<00:00, 110.60it/s]\n",
      "100%|██████████| 500/500 [00:06<00:00, 72.90it/s]\n",
      "100%|██████████| 25/25 [02:32<00:00,  6.08s/it]\n"
     ]
    },
    {
     "name": "stdout",
     "output_type": "stream",
     "text": [
      "<function schwefel at 0x7f516ff96a70> 10\n",
      "Running experiments...\n"
     ]
    },
    {
     "name": "stderr",
     "output_type": "stream",
     "text": [
      "100%|██████████| 500/500 [00:01<00:00, 254.50it/s]\n",
      "100%|██████████| 500/500 [00:05<00:00, 93.97it/s]\n",
      "100%|██████████| 500/500 [00:06<00:00, 76.75it/s] \n",
      "100%|██████████| 500/500 [00:02<00:00, 223.07it/s]\n",
      "100%|██████████| 500/500 [00:05<00:00, 93.08it/s] \n",
      "100%|██████████| 500/500 [00:04<00:00, 110.58it/s]\n",
      "100%|██████████| 500/500 [00:02<00:00, 211.07it/s]\n",
      "100%|██████████| 500/500 [00:04<00:00, 101.40it/s]\n",
      "100%|██████████| 500/500 [00:05<00:00, 96.53it/s]\n",
      "100%|██████████| 500/500 [00:06<00:00, 76.32it/s] \n",
      "100%|██████████| 500/500 [00:02<00:00, 219.84it/s]\n",
      "100%|██████████| 500/500 [00:04<00:00, 111.23it/s]\n",
      "100%|██████████| 500/500 [00:01<00:00, 253.76it/s]\n",
      "100%|██████████| 500/500 [00:04<00:00, 108.39it/s]\n",
      "100%|██████████| 500/500 [00:04<00:00, 110.26it/s]\n",
      "100%|██████████| 500/500 [00:01<00:00, 276.18it/s]\n",
      "100%|██████████| 500/500 [00:06<00:00, 78.66it/s]\n",
      "100%|██████████| 500/500 [00:05<00:00, 93.09it/s] \n",
      "100%|██████████| 500/500 [00:02<00:00, 235.41it/s]\n",
      "100%|██████████| 500/500 [00:05<00:00, 86.91it/s] \n",
      "100%|██████████| 500/500 [00:04<00:00, 101.32it/s]\n",
      "100%|██████████| 500/500 [00:05<00:00, 84.88it/s]\n",
      "100%|██████████| 500/500 [00:04<00:00, 117.63it/s]\n",
      "100%|██████████| 500/500 [00:08<00:00, 58.17it/s]\n",
      "100%|██████████| 500/500 [00:04<00:00, 102.73it/s]\n",
      "100%|██████████| 25/25 [01:54<00:00,  4.59s/it]\n"
     ]
    },
    {
     "name": "stdout",
     "output_type": "stream",
     "text": [
      "<function ackley at 0x7f516ff96d40> 10\n",
      "Running experiments...\n"
     ]
    },
    {
     "name": "stderr",
     "output_type": "stream",
     "text": [
      "100%|██████████| 500/500 [00:02<00:00, 174.33it/s]\n",
      "100%|██████████| 500/500 [00:09<00:00, 53.12it/s]\n",
      "100%|██████████| 500/500 [00:09<00:00, 51.02it/s]\n",
      "100%|██████████| 500/500 [00:05<00:00, 92.16it/s] \n",
      "100%|██████████| 500/500 [00:07<00:00, 65.96it/s] \n",
      "100%|██████████| 500/500 [00:05<00:00, 94.98it/s] \n",
      "100%|██████████| 500/500 [00:11<00:00, 41.70it/s] \n",
      "100%|██████████| 500/500 [00:07<00:00, 65.38it/s] \n",
      "100%|██████████| 500/500 [00:07<00:00, 63.81it/s]\n",
      "100%|██████████| 500/500 [00:09<00:00, 54.87it/s]\n",
      "100%|██████████| 500/500 [00:08<00:00, 59.18it/s] \n",
      "100%|██████████| 500/500 [00:07<00:00, 64.05it/s] \n",
      "100%|██████████| 500/500 [00:08<00:00, 59.90it/s]\n",
      "100%|██████████| 500/500 [00:08<00:00, 58.67it/s] \n",
      "100%|██████████| 500/500 [00:12<00:00, 41.18it/s]\n",
      "100%|██████████| 500/500 [00:07<00:00, 62.55it/s] \n",
      "100%|██████████| 500/500 [00:11<00:00, 43.22it/s]\n",
      "100%|██████████| 500/500 [00:06<00:00, 77.83it/s] \n",
      "100%|██████████| 500/500 [00:08<00:00, 61.80it/s] \n",
      "100%|██████████| 500/500 [00:09<00:00, 50.43it/s]\n",
      "100%|██████████| 500/500 [00:07<00:00, 70.48it/s] \n",
      "100%|██████████| 500/500 [00:08<00:00, 60.09it/s] \n",
      "100%|██████████| 500/500 [00:09<00:00, 50.87it/s]\n",
      "100%|██████████| 500/500 [00:06<00:00, 82.42it/s]\n",
      "100%|██████████| 500/500 [00:08<00:00, 58.28it/s] \n",
      "100%|██████████| 25/25 [03:28<00:00,  8.33s/it]\n"
     ]
    },
    {
     "name": "stdout",
     "output_type": "stream",
     "text": [
      "<function griewank at 0x7f516ff96c20> 10\n",
      "Running experiments...\n"
     ]
    },
    {
     "name": "stderr",
     "output_type": "stream",
     "text": [
      "100%|██████████| 500/500 [00:04<00:00, 106.94it/s]\n",
      "100%|██████████| 500/500 [00:05<00:00, 87.07it/s]\n",
      "100%|██████████| 500/500 [00:01<00:00, 251.13it/s]\n",
      "100%|██████████| 500/500 [00:04<00:00, 108.15it/s]\n",
      "100%|██████████| 500/500 [00:06<00:00, 82.27it/s]\n",
      "100%|██████████| 500/500 [00:02<00:00, 213.76it/s]\n",
      "100%|██████████| 500/500 [00:04<00:00, 102.58it/s]\n",
      "100%|██████████| 500/500 [00:05<00:00, 89.86it/s] \n",
      "100%|██████████| 500/500 [00:02<00:00, 239.90it/s]\n",
      "100%|██████████| 500/500 [00:04<00:00, 103.19it/s]\n",
      "100%|██████████| 500/500 [00:04<00:00, 101.01it/s]\n",
      "100%|██████████| 500/500 [00:05<00:00, 93.87it/s] \n",
      "100%|██████████| 500/500 [00:03<00:00, 151.98it/s]\n",
      "100%|██████████| 500/500 [00:05<00:00, 99.30it/s] \n",
      "100%|██████████| 500/500 [00:02<00:00, 236.18it/s]\n",
      "100%|██████████| 500/500 [00:04<00:00, 107.48it/s]\n",
      "100%|██████████| 500/500 [00:05<00:00, 94.46it/s] \n",
      "100%|██████████| 500/500 [00:02<00:00, 224.45it/s]\n",
      "100%|██████████| 500/500 [00:05<00:00, 89.83it/s] \n",
      "100%|██████████| 500/500 [00:05<00:00, 95.05it/s] \n",
      "100%|██████████| 500/500 [00:02<00:00, 194.05it/s]\n",
      "100%|██████████| 500/500 [00:04<00:00, 102.05it/s]\n",
      "100%|██████████| 500/500 [00:05<00:00, 92.66it/s] \n",
      "100%|██████████| 500/500 [00:02<00:00, 218.81it/s]\n",
      "100%|██████████| 500/500 [00:04<00:00, 104.73it/s]\n",
      "100%|██████████| 25/25 [01:48<00:00,  4.34s/it]\n"
     ]
    },
    {
     "name": "stdout",
     "output_type": "stream",
     "text": [
      "<function rastrigin at 0x7f516ff96cb0> 10\n",
      "Running experiments...\n"
     ]
    },
    {
     "name": "stderr",
     "output_type": "stream",
     "text": [
      "100%|██████████| 500/500 [00:06<00:00, 80.90it/s] \n",
      "100%|██████████| 500/500 [00:04<00:00, 101.34it/s]\n",
      "100%|██████████| 500/500 [00:05<00:00, 90.47it/s]\n",
      "100%|██████████| 500/500 [00:02<00:00, 241.35it/s]\n",
      "100%|██████████| 500/500 [00:04<00:00, 105.09it/s]\n",
      "100%|██████████| 500/500 [00:05<00:00, 88.52it/s]\n",
      "100%|██████████| 500/500 [00:02<00:00, 244.10it/s]\n",
      "100%|██████████| 500/500 [00:06<00:00, 82.26it/s] \n",
      "100%|██████████| 500/500 [00:05<00:00, 84.99it/s] \n",
      "100%|██████████| 500/500 [00:02<00:00, 214.93it/s]\n",
      "100%|██████████| 500/500 [00:08<00:00, 57.85it/s]\n",
      "100%|██████████| 500/500 [00:02<00:00, 219.54it/s]\n",
      "100%|██████████| 500/500 [00:04<00:00, 105.34it/s]\n",
      "100%|██████████| 500/500 [00:07<00:00, 67.39it/s] \n",
      "100%|██████████| 500/500 [00:05<00:00, 90.49it/s]\n",
      "100%|██████████| 500/500 [00:06<00:00, 76.11it/s] \n",
      "100%|██████████| 500/500 [00:02<00:00, 197.64it/s]\n",
      "100%|██████████| 500/500 [00:09<00:00, 52.38it/s] \n",
      "100%|██████████| 500/500 [00:06<00:00, 81.84it/s]\n",
      "100%|██████████| 500/500 [00:07<00:00, 63.43it/s] \n",
      "100%|██████████| 500/500 [00:04<00:00, 103.43it/s]\n",
      "100%|██████████| 500/500 [00:07<00:00, 69.06it/s] \n",
      "100%|██████████| 500/500 [00:07<00:00, 63.86it/s]\n",
      "100%|██████████| 500/500 [00:05<00:00, 88.65it/s] \n",
      "100%|██████████| 500/500 [00:07<00:00, 69.62it/s] \n",
      "100%|██████████| 25/25 [02:21<00:00,  5.66s/it]\n"
     ]
    },
    {
     "name": "stdout",
     "output_type": "stream",
     "text": [
      "<function schwefel at 0x7f516ff96a70> 15\n",
      "Running experiments...\n"
     ]
    },
    {
     "name": "stderr",
     "output_type": "stream",
     "text": [
      "100%|██████████| 500/500 [00:04<00:00, 114.99it/s]\n",
      "100%|██████████| 500/500 [00:02<00:00, 231.33it/s]\n",
      "100%|██████████| 500/500 [00:10<00:00, 48.83it/s] \n",
      "100%|██████████| 500/500 [00:02<00:00, 230.89it/s]\n",
      "100%|██████████| 500/500 [00:06<00:00, 81.23it/s] \n",
      "100%|██████████| 500/500 [00:04<00:00, 104.52it/s]\n",
      "100%|██████████| 500/500 [00:02<00:00, 222.94it/s]\n",
      "100%|██████████| 500/500 [00:05<00:00, 87.96it/s] \n",
      "100%|██████████| 500/500 [00:05<00:00, 94.24it/s] \n",
      "100%|██████████| 500/500 [00:06<00:00, 78.40it/s] \n",
      "100%|██████████| 500/500 [00:04<00:00, 104.37it/s]\n",
      "100%|██████████| 500/500 [00:01<00:00, 250.85it/s]\n",
      "100%|██████████| 500/500 [00:05<00:00, 86.27it/s] \n",
      "100%|██████████| 500/500 [00:04<00:00, 106.71it/s]\n",
      "100%|██████████| 500/500 [00:02<00:00, 244.47it/s]\n",
      "100%|██████████| 500/500 [00:05<00:00, 90.45it/s]\n",
      "100%|██████████| 500/500 [00:04<00:00, 100.64it/s]\n",
      "100%|██████████| 500/500 [00:02<00:00, 192.45it/s]\n",
      "100%|██████████| 500/500 [00:04<00:00, 102.90it/s]\n",
      "100%|██████████| 500/500 [00:05<00:00, 98.13it/s] \n",
      "100%|██████████| 500/500 [00:02<00:00, 208.94it/s]\n",
      "100%|██████████| 500/500 [00:04<00:00, 102.08it/s]\n",
      "100%|██████████| 500/500 [00:05<00:00, 94.67it/s]\n",
      "100%|██████████| 500/500 [00:03<00:00, 158.37it/s]\n",
      "100%|██████████| 500/500 [00:05<00:00, 90.01it/s] \n",
      "100%|██████████| 25/25 [01:55<00:00,  4.60s/it]\n"
     ]
    },
    {
     "name": "stdout",
     "output_type": "stream",
     "text": [
      "<function ackley at 0x7f516ff96d40> 15\n",
      "Running experiments...\n"
     ]
    },
    {
     "name": "stderr",
     "output_type": "stream",
     "text": [
      "100%|██████████| 500/500 [00:05<00:00, 91.39it/s] \n",
      "100%|██████████| 500/500 [00:05<00:00, 84.95it/s] \n",
      "100%|██████████| 500/500 [00:05<00:00, 94.09it/s] \n",
      "100%|██████████| 500/500 [00:08<00:00, 60.54it/s] \n",
      "100%|██████████| 500/500 [00:05<00:00, 85.62it/s] \n",
      "100%|██████████| 500/500 [00:06<00:00, 73.90it/s] \n",
      "100%|██████████| 500/500 [00:05<00:00, 90.95it/s] \n",
      "100%|██████████| 500/500 [00:09<00:00, 50.08it/s]\n",
      "100%|██████████| 500/500 [00:08<00:00, 59.77it/s]\n",
      "100%|██████████| 500/500 [00:05<00:00, 94.73it/s] \n",
      "100%|██████████| 500/500 [00:07<00:00, 65.94it/s]\n",
      "100%|██████████| 500/500 [00:06<00:00, 73.47it/s]\n",
      "100%|██████████| 500/500 [00:10<00:00, 47.94it/s]\n",
      "100%|██████████| 500/500 [00:08<00:00, 60.99it/s]\n",
      "100%|██████████| 500/500 [00:05<00:00, 87.02it/s] \n",
      "100%|██████████| 500/500 [00:11<00:00, 44.10it/s]\n",
      "100%|██████████| 500/500 [00:07<00:00, 63.30it/s]\n",
      "100%|██████████| 500/500 [00:06<00:00, 81.67it/s]\n",
      "100%|██████████| 500/500 [00:11<00:00, 43.43it/s]\n",
      "100%|██████████| 500/500 [00:08<00:00, 60.15it/s] \n",
      "100%|██████████| 500/500 [00:07<00:00, 63.66it/s]\n",
      "100%|██████████| 500/500 [00:08<00:00, 59.29it/s]\n",
      "100%|██████████| 500/500 [00:10<00:00, 45.91it/s]\n",
      "100%|██████████| 500/500 [00:09<00:00, 51.33it/s]\n",
      "100%|██████████| 500/500 [00:08<00:00, 59.69it/s] \n",
      "100%|██████████| 25/25 [03:17<00:00,  7.92s/it]\n"
     ]
    },
    {
     "name": "stdout",
     "output_type": "stream",
     "text": [
      "<function griewank at 0x7f516ff96c20> 15\n",
      "Running experiments...\n"
     ]
    },
    {
     "name": "stderr",
     "output_type": "stream",
     "text": [
      "100%|██████████| 500/500 [00:05<00:00, 90.90it/s] \n",
      "100%|██████████| 500/500 [00:07<00:00, 66.10it/s] \n",
      "100%|██████████| 500/500 [00:04<00:00, 113.50it/s]\n",
      "100%|██████████| 500/500 [00:06<00:00, 71.76it/s]\n",
      "100%|██████████| 500/500 [00:01<00:00, 255.43it/s]\n",
      "100%|██████████| 500/500 [00:07<00:00, 66.55it/s]\n",
      "100%|██████████| 500/500 [00:04<00:00, 102.25it/s]\n",
      "100%|██████████| 500/500 [00:04<00:00, 108.73it/s]\n",
      "100%|██████████| 500/500 [00:06<00:00, 72.64it/s] \n",
      "100%|██████████| 500/500 [00:04<00:00, 103.80it/s]\n",
      "100%|██████████| 500/500 [00:06<00:00, 73.85it/s] \n",
      "100%|██████████| 500/500 [00:05<00:00, 84.98it/s] \n",
      "100%|██████████| 500/500 [00:06<00:00, 73.54it/s] \n",
      "100%|██████████| 500/500 [00:02<00:00, 232.21it/s]\n",
      "100%|██████████| 500/500 [00:04<00:00, 105.78it/s]\n",
      "100%|██████████| 500/500 [00:06<00:00, 78.14it/s] \n",
      "100%|██████████| 500/500 [00:05<00:00, 92.82it/s] \n",
      "100%|██████████| 500/500 [00:07<00:00, 69.08it/s] \n",
      "100%|██████████| 500/500 [00:04<00:00, 107.47it/s]\n",
      "100%|██████████| 500/500 [00:05<00:00, 86.26it/s]\n",
      "100%|██████████| 500/500 [00:02<00:00, 211.82it/s]\n",
      "100%|██████████| 500/500 [00:04<00:00, 103.13it/s]\n",
      "100%|██████████| 500/500 [00:07<00:00, 69.10it/s] \n",
      "100%|██████████| 500/500 [00:05<00:00, 95.59it/s]\n",
      "100%|██████████| 500/500 [00:05<00:00, 95.48it/s]\n",
      "100%|██████████| 25/25 [02:17<00:00,  5.52s/it]\n"
     ]
    },
    {
     "name": "stdout",
     "output_type": "stream",
     "text": [
      "<function rastrigin at 0x7f516ff96cb0> 15\n",
      "Running experiments...\n"
     ]
    },
    {
     "name": "stderr",
     "output_type": "stream",
     "text": [
      "100%|██████████| 500/500 [00:02<00:00, 231.42it/s]\n",
      "100%|██████████| 500/500 [00:04<00:00, 104.29it/s]\n",
      "100%|██████████| 500/500 [00:02<00:00, 202.67it/s]\n",
      "100%|██████████| 500/500 [00:05<00:00, 88.48it/s]\n",
      "100%|██████████| 500/500 [00:05<00:00, 91.14it/s] \n",
      "100%|██████████| 500/500 [00:05<00:00, 98.14it/s] \n",
      "100%|██████████| 500/500 [00:02<00:00, 225.09it/s]\n",
      "100%|██████████| 500/500 [00:04<00:00, 106.26it/s]\n",
      "100%|██████████| 500/500 [00:05<00:00, 93.97it/s]\n",
      "100%|██████████| 500/500 [00:02<00:00, 216.74it/s]\n",
      "100%|██████████| 500/500 [00:06<00:00, 79.98it/s]\n",
      "100%|██████████| 500/500 [00:05<00:00, 86.63it/s] \n",
      "100%|██████████| 500/500 [00:05<00:00, 92.64it/s]\n",
      "100%|██████████| 500/500 [00:06<00:00, 80.26it/s]\n",
      "100%|██████████| 500/500 [00:02<00:00, 207.99it/s]\n",
      "100%|██████████| 500/500 [00:04<00:00, 103.19it/s]\n",
      "100%|██████████| 500/500 [00:07<00:00, 68.25it/s] \n",
      "100%|██████████| 500/500 [00:06<00:00, 83.21it/s] \n",
      "100%|██████████| 500/500 [00:06<00:00, 76.10it/s] \n",
      "100%|██████████| 500/500 [00:05<00:00, 99.87it/s] \n",
      "100%|██████████| 500/500 [00:06<00:00, 77.54it/s] \n",
      "100%|██████████| 500/500 [00:05<00:00, 91.79it/s]\n",
      "100%|██████████| 500/500 [00:07<00:00, 67.16it/s] \n",
      "100%|██████████| 500/500 [00:05<00:00, 97.82it/s]\n",
      "100%|██████████| 500/500 [00:07<00:00, 66.96it/s] \n",
      "100%|██████████| 25/25 [02:09<00:00,  5.20s/it]\n"
     ]
    }
   ],
   "source": [
    "# Dry-run \n",
    "N_experiments=25\n",
    "for n_partitions in n_partitions_priority:\n",
    "    for func in (schwefel, ackley, griewank, rastrigin):\n",
    "        print(func, n_partitions)\n",
    "        check_or_run(func, n_experiments=N_experiments, n_partitions_priority=n_partitions, d=rootdir)"
   ]
  },
  {
   "cell_type": "code",
   "execution_count": 8,
   "metadata": {},
   "outputs": [],
   "source": [
    "# Output of experiments: matrix for input for Friedman test\n",
    "\n",
    "# Getting information for Friedman chi-square test\n",
    "if isinstance(n_partitions_priority, list): \n",
    "    n_partitions_priority = np.array(n_partitions_priority)\n",
    "\n",
    "# Placeholder for results\n",
    "test_mtr = np.zeros(shape=(n_partitions_priority.shape[0], N_experiments * 4) )\n",
    "\n",
    "for i, n_partitions in enumerate(n_partitions_priority):\n",
    "    for func_index, func in enumerate((schwefel, ackley, griewank, rastrigin)):\n",
    "        function_name = func.__name__\n",
    "        pth = caching_filename(function_name, N_experiments, n_partitions, rootdir)\n",
    "        \n",
    "        # Loading best results for each starting population\n",
    "        logs, params = None, None\n",
    "        with open(pth, 'rb') as f:\n",
    "            logs, params = pkl.load(f)\n",
    "        \n",
    "        best_score_vector = logs.groupby('seed').min()['best_fitness'].to_numpy()\n",
    "        test_mtr[i, func_index * N_experiments:(func_index + 1)*N_experiments] = best_score_vector"
   ]
  },
  {
   "cell_type": "code",
   "execution_count": 10,
   "metadata": {},
   "outputs": [
    {
     "data": {
      "text/plain": [
       "FriedmanchisquareResult(statistic=10.532330827067755, pvalue=0.032354543399937714)"
      ]
     },
     "execution_count": 10,
     "metadata": {},
     "output_type": "execute_result"
    }
   ],
   "source": [
    "friedmanchisquare(*test_mtr)"
   ]
  },
  {
   "attachments": {},
   "cell_type": "markdown",
   "metadata": {},
   "source": [
    "So, currently we see that at least some number of bins for priority is different from other ones. "
   ]
  },
  {
   "cell_type": "code",
   "execution_count": 17,
   "metadata": {},
   "outputs": [
    {
     "data": {
      "text/html": [
       "<div>\n",
       "<style scoped>\n",
       "    .dataframe tbody tr th:only-of-type {\n",
       "        vertical-align: middle;\n",
       "    }\n",
       "\n",
       "    .dataframe tbody tr th {\n",
       "        vertical-align: top;\n",
       "    }\n",
       "\n",
       "    .dataframe thead th {\n",
       "        text-align: right;\n",
       "    }\n",
       "</style>\n",
       "<table border=\"1\" class=\"dataframe\">\n",
       "  <thead>\n",
       "    <tr style=\"text-align: right;\">\n",
       "      <th></th>\n",
       "      <th>0</th>\n",
       "      <th>1</th>\n",
       "      <th>2</th>\n",
       "      <th>3</th>\n",
       "      <th>4</th>\n",
       "    </tr>\n",
       "  </thead>\n",
       "  <tbody>\n",
       "    <tr>\n",
       "      <th>0</th>\n",
       "      <td>1.000000</td>\n",
       "      <td>0.618550</td>\n",
       "      <td>0.732763</td>\n",
       "      <td>0.682001</td>\n",
       "      <td>0.012091</td>\n",
       "    </tr>\n",
       "    <tr>\n",
       "      <th>1</th>\n",
       "      <td>0.618550</td>\n",
       "      <td>1.000000</td>\n",
       "      <td>0.900000</td>\n",
       "      <td>0.900000</td>\n",
       "      <td>0.367753</td>\n",
       "    </tr>\n",
       "    <tr>\n",
       "      <th>2</th>\n",
       "      <td>0.732763</td>\n",
       "      <td>0.900000</td>\n",
       "      <td>1.000000</td>\n",
       "      <td>0.900000</td>\n",
       "      <td>0.259856</td>\n",
       "    </tr>\n",
       "    <tr>\n",
       "      <th>3</th>\n",
       "      <td>0.682001</td>\n",
       "      <td>0.900000</td>\n",
       "      <td>0.900000</td>\n",
       "      <td>1.000000</td>\n",
       "      <td>0.305035</td>\n",
       "    </tr>\n",
       "    <tr>\n",
       "      <th>4</th>\n",
       "      <td>0.012091</td>\n",
       "      <td>0.367753</td>\n",
       "      <td>0.259856</td>\n",
       "      <td>0.305035</td>\n",
       "      <td>1.000000</td>\n",
       "    </tr>\n",
       "  </tbody>\n",
       "</table>\n",
       "</div>"
      ],
      "text/plain": [
       "          0         1         2         3         4\n",
       "0  1.000000  0.618550  0.732763  0.682001  0.012091\n",
       "1  0.618550  1.000000  0.900000  0.900000  0.367753\n",
       "2  0.732763  0.900000  1.000000  0.900000  0.259856\n",
       "3  0.682001  0.900000  0.900000  1.000000  0.305035\n",
       "4  0.012091  0.367753  0.259856  0.305035  1.000000"
      ]
     },
     "execution_count": 17,
     "metadata": {},
     "output_type": "execute_result"
    }
   ],
   "source": [
    "posthoc_nemenyi_friedman(test_mtr.T, sort=True)"
   ]
  },
  {
   "attachments": {},
   "cell_type": "markdown",
   "metadata": {},
   "source": [
    "Out of these 5 combinations, the last one seems different. "
   ]
  },
  {
   "cell_type": "code",
   "execution_count": 20,
   "metadata": {},
   "outputs": [
    {
     "data": {
      "text/html": [
       "<div>\n",
       "<style scoped>\n",
       "    .dataframe tbody tr th:only-of-type {\n",
       "        vertical-align: middle;\n",
       "    }\n",
       "\n",
       "    .dataframe tbody tr th {\n",
       "        vertical-align: top;\n",
       "    }\n",
       "\n",
       "    .dataframe thead th {\n",
       "        text-align: right;\n",
       "    }\n",
       "</style>\n",
       "<table border=\"1\" class=\"dataframe\">\n",
       "  <thead>\n",
       "    <tr style=\"text-align: right;\">\n",
       "      <th></th>\n",
       "      <th>1</th>\n",
       "      <th>2</th>\n",
       "      <th>3</th>\n",
       "      <th>4</th>\n",
       "      <th>5</th>\n",
       "    </tr>\n",
       "  </thead>\n",
       "  <tbody>\n",
       "    <tr>\n",
       "      <th>1</th>\n",
       "      <td>1.000000</td>\n",
       "      <td>0.373453</td>\n",
       "      <td>0.269722</td>\n",
       "      <td>0.256650</td>\n",
       "      <td>0.026908</td>\n",
       "    </tr>\n",
       "    <tr>\n",
       "      <th>2</th>\n",
       "      <td>0.373453</td>\n",
       "      <td>1.000000</td>\n",
       "      <td>0.687475</td>\n",
       "      <td>0.860801</td>\n",
       "      <td>0.073787</td>\n",
       "    </tr>\n",
       "    <tr>\n",
       "      <th>3</th>\n",
       "      <td>0.269722</td>\n",
       "      <td>0.687475</td>\n",
       "      <td>1.000000</td>\n",
       "      <td>0.647457</td>\n",
       "      <td>0.142996</td>\n",
       "    </tr>\n",
       "    <tr>\n",
       "      <th>4</th>\n",
       "      <td>0.256650</td>\n",
       "      <td>0.860801</td>\n",
       "      <td>0.647457</td>\n",
       "      <td>1.000000</td>\n",
       "      <td>0.059936</td>\n",
       "    </tr>\n",
       "    <tr>\n",
       "      <th>5</th>\n",
       "      <td>0.026908</td>\n",
       "      <td>0.073787</td>\n",
       "      <td>0.142996</td>\n",
       "      <td>0.059936</td>\n",
       "      <td>1.000000</td>\n",
       "    </tr>\n",
       "  </tbody>\n",
       "</table>\n",
       "</div>"
      ],
      "text/plain": [
       "          1         2         3         4         5\n",
       "1  1.000000  0.373453  0.269722  0.256650  0.026908\n",
       "2  0.373453  1.000000  0.687475  0.860801  0.073787\n",
       "3  0.269722  0.687475  1.000000  0.647457  0.142996\n",
       "4  0.256650  0.860801  0.647457  1.000000  0.059936\n",
       "5  0.026908  0.073787  0.142996  0.059936  1.000000"
      ]
     },
     "execution_count": 20,
     "metadata": {},
     "output_type": "execute_result"
    }
   ],
   "source": [
    "posthoc_wilcoxon(test_mtr)"
   ]
  },
  {
   "cell_type": "code",
   "execution_count": 34,
   "metadata": {},
   "outputs": [
    {
     "data": {
      "text/plain": [
       "array([1.81, 1.82, 1.81, 2.23, 2.33])"
      ]
     },
     "execution_count": 34,
     "metadata": {},
     "output_type": "execute_result"
    }
   ],
   "source": [
    "# Average rank for each of the numbers \n",
    "test_mtr.argsort(axis=0).mean(axis=1)"
   ]
  },
  {
   "cell_type": "code",
   "execution_count": 41,
   "metadata": {},
   "outputs": [
    {
     "data": {
      "text/plain": [
       "(WilcoxonResult(statistic=2730.0, pvalue=0.18672652826545044),\n",
       " WilcoxonResult(statistic=2642.0, pvalue=0.343737511764911))"
      ]
     },
     "execution_count": 41,
     "metadata": {},
     "output_type": "execute_result"
    }
   ],
   "source": [
    "wilcoxon(test_mtr[1], test_mtr[0], alternative='greater'), wilcoxon(test_mtr[1], test_mtr[2], alternative='greater')"
   ]
  },
  {
   "attachments": {},
   "cell_type": "markdown",
   "metadata": {},
   "source": [
    "1 >  0, 1 >2  0~2\n",
    "\n",
    "Given that, EFGA(3) also seems as the best solution. "
   ]
  }
 ],
 "metadata": {
  "kernelspec": {
   "display_name": "thesis",
   "language": "python",
   "name": "python3"
  },
  "language_info": {
   "codemirror_mode": {
    "name": "ipython",
    "version": 3
   },
   "file_extension": ".py",
   "mimetype": "text/x-python",
   "name": "python",
   "nbconvert_exporter": "python",
   "pygments_lexer": "ipython3",
   "version": "3.10.10"
  },
  "orig_nbformat": 4,
  "vscode": {
   "interpreter": {
    "hash": "1a78cde6364742d5eb3c1afb06f5d9ac27359d158d2fd799008b8978ac1916b2"
   }
  }
 },
 "nbformat": 4,
 "nbformat_minor": 2
}
