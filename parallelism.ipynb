{
 "cells": [
  {
   "cell_type": "code",
   "execution_count": 81,
   "metadata": {},
   "outputs": [],
   "source": [
    "import numpy as np\n",
    "from src.common.fitness import griewank, rastrigin, ackley\n",
    "from src.gendered_selection.helpers import (calculate_lifetime)\n",
    "from src.gendered_selection.conf.gendered_selection_config import Config\n",
    "from src.gendered_selection.faster_fuzzy_logic.infer_partner_age import Inferrer\n",
    "import multiprocessing as mp"
   ]
  },
  {
   "cell_type": "code",
   "execution_count": 89,
   "metadata": {},
   "outputs": [],
   "source": [
    "population_scale = 1\n",
    "N =  1000 \n",
    "FS =  Inferrer(rule_path=Config.RULES_FILE)\n",
    "\n",
    "genomes = np.random.uniform(-population_scale, population_scale, size=(N, 5))\n",
    "fitness = np.apply_along_axis(griewank, 1, genomes)\n",
    "gender = (np.random.rand(N) >= .5).astype(int)\n",
    "age = np.zeros(N)\n",
    "age += 1\n",
    "\n",
    "male_indices = np.argwhere(gender == 1).flatten()\n",
    "female_indices = np.argwhere(gender == 0).flatten()\n",
    "\n",
    "lifetime = calculate_lifetime(L=Config.L, U = Config.U, fitness=fitness, age=age)\n",
    "diversity = age[male_indices] / lifetime[male_indices]\n",
    "population_diversity = diversity.mean()"
   ]
  },
  {
   "cell_type": "code",
   "execution_count": 90,
   "metadata": {},
   "outputs": [
    {
     "name": "stdout",
     "output_type": "stream",
     "text": [
      "CPU times: user 2.57 s, sys: 0 ns, total: 2.57 s\n",
      "Wall time: 2.57 s\n"
     ]
    }
   ],
   "source": [
    "%%time\n",
    "female_preferred_age = np.array([FS.infer_partner_age(age=lifetime[i], diversity=population_diversity) for i in male_indices])"
   ]
  },
  {
   "cell_type": "code",
   "execution_count": 108,
   "metadata": {},
   "outputs": [],
   "source": [
    "female_preferred_age_1 = np.array([FS.infer_partner_age(age=lifetime[i], diversity=population_diversity) for i in male_indices])"
   ]
  },
  {
   "cell_type": "code",
   "execution_count": 109,
   "metadata": {},
   "outputs": [
    {
     "data": {
      "text/plain": [
       "True"
      ]
     },
     "execution_count": 109,
     "metadata": {},
     "output_type": "execute_result"
    }
   ],
   "source": [
    "(female_preferred_age_1 == female_preferred_age).all()"
   ]
  },
  {
   "cell_type": "code",
   "execution_count": 136,
   "metadata": {},
   "outputs": [],
   "source": [
    "def infer_partner_ages(pth, ages, diversity, var, i):\n",
    "    fs =  Inferrer(rule_path=pth)\n",
    "    var.put((np.array([fs.infer_partner_age(age=a, diversity=diversity) for a in ages]), i))"
   ]
  },
  {
   "cell_type": "code",
   "execution_count": 173,
   "metadata": {},
   "outputs": [],
   "source": [
    "def _extract_results(q: mp.Queue) -> np.array:\n",
    "    \"\"\"Extract results from multiprocessing queue\n",
    "\n",
    "    Args:\n",
    "        q (mp.Queue): multiprocessing queue\n",
    "\n",
    "    Returns:\n",
    "        np.array: female preferred age calculated\n",
    "    \"\"\"\n",
    "    results = []\n",
    "    \n",
    "    # Simple dump of results to array\n",
    "    while not q.empty():\n",
    "        results.append(q.get())\n",
    "\n",
    "    # Combining results into a single array with correct order\n",
    "    results = sorted(results, key= lambda x: x[1])\n",
    "    results = list(map(lambda x: x[0], results))\n",
    "    return np.concatenate(results)"
   ]
  },
  {
   "cell_type": "code",
   "execution_count": 174,
   "metadata": {},
   "outputs": [],
   "source": [
    "def multiprocessing_preferred_age(male_indices_to_reproduce: np.array, lifetime: np.array, population_diversity: float, N_proc: int = mp.cpu_count(),) -> np.array:\n",
    "    splits = np.array_split(male_indices_to_reproduce, N_proc)\n",
    "    ctx = mp.get_context('fork')\n",
    "    processes = [i for i in range(N_proc)]\n",
    "\n",
    "    # Launching \n",
    "    q = mp.Queue()\n",
    "    for i, split in enumerate(splits):\n",
    "        processes[i] = ctx.Process(target=infer_partner_ages, args=(Config.RULES_FILE, lifetime[split], population_diversity, q, i))\n",
    "        processes[i].start()\n",
    "    \n",
    "    for i  in range(len(processes)):\n",
    "        processes[i].join()\n",
    "    \n",
    "    return _extract_results(q)\n"
   ]
  },
  {
   "cell_type": "code",
   "execution_count": 175,
   "metadata": {},
   "outputs": [],
   "source": [
    "result_parralel = multiprocessing_preferred_age(male_indices, lifetime, population_diversity)"
   ]
  },
  {
   "cell_type": "code",
   "execution_count": null,
   "metadata": {},
   "outputs": [],
   "source": []
  }
 ],
 "metadata": {
  "kernelspec": {
   "display_name": "thesis",
   "language": "python",
   "name": "python3"
  },
  "language_info": {
   "codemirror_mode": {
    "name": "ipython",
    "version": 3
   },
   "file_extension": ".py",
   "mimetype": "text/x-python",
   "name": "python",
   "nbconvert_exporter": "python",
   "pygments_lexer": "ipython3",
   "version": "3.10.4"
  },
  "orig_nbformat": 4,
  "vscode": {
   "interpreter": {
    "hash": "1a78cde6364742d5eb3c1afb06f5d9ac27359d158d2fd799008b8978ac1916b2"
   }
  }
 },
 "nbformat": 4,
 "nbformat_minor": 2
}
