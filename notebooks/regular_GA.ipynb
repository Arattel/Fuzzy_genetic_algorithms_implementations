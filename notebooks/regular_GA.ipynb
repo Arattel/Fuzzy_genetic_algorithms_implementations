{
 "cells": [
  {
   "cell_type": "code",
   "execution_count": 7,
   "metadata": {},
   "outputs": [],
   "source": [
    "import random\n",
    "import numpy as np\n",
    "import os\n",
    "from matplotlib import pyplot as plt\n",
    "import pickle as pkl"
   ]
  },
  {
   "cell_type": "code",
   "execution_count": 2,
   "metadata": {},
   "outputs": [],
   "source": [
    "os.chdir('..')"
   ]
  },
  {
   "cell_type": "code",
   "execution_count": 9,
   "metadata": {},
   "outputs": [],
   "source": [
    "from src.standard_ga.simulation import GA\n",
    "from src.common.fitness import (schwefel, ackley, griewank, rastrigin)\n",
    "from src.common.scales import scales\n",
    "from src.common.experiment_runners import run_experiments_standard_GA"
   ]
  },
  {
   "cell_type": "code",
   "execution_count": 4,
   "metadata": {},
   "outputs": [],
   "source": [
    "N_genomes = 500\n",
    "N_epochs = 500\n",
    "rootdir = 'log/standard_GA'"
   ]
  },
  {
   "cell_type": "code",
   "execution_count": 11,
   "metadata": {},
   "outputs": [],
   "source": [
    "def caching_filename(function_name: str, n_experiments: int, d: str) -> str: \n",
    "    return os.path.join(d, f'{function_name}_experiments_{n_experiments}.pkl')\n",
    "\n",
    "def cache_experiment(pth: str, experiment_obj) -> None:\n",
    "    with open(pth, 'wb') as f:\n",
    "        pkl.dump(experiment_obj, f)"
   ]
  },
  {
   "cell_type": "code",
   "execution_count": 5,
   "metadata": {},
   "outputs": [
    {
     "name": "stderr",
     "output_type": "stream",
     "text": [
      "100%|██████████| 1/1 [00:05<00:00,  5.35s/it]\n"
     ]
    },
    {
     "data": {
      "text/plain": [
       "(     best_fitness  avg_fitness  epoch  ncalls  seed\n",
       " 0      922.381839  2087.907558      0  400500     0\n",
       " 1      653.747015  1459.161853      1  400500     0\n",
       " 2      416.188894   967.227448      2  400500     0\n",
       " 3      256.409697   647.040403      3  400500     0\n",
       " 4      143.819664   406.732100      4  400500     0\n",
       " ..            ...          ...    ...     ...   ...\n",
       " 495    103.885217   105.629940    495  400500     0\n",
       " 496    103.885217   105.530001    496  400500     0\n",
       " 497    103.885217   105.524608    497  400500     0\n",
       " 498    103.885217   105.735572    498  400500     0\n",
       " 499    103.885217   105.548715    499  400500     0\n",
       " \n",
       " [500 rows x 5 columns],\n",
       " {'n_experiments': 1,\n",
       "  'fitness_fn': 'schwefel',\n",
       "  'population_scale': 500,\n",
       "  'mutation_scale': 0.5,\n",
       "  'N': 500,\n",
       "  'epochs': 500})"
      ]
     },
     "execution_count": 5,
     "metadata": {},
     "output_type": "execute_result"
    }
   ],
   "source": [
    "# Dry run\n",
    "run_experiments_standard_GA(1, fitness_fn=schwefel, population_scale=scales['schwefel'][0], \n",
    "                            mutation_scale=scales['schwefel'][1], N=N_genomes, epochs=N_epochs)"
   ]
  },
  {
   "cell_type": "code",
   "execution_count": 12,
   "metadata": {},
   "outputs": [
    {
     "name": "stderr",
     "output_type": "stream",
     "text": [
      "100%|██████████| 25/25 [02:08<00:00,  5.15s/it]\n",
      "100%|██████████| 25/25 [03:31<00:00,  8.44s/it]\n",
      "100%|██████████| 25/25 [03:16<00:00,  7.85s/it]\n",
      "100%|██████████| 25/25 [02:49<00:00,  6.78s/it]\n"
     ]
    }
   ],
   "source": [
    "N_experiments = 25\n",
    "for func in (schwefel, ackley, griewank, rastrigin):\n",
    "    function_name = func.__name__\n",
    "    pth = caching_filename(function_name, N_experiments, rootdir)\n",
    "    exp_artifacts = run_experiments_standard_GA(n_experiments=N_experiments, fitness_fn=func, population_scale=scales[function_name][0], \n",
    "                                                    N=N_genomes, epochs=N_epochs, )\n",
    "    cache_experiment(pth, exp_artifacts)\n",
    "\n"
   ]
  },
  {
   "cell_type": "code",
   "execution_count": null,
   "metadata": {},
   "outputs": [],
   "source": []
  }
 ],
 "metadata": {
  "kernelspec": {
   "display_name": "thesis",
   "language": "python",
   "name": "python3"
  },
  "language_info": {
   "codemirror_mode": {
    "name": "ipython",
    "version": 3
   },
   "file_extension": ".py",
   "mimetype": "text/x-python",
   "name": "python",
   "nbconvert_exporter": "python",
   "pygments_lexer": "ipython3",
   "version": "3.10.10"
  },
  "orig_nbformat": 4
 },
 "nbformat": 4,
 "nbformat_minor": 2
}
