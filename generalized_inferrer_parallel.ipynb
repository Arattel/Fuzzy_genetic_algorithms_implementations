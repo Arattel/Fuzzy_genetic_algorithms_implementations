{
 "cells": [
  {
   "cell_type": "code",
   "execution_count": 6,
   "metadata": {},
   "outputs": [],
   "source": [
    "import numpy as np\n",
    "\n",
    "from src.common.fitness import griewank\n",
    "from src.gendered_selection.helpers import (calculate_lifetime)\n",
    "from src.gendered_selection.conf.gendered_selection_config import Config\n",
    "from src.gendered_selection.faster_fuzzy_logic.generalized_partition_inferrer import GeneralizedInferrer\n",
    "from src.gendered_selection.faster_fuzzy_logic.parallel_parition_inferrer import ParallelInferrer"
   ]
  },
  {
   "cell_type": "code",
   "execution_count": 7,
   "metadata": {},
   "outputs": [],
   "source": [
    "gi = GeneralizedInferrer(n_partitions=4)\n",
    "pi = ParallelInferrer(n_partitions=4)"
   ]
  },
  {
   "cell_type": "code",
   "execution_count": 8,
   "metadata": {},
   "outputs": [],
   "source": [
    "population_scale = 1\n",
    "N =  1000 \n",
    "\n",
    "genomes = np.random.uniform(-population_scale, population_scale, size=(N, 5))\n",
    "fitness = np.apply_along_axis(griewank, 1, genomes)\n",
    "gender = (np.random.rand(N) >= .5).astype(int)\n",
    "age = np.zeros(N)\n",
    "age += 1\n",
    "\n",
    "male_indices = np.argwhere(gender == 1).flatten()\n",
    "female_indices = np.argwhere(gender == 0).flatten()\n",
    "\n",
    "lifetime = calculate_lifetime(L=Config.L, U = Config.U, fitness=fitness, age=age)\n",
    "diversity = age[male_indices] / lifetime[male_indices]\n",
    "population_diversity = diversity.mean()"
   ]
  },
  {
   "cell_type": "code",
   "execution_count": 9,
   "metadata": {},
   "outputs": [
    {
     "name": "stdout",
     "output_type": "stream",
     "text": [
      "CPU times: user 2.69 s, sys: 751 µs, total: 2.69 s\n",
      "Wall time: 2.69 s\n"
     ]
    }
   ],
   "source": [
    "%%time\n",
    "female_preferred_age = np.array([gi.infer_partner_age(age=lifetime[i], diversity=population_diversity) for i in male_indices])"
   ]
  },
  {
   "cell_type": "code",
   "execution_count": 10,
   "metadata": {},
   "outputs": [
    {
     "name": "stdout",
     "output_type": "stream",
     "text": [
      "CPU times: user 11 ms, sys: 70.4 ms, total: 81.4 ms\n",
      "Wall time: 525 ms\n"
     ]
    }
   ],
   "source": [
    "%%time\n",
    "result_parralel = pi.multiprocessing_preferred_age(male_indices, lifetime, population_diversity)"
   ]
  },
  {
   "cell_type": "code",
   "execution_count": 11,
   "metadata": {},
   "outputs": [
    {
     "data": {
      "text/plain": [
       "True"
      ]
     },
     "execution_count": 11,
     "metadata": {},
     "output_type": "execute_result"
    }
   ],
   "source": [
    "(result_parralel ==  female_preferred_age).all()"
   ]
  }
 ],
 "metadata": {
  "kernelspec": {
   "display_name": "thesis",
   "language": "python",
   "name": "python3"
  },
  "language_info": {
   "codemirror_mode": {
    "name": "ipython",
    "version": 3
   },
   "file_extension": ".py",
   "mimetype": "text/x-python",
   "name": "python",
   "nbconvert_exporter": "python",
   "pygments_lexer": "ipython3",
   "version": "3.10.4"
  },
  "orig_nbformat": 4,
  "vscode": {
   "interpreter": {
    "hash": "1a78cde6364742d5eb3c1afb06f5d9ac27359d158d2fd799008b8978ac1916b2"
   }
  }
 },
 "nbformat": 4,
 "nbformat_minor": 2
}
