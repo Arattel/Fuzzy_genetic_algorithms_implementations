{
 "cells": [
  {
   "cell_type": "code",
   "execution_count": 1,
   "metadata": {},
   "outputs": [],
   "source": [
    "import os\n",
    "os.chdir('..')"
   ]
  },
  {
   "cell_type": "code",
   "execution_count": 6,
   "metadata": {},
   "outputs": [],
   "source": [
    "from src.elegant_fuzzy_genetic_algorithms.simulation import simulation\n",
    "from src.common.fitness import schwefel\n",
    "from src.common.scales import scales"
   ]
  },
  {
   "cell_type": "code",
   "execution_count": 10,
   "metadata": {},
   "outputs": [],
   "source": [
    "%load_ext line_profiler"
   ]
  },
  {
   "cell_type": "code",
   "execution_count": 8,
   "metadata": {},
   "outputs": [
    {
     "name": "stderr",
     "output_type": "stream",
     "text": [
      "100%|██████████| 500/500 [00:06<00:00, 73.93it/s]\n"
     ]
    },
    {
     "data": {
      "text/plain": [
       "(     best_fitness  avg_fitness  epoch\n",
       " 0     1363.912785  2122.338504      5\n",
       " 1     1253.162837  2085.576378      6\n",
       " 2     1531.643969  2066.381597      6\n",
       " 3     1477.682292  2063.374877      3\n",
       " 4     1605.329096  2033.735631      6\n",
       " ..            ...          ...    ...\n",
       " 495     17.919175  1146.676610      6\n",
       " 496     17.919175  1146.676610      4\n",
       " 497     17.919175  1146.676610      2\n",
       " 498     17.919175  1146.676610      6\n",
       " 499     17.919175  1146.676610      6\n",
       " \n",
       " [500 rows x 3 columns],\n",
       " array([421.07222703, 420.8469585 , 419.60059093, 413.01828729,\n",
       "        429.76478311]),\n",
       " 5684)"
      ]
     },
     "execution_count": 8,
     "metadata": {},
     "output_type": "execute_result"
    }
   ],
   "source": [
    "simulation(fitness_fn=schwefel, population_scale=scales['schwefel'][0], mutation_scale=scales['schwefel'][1], N=100, epochs=500)"
   ]
  },
  {
   "cell_type": "code",
   "execution_count": 11,
   "metadata": {},
   "outputs": [
    {
     "name": "stderr",
     "output_type": "stream",
     "text": [
      "100%|██████████| 500/500 [00:14<00:00, 34.12it/s]\n"
     ]
    },
    {
     "name": "stdout",
     "output_type": "stream",
     "text": [
      "Timer unit: 1e-09 s\n",
      "\n",
      "Total time: 14.5942 s\n",
      "File: /home/oleksandr/UT/Thesis/Implementations/src/elegant_fuzzy_genetic_algorithms/simulation.py\n",
      "Function: simulation at line 23\n",
      "\n",
      "Line #      Hits         Time  Per Hit   % Time  Line Contents\n",
      "==============================================================\n",
      "    23                                           def simulation(  N = 50, epochs: int =  100, verbose = False, default_params = Conf.default_params, conf: SimulationConfig = SimulationConfig(), fitness_fn = None, \n",
      "    24                                                          mutation_scale = None, population_scale=None, seed=42,  n_terms_params: int = 3, n_terms_priority: int = 3, ndim: int = 5):\n",
      "    25         1      16063.0  16063.0      0.0      np.random.seed(seed)\n",
      "    26         1       1466.0   1466.0      0.0      if mutation_scale is not None:\n",
      "    27         1       2445.0   2445.0      0.0          conf.mutation_scale = mutation_scale\n",
      "    28                                           \n",
      "    29         1       1467.0   1467.0      0.0      if population_scale is not None:\n",
      "    30         1       1467.0   1467.0      0.0          conf.x_range = population_scale\n",
      "    31                                               \n",
      "    32         1   11165548.0 11165548.0      0.1      priority_inferencer =  AllEFGAParamsParallelWrapper(n_terms_params=n_terms_params, n_terms_priority=n_terms_priority)\n",
      "    33                                           \n",
      "    34         1       1396.0   1396.0      0.0      N_FITNESS_FN_CALLS: int = 0\n",
      "    35         1       1886.0   1886.0      0.0      params = default_params\n",
      "    36         1      81155.0  81155.0      0.0      n_subpop_individuals = np.round(N * params['subPopSize']).astype(int)\n",
      "    37                                               \n",
      "    38                                               \n",
      "    39         1      67326.0  67326.0      0.0      genomes =  generate_population(lower=-conf.x_range, higher=conf.x_range, \n",
      "    40         1       1397.0   1397.0      0.0                                     N_individuals=N, \n",
      "    41         1       1396.0   1396.0      0.0                                     N_dimensions=ndim, \n",
      "    42         1       1886.0   1886.0      0.0                                     seed=seed)\n",
      "    43                                               \n",
      "    44         1    2406496.0 2406496.0      0.0      fitness = np.apply_along_axis(fitness_fn, 1, genomes)\n",
      "    45         1       3283.0   3283.0      0.0      N_FITNESS_FN_CALLS += genomes.shape[0]\n",
      "    46         1      23955.0  23955.0      0.0      worst_initial_fitness = np.max(fitness)\n",
      "    47         1      19695.0  19695.0      0.0      fitness = fitness / worst_initial_fitness\n",
      "    48         1     137795.0 137795.0      0.0      heap = create_heap(fitness)\n",
      "    49         1       1885.0   1885.0      0.0      best_fitness = heap[0][2]\n",
      "    50         1       1466.0   1466.0      0.0      history = []\n",
      "    51                                               \n",
      "    52       500   93402088.0 186804.2      0.6      for i in tqdm(range(epochs)):\n",
      "    53                                                   # Indices of parents in heap & fitness\n",
      "    54       500    7132041.0  14264.1      0.0          topk = np.arange(n_subpop_individuals)\n",
      "    55       500    9615235.0  19230.5      0.1          subpop_fitness = np.array([heap[topk[i]][2] for i in range(n_subpop_individuals)])\n",
      "    56                                                   # Indices of parents in genome array    \n",
      "    57       500    3842578.0   7685.2      0.0          topk_indices = [heap[topk[i]][1] for i in range(n_subpop_individuals)]\n",
      "    58                                                   \n",
      "    59                                                   # Calculate best fitness\n",
      "    60       500   16521111.0  33042.2      0.1          avg_fitness = np.mean(subpop_fitness)\n",
      "    61                                                   \n",
      "    62                                                   # In case topk is uneven we take the even subpop\n",
      "    63                                                   # \n",
      "    64       500    1913754.0   3827.5      0.0          crossover_indices = topk[:(n_subpop_individuals // 2) * 2]\n",
      "    65                                                   \n",
      "    66                                                   # Shuffle & select pairs for crossover\n",
      "    67       500    7873335.0  15746.7      0.1          np.random.shuffle(crossover_indices)\n",
      "    68       500    1359299.0   2718.6      0.0          parent_1, parent_2 = crossover_indices[::2], crossover_indices[1::2]\n",
      "    69       500    9906252.0  19812.5      0.1          do_crossover = np.random.rand(parent_1.shape[0]) < params['xRate']\n",
      "    70                                           \n",
      "    71       500    4723603.0   9447.2      0.0          while not do_crossover.any():\n",
      "    72                                                       do_crossover = np.random.rand(parent_1.shape[0]) < params['xRate']\n",
      "    73                                           \n",
      "    74                                                   \n",
      "    75                                                   # Parent 1 and parent 2 to do crossover\n",
      "    76                                                   # \n",
      "    77       500    2288193.0   4576.4      0.0          parent_1 = parent_1[do_crossover]\n",
      "    78       500    1054592.0   2109.2      0.0          parent_2 = parent_2[do_crossover]\n",
      "    79                                                   \n",
      "    80       500     833201.0   1666.4      0.0          child_genomes = []\n",
      "    81      2792    4047923.0   1449.8      0.0          for i in range(parent_1.shape[0]):\n",
      "    82                                                       # Getting genomes of the parent pair\n",
      "    83      2792    5129512.0   1837.2      0.0              p1 = genomes[heap[parent_1[i]][1]]\n",
      "    84      2792    4746405.0   1700.0      0.0              p2 = genomes[heap[parent_2[i]][1]]\n",
      "    85                                                       \n",
      "    86      2792   41482043.0  14857.5      0.3              c1, c2 = crossover_2(p1, p2)\n",
      "    87      2792    4344078.0   1555.9      0.0              child_genomes += [c1, c2]\n",
      "    88       500    3788363.0   7576.7      0.0          child_genomes = np.array(child_genomes)\n",
      "    89                                                   \n",
      "    90                                                   # Mutation\n",
      "    91       500    5185459.0  10370.9      0.0          mutate = np.random.rand(child_genomes.shape[0]) <= params['mRate']\n",
      "    92                                           \n",
      "    93                                           \n",
      "    94       417    3905135.0   9364.8      0.0          if mutate.sum():\n",
      "    95        83   10560307.0 127232.6      0.1              child_genomes[mutate] =  np.clip(np.apply_along_axis(mutation(conf.mutation_scale), 1, child_genomes[mutate]), \n",
      "    96        83     143812.0   1732.7      0.0                                               -population_scale, population_scale)\n",
      "    97                                                       \n",
      "    98                                                       \n",
      "    99                                                   # Calculating children fitness, replacing worst solutions with good childre\n",
      "   100       500   24606575.0  49213.2      0.2          prev_avg_fitness = np.mean([i[2] for i in heap])\n",
      "   101       500  106380998.0 212762.0      0.7          child_fitness = np.apply_along_axis(fitness_fn, 1, child_genomes) / worst_initial_fitness\n",
      "   102       500     921398.0   1842.8      0.0          N_FITNESS_FN_CALLS += child_genomes.shape[0]\n",
      "   103       500    2003927.0   4007.9      0.0          use_to_replace = child_fitness < avg_fitness\n",
      "   104                                                   \n",
      "   105       460    2350489.0   5109.8      0.0          if use_to_replace.sum():\n",
      "   106       460   13465540.0  29272.9      0.1              genomes, heap = replace_leaves_with_children(solutions=genomes, heap=heap, children=child_genomes[use_to_replace], children_fitness=child_fitness[use_to_replace])\n",
      "   107                                               \n",
      "   108                                                   # updating parent priorities & mutating parents\n",
      "   109                                                   # priority_updates = []\n",
      "   110                                                   # parent_indices = []\n",
      "   111                                                   # for i in range(parent_1.shape[0]):\n",
      "   112                                                   #     c1_fitness, c2_fitness = child_fitness[i * 2], child_fitness[i * 2 + 1]\n",
      "   113                                                   #     priority_update = -priority_inferencer.infer_priority(c1_fitness, c2_fitness)\n",
      "   114                                                   #     priority_updates += [priority_update, priority_update]\n",
      "   115                                                   #     parent_indices += [parent_1[i], parent_2[i]]\n",
      "   116                                                   \n",
      "   117       500    1174924.0   2349.8      0.0          c1_fitness, c2_fitness = child_fitness[::2], child_fitness[1::2]\n",
      "   118       500  429259433.0 858518.9      2.9          priority_updates = np.repeat(-priority_inferencer.infer_priority(c1_fitness, c2_fitness), 2)\n",
      "   119       500    2719036.0   5438.1      0.0          parent_indices = np.zeros(parent_1.shape[0] * 2, dtype=int)\n",
      "   120       500    1764789.0   3529.6      0.0          parent_indices[::2] =  parent_1\n",
      "   121       500    1042106.0   2084.2      0.0          parent_indices[1::2] = parent_2\n",
      "   122                                           \n",
      "   123       500    6499915.0  12999.8      0.0          mutate = np.random.rand(parent_indices.shape[0]) < params['mRate']\n",
      "   124                                           \n",
      "   125                                               \n",
      "   126      5584    8154179.0   1460.3      0.1          for j in range(len(parent_indices)):\n",
      "   127      5501    8099146.0   1472.3      0.1              if mutate[j]:\n",
      "   128        83     187665.0   2261.0      0.0                  index_to_mutate = heap[parent_indices[j]][1]\n",
      "   129        83    5393160.0  64977.8      0.0                  genomes[index_to_mutate] = np.clip(mutation(conf.mutation_scale)(genomes[index_to_mutate]), -population_scale, population_scale)\n",
      "   130                                                   \n",
      "   131                                                   \n",
      "   132                                                   # Parent priorities updated, heap heapified\n",
      "   133       500   16086858.0  32173.7      0.1          heap = update_parents_with_indices(heap=heap, parent_indices=parent_indices, update_values=priority_updates)\n",
      "   134       500    4906782.0   9813.6      0.0          hq.heapify(heap)\n",
      "   135                                               \n",
      "   136       500   25467486.0  50935.0      0.2          cur_avg_fitness = np.mean([i[2] for i in heap])\n",
      "   137       500    2281894.0   4563.8      0.0          avg_fit_change = np.abs(prev_avg_fitness - cur_avg_fitness)\n",
      "   138                                                   \n",
      "   139       500 13633656593.0 27267313.2     93.4          params = priority_inferencer.infer(bestFitness=best_fitness, avgFitness=avg_fitness, avgFitChange=avg_fit_change)\n",
      "   140                                           \n",
      "   141       500    1225152.0   2450.3      0.0          if verbose:\n",
      "   142                                                       print(f'Best solution: {genomes[heap[0][1]]}, fitness: {heap[0][2]}, avg fitness: {cur_avg_fitness}')\n",
      "   143                                                   \n",
      "   144       500   36008186.0  72016.4      0.2          history.append({'best_fitness': fitness_fn(genomes[heap[0][1]])/worst_initial_fitness, 'avg_fitness': cur_avg_fitness, \n",
      "   145       500     656157.0   1312.3      0.0                          'epoch': i})\n",
      "   146                                               \n",
      "   147         1    1085601.0 1085601.0      0.0      df = pd.DataFrame.from_records(history)\n",
      "   148                                           \n",
      "   149                                               # Transform relative fitness into absolute fitness\n",
      "   150         1    1105645.0 1105645.0      0.0      df[['best_fitness', 'avg_fitness']] = df[['best_fitness', 'avg_fitness']] * worst_initial_fitness\n",
      "   151                                           \n",
      "   152         1       2305.0   2305.0      0.0      return df, genomes[heap[0][1]], N_FITNESS_FN_CALLS"
     ]
    }
   ],
   "source": [
    "%lprun -f simulation simulation(fitness_fn=schwefel, population_scale=scales['schwefel'][0], mutation_scale=scales['schwefel'][1], N=100, epochs=500)"
   ]
  },
  {
   "attachments": {},
   "cell_type": "markdown",
   "metadata": {},
   "source": [
    "Conclusion: we can confidently say that 500 (only 500!) calls to parameter estimations take more time than all of the calls to priority inferencer. \n",
    "\n",
    "\n",
    "Actions: implement estimation for params. "
   ]
  }
 ],
 "metadata": {
  "kernelspec": {
   "display_name": "thesis",
   "language": "python",
   "name": "python3"
  },
  "language_info": {
   "codemirror_mode": {
    "name": "ipython",
    "version": 3
   },
   "file_extension": ".py",
   "mimetype": "text/x-python",
   "name": "python",
   "nbconvert_exporter": "python",
   "pygments_lexer": "ipython3",
   "version": "3.10.10"
  },
  "orig_nbformat": 4
 },
 "nbformat": 4,
 "nbformat_minor": 2
}
