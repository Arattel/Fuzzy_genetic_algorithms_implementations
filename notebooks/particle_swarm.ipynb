{
 "cells": [
  {
   "cell_type": "code",
   "execution_count": 1,
   "metadata": {},
   "outputs": [],
   "source": [
    "import os\n",
    "os.chdir('..')"
   ]
  },
  {
   "cell_type": "code",
   "execution_count": 2,
   "metadata": {},
   "outputs": [],
   "source": [
    "import pickle as pkl\n",
    "os.environ['NUMPY_EXPERIMENTAL_ARRAY_FUNCTION'] = '0'\n",
    "import numpy as np"
   ]
  },
  {
   "cell_type": "code",
   "execution_count": 3,
   "metadata": {},
   "outputs": [],
   "source": [
    "from src.common.scales import scales\n",
    "from src.common.fitness import (schwefel, ackley, griewank, rastrigin)\n",
    "from src.common.experiment_runners import run_experiments_particle_swarm\n",
    "from src.particle_swarm.simulation import simulation"
   ]
  },
  {
   "cell_type": "code",
   "execution_count": 4,
   "metadata": {},
   "outputs": [],
   "source": [
    "N_genomes = 500\n",
    "N_epochs = 500\n",
    "rootdir = 'log/particle_swarm'"
   ]
  },
  {
   "cell_type": "code",
   "execution_count": 5,
   "metadata": {},
   "outputs": [],
   "source": [
    "def caching_filename(function_name: str, n_experiments: int, d: str) -> str: \n",
    "    return os.path.join(d, f'{function_name}_experiments_{n_experiments}.pkl')\n",
    "\n",
    "def cache_experiment(pth: str, experiment_obj) -> None:\n",
    "    with open(pth, 'wb') as f:\n",
    "        pkl.dump(experiment_obj, f)"
   ]
  },
  {
   "cell_type": "code",
   "execution_count": 12,
   "metadata": {},
   "outputs": [
    {
     "name": "stderr",
     "output_type": "stream",
     "text": [
      " 32%|███▏      | 8/25 [00:40<01:25,  5.02s/it]"
     ]
    }
   ],
   "source": [
    "N_experiments = 25\n",
    "for func in (schwefel, ackley, griewank, rastrigin):\n",
    "    function_name = func.__name__\n",
    "    pth = caching_filename(function_name, N_experiments, rootdir)\n",
    "    exp_artifacts = run_experiments_particle_swarm(n_experiments=N_experiments, fitness_fn=func, population_scale=scales[function_name][0], \n",
    "                                                    N=N_genomes, epochs=N_epochs, )\n",
    "    cache_experiment(pth, exp_artifacts)\n",
    "\n"
   ]
  },
  {
   "cell_type": "code",
   "execution_count": null,
   "metadata": {},
   "outputs": [],
   "source": []
  }
 ],
 "metadata": {
  "kernelspec": {
   "display_name": "thesis",
   "language": "python",
   "name": "python3"
  },
  "language_info": {
   "codemirror_mode": {
    "name": "ipython",
    "version": 3
   },
   "file_extension": ".py",
   "mimetype": "text/x-python",
   "name": "python",
   "nbconvert_exporter": "python",
   "pygments_lexer": "ipython3",
   "version": "3.10.10"
  },
  "orig_nbformat": 4
 },
 "nbformat": 4,
 "nbformat_minor": 2
}
