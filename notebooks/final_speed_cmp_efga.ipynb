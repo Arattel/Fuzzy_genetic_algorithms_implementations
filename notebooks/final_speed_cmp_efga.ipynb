{
 "cells": [
  {
   "cell_type": "code",
   "execution_count": 1,
   "metadata": {},
   "outputs": [],
   "source": [
    "import os\n",
    "os.chdir('..')"
   ]
  },
  {
   "cell_type": "code",
   "execution_count": 2,
   "metadata": {},
   "outputs": [],
   "source": [
    "from src.common.experiment_runners import run_experiments_efga\n"
   ]
  },
  {
   "cell_type": "code",
   "execution_count": 4,
   "metadata": {},
   "outputs": [
    {
     "name": "stderr",
     "output_type": "stream",
     "text": [
      "100%|██████████| 500/500 [00:59<00:00,  8.41it/s]\n",
      "100%|██████████| 500/500 [00:57<00:00,  8.63it/s]\n",
      "100%|██████████| 500/500 [00:59<00:00,  8.47it/s]\n",
      "100%|██████████| 500/500 [00:56<00:00,  8.77it/s]\n",
      "100%|██████████| 500/500 [00:57<00:00,  8.66it/s]\n",
      "100%|██████████| 5/5 [04:51<00:00, 58.25s/it]"
     ]
    },
    {
     "name": "stdout",
     "output_type": "stream",
     "text": [
      "CPU times: user 59.3 s, sys: 3min, total: 3min 59s\n",
      "Wall time: 4min 51s\n"
     ]
    },
    {
     "name": "stderr",
     "output_type": "stream",
     "text": [
      "\n"
     ]
    },
    {
     "data": {
      "text/plain": [
       "(     best_fitness  avg_fitness  epoch  ncalls  seed\n",
       " 0      991.996848  2022.040599     32   33494     0\n",
       " 1     1182.485222  1987.224698     31   33494     0\n",
       " 2     1375.962803  1972.780668     33   33494     0\n",
       " 3     1059.889019  1968.911804     33   33494     0\n",
       " 4     1030.778235  1951.138765     38   33494     0\n",
       " ..            ...          ...    ...     ...   ...\n",
       " 495      7.279361  1265.253399     30   32456     4\n",
       " 496      7.565725  1265.252261     28   32456     4\n",
       " 497     29.823951  1265.251061     34   32456     4\n",
       " 498      7.267854  1265.246726     22   32456     4\n",
       " 499      7.269147  1265.247439     28   32456     4\n",
       " \n",
       " [2500 rows x 5 columns],\n",
       " {'n_experiments': 5,\n",
       "  'fitness_fn': 'schwefel',\n",
       "  'population_scale': 500,\n",
       "  'mutation_scale': 0.5,\n",
       "  'N': 500,\n",
       "  'epochs': 500,\n",
       "  'n_terms_params': 3,\n",
       "  'n_terms_priority': 3,\n",
       "  'use_approx': False})"
      ]
     },
     "execution_count": 4,
     "metadata": {},
     "output_type": "execute_result"
    }
   ],
   "source": [
    "%%time\n",
    "run_experiments_efga(n_experiments=5, use_approx=False)"
   ]
  },
  {
   "cell_type": "code",
   "execution_count": 5,
   "metadata": {},
   "outputs": [
    {
     "name": "stderr",
     "output_type": "stream",
     "text": [
      "100%|██████████| 500/500 [00:05<00:00, 97.26it/s] \n",
      "100%|██████████| 500/500 [00:01<00:00, 320.52it/s]\n",
      "100%|██████████| 500/500 [00:01<00:00, 253.63it/s]\n",
      "100%|██████████| 500/500 [00:01<00:00, 314.32it/s]\n",
      "100%|██████████| 500/500 [00:01<00:00, 252.75it/s]\n",
      "100%|██████████| 5/5 [00:12<00:00,  2.53s/it]"
     ]
    },
    {
     "name": "stdout",
     "output_type": "stream",
     "text": [
      "CPU times: user 2min 7s, sys: 0 ns, total: 2min 7s\n",
      "Wall time: 12.6 s\n"
     ]
    },
    {
     "name": "stderr",
     "output_type": "stream",
     "text": [
      "\n"
     ]
    },
    {
     "data": {
      "text/plain": [
       "(     best_fitness  avg_fitness  epoch  ncalls  seed\n",
       " 0      991.996848  2022.040599     32   32978     0\n",
       " 1     1182.485222  1987.007344     31   32978     0\n",
       " 2     1375.962803  1970.678342     33   32978     0\n",
       " 3     1059.889019  1965.975528     33   32978     0\n",
       " 4     1060.381897  1951.329234     38   32978     0\n",
       " ..            ...          ...    ...     ...   ...\n",
       " 495      7.561482  1224.197867     37   32458     4\n",
       " 496      7.500575  1224.195131     26   32458     4\n",
       " 497     13.269308  1224.191517     27   32458     4\n",
       " 498      7.561482  1224.183431     25   32458     4\n",
       " 499      7.382368  1224.183985     24   32458     4\n",
       " \n",
       " [2500 rows x 5 columns],\n",
       " {'n_experiments': 5,\n",
       "  'fitness_fn': 'schwefel',\n",
       "  'population_scale': 500,\n",
       "  'mutation_scale': 0.5,\n",
       "  'N': 500,\n",
       "  'epochs': 500,\n",
       "  'n_terms_params': 3,\n",
       "  'n_terms_priority': 3,\n",
       "  'use_approx': True})"
      ]
     },
     "execution_count": 5,
     "metadata": {},
     "output_type": "execute_result"
    }
   ],
   "source": [
    "%%time\n",
    "run_experiments_efga(n_experiments=5, use_approx=True)"
   ]
  },
  {
   "cell_type": "code",
   "execution_count": null,
   "metadata": {},
   "outputs": [],
   "source": []
  }
 ],
 "metadata": {
  "kernelspec": {
   "display_name": "thesis",
   "language": "python",
   "name": "python3"
  },
  "language_info": {
   "codemirror_mode": {
    "name": "ipython",
    "version": 3
   },
   "file_extension": ".py",
   "mimetype": "text/x-python",
   "name": "python",
   "nbconvert_exporter": "python",
   "pygments_lexer": "ipython3",
   "version": "3.10.10"
  },
  "orig_nbformat": 4
 },
 "nbformat": 4,
 "nbformat_minor": 2
}
